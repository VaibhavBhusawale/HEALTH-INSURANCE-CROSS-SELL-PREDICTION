{
  "cells": [
    {
      "cell_type": "markdown",
      "metadata": {
        "id": "view-in-github",
        "colab_type": "text"
      },
      "source": [
        "<a href=\"https://colab.research.google.com/github/VaibhavBhusawale/HEALTH-INSURANCE-CROSS-SELL-PREDICTION/blob/main/final_of_HEALTH_INSURANCE_CROSS_SELL_PREDICTION.ipynb\" target=\"_parent\"><img src=\"https://colab.research.google.com/assets/colab-badge.svg\" alt=\"Open In Colab\"/></a>"
      ]
    },
    {
      "cell_type": "markdown",
      "metadata": {
        "id": "LGcl5Bv9ed6u"
      },
      "source": [
        "# **Problem Statement**"
      ]
    },
    {
      "cell_type": "markdown",
      "metadata": {
        "id": "jJAmGx75jJk1"
      },
      "source": [
        "Our client is an Insurance company that has provided Health Insurance to its customers now they need your help in building a model to predict whether the policyholders (customers) from past year will also be interested in Vehicle Insurance provided by the company.\n",
        "\n",
        "An insurance policy is an arrangement by which a company undertakes to provide a guarantee of compensation for specified loss, damage, illness, or death in return for the payment of a specified premium. A premium is a sum of money that the customer needs to pay regularly to an insurance company for this guarantee.\n",
        "\n",
        "For example, you may pay a premium of Rs. 5000 each year for a health insurance cover of Rs. 200,000/- so that if, God forbid, you fall ill and need to be hospitalised in that year, the insurance provider company will bear the cost of hospitalisation etc. for upto Rs. 200,000. Now if you are wondering how can company bear such high hospitalisation cost when it charges a premium of only Rs. 5000/-, that is where the concept of probabilities comes in picture. For example, like you, there may be 100 customers who would be paying a premium of Rs. 5000 every year, but only a few of them (say 2-3) would get hospitalised that year and not everyone. This way everyone shares the risk of everyone else.\n",
        "\n",
        "Just like medical insurance, there is vehicle insurance where every year customer needs to pay a premium of certain amount to insurance provider company so that in case of unfortunate accident by the vehicle, the insurance provider company will provide a compensation (called ‘sum assured’) to the customer.\n",
        "\n",
        "Building a model to predict whether a customer would be interested in Vehicle Insurance is extremely helpful for the company because it can then accordingly plan its communication strategy to reach out to those customers and optimise its business model and revenue.\n",
        "\n",
        "Now, in order to predict, whether the customer would be interested in Vehicle insurance, you have information about demographics (gender, age, region code type), Vehicles (Vehicle Age, Damage), Policy (Premium, sourcing channel) etc."
      ]
    },
    {
      "cell_type": "markdown",
      "metadata": {
        "id": "AzGDqdC4fZ-b"
      },
      "source": [
        "# **Attribute Information**"
      ]
    },
    {
      "cell_type": "markdown",
      "metadata": {
        "id": "oEJxl68MjYbs"
      },
      "source": [
        "1. id :\tUnique ID for the customer\n",
        "\n",
        "2. Gender\t: Gender of the customer\n",
        "\n",
        "3. Age :\tAge of the customer\n",
        "\n",
        "4. Driving_License\t0 : Customer does not have DL, 1 : Customer already has DL\n",
        "\n",
        "5. Region_Code :\tUnique code for the region of the customer\n",
        "\n",
        "6. Previously_Insured\t: 1 : Customer already has Vehicle Insurance, 0 : Customer doesn't have Vehicle Insurance\n",
        "\n",
        "7. Vehicle_Age :\tAge of the Vehicle\n",
        "\n",
        "8. Vehicle_Damage\t :1 : Customer got his/her vehicle damaged in the past. 0 : Customer didn't get his/her vehicle damaged in the past.\n",
        "\n",
        "9. Annual_Premium\t: The amount customer needs to pay as premium in the year\n",
        "\n",
        "10. PolicySalesChannel :\tAnonymized Code for the channel of outreaching to the customer ie. Different Agents, Over Mail, Over Phone, In Person, etc.\n",
        "\n",
        "11. Vintage :\tNumber of Days, Customer has been associated with the company\n",
        "\n",
        "12. Response :\t1 : Customer is interested, 0 : Customer is not interested"
      ]
    },
    {
      "cell_type": "markdown",
      "metadata": {
        "id": "FhaNj9L_lUoC"
      },
      "source": [
        "An insurance policy is an arrangement by which a company undertakes to provide a guarantee of compensation for specified loss, damage, illness, or death in return for the payment of a specified premium. A premium is a sum of money that the customer needs to pay regularly to an insurance company for this guarantee.\n",
        "Just like medical insurance, there is vehicle insurance where every year customer needs to pay a premium of certain amount to insurance provider company so that in case of unfortunate accident by the vehicle, the insurance provider company will provide a compensation (called ‘sum assured’) to the customer.\n",
        "\n",
        "\n",
        "Building a model to predict whether a customer would be interested in Vehicle Insurance is extremely helpful for the company because it can then accordingly plan its communication strategy to reach out to those customers and optimise its business model and revenue.\n",
        "\n",
        "Now, in order to predict, whether the customer would be interested in Vehicle insurance, you have information about demographics (gender, age, region code type), Vehicles (Vehicle Age, Damage), Policy (Premium, sourcing channel) etc."
      ]
    },
    {
      "cell_type": "code",
      "execution_count": null,
      "metadata": {
        "id": "l2Ck-RuJnMfn"
      },
      "outputs": [],
      "source": [
        ""
      ]
    },
    {
      "cell_type": "markdown",
      "metadata": {
        "id": "EyRaEPOenMxg"
      },
      "source": [
        "Before starting the data exploration to understand the relation between the independent features it is important to focus on Hypothesis Testing.\n",
        "\n",
        "Hypothesis Testing is the first step we should take towards understanding the dataset and the business problem. The main aim of Hypothesis Testing is to give us a head-start towards understanding the problem.\n",
        "\n",
        "1. Gender: Males are more likely to buy Vehicle Insurance.\n",
        "\n",
        "2. Age: It is generally said that it is profitable to buy Insurance as early as possible so more likely between Customers of ages of 25-40 are likely to buy Insurance.\n",
        "\n",
        "3. Driving_License: Customers who generally have Driving_License take Insurance.\n",
        "\n",
        "4. Previously_Insured: Customers generally take One Vehicle insurance.\n",
        "\n",
        "5. Vehicle_Age: The more the age of the vehicle the better.\n",
        "\n",
        "6. Annual_Premium: Customers generally opt for Insurance where the premium is not too high"
      ]
    },
    {
      "cell_type": "markdown",
      "metadata": {
        "id": "wdKP28mnnvIY"
      },
      "source": [
        "#Exploratory Data Analysis (EDA)"
      ]
    },
    {
      "cell_type": "code",
      "execution_count": 1,
      "metadata": {
        "id": "TvhgOBXNzu4q"
      },
      "outputs": [],
      "source": [
        "# Let’s start by loading the required libraries and data\n",
        "import numpy as np\n",
        "import pandas as pd\n",
        "import seaborn as sns\n",
        "from matplotlib import pyplot as plt\n",
        "import missingno as msno\n",
        "from datetime import date\n",
        "from sklearn.metrics import accuracy_score, classification_report, confusion_matrix\n",
        "from sklearn.model_selection import train_test_split\n",
        "from sklearn.preprocessing import MinMaxScaler, LabelEncoder, StandardScaler, RobustScaler\n",
        "from xgboost import XGBClassifier, plot_importance\n",
        "from sklearn.model_selection import GridSearchCV\n",
        "import warnings\n",
        "warnings.filterwarnings('ignore')\n",
        "\n",
        "\n"
      ]
    },
    {
      "cell_type": "code",
      "execution_count": 2,
      "metadata": {
        "colab": {
          "base_uri": "https://localhost:8080/"
        },
        "id": "juVuNxugz60a",
        "outputId": "fab53908-cdb7-4167-ad9a-14135bbaeef1"
      },
      "outputs": [
        {
          "output_type": "stream",
          "name": "stdout",
          "text": [
            "Mounted at /content/drive\n"
          ]
        }
      ],
      "source": [
        "# Importing data\n",
        "\n",
        "from google.colab import drive\n",
        "drive.mount ('/content/drive')\n"
      ]
    },
    {
      "cell_type": "code",
      "execution_count": 3,
      "metadata": {
        "id": "u96sUh4r0Sr3"
      },
      "outputs": [],
      "source": [
        "# Read the health insurance data set \n",
        "path = '/content/drive/MyDrive/TRAIN-HEALTH INSURANCE CROSS SELL PREDICTION.csv'\n",
        "\n",
        "df = pd.read_csv(path)"
      ]
    },
    {
      "cell_type": "code",
      "execution_count": 4,
      "metadata": {
        "colab": {
          "base_uri": "https://localhost:8080/",
          "height": 206
        },
        "id": "fl8NUoi81xUg",
        "outputId": "cde9256d-e484-4834-b9c5-1f221f6db2fd"
      },
      "outputs": [
        {
          "output_type": "execute_result",
          "data": {
            "text/html": [
              "\n",
              "  <div id=\"df-4382acce-6c3b-4cb4-be94-6030c055eceb\">\n",
              "    <div class=\"colab-df-container\">\n",
              "      <div>\n",
              "<style scoped>\n",
              "    .dataframe tbody tr th:only-of-type {\n",
              "        vertical-align: middle;\n",
              "    }\n",
              "\n",
              "    .dataframe tbody tr th {\n",
              "        vertical-align: top;\n",
              "    }\n",
              "\n",
              "    .dataframe thead th {\n",
              "        text-align: right;\n",
              "    }\n",
              "</style>\n",
              "<table border=\"1\" class=\"dataframe\">\n",
              "  <thead>\n",
              "    <tr style=\"text-align: right;\">\n",
              "      <th></th>\n",
              "      <th>id</th>\n",
              "      <th>Gender</th>\n",
              "      <th>Age</th>\n",
              "      <th>Driving_License</th>\n",
              "      <th>Region_Code</th>\n",
              "      <th>Previously_Insured</th>\n",
              "      <th>Vehicle_Age</th>\n",
              "      <th>Vehicle_Damage</th>\n",
              "      <th>Annual_Premium</th>\n",
              "      <th>Policy_Sales_Channel</th>\n",
              "      <th>Vintage</th>\n",
              "      <th>Response</th>\n",
              "    </tr>\n",
              "  </thead>\n",
              "  <tbody>\n",
              "    <tr>\n",
              "      <th>0</th>\n",
              "      <td>1</td>\n",
              "      <td>Male</td>\n",
              "      <td>44</td>\n",
              "      <td>1</td>\n",
              "      <td>28.0</td>\n",
              "      <td>0</td>\n",
              "      <td>&gt; 2 Years</td>\n",
              "      <td>Yes</td>\n",
              "      <td>40454.0</td>\n",
              "      <td>26.0</td>\n",
              "      <td>217</td>\n",
              "      <td>1</td>\n",
              "    </tr>\n",
              "    <tr>\n",
              "      <th>1</th>\n",
              "      <td>2</td>\n",
              "      <td>Male</td>\n",
              "      <td>76</td>\n",
              "      <td>1</td>\n",
              "      <td>3.0</td>\n",
              "      <td>0</td>\n",
              "      <td>1-2 Year</td>\n",
              "      <td>No</td>\n",
              "      <td>33536.0</td>\n",
              "      <td>26.0</td>\n",
              "      <td>183</td>\n",
              "      <td>0</td>\n",
              "    </tr>\n",
              "    <tr>\n",
              "      <th>2</th>\n",
              "      <td>3</td>\n",
              "      <td>Male</td>\n",
              "      <td>47</td>\n",
              "      <td>1</td>\n",
              "      <td>28.0</td>\n",
              "      <td>0</td>\n",
              "      <td>&gt; 2 Years</td>\n",
              "      <td>Yes</td>\n",
              "      <td>38294.0</td>\n",
              "      <td>26.0</td>\n",
              "      <td>27</td>\n",
              "      <td>1</td>\n",
              "    </tr>\n",
              "    <tr>\n",
              "      <th>3</th>\n",
              "      <td>4</td>\n",
              "      <td>Male</td>\n",
              "      <td>21</td>\n",
              "      <td>1</td>\n",
              "      <td>11.0</td>\n",
              "      <td>1</td>\n",
              "      <td>&lt; 1 Year</td>\n",
              "      <td>No</td>\n",
              "      <td>28619.0</td>\n",
              "      <td>152.0</td>\n",
              "      <td>203</td>\n",
              "      <td>0</td>\n",
              "    </tr>\n",
              "    <tr>\n",
              "      <th>4</th>\n",
              "      <td>5</td>\n",
              "      <td>Female</td>\n",
              "      <td>29</td>\n",
              "      <td>1</td>\n",
              "      <td>41.0</td>\n",
              "      <td>1</td>\n",
              "      <td>&lt; 1 Year</td>\n",
              "      <td>No</td>\n",
              "      <td>27496.0</td>\n",
              "      <td>152.0</td>\n",
              "      <td>39</td>\n",
              "      <td>0</td>\n",
              "    </tr>\n",
              "  </tbody>\n",
              "</table>\n",
              "</div>\n",
              "      <button class=\"colab-df-convert\" onclick=\"convertToInteractive('df-4382acce-6c3b-4cb4-be94-6030c055eceb')\"\n",
              "              title=\"Convert this dataframe to an interactive table.\"\n",
              "              style=\"display:none;\">\n",
              "        \n",
              "  <svg xmlns=\"http://www.w3.org/2000/svg\" height=\"24px\"viewBox=\"0 0 24 24\"\n",
              "       width=\"24px\">\n",
              "    <path d=\"M0 0h24v24H0V0z\" fill=\"none\"/>\n",
              "    <path d=\"M18.56 5.44l.94 2.06.94-2.06 2.06-.94-2.06-.94-.94-2.06-.94 2.06-2.06.94zm-11 1L8.5 8.5l.94-2.06 2.06-.94-2.06-.94L8.5 2.5l-.94 2.06-2.06.94zm10 10l.94 2.06.94-2.06 2.06-.94-2.06-.94-.94-2.06-.94 2.06-2.06.94z\"/><path d=\"M17.41 7.96l-1.37-1.37c-.4-.4-.92-.59-1.43-.59-.52 0-1.04.2-1.43.59L10.3 9.45l-7.72 7.72c-.78.78-.78 2.05 0 2.83L4 21.41c.39.39.9.59 1.41.59.51 0 1.02-.2 1.41-.59l7.78-7.78 2.81-2.81c.8-.78.8-2.07 0-2.86zM5.41 20L4 18.59l7.72-7.72 1.47 1.35L5.41 20z\"/>\n",
              "  </svg>\n",
              "      </button>\n",
              "      \n",
              "  <style>\n",
              "    .colab-df-container {\n",
              "      display:flex;\n",
              "      flex-wrap:wrap;\n",
              "      gap: 12px;\n",
              "    }\n",
              "\n",
              "    .colab-df-convert {\n",
              "      background-color: #E8F0FE;\n",
              "      border: none;\n",
              "      border-radius: 50%;\n",
              "      cursor: pointer;\n",
              "      display: none;\n",
              "      fill: #1967D2;\n",
              "      height: 32px;\n",
              "      padding: 0 0 0 0;\n",
              "      width: 32px;\n",
              "    }\n",
              "\n",
              "    .colab-df-convert:hover {\n",
              "      background-color: #E2EBFA;\n",
              "      box-shadow: 0px 1px 2px rgba(60, 64, 67, 0.3), 0px 1px 3px 1px rgba(60, 64, 67, 0.15);\n",
              "      fill: #174EA6;\n",
              "    }\n",
              "\n",
              "    [theme=dark] .colab-df-convert {\n",
              "      background-color: #3B4455;\n",
              "      fill: #D2E3FC;\n",
              "    }\n",
              "\n",
              "    [theme=dark] .colab-df-convert:hover {\n",
              "      background-color: #434B5C;\n",
              "      box-shadow: 0px 1px 3px 1px rgba(0, 0, 0, 0.15);\n",
              "      filter: drop-shadow(0px 1px 2px rgba(0, 0, 0, 0.3));\n",
              "      fill: #FFFFFF;\n",
              "    }\n",
              "  </style>\n",
              "\n",
              "      <script>\n",
              "        const buttonEl =\n",
              "          document.querySelector('#df-4382acce-6c3b-4cb4-be94-6030c055eceb button.colab-df-convert');\n",
              "        buttonEl.style.display =\n",
              "          google.colab.kernel.accessAllowed ? 'block' : 'none';\n",
              "\n",
              "        async function convertToInteractive(key) {\n",
              "          const element = document.querySelector('#df-4382acce-6c3b-4cb4-be94-6030c055eceb');\n",
              "          const dataTable =\n",
              "            await google.colab.kernel.invokeFunction('convertToInteractive',\n",
              "                                                     [key], {});\n",
              "          if (!dataTable) return;\n",
              "\n",
              "          const docLinkHtml = 'Like what you see? Visit the ' +\n",
              "            '<a target=\"_blank\" href=https://colab.research.google.com/notebooks/data_table.ipynb>data table notebook</a>'\n",
              "            + ' to learn more about interactive tables.';\n",
              "          element.innerHTML = '';\n",
              "          dataTable['output_type'] = 'display_data';\n",
              "          await google.colab.output.renderOutput(dataTable, element);\n",
              "          const docLink = document.createElement('div');\n",
              "          docLink.innerHTML = docLinkHtml;\n",
              "          element.appendChild(docLink);\n",
              "        }\n",
              "      </script>\n",
              "    </div>\n",
              "  </div>\n",
              "  "
            ],
            "text/plain": [
              "   id  Gender  Age  Driving_License  Region_Code  Previously_Insured  \\\n",
              "0   1    Male   44                1         28.0                   0   \n",
              "1   2    Male   76                1          3.0                   0   \n",
              "2   3    Male   47                1         28.0                   0   \n",
              "3   4    Male   21                1         11.0                   1   \n",
              "4   5  Female   29                1         41.0                   1   \n",
              "\n",
              "  Vehicle_Age Vehicle_Damage  Annual_Premium  Policy_Sales_Channel  Vintage  \\\n",
              "0   > 2 Years            Yes         40454.0                  26.0      217   \n",
              "1    1-2 Year             No         33536.0                  26.0      183   \n",
              "2   > 2 Years            Yes         38294.0                  26.0       27   \n",
              "3    < 1 Year             No         28619.0                 152.0      203   \n",
              "4    < 1 Year             No         27496.0                 152.0       39   \n",
              "\n",
              "   Response  \n",
              "0         1  \n",
              "1         0  \n",
              "2         1  \n",
              "3         0  \n",
              "4         0  "
            ]
          },
          "metadata": {},
          "execution_count": 4
        }
      ],
      "source": [
        "df.head()"
      ]
    },
    {
      "cell_type": "code",
      "execution_count": 5,
      "metadata": {
        "colab": {
          "base_uri": "https://localhost:8080/"
        },
        "id": "bpxespYI22zI",
        "outputId": "703bbf98-32c6-49ec-ec5d-2503a80ba067"
      },
      "outputs": [
        {
          "output_type": "execute_result",
          "data": {
            "text/plain": [
              "Index(['id', 'Gender', 'Age', 'Driving_License', 'Region_Code',\n",
              "       'Previously_Insured', 'Vehicle_Age', 'Vehicle_Damage', 'Annual_Premium',\n",
              "       'Policy_Sales_Channel', 'Vintage', 'Response'],\n",
              "      dtype='object')"
            ]
          },
          "metadata": {},
          "execution_count": 5
        }
      ],
      "source": [
        "df.columns"
      ]
    },
    {
      "cell_type": "code",
      "execution_count": 6,
      "metadata": {
        "colab": {
          "base_uri": "https://localhost:8080/"
        },
        "id": "ww236gcI29TO",
        "outputId": "11ff2d03-00a1-4fe2-8569-e0570aa106bc"
      },
      "outputs": [
        {
          "output_type": "execute_result",
          "data": {
            "text/plain": [
              "(381109, 12)"
            ]
          },
          "metadata": {},
          "execution_count": 6
        }
      ],
      "source": [
        "df.shape"
      ]
    },
    {
      "cell_type": "code",
      "execution_count": 7,
      "metadata": {
        "colab": {
          "base_uri": "https://localhost:8080/"
        },
        "id": "SNciw7I_29da",
        "outputId": "eb641ad4-8328-4a0e-f6bf-9fcf16c38bc2"
      },
      "outputs": [
        {
          "output_type": "execute_result",
          "data": {
            "text/plain": [
              "id                      0\n",
              "Gender                  0\n",
              "Age                     0\n",
              "Driving_License         0\n",
              "Region_Code             0\n",
              "Previously_Insured      0\n",
              "Vehicle_Age             0\n",
              "Vehicle_Damage          0\n",
              "Annual_Premium          0\n",
              "Policy_Sales_Channel    0\n",
              "Vintage                 0\n",
              "Response                0\n",
              "dtype: int64"
            ]
          },
          "metadata": {},
          "execution_count": 7
        }
      ],
      "source": [
        "# Find missing values in the dataset if any.\n",
        "df.isnull().sum()"
      ]
    },
    {
      "cell_type": "markdown",
      "metadata": {
        "id": "Aww9KaOSmtWY"
      },
      "source": [
        "In our dataset we zero null values observed"
      ]
    },
    {
      "cell_type": "code",
      "execution_count": 8,
      "metadata": {
        "colab": {
          "base_uri": "https://localhost:8080/"
        },
        "id": "TxZCzlZO2d-B",
        "outputId": "faa63a7f-6ba6-4a28-b9b6-afbf5f3b3ec7"
      },
      "outputs": [
        {
          "output_type": "stream",
          "name": "stdout",
          "text": [
            "<class 'pandas.core.frame.DataFrame'>\n",
            "RangeIndex: 381109 entries, 0 to 381108\n",
            "Data columns (total 12 columns):\n",
            " #   Column                Non-Null Count   Dtype  \n",
            "---  ------                --------------   -----  \n",
            " 0   id                    381109 non-null  int64  \n",
            " 1   Gender                381109 non-null  object \n",
            " 2   Age                   381109 non-null  int64  \n",
            " 3   Driving_License       381109 non-null  int64  \n",
            " 4   Region_Code           381109 non-null  float64\n",
            " 5   Previously_Insured    381109 non-null  int64  \n",
            " 6   Vehicle_Age           381109 non-null  object \n",
            " 7   Vehicle_Damage        381109 non-null  object \n",
            " 8   Annual_Premium        381109 non-null  float64\n",
            " 9   Policy_Sales_Channel  381109 non-null  float64\n",
            " 10  Vintage               381109 non-null  int64  \n",
            " 11  Response              381109 non-null  int64  \n",
            "dtypes: float64(3), int64(6), object(3)\n",
            "memory usage: 34.9+ MB\n"
          ]
        }
      ],
      "source": [
        "df.info()"
      ]
    },
    {
      "cell_type": "code",
      "execution_count": 9,
      "metadata": {
        "colab": {
          "base_uri": "https://localhost:8080/",
          "height": 300
        },
        "id": "zuyw4NQA2hI3",
        "outputId": "fc28a431-7779-4bc7-dd32-cfe3f03a899b"
      },
      "outputs": [
        {
          "output_type": "execute_result",
          "data": {
            "text/html": [
              "\n",
              "  <div id=\"df-08d94cb8-4751-4742-a618-c8adf54876b3\">\n",
              "    <div class=\"colab-df-container\">\n",
              "      <div>\n",
              "<style scoped>\n",
              "    .dataframe tbody tr th:only-of-type {\n",
              "        vertical-align: middle;\n",
              "    }\n",
              "\n",
              "    .dataframe tbody tr th {\n",
              "        vertical-align: top;\n",
              "    }\n",
              "\n",
              "    .dataframe thead th {\n",
              "        text-align: right;\n",
              "    }\n",
              "</style>\n",
              "<table border=\"1\" class=\"dataframe\">\n",
              "  <thead>\n",
              "    <tr style=\"text-align: right;\">\n",
              "      <th></th>\n",
              "      <th>id</th>\n",
              "      <th>Age</th>\n",
              "      <th>Driving_License</th>\n",
              "      <th>Region_Code</th>\n",
              "      <th>Previously_Insured</th>\n",
              "      <th>Annual_Premium</th>\n",
              "      <th>Policy_Sales_Channel</th>\n",
              "      <th>Vintage</th>\n",
              "      <th>Response</th>\n",
              "    </tr>\n",
              "  </thead>\n",
              "  <tbody>\n",
              "    <tr>\n",
              "      <th>count</th>\n",
              "      <td>381109.000000</td>\n",
              "      <td>381109.000000</td>\n",
              "      <td>381109.000000</td>\n",
              "      <td>381109.000000</td>\n",
              "      <td>381109.000000</td>\n",
              "      <td>381109.000000</td>\n",
              "      <td>381109.000000</td>\n",
              "      <td>381109.000000</td>\n",
              "      <td>381109.000000</td>\n",
              "    </tr>\n",
              "    <tr>\n",
              "      <th>mean</th>\n",
              "      <td>190555.000000</td>\n",
              "      <td>38.822584</td>\n",
              "      <td>0.997869</td>\n",
              "      <td>26.388807</td>\n",
              "      <td>0.458210</td>\n",
              "      <td>30564.389581</td>\n",
              "      <td>112.034295</td>\n",
              "      <td>154.347397</td>\n",
              "      <td>0.122563</td>\n",
              "    </tr>\n",
              "    <tr>\n",
              "      <th>std</th>\n",
              "      <td>110016.836208</td>\n",
              "      <td>15.511611</td>\n",
              "      <td>0.046110</td>\n",
              "      <td>13.229888</td>\n",
              "      <td>0.498251</td>\n",
              "      <td>17213.155057</td>\n",
              "      <td>54.203995</td>\n",
              "      <td>83.671304</td>\n",
              "      <td>0.327936</td>\n",
              "    </tr>\n",
              "    <tr>\n",
              "      <th>min</th>\n",
              "      <td>1.000000</td>\n",
              "      <td>20.000000</td>\n",
              "      <td>0.000000</td>\n",
              "      <td>0.000000</td>\n",
              "      <td>0.000000</td>\n",
              "      <td>2630.000000</td>\n",
              "      <td>1.000000</td>\n",
              "      <td>10.000000</td>\n",
              "      <td>0.000000</td>\n",
              "    </tr>\n",
              "    <tr>\n",
              "      <th>25%</th>\n",
              "      <td>95278.000000</td>\n",
              "      <td>25.000000</td>\n",
              "      <td>1.000000</td>\n",
              "      <td>15.000000</td>\n",
              "      <td>0.000000</td>\n",
              "      <td>24405.000000</td>\n",
              "      <td>29.000000</td>\n",
              "      <td>82.000000</td>\n",
              "      <td>0.000000</td>\n",
              "    </tr>\n",
              "    <tr>\n",
              "      <th>50%</th>\n",
              "      <td>190555.000000</td>\n",
              "      <td>36.000000</td>\n",
              "      <td>1.000000</td>\n",
              "      <td>28.000000</td>\n",
              "      <td>0.000000</td>\n",
              "      <td>31669.000000</td>\n",
              "      <td>133.000000</td>\n",
              "      <td>154.000000</td>\n",
              "      <td>0.000000</td>\n",
              "    </tr>\n",
              "    <tr>\n",
              "      <th>75%</th>\n",
              "      <td>285832.000000</td>\n",
              "      <td>49.000000</td>\n",
              "      <td>1.000000</td>\n",
              "      <td>35.000000</td>\n",
              "      <td>1.000000</td>\n",
              "      <td>39400.000000</td>\n",
              "      <td>152.000000</td>\n",
              "      <td>227.000000</td>\n",
              "      <td>0.000000</td>\n",
              "    </tr>\n",
              "    <tr>\n",
              "      <th>max</th>\n",
              "      <td>381109.000000</td>\n",
              "      <td>85.000000</td>\n",
              "      <td>1.000000</td>\n",
              "      <td>52.000000</td>\n",
              "      <td>1.000000</td>\n",
              "      <td>540165.000000</td>\n",
              "      <td>163.000000</td>\n",
              "      <td>299.000000</td>\n",
              "      <td>1.000000</td>\n",
              "    </tr>\n",
              "  </tbody>\n",
              "</table>\n",
              "</div>\n",
              "      <button class=\"colab-df-convert\" onclick=\"convertToInteractive('df-08d94cb8-4751-4742-a618-c8adf54876b3')\"\n",
              "              title=\"Convert this dataframe to an interactive table.\"\n",
              "              style=\"display:none;\">\n",
              "        \n",
              "  <svg xmlns=\"http://www.w3.org/2000/svg\" height=\"24px\"viewBox=\"0 0 24 24\"\n",
              "       width=\"24px\">\n",
              "    <path d=\"M0 0h24v24H0V0z\" fill=\"none\"/>\n",
              "    <path d=\"M18.56 5.44l.94 2.06.94-2.06 2.06-.94-2.06-.94-.94-2.06-.94 2.06-2.06.94zm-11 1L8.5 8.5l.94-2.06 2.06-.94-2.06-.94L8.5 2.5l-.94 2.06-2.06.94zm10 10l.94 2.06.94-2.06 2.06-.94-2.06-.94-.94-2.06-.94 2.06-2.06.94z\"/><path d=\"M17.41 7.96l-1.37-1.37c-.4-.4-.92-.59-1.43-.59-.52 0-1.04.2-1.43.59L10.3 9.45l-7.72 7.72c-.78.78-.78 2.05 0 2.83L4 21.41c.39.39.9.59 1.41.59.51 0 1.02-.2 1.41-.59l7.78-7.78 2.81-2.81c.8-.78.8-2.07 0-2.86zM5.41 20L4 18.59l7.72-7.72 1.47 1.35L5.41 20z\"/>\n",
              "  </svg>\n",
              "      </button>\n",
              "      \n",
              "  <style>\n",
              "    .colab-df-container {\n",
              "      display:flex;\n",
              "      flex-wrap:wrap;\n",
              "      gap: 12px;\n",
              "    }\n",
              "\n",
              "    .colab-df-convert {\n",
              "      background-color: #E8F0FE;\n",
              "      border: none;\n",
              "      border-radius: 50%;\n",
              "      cursor: pointer;\n",
              "      display: none;\n",
              "      fill: #1967D2;\n",
              "      height: 32px;\n",
              "      padding: 0 0 0 0;\n",
              "      width: 32px;\n",
              "    }\n",
              "\n",
              "    .colab-df-convert:hover {\n",
              "      background-color: #E2EBFA;\n",
              "      box-shadow: 0px 1px 2px rgba(60, 64, 67, 0.3), 0px 1px 3px 1px rgba(60, 64, 67, 0.15);\n",
              "      fill: #174EA6;\n",
              "    }\n",
              "\n",
              "    [theme=dark] .colab-df-convert {\n",
              "      background-color: #3B4455;\n",
              "      fill: #D2E3FC;\n",
              "    }\n",
              "\n",
              "    [theme=dark] .colab-df-convert:hover {\n",
              "      background-color: #434B5C;\n",
              "      box-shadow: 0px 1px 3px 1px rgba(0, 0, 0, 0.15);\n",
              "      filter: drop-shadow(0px 1px 2px rgba(0, 0, 0, 0.3));\n",
              "      fill: #FFFFFF;\n",
              "    }\n",
              "  </style>\n",
              "\n",
              "      <script>\n",
              "        const buttonEl =\n",
              "          document.querySelector('#df-08d94cb8-4751-4742-a618-c8adf54876b3 button.colab-df-convert');\n",
              "        buttonEl.style.display =\n",
              "          google.colab.kernel.accessAllowed ? 'block' : 'none';\n",
              "\n",
              "        async function convertToInteractive(key) {\n",
              "          const element = document.querySelector('#df-08d94cb8-4751-4742-a618-c8adf54876b3');\n",
              "          const dataTable =\n",
              "            await google.colab.kernel.invokeFunction('convertToInteractive',\n",
              "                                                     [key], {});\n",
              "          if (!dataTable) return;\n",
              "\n",
              "          const docLinkHtml = 'Like what you see? Visit the ' +\n",
              "            '<a target=\"_blank\" href=https://colab.research.google.com/notebooks/data_table.ipynb>data table notebook</a>'\n",
              "            + ' to learn more about interactive tables.';\n",
              "          element.innerHTML = '';\n",
              "          dataTable['output_type'] = 'display_data';\n",
              "          await google.colab.output.renderOutput(dataTable, element);\n",
              "          const docLink = document.createElement('div');\n",
              "          docLink.innerHTML = docLinkHtml;\n",
              "          element.appendChild(docLink);\n",
              "        }\n",
              "      </script>\n",
              "    </div>\n",
              "  </div>\n",
              "  "
            ],
            "text/plain": [
              "                  id            Age  Driving_License    Region_Code  \\\n",
              "count  381109.000000  381109.000000    381109.000000  381109.000000   \n",
              "mean   190555.000000      38.822584         0.997869      26.388807   \n",
              "std    110016.836208      15.511611         0.046110      13.229888   \n",
              "min         1.000000      20.000000         0.000000       0.000000   \n",
              "25%     95278.000000      25.000000         1.000000      15.000000   \n",
              "50%    190555.000000      36.000000         1.000000      28.000000   \n",
              "75%    285832.000000      49.000000         1.000000      35.000000   \n",
              "max    381109.000000      85.000000         1.000000      52.000000   \n",
              "\n",
              "       Previously_Insured  Annual_Premium  Policy_Sales_Channel  \\\n",
              "count       381109.000000   381109.000000         381109.000000   \n",
              "mean             0.458210    30564.389581            112.034295   \n",
              "std              0.498251    17213.155057             54.203995   \n",
              "min              0.000000     2630.000000              1.000000   \n",
              "25%              0.000000    24405.000000             29.000000   \n",
              "50%              0.000000    31669.000000            133.000000   \n",
              "75%              1.000000    39400.000000            152.000000   \n",
              "max              1.000000   540165.000000            163.000000   \n",
              "\n",
              "             Vintage       Response  \n",
              "count  381109.000000  381109.000000  \n",
              "mean      154.347397       0.122563  \n",
              "std        83.671304       0.327936  \n",
              "min        10.000000       0.000000  \n",
              "25%        82.000000       0.000000  \n",
              "50%       154.000000       0.000000  \n",
              "75%       227.000000       0.000000  \n",
              "max       299.000000       1.000000  "
            ]
          },
          "metadata": {},
          "execution_count": 9
        }
      ],
      "source": [
        "df.describe()"
      ]
    },
    {
      "cell_type": "code",
      "execution_count": 10,
      "metadata": {
        "colab": {
          "base_uri": "https://localhost:8080/"
        },
        "id": "hYIuGXG72mR-",
        "outputId": "f56b250f-a3b7-4242-96ab-9b52146e6e35"
      },
      "outputs": [
        {
          "output_type": "execute_result",
          "data": {
            "text/plain": [
              "0"
            ]
          },
          "metadata": {},
          "execution_count": 10
        }
      ],
      "source": [
        "# duplicate\n",
        "len(df[df.duplicated()])"
      ]
    },
    {
      "cell_type": "code",
      "execution_count": 11,
      "metadata": {
        "colab": {
          "base_uri": "https://localhost:8080/",
          "height": 300
        },
        "id": "EgvHM8Et3N1q",
        "outputId": "011e8481-3b1e-4a40-f040-7b4eed6fe21d"
      },
      "outputs": [
        {
          "output_type": "execute_result",
          "data": {
            "text/html": [
              "\n",
              "  <div id=\"df-933408f1-b084-4e04-a67a-b0316874a1eb\">\n",
              "    <div class=\"colab-df-container\">\n",
              "      <div>\n",
              "<style scoped>\n",
              "    .dataframe tbody tr th:only-of-type {\n",
              "        vertical-align: middle;\n",
              "    }\n",
              "\n",
              "    .dataframe tbody tr th {\n",
              "        vertical-align: top;\n",
              "    }\n",
              "\n",
              "    .dataframe thead th {\n",
              "        text-align: right;\n",
              "    }\n",
              "</style>\n",
              "<table border=\"1\" class=\"dataframe\">\n",
              "  <thead>\n",
              "    <tr style=\"text-align: right;\">\n",
              "      <th></th>\n",
              "      <th>0.00</th>\n",
              "      <th>0.05</th>\n",
              "      <th>0.50</th>\n",
              "      <th>0.95</th>\n",
              "      <th>0.99</th>\n",
              "      <th>1.00</th>\n",
              "    </tr>\n",
              "  </thead>\n",
              "  <tbody>\n",
              "    <tr>\n",
              "      <th>Age</th>\n",
              "      <td>20.0</td>\n",
              "      <td>21.0</td>\n",
              "      <td>36.0</td>\n",
              "      <td>69.0</td>\n",
              "      <td>77.0</td>\n",
              "      <td>85.0</td>\n",
              "    </tr>\n",
              "    <tr>\n",
              "      <th>Driving_License</th>\n",
              "      <td>0.0</td>\n",
              "      <td>1.0</td>\n",
              "      <td>1.0</td>\n",
              "      <td>1.0</td>\n",
              "      <td>1.0</td>\n",
              "      <td>1.0</td>\n",
              "    </tr>\n",
              "    <tr>\n",
              "      <th>Region_Code</th>\n",
              "      <td>0.0</td>\n",
              "      <td>5.0</td>\n",
              "      <td>28.0</td>\n",
              "      <td>47.0</td>\n",
              "      <td>50.0</td>\n",
              "      <td>52.0</td>\n",
              "    </tr>\n",
              "    <tr>\n",
              "      <th>Previously_Insured</th>\n",
              "      <td>0.0</td>\n",
              "      <td>0.0</td>\n",
              "      <td>0.0</td>\n",
              "      <td>1.0</td>\n",
              "      <td>1.0</td>\n",
              "      <td>1.0</td>\n",
              "    </tr>\n",
              "    <tr>\n",
              "      <th>Annual_Premium</th>\n",
              "      <td>2630.0</td>\n",
              "      <td>2630.0</td>\n",
              "      <td>31669.0</td>\n",
              "      <td>55176.0</td>\n",
              "      <td>72963.0</td>\n",
              "      <td>540165.0</td>\n",
              "    </tr>\n",
              "    <tr>\n",
              "      <th>Policy_Sales_Channel</th>\n",
              "      <td>1.0</td>\n",
              "      <td>26.0</td>\n",
              "      <td>133.0</td>\n",
              "      <td>160.0</td>\n",
              "      <td>160.0</td>\n",
              "      <td>163.0</td>\n",
              "    </tr>\n",
              "    <tr>\n",
              "      <th>Vintage</th>\n",
              "      <td>10.0</td>\n",
              "      <td>24.0</td>\n",
              "      <td>154.0</td>\n",
              "      <td>285.0</td>\n",
              "      <td>297.0</td>\n",
              "      <td>299.0</td>\n",
              "    </tr>\n",
              "    <tr>\n",
              "      <th>Response</th>\n",
              "      <td>0.0</td>\n",
              "      <td>0.0</td>\n",
              "      <td>0.0</td>\n",
              "      <td>1.0</td>\n",
              "      <td>1.0</td>\n",
              "      <td>1.0</td>\n",
              "    </tr>\n",
              "  </tbody>\n",
              "</table>\n",
              "</div>\n",
              "      <button class=\"colab-df-convert\" onclick=\"convertToInteractive('df-933408f1-b084-4e04-a67a-b0316874a1eb')\"\n",
              "              title=\"Convert this dataframe to an interactive table.\"\n",
              "              style=\"display:none;\">\n",
              "        \n",
              "  <svg xmlns=\"http://www.w3.org/2000/svg\" height=\"24px\"viewBox=\"0 0 24 24\"\n",
              "       width=\"24px\">\n",
              "    <path d=\"M0 0h24v24H0V0z\" fill=\"none\"/>\n",
              "    <path d=\"M18.56 5.44l.94 2.06.94-2.06 2.06-.94-2.06-.94-.94-2.06-.94 2.06-2.06.94zm-11 1L8.5 8.5l.94-2.06 2.06-.94-2.06-.94L8.5 2.5l-.94 2.06-2.06.94zm10 10l.94 2.06.94-2.06 2.06-.94-2.06-.94-.94-2.06-.94 2.06-2.06.94z\"/><path d=\"M17.41 7.96l-1.37-1.37c-.4-.4-.92-.59-1.43-.59-.52 0-1.04.2-1.43.59L10.3 9.45l-7.72 7.72c-.78.78-.78 2.05 0 2.83L4 21.41c.39.39.9.59 1.41.59.51 0 1.02-.2 1.41-.59l7.78-7.78 2.81-2.81c.8-.78.8-2.07 0-2.86zM5.41 20L4 18.59l7.72-7.72 1.47 1.35L5.41 20z\"/>\n",
              "  </svg>\n",
              "      </button>\n",
              "      \n",
              "  <style>\n",
              "    .colab-df-container {\n",
              "      display:flex;\n",
              "      flex-wrap:wrap;\n",
              "      gap: 12px;\n",
              "    }\n",
              "\n",
              "    .colab-df-convert {\n",
              "      background-color: #E8F0FE;\n",
              "      border: none;\n",
              "      border-radius: 50%;\n",
              "      cursor: pointer;\n",
              "      display: none;\n",
              "      fill: #1967D2;\n",
              "      height: 32px;\n",
              "      padding: 0 0 0 0;\n",
              "      width: 32px;\n",
              "    }\n",
              "\n",
              "    .colab-df-convert:hover {\n",
              "      background-color: #E2EBFA;\n",
              "      box-shadow: 0px 1px 2px rgba(60, 64, 67, 0.3), 0px 1px 3px 1px rgba(60, 64, 67, 0.15);\n",
              "      fill: #174EA6;\n",
              "    }\n",
              "\n",
              "    [theme=dark] .colab-df-convert {\n",
              "      background-color: #3B4455;\n",
              "      fill: #D2E3FC;\n",
              "    }\n",
              "\n",
              "    [theme=dark] .colab-df-convert:hover {\n",
              "      background-color: #434B5C;\n",
              "      box-shadow: 0px 1px 3px 1px rgba(0, 0, 0, 0.15);\n",
              "      filter: drop-shadow(0px 1px 2px rgba(0, 0, 0, 0.3));\n",
              "      fill: #FFFFFF;\n",
              "    }\n",
              "  </style>\n",
              "\n",
              "      <script>\n",
              "        const buttonEl =\n",
              "          document.querySelector('#df-933408f1-b084-4e04-a67a-b0316874a1eb button.colab-df-convert');\n",
              "        buttonEl.style.display =\n",
              "          google.colab.kernel.accessAllowed ? 'block' : 'none';\n",
              "\n",
              "        async function convertToInteractive(key) {\n",
              "          const element = document.querySelector('#df-933408f1-b084-4e04-a67a-b0316874a1eb');\n",
              "          const dataTable =\n",
              "            await google.colab.kernel.invokeFunction('convertToInteractive',\n",
              "                                                     [key], {});\n",
              "          if (!dataTable) return;\n",
              "\n",
              "          const docLinkHtml = 'Like what you see? Visit the ' +\n",
              "            '<a target=\"_blank\" href=https://colab.research.google.com/notebooks/data_table.ipynb>data table notebook</a>'\n",
              "            + ' to learn more about interactive tables.';\n",
              "          element.innerHTML = '';\n",
              "          dataTable['output_type'] = 'display_data';\n",
              "          await google.colab.output.renderOutput(dataTable, element);\n",
              "          const docLink = document.createElement('div');\n",
              "          docLink.innerHTML = docLinkHtml;\n",
              "          element.appendChild(docLink);\n",
              "        }\n",
              "      </script>\n",
              "    </div>\n",
              "  </div>\n",
              "  "
            ],
            "text/plain": [
              "                        0.00    0.05     0.50     0.95     0.99      1.00\n",
              "Age                     20.0    21.0     36.0     69.0     77.0      85.0\n",
              "Driving_License          0.0     1.0      1.0      1.0      1.0       1.0\n",
              "Region_Code              0.0     5.0     28.0     47.0     50.0      52.0\n",
              "Previously_Insured       0.0     0.0      0.0      1.0      1.0       1.0\n",
              "Annual_Premium        2630.0  2630.0  31669.0  55176.0  72963.0  540165.0\n",
              "Policy_Sales_Channel     1.0    26.0    133.0    160.0    160.0     163.0\n",
              "Vintage                 10.0    24.0    154.0    285.0    297.0     299.0\n",
              "Response                 0.0     0.0      0.0      1.0      1.0       1.0"
            ]
          },
          "metadata": {},
          "execution_count": 11
        }
      ],
      "source": [
        "df.drop(\"id\",axis =1).quantile([0, 0.05, 0.50, 0.95, 0.99, 1]).T"
      ]
    },
    {
      "cell_type": "markdown",
      "metadata": {
        "id": "Q0k2IPhMpM1y"
      },
      "source": [
        "# *Visual Inspection*\n"
      ]
    },
    {
      "cell_type": "markdown",
      "metadata": {
        "id": "tQ6DxlgqpNDa"
      },
      "source": [
        "# 1.Target Variable Response\n",
        "\n",
        "*   Wheather the check Customer Response For the Insurance intrested or not Intrested \n",
        "\n"
      ]
    },
    {
      "cell_type": "code",
      "execution_count": 12,
      "metadata": {
        "colab": {
          "base_uri": "https://localhost:8080/",
          "height": 300
        },
        "id": "eQfkhzl689_K",
        "outputId": "1f2ce6f4-b63f-436a-f386-0ef1642ba334"
      },
      "outputs": [
        {
          "output_type": "execute_result",
          "data": {
            "text/plain": [
              "<matplotlib.axes._subplots.AxesSubplot at 0x7f953b48e250>"
            ]
          },
          "metadata": {},
          "execution_count": 12
        },
        {
          "output_type": "display_data",
          "data": {
            "image/png": "[encoded data removed]",
            "text/plain": [
              "<Figure size 432x288 with 1 Axes>"
            ]
          },
          "metadata": {
            "needs_background": "light"
          }
        }
      ],
      "source": [
        "sns.countplot(df.Response)"
      ]
    },
    {
      "cell_type": "code",
      "execution_count": 13,
      "metadata": {
        "colab": {
          "base_uri": "https://localhost:8080/"
        },
        "id": "r0GCb1qwCM7M",
        "outputId": "362ca248-9da6-455d-a314-e20dee5477ce"
      },
      "outputs": [
        {
          "output_type": "execute_result",
          "data": {
            "text/plain": [
              "0    334399\n",
              "1     46710\n",
              "Name: Response, dtype: int64"
            ]
          },
          "metadata": {},
          "execution_count": 13
        }
      ],
      "source": [
        "df.Response.value_counts()"
      ]
    },
    {
      "cell_type": "markdown",
      "metadata": {
        "id": "6B1bhnpFuo8O"
      },
      "source": [
        "# 2.Age Distribution of Customers"
      ]
    },
    {
      "cell_type": "code",
      "execution_count": 14,
      "metadata": {
        "colab": {
          "base_uri": "https://localhost:8080/",
          "height": 296
        },
        "id": "xDj4aLUkCfJj",
        "outputId": "05b7c30f-6097-460e-8885-8148d82a7303"
      },
      "outputs": [
        {
          "output_type": "execute_result",
          "data": {
            "text/plain": [
              "<matplotlib.axes._subplots.AxesSubplot at 0x7f9531408850>"
            ]
          },
          "metadata": {},
          "execution_count": 14
        },
        {
          "output_type": "display_data",
          "data": {
            "image/png": "[encoded data removed]",
            "text/plain": [
              "<Figure size 432x288 with 1 Axes>"
            ]
          },
          "metadata": {
            "needs_background": "light"
          }
        }
      ],
      "source": [
        "sns.distplot(df.Age)"
      ]
    },
    {
      "cell_type": "markdown",
      "metadata": {
        "id": "uVbpSX4FwQ2K"
      },
      "source": [
        "The above age plot clearly shows that the age between 20 to 45 maximum intrested for insurance"
      ]
    },
    {
      "cell_type": "markdown",
      "metadata": {
        "id": "t8EIH0P3vNnM"
      },
      "source": [
        "# 3.Gender Wise Customers Response"
      ]
    },
    {
      "cell_type": "code",
      "execution_count": 15,
      "metadata": {
        "colab": {
          "base_uri": "https://localhost:8080/",
          "height": 296
        },
        "id": "xs4bHsAKGrpb",
        "outputId": "4dd2ac14-1168-417f-c059-03b887382b7f"
      },
      "outputs": [
        {
          "output_type": "execute_result",
          "data": {
            "text/plain": [
              "<matplotlib.axes._subplots.AxesSubplot at 0x7f952e66c610>"
            ]
          },
          "metadata": {},
          "execution_count": 15
        },
        {
          "output_type": "display_data",
          "data": {
            "image/png": "[encoded data removed]",
            "text/plain": [
              "<Figure size 432x288 with 1 Axes>"
            ]
          },
          "metadata": {
            "needs_background": "light"
          }
        }
      ],
      "source": [
        "sns.countplot(df.Gender)"
      ]
    },
    {
      "cell_type": "code",
      "execution_count": 16,
      "metadata": {
        "id": "z83GfjMWLasm"
      },
      "outputs": [],
      "source": [
        "new_df = df.groupby(['Gender','Response'])['id'].count().to_frame().rename(columns={'id':'count'}).reset_index()"
      ]
    },
    {
      "cell_type": "code",
      "execution_count": 17,
      "metadata": {
        "colab": {
          "base_uri": "https://localhost:8080/",
          "height": 297
        },
        "id": "8O7ax9UfG2yS",
        "outputId": "13a15817-c85e-456a-9c5e-c21ad6140c1c"
      },
      "outputs": [
        {
          "output_type": "display_data",
          "data": {
            "image/png": "[encoded data removed]",
            "text/plain": [
              "<Figure size 403.2x288 with 2 Axes>"
            ]
          },
          "metadata": {
            "needs_background": "light"
          }
        }
      ],
      "source": [
        "g = sns.catplot(x=\"Gender\", y=\"count\",col=\"Response\",data=new_df, kind=\"bar\",height=4, aspect=.7);"
      ]
    },
    {
      "cell_type": "markdown",
      "metadata": {
        "id": "RbecDUZov4Bl"
      },
      "source": [
        "As we can see that Males are more likely to buy Vehicle Insurance which proves our Hypothesis also."
      ]
    },
    {
      "cell_type": "markdown",
      "metadata": {
        "id": "xDwdDgqewSjf"
      },
      "source": [
        "# 4. Age vs Annual Premium  "
      ]
    },
    {
      "cell_type": "code",
      "execution_count": 17,
      "metadata": {
        "id": "wdjne-lcTzRo"
      },
      "outputs": [],
      "source": [
        ""
      ]
    },
    {
      "cell_type": "code",
      "execution_count": 18,
      "metadata": {
        "colab": {
          "base_uri": "https://localhost:8080/",
          "height": 296
        },
        "id": "9p3L9cvLCoI9",
        "outputId": "f947e3c2-ca71-44d6-ae24-766486a616b7"
      },
      "outputs": [
        {
          "output_type": "execute_result",
          "data": {
            "text/plain": [
              "<matplotlib.axes._subplots.AxesSubplot at 0x7f952e53ea90>"
            ]
          },
          "metadata": {},
          "execution_count": 18
        },
        {
          "output_type": "display_data",
          "data": {
            "image/png": "[encoded data removed]",
            "text/plain": [
              "<Figure size 432x288 with 1 Axes>"
            ]
          },
          "metadata": {
            "needs_background": "light"
          }
        }
      ],
      "source": [
        "sns.scatterplot(x=df['Age'],y=df['Annual_Premium'])"
      ]
    },
    {
      "cell_type": "markdown",
      "metadata": {
        "id": "hzP9w8bmwk-j"
      },
      "source": [
        "From the scatter plot we observed age of 20 to 80 people maximum annual premium is approximately 130000"
      ]
    },
    {
      "cell_type": "markdown",
      "metadata": {
        "id": "f-BJiaMexW9w"
      },
      "source": [
        "# 5. Driving License Gender wise Distribution"
      ]
    },
    {
      "cell_type": "code",
      "execution_count": 19,
      "metadata": {
        "id": "YMERb4JiJOJ-"
      },
      "outputs": [],
      "source": [
        "new_df = df.groupby(['Gender'])['Driving_License'].count().to_frame().reset_index()"
      ]
    },
    {
      "cell_type": "code",
      "execution_count": 20,
      "metadata": {
        "colab": {
          "base_uri": "https://localhost:8080/",
          "height": 386
        },
        "id": "CdYkHZ1kNWSz",
        "outputId": "45b5ecd4-8f9c-440f-9f54-3d451aaac8cd"
      },
      "outputs": [
        {
          "output_type": "execute_result",
          "data": {
            "text/plain": [
              "<seaborn.axisgrid.FacetGrid at 0x7f952e587ad0>"
            ]
          },
          "metadata": {},
          "execution_count": 20
        },
        {
          "output_type": "display_data",
          "data": {
            "image/png": "[encoded data removed]",
            "text/plain": [
              "<Figure size 360x360 with 1 Axes>"
            ]
          },
          "metadata": {
            "needs_background": "light"
          }
        }
      ],
      "source": [
        "sns.catplot(x='Gender',y='Driving_License',data=new_df,kind='bar')"
      ]
    },
    {
      "cell_type": "markdown",
      "metadata": {
        "id": "erO0_taSxmyt"
      },
      "source": [
        "As per the above graph Male have more Driving license as compair to Female"
      ]
    },
    {
      "cell_type": "markdown",
      "metadata": {
        "id": "d7bNCvmxzrbB"
      },
      "source": [
        "# 6. Customers having Vehicle insurance already"
      ]
    },
    {
      "cell_type": "code",
      "execution_count": 21,
      "metadata": {
        "colab": {
          "base_uri": "https://localhost:8080/",
          "height": 297
        },
        "id": "aX4jnrJpNYDH",
        "outputId": "9bc912cd-aec9-4898-8bb7-7a49517c339f"
      },
      "outputs": [
        {
          "output_type": "execute_result",
          "data": {
            "text/plain": [
              "<matplotlib.axes._subplots.AxesSubplot at 0x7f952e4a1710>"
            ]
          },
          "metadata": {},
          "execution_count": 21
        },
        {
          "output_type": "display_data",
          "data": {
            "image/png": "[encoded data removed]",
            "text/plain": [
              "<Figure size 432x288 with 1 Axes>"
            ]
          },
          "metadata": {
            "needs_background": "light"
          }
        }
      ],
      "source": [
        "sns.countplot(df.Previously_Insured)"
      ]
    },
    {
      "cell_type": "markdown",
      "metadata": {
        "id": "Mq6pDvkWz1fI"
      },
      "source": [
        "# 7.Vehicle Age"
      ]
    },
    {
      "cell_type": "code",
      "execution_count": 22,
      "metadata": {
        "colab": {
          "base_uri": "https://localhost:8080/",
          "height": 297
        },
        "id": "7gk1umocOD90",
        "outputId": "afb08299-87f3-463f-f3d0-ab0d077c2884"
      },
      "outputs": [
        {
          "output_type": "execute_result",
          "data": {
            "text/plain": [
              "<matplotlib.axes._subplots.AxesSubplot at 0x7f952e421c10>"
            ]
          },
          "metadata": {},
          "execution_count": 22
        },
        {
          "output_type": "display_data",
          "data": {
            "image/png": "[encoded data removed]",
            "text/plain": [
              "<Figure size 432x288 with 1 Axes>"
            ]
          },
          "metadata": {
            "needs_background": "light"
          }
        }
      ],
      "source": [
        "sns.countplot(df.Vehicle_Age)"
      ]
    },
    {
      "cell_type": "code",
      "execution_count": 23,
      "metadata": {
        "colab": {
          "base_uri": "https://localhost:8080/",
          "height": 238
        },
        "id": "zfPGGsHJOM8Q",
        "outputId": "51d2750c-217c-422a-91e2-7880cac89737"
      },
      "outputs": [
        {
          "output_type": "execute_result",
          "data": {
            "text/html": [
              "\n",
              "  <div id=\"df-9ae47e0b-9398-440b-8a29-92a1a1fb802c\">\n",
              "    <div class=\"colab-df-container\">\n",
              "      <div>\n",
              "<style scoped>\n",
              "    .dataframe tbody tr th:only-of-type {\n",
              "        vertical-align: middle;\n",
              "    }\n",
              "\n",
              "    .dataframe tbody tr th {\n",
              "        vertical-align: top;\n",
              "    }\n",
              "\n",
              "    .dataframe thead th {\n",
              "        text-align: right;\n",
              "    }\n",
              "</style>\n",
              "<table border=\"1\" class=\"dataframe\">\n",
              "  <thead>\n",
              "    <tr style=\"text-align: right;\">\n",
              "      <th></th>\n",
              "      <th>Vehicle_Age</th>\n",
              "      <th>Response</th>\n",
              "      <th>count</th>\n",
              "    </tr>\n",
              "  </thead>\n",
              "  <tbody>\n",
              "    <tr>\n",
              "      <th>0</th>\n",
              "      <td>1-2 Year</td>\n",
              "      <td>0</td>\n",
              "      <td>165510</td>\n",
              "    </tr>\n",
              "    <tr>\n",
              "      <th>1</th>\n",
              "      <td>1-2 Year</td>\n",
              "      <td>1</td>\n",
              "      <td>34806</td>\n",
              "    </tr>\n",
              "    <tr>\n",
              "      <th>2</th>\n",
              "      <td>&lt; 1 Year</td>\n",
              "      <td>0</td>\n",
              "      <td>157584</td>\n",
              "    </tr>\n",
              "    <tr>\n",
              "      <th>3</th>\n",
              "      <td>&lt; 1 Year</td>\n",
              "      <td>1</td>\n",
              "      <td>7202</td>\n",
              "    </tr>\n",
              "    <tr>\n",
              "      <th>4</th>\n",
              "      <td>&gt; 2 Years</td>\n",
              "      <td>0</td>\n",
              "      <td>11305</td>\n",
              "    </tr>\n",
              "    <tr>\n",
              "      <th>5</th>\n",
              "      <td>&gt; 2 Years</td>\n",
              "      <td>1</td>\n",
              "      <td>4702</td>\n",
              "    </tr>\n",
              "  </tbody>\n",
              "</table>\n",
              "</div>\n",
              "      <button class=\"colab-df-convert\" onclick=\"convertToInteractive('df-9ae47e0b-9398-440b-8a29-92a1a1fb802c')\"\n",
              "              title=\"Convert this dataframe to an interactive table.\"\n",
              "              style=\"display:none;\">\n",
              "        \n",
              "  <svg xmlns=\"http://www.w3.org/2000/svg\" height=\"24px\"viewBox=\"0 0 24 24\"\n",
              "       width=\"24px\">\n",
              "    <path d=\"M0 0h24v24H0V0z\" fill=\"none\"/>\n",
              "    <path d=\"M18.56 5.44l.94 2.06.94-2.06 2.06-.94-2.06-.94-.94-2.06-.94 2.06-2.06.94zm-11 1L8.5 8.5l.94-2.06 2.06-.94-2.06-.94L8.5 2.5l-.94 2.06-2.06.94zm10 10l.94 2.06.94-2.06 2.06-.94-2.06-.94-.94-2.06-.94 2.06-2.06.94z\"/><path d=\"M17.41 7.96l-1.37-1.37c-.4-.4-.92-.59-1.43-.59-.52 0-1.04.2-1.43.59L10.3 9.45l-7.72 7.72c-.78.78-.78 2.05 0 2.83L4 21.41c.39.39.9.59 1.41.59.51 0 1.02-.2 1.41-.59l7.78-7.78 2.81-2.81c.8-.78.8-2.07 0-2.86zM5.41 20L4 18.59l7.72-7.72 1.47 1.35L5.41 20z\"/>\n",
              "  </svg>\n",
              "      </button>\n",
              "      \n",
              "  <style>\n",
              "    .colab-df-container {\n",
              "      display:flex;\n",
              "      flex-wrap:wrap;\n",
              "      gap: 12px;\n",
              "    }\n",
              "\n",
              "    .colab-df-convert {\n",
              "      background-color: #E8F0FE;\n",
              "      border: none;\n",
              "      border-radius: 50%;\n",
              "      cursor: pointer;\n",
              "      display: none;\n",
              "      fill: #1967D2;\n",
              "      height: 32px;\n",
              "      padding: 0 0 0 0;\n",
              "      width: 32px;\n",
              "    }\n",
              "\n",
              "    .colab-df-convert:hover {\n",
              "      background-color: #E2EBFA;\n",
              "      box-shadow: 0px 1px 2px rgba(60, 64, 67, 0.3), 0px 1px 3px 1px rgba(60, 64, 67, 0.15);\n",
              "      fill: #174EA6;\n",
              "    }\n",
              "\n",
              "    [theme=dark] .colab-df-convert {\n",
              "      background-color: #3B4455;\n",
              "      fill: #D2E3FC;\n",
              "    }\n",
              "\n",
              "    [theme=dark] .colab-df-convert:hover {\n",
              "      background-color: #434B5C;\n",
              "      box-shadow: 0px 1px 3px 1px rgba(0, 0, 0, 0.15);\n",
              "      filter: drop-shadow(0px 1px 2px rgba(0, 0, 0, 0.3));\n",
              "      fill: #FFFFFF;\n",
              "    }\n",
              "  </style>\n",
              "\n",
              "      <script>\n",
              "        const buttonEl =\n",
              "          document.querySelector('#df-9ae47e0b-9398-440b-8a29-92a1a1fb802c button.colab-df-convert');\n",
              "        buttonEl.style.display =\n",
              "          google.colab.kernel.accessAllowed ? 'block' : 'none';\n",
              "\n",
              "        async function convertToInteractive(key) {\n",
              "          const element = document.querySelector('#df-9ae47e0b-9398-440b-8a29-92a1a1fb802c');\n",
              "          const dataTable =\n",
              "            await google.colab.kernel.invokeFunction('convertToInteractive',\n",
              "                                                     [key], {});\n",
              "          if (!dataTable) return;\n",
              "\n",
              "          const docLinkHtml = 'Like what you see? Visit the ' +\n",
              "            '<a target=\"_blank\" href=https://colab.research.google.com/notebooks/data_table.ipynb>data table notebook</a>'\n",
              "            + ' to learn more about interactive tables.';\n",
              "          element.innerHTML = '';\n",
              "          dataTable['output_type'] = 'display_data';\n",
              "          await google.colab.output.renderOutput(dataTable, element);\n",
              "          const docLink = document.createElement('div');\n",
              "          docLink.innerHTML = docLinkHtml;\n",
              "          element.appendChild(docLink);\n",
              "        }\n",
              "      </script>\n",
              "    </div>\n",
              "  </div>\n",
              "  "
            ],
            "text/plain": [
              "  Vehicle_Age  Response   count\n",
              "0    1-2 Year         0  165510\n",
              "1    1-2 Year         1   34806\n",
              "2    < 1 Year         0  157584\n",
              "3    < 1 Year         1    7202\n",
              "4   > 2 Years         0   11305\n",
              "5   > 2 Years         1    4702"
            ]
          },
          "metadata": {},
          "execution_count": 23
        }
      ],
      "source": [
        "new_df = df.groupby(['Vehicle_Age','Response'])['id'].count().to_frame().rename(columns={'id':'count'}).reset_index()\n",
        "new_df"
      ]
    },
    {
      "cell_type": "code",
      "execution_count": 24,
      "metadata": {
        "colab": {
          "base_uri": "https://localhost:8080/",
          "height": 297
        },
        "id": "8l2EkPKRPqNZ",
        "outputId": "7d5a8ad7-c3a5-4333-fc41-06ced99f1254"
      },
      "outputs": [
        {
          "output_type": "display_data",
          "data": {
            "image/png": "[encoded data removed]",
            "text/plain": [
              "<Figure size 403.2x288 with 2 Axes>"
            ]
          },
          "metadata": {
            "needs_background": "light"
          }
        }
      ],
      "source": [
        "g = sns.catplot(x='Vehicle_Age',y='count',col='Response',data=new_df,kind=\"bar\",height=4, aspect=.7)"
      ]
    },
    {
      "cell_type": "markdown",
      "metadata": {
        "id": "dlYa7I4L0AZh"
      },
      "source": [
        "From the above figure, it is clear that the more the age of the vehicle the better as it makes the vehicle insurance cheaper\n",
        "\n",
        "To know more about the correlation between Vehicle insurance and Vehicle age refer to this link\n",
        "\n",
        "Feel free to dig deeper and find more insights from the dataset. We will move to the next section that is Data Cleaning."
      ]
    },
    {
      "cell_type": "markdown",
      "metadata": {
        "id": "uIPA-VJD2NfF"
      },
      "source": [
        "# 8.Damage Vehicle and Response"
      ]
    },
    {
      "cell_type": "code",
      "execution_count": 25,
      "metadata": {
        "colab": {
          "base_uri": "https://localhost:8080/",
          "height": 299
        },
        "id": "X_gFWeHnQ4bH",
        "outputId": "d453725f-572f-4980-fe24-d266a7841ac6"
      },
      "outputs": [
        {
          "output_type": "execute_result",
          "data": {
            "text/plain": [
              "<matplotlib.axes._subplots.AxesSubplot at 0x7f952e288790>"
            ]
          },
          "metadata": {},
          "execution_count": 25
        },
        {
          "output_type": "display_data",
          "data": {
            "image/png": "[encoded data removed]",
            "text/plain": [
              "<Figure size 432x288 with 1 Axes>"
            ]
          },
          "metadata": {
            "needs_background": "light"
          }
        }
      ],
      "source": [
        "sns.countplot(df.Vehicle_Damage)"
      ]
    },
    {
      "cell_type": "code",
      "execution_count": 26,
      "metadata": {
        "colab": {
          "base_uri": "https://localhost:8080/",
          "height": 175
        },
        "id": "V5HSDtlTQ6rD",
        "outputId": "a97d92c3-132f-4943-f747-9216a723f838"
      },
      "outputs": [
        {
          "output_type": "execute_result",
          "data": {
            "text/html": [
              "\n",
              "  <div id=\"df-8e388914-5a55-4566-8704-dba49ccd333e\">\n",
              "    <div class=\"colab-df-container\">\n",
              "      <div>\n",
              "<style scoped>\n",
              "    .dataframe tbody tr th:only-of-type {\n",
              "        vertical-align: middle;\n",
              "    }\n",
              "\n",
              "    .dataframe tbody tr th {\n",
              "        vertical-align: top;\n",
              "    }\n",
              "\n",
              "    .dataframe thead th {\n",
              "        text-align: right;\n",
              "    }\n",
              "</style>\n",
              "<table border=\"1\" class=\"dataframe\">\n",
              "  <thead>\n",
              "    <tr style=\"text-align: right;\">\n",
              "      <th></th>\n",
              "      <th>Vehicle_Damage</th>\n",
              "      <th>Response</th>\n",
              "      <th>count</th>\n",
              "    </tr>\n",
              "  </thead>\n",
              "  <tbody>\n",
              "    <tr>\n",
              "      <th>0</th>\n",
              "      <td>No</td>\n",
              "      <td>0</td>\n",
              "      <td>187714</td>\n",
              "    </tr>\n",
              "    <tr>\n",
              "      <th>1</th>\n",
              "      <td>No</td>\n",
              "      <td>1</td>\n",
              "      <td>982</td>\n",
              "    </tr>\n",
              "    <tr>\n",
              "      <th>2</th>\n",
              "      <td>Yes</td>\n",
              "      <td>0</td>\n",
              "      <td>146685</td>\n",
              "    </tr>\n",
              "    <tr>\n",
              "      <th>3</th>\n",
              "      <td>Yes</td>\n",
              "      <td>1</td>\n",
              "      <td>45728</td>\n",
              "    </tr>\n",
              "  </tbody>\n",
              "</table>\n",
              "</div>\n",
              "      <button class=\"colab-df-convert\" onclick=\"convertToInteractive('df-8e388914-5a55-4566-8704-dba49ccd333e')\"\n",
              "              title=\"Convert this dataframe to an interactive table.\"\n",
              "              style=\"display:none;\">\n",
              "        \n",
              "  <svg xmlns=\"http://www.w3.org/2000/svg\" height=\"24px\"viewBox=\"0 0 24 24\"\n",
              "       width=\"24px\">\n",
              "    <path d=\"M0 0h24v24H0V0z\" fill=\"none\"/>\n",
              "    <path d=\"M18.56 5.44l.94 2.06.94-2.06 2.06-.94-2.06-.94-.94-2.06-.94 2.06-2.06.94zm-11 1L8.5 8.5l.94-2.06 2.06-.94-2.06-.94L8.5 2.5l-.94 2.06-2.06.94zm10 10l.94 2.06.94-2.06 2.06-.94-2.06-.94-.94-2.06-.94 2.06-2.06.94z\"/><path d=\"M17.41 7.96l-1.37-1.37c-.4-.4-.92-.59-1.43-.59-.52 0-1.04.2-1.43.59L10.3 9.45l-7.72 7.72c-.78.78-.78 2.05 0 2.83L4 21.41c.39.39.9.59 1.41.59.51 0 1.02-.2 1.41-.59l7.78-7.78 2.81-2.81c.8-.78.8-2.07 0-2.86zM5.41 20L4 18.59l7.72-7.72 1.47 1.35L5.41 20z\"/>\n",
              "  </svg>\n",
              "      </button>\n",
              "      \n",
              "  <style>\n",
              "    .colab-df-container {\n",
              "      display:flex;\n",
              "      flex-wrap:wrap;\n",
              "      gap: 12px;\n",
              "    }\n",
              "\n",
              "    .colab-df-convert {\n",
              "      background-color: #E8F0FE;\n",
              "      border: none;\n",
              "      border-radius: 50%;\n",
              "      cursor: pointer;\n",
              "      display: none;\n",
              "      fill: #1967D2;\n",
              "      height: 32px;\n",
              "      padding: 0 0 0 0;\n",
              "      width: 32px;\n",
              "    }\n",
              "\n",
              "    .colab-df-convert:hover {\n",
              "      background-color: #E2EBFA;\n",
              "      box-shadow: 0px 1px 2px rgba(60, 64, 67, 0.3), 0px 1px 3px 1px rgba(60, 64, 67, 0.15);\n",
              "      fill: #174EA6;\n",
              "    }\n",
              "\n",
              "    [theme=dark] .colab-df-convert {\n",
              "      background-color: #3B4455;\n",
              "      fill: #D2E3FC;\n",
              "    }\n",
              "\n",
              "    [theme=dark] .colab-df-convert:hover {\n",
              "      background-color: #434B5C;\n",
              "      box-shadow: 0px 1px 3px 1px rgba(0, 0, 0, 0.15);\n",
              "      filter: drop-shadow(0px 1px 2px rgba(0, 0, 0, 0.3));\n",
              "      fill: #FFFFFF;\n",
              "    }\n",
              "  </style>\n",
              "\n",
              "      <script>\n",
              "        const buttonEl =\n",
              "          document.querySelector('#df-8e388914-5a55-4566-8704-dba49ccd333e button.colab-df-convert');\n",
              "        buttonEl.style.display =\n",
              "          google.colab.kernel.accessAllowed ? 'block' : 'none';\n",
              "\n",
              "        async function convertToInteractive(key) {\n",
              "          const element = document.querySelector('#df-8e388914-5a55-4566-8704-dba49ccd333e');\n",
              "          const dataTable =\n",
              "            await google.colab.kernel.invokeFunction('convertToInteractive',\n",
              "                                                     [key], {});\n",
              "          if (!dataTable) return;\n",
              "\n",
              "          const docLinkHtml = 'Like what you see? Visit the ' +\n",
              "            '<a target=\"_blank\" href=https://colab.research.google.com/notebooks/data_table.ipynb>data table notebook</a>'\n",
              "            + ' to learn more about interactive tables.';\n",
              "          element.innerHTML = '';\n",
              "          dataTable['output_type'] = 'display_data';\n",
              "          await google.colab.output.renderOutput(dataTable, element);\n",
              "          const docLink = document.createElement('div');\n",
              "          docLink.innerHTML = docLinkHtml;\n",
              "          element.appendChild(docLink);\n",
              "        }\n",
              "      </script>\n",
              "    </div>\n",
              "  </div>\n",
              "  "
            ],
            "text/plain": [
              "  Vehicle_Damage  Response   count\n",
              "0             No         0  187714\n",
              "1             No         1     982\n",
              "2            Yes         0  146685\n",
              "3            Yes         1   45728"
            ]
          },
          "metadata": {},
          "execution_count": 26
        }
      ],
      "source": [
        "new_df=df.groupby(['Vehicle_Damage','Response'])['id'].count().to_frame().rename(columns={'id':'count'}).reset_index()\n",
        "new_df"
      ]
    },
    {
      "cell_type": "code",
      "execution_count": 27,
      "metadata": {
        "colab": {
          "base_uri": "https://localhost:8080/",
          "height": 297
        },
        "id": "yRnzMVB1RCnm",
        "outputId": "4d1dedff-71ba-4fe3-ae9e-35044c75e3ec"
      },
      "outputs": [
        {
          "output_type": "display_data",
          "data": {
            "image/png": "[encoded data removed]",
            "text/plain": [
              "<Figure size 403.2x288 with 2 Axes>"
            ]
          },
          "metadata": {
            "needs_background": "light"
          }
        }
      ],
      "source": [
        "g = sns.catplot(x=\"Vehicle_Damage\", y=\"count\",col=\"Response\",\n",
        "                data=new_df, kind=\"bar\",\n",
        "                height=4, aspect=.7);"
      ]
    },
    {
      "cell_type": "markdown",
      "metadata": {
        "id": "4LSZEyjO3B7P"
      },
      "source": [
        "We plotted Vehicle damage vs Response the graph shows\n",
        "1.\twhen customer is not interested(response=0) Maximum vehicle No vehicle damage and not response and also vehicle damaged but they don’t gave Response\n",
        "2.\tIf we see the customer interested (Response=1) Minimum people no vehicle damage minimum response\n"
      ]
    },
    {
      "cell_type": "markdown",
      "metadata": {
        "id": "OPu1qaAV2q5f"
      },
      "source": [
        "# 8. Annual Premium Distribution"
      ]
    },
    {
      "cell_type": "code",
      "execution_count": 28,
      "metadata": {
        "colab": {
          "base_uri": "https://localhost:8080/",
          "height": 308
        },
        "id": "1iIkoEOzRK8d",
        "outputId": "6cb3e7f0-879a-4707-d054-a856f558f235"
      },
      "outputs": [
        {
          "output_type": "execute_result",
          "data": {
            "text/plain": [
              "<matplotlib.axes._subplots.AxesSubplot at 0x7f952e54ed10>"
            ]
          },
          "metadata": {},
          "execution_count": 28
        },
        {
          "output_type": "display_data",
          "data": {
            "image/png": "[encoded data removed]",
            "text/plain": [
              "<Figure size 432x288 with 1 Axes>"
            ]
          },
          "metadata": {
            "needs_background": "light"
          }
        }
      ],
      "source": [
        "sns.distplot(df.Annual_Premium)"
      ]
    },
    {
      "cell_type": "markdown",
      "metadata": {
        "id": "TWbAwhRv6AMo"
      },
      "source": [
        "maximum density of annual premium is below 100000"
      ]
    },
    {
      "cell_type": "markdown",
      "metadata": {
        "id": "OvMYOSOu5yBz"
      },
      "source": [
        "# 9. Vintage\n",
        "Number of Days, Customer has been associated with the company"
      ]
    },
    {
      "cell_type": "code",
      "execution_count": 29,
      "metadata": {
        "colab": {
          "base_uri": "https://localhost:8080/",
          "height": 296
        },
        "id": "Vvn24o7YRMwT",
        "outputId": "51bd7174-7b05-48a2-9b92-f90e3c256dd9"
      },
      "outputs": [
        {
          "output_type": "execute_result",
          "data": {
            "text/plain": [
              "<matplotlib.axes._subplots.AxesSubplot at 0x7f952e1a0650>"
            ]
          },
          "metadata": {},
          "execution_count": 29
        },
        {
          "output_type": "display_data",
          "data": {
            "image/png": "[encoded data removed]",
            "text/plain": [
              "<Figure size 432x288 with 1 Axes>"
            ]
          },
          "metadata": {
            "needs_background": "light"
          }
        }
      ],
      "source": [
        "sns.distplot(df.Vintage)"
      ]
    },
    {
      "cell_type": "markdown",
      "metadata": {
        "id": "iN83PlDC6b7q"
      },
      "source": [
        "# 10.check the Outliers by plotting Boxplot"
      ]
    },
    {
      "cell_type": "code",
      "execution_count": 30,
      "metadata": {
        "colab": {
          "base_uri": "https://localhost:8080/",
          "height": 296
        },
        "id": "jz1Dqy2Blfav",
        "outputId": "87b41aa6-8691-4c72-d949-20be5fb6eae9"
      },
      "outputs": [
        {
          "output_type": "execute_result",
          "data": {
            "text/plain": [
              "<matplotlib.axes._subplots.AxesSubplot at 0x7f952dff5210>"
            ]
          },
          "metadata": {},
          "execution_count": 30
        },
        {
          "output_type": "display_data",
          "data": {
            "image/png": "[encoded data removed]",
            "text/plain": [
              "<Figure size 432x288 with 1 Axes>"
            ]
          },
          "metadata": {
            "needs_background": "light"
          }
        }
      ],
      "source": [
        "sns.boxplot(x=df[\"Age\"])"
      ]
    },
    {
      "cell_type": "code",
      "execution_count": 31,
      "metadata": {
        "colab": {
          "base_uri": "https://localhost:8080/",
          "height": 297
        },
        "id": "MQtsovX7lou5",
        "outputId": "02afbd8a-3203-45a7-ed8f-6eaf3eb9cc74"
      },
      "outputs": [
        {
          "output_type": "execute_result",
          "data": {
            "text/plain": [
              "<matplotlib.axes._subplots.AxesSubplot at 0x7f952dfb4a50>"
            ]
          },
          "metadata": {},
          "execution_count": 31
        },
        {
          "output_type": "display_data",
          "data": {
            "image/png": "[encoded data removed]",
            "text/plain": [
              "<Figure size 432x288 with 1 Axes>"
            ]
          },
          "metadata": {
            "needs_background": "light"
          }
        }
      ],
      "source": [
        "sns.boxplot(x=df[\"Annual_Premium\"])"
      ]
    },
    {
      "cell_type": "markdown",
      "metadata": {
        "id": "urQn0Ii56tZ8"
      },
      "source": [
        "Here in Annual premium we already see the maximium premium is below 100000 so thats why we observed outliers"
      ]
    },
    {
      "cell_type": "code",
      "execution_count": 32,
      "metadata": {
        "colab": {
          "base_uri": "https://localhost:8080/",
          "height": 296
        },
        "id": "eedKDH93lt7V",
        "outputId": "66d681ef-f0da-4e3d-9675-9bd0f756c7d7"
      },
      "outputs": [
        {
          "output_type": "execute_result",
          "data": {
            "text/plain": [
              "<matplotlib.axes._subplots.AxesSubplot at 0x7f952df3e690>"
            ]
          },
          "metadata": {},
          "execution_count": 32
        },
        {
          "output_type": "display_data",
          "data": {
            "image/png": "[encoded data removed]",
            "text/plain": [
              "<Figure size 432x288 with 1 Axes>"
            ]
          },
          "metadata": {
            "needs_background": "light"
          }
        }
      ],
      "source": [
        "sns.boxplot(x=df[\"Vintage\"])"
      ]
    },
    {
      "cell_type": "code",
      "execution_count": 33,
      "metadata": {
        "colab": {
          "base_uri": "https://localhost:8080/"
        },
        "id": "Kjjl7BzuRXi1",
        "outputId": "9cd2515b-d432-4c4d-8201-ccf2b3e6961f"
      },
      "outputs": [
        {
          "output_type": "execute_result",
          "data": {
            "text/plain": [
              "Index(['id', 'Gender', 'Age', 'Driving_License', 'Region_Code',\n",
              "       'Previously_Insured', 'Vehicle_Age', 'Vehicle_Damage', 'Annual_Premium',\n",
              "       'Policy_Sales_Channel', 'Vintage', 'Response'],\n",
              "      dtype='object')"
            ]
          },
          "metadata": {},
          "execution_count": 33
        }
      ],
      "source": [
        "df.columns"
      ]
    },
    {
      "cell_type": "code",
      "execution_count": 34,
      "metadata": {
        "colab": {
          "base_uri": "https://localhost:8080/",
          "height": 206
        },
        "id": "dXZGyhHRRuVP",
        "outputId": "c715f70e-d2db-4c14-b2fc-a54a975332c4"
      },
      "outputs": [
        {
          "output_type": "execute_result",
          "data": {
            "text/html": [
              "\n",
              "  <div id=\"df-3cce8d68-0840-4176-a00a-9615ace4cd23\">\n",
              "    <div class=\"colab-df-container\">\n",
              "      <div>\n",
              "<style scoped>\n",
              "    .dataframe tbody tr th:only-of-type {\n",
              "        vertical-align: middle;\n",
              "    }\n",
              "\n",
              "    .dataframe tbody tr th {\n",
              "        vertical-align: top;\n",
              "    }\n",
              "\n",
              "    .dataframe thead th {\n",
              "        text-align: right;\n",
              "    }\n",
              "</style>\n",
              "<table border=\"1\" class=\"dataframe\">\n",
              "  <thead>\n",
              "    <tr style=\"text-align: right;\">\n",
              "      <th></th>\n",
              "      <th>id</th>\n",
              "      <th>Gender</th>\n",
              "      <th>Age</th>\n",
              "      <th>Driving_License</th>\n",
              "      <th>Region_Code</th>\n",
              "      <th>Previously_Insured</th>\n",
              "      <th>Vehicle_Age</th>\n",
              "      <th>Vehicle_Damage</th>\n",
              "      <th>Annual_Premium</th>\n",
              "      <th>Policy_Sales_Channel</th>\n",
              "      <th>Vintage</th>\n",
              "      <th>Response</th>\n",
              "    </tr>\n",
              "  </thead>\n",
              "  <tbody>\n",
              "    <tr>\n",
              "      <th>0</th>\n",
              "      <td>1</td>\n",
              "      <td>Male</td>\n",
              "      <td>44</td>\n",
              "      <td>1</td>\n",
              "      <td>28.0</td>\n",
              "      <td>0</td>\n",
              "      <td>&gt; 2 Years</td>\n",
              "      <td>Yes</td>\n",
              "      <td>40454.0</td>\n",
              "      <td>26.0</td>\n",
              "      <td>217</td>\n",
              "      <td>1</td>\n",
              "    </tr>\n",
              "    <tr>\n",
              "      <th>1</th>\n",
              "      <td>2</td>\n",
              "      <td>Male</td>\n",
              "      <td>76</td>\n",
              "      <td>1</td>\n",
              "      <td>3.0</td>\n",
              "      <td>0</td>\n",
              "      <td>1-2 Year</td>\n",
              "      <td>No</td>\n",
              "      <td>33536.0</td>\n",
              "      <td>26.0</td>\n",
              "      <td>183</td>\n",
              "      <td>0</td>\n",
              "    </tr>\n",
              "    <tr>\n",
              "      <th>2</th>\n",
              "      <td>3</td>\n",
              "      <td>Male</td>\n",
              "      <td>47</td>\n",
              "      <td>1</td>\n",
              "      <td>28.0</td>\n",
              "      <td>0</td>\n",
              "      <td>&gt; 2 Years</td>\n",
              "      <td>Yes</td>\n",
              "      <td>38294.0</td>\n",
              "      <td>26.0</td>\n",
              "      <td>27</td>\n",
              "      <td>1</td>\n",
              "    </tr>\n",
              "    <tr>\n",
              "      <th>3</th>\n",
              "      <td>4</td>\n",
              "      <td>Male</td>\n",
              "      <td>21</td>\n",
              "      <td>1</td>\n",
              "      <td>11.0</td>\n",
              "      <td>1</td>\n",
              "      <td>&lt; 1 Year</td>\n",
              "      <td>No</td>\n",
              "      <td>28619.0</td>\n",
              "      <td>152.0</td>\n",
              "      <td>203</td>\n",
              "      <td>0</td>\n",
              "    </tr>\n",
              "    <tr>\n",
              "      <th>4</th>\n",
              "      <td>5</td>\n",
              "      <td>Female</td>\n",
              "      <td>29</td>\n",
              "      <td>1</td>\n",
              "      <td>41.0</td>\n",
              "      <td>1</td>\n",
              "      <td>&lt; 1 Year</td>\n",
              "      <td>No</td>\n",
              "      <td>27496.0</td>\n",
              "      <td>152.0</td>\n",
              "      <td>39</td>\n",
              "      <td>0</td>\n",
              "    </tr>\n",
              "  </tbody>\n",
              "</table>\n",
              "</div>\n",
              "      <button class=\"colab-df-convert\" onclick=\"convertToInteractive('df-3cce8d68-0840-4176-a00a-9615ace4cd23')\"\n",
              "              title=\"Convert this dataframe to an interactive table.\"\n",
              "              style=\"display:none;\">\n",
              "        \n",
              "  <svg xmlns=\"http://www.w3.org/2000/svg\" height=\"24px\"viewBox=\"0 0 24 24\"\n",
              "       width=\"24px\">\n",
              "    <path d=\"M0 0h24v24H0V0z\" fill=\"none\"/>\n",
              "    <path d=\"M18.56 5.44l.94 2.06.94-2.06 2.06-.94-2.06-.94-.94-2.06-.94 2.06-2.06.94zm-11 1L8.5 8.5l.94-2.06 2.06-.94-2.06-.94L8.5 2.5l-.94 2.06-2.06.94zm10 10l.94 2.06.94-2.06 2.06-.94-2.06-.94-.94-2.06-.94 2.06-2.06.94z\"/><path d=\"M17.41 7.96l-1.37-1.37c-.4-.4-.92-.59-1.43-.59-.52 0-1.04.2-1.43.59L10.3 9.45l-7.72 7.72c-.78.78-.78 2.05 0 2.83L4 21.41c.39.39.9.59 1.41.59.51 0 1.02-.2 1.41-.59l7.78-7.78 2.81-2.81c.8-.78.8-2.07 0-2.86zM5.41 20L4 18.59l7.72-7.72 1.47 1.35L5.41 20z\"/>\n",
              "  </svg>\n",
              "      </button>\n",
              "      \n",
              "  <style>\n",
              "    .colab-df-container {\n",
              "      display:flex;\n",
              "      flex-wrap:wrap;\n",
              "      gap: 12px;\n",
              "    }\n",
              "\n",
              "    .colab-df-convert {\n",
              "      background-color: #E8F0FE;\n",
              "      border: none;\n",
              "      border-radius: 50%;\n",
              "      cursor: pointer;\n",
              "      display: none;\n",
              "      fill: #1967D2;\n",
              "      height: 32px;\n",
              "      padding: 0 0 0 0;\n",
              "      width: 32px;\n",
              "    }\n",
              "\n",
              "    .colab-df-convert:hover {\n",
              "      background-color: #E2EBFA;\n",
              "      box-shadow: 0px 1px 2px rgba(60, 64, 67, 0.3), 0px 1px 3px 1px rgba(60, 64, 67, 0.15);\n",
              "      fill: #174EA6;\n",
              "    }\n",
              "\n",
              "    [theme=dark] .colab-df-convert {\n",
              "      background-color: #3B4455;\n",
              "      fill: #D2E3FC;\n",
              "    }\n",
              "\n",
              "    [theme=dark] .colab-df-convert:hover {\n",
              "      background-color: #434B5C;\n",
              "      box-shadow: 0px 1px 3px 1px rgba(0, 0, 0, 0.15);\n",
              "      filter: drop-shadow(0px 1px 2px rgba(0, 0, 0, 0.3));\n",
              "      fill: #FFFFFF;\n",
              "    }\n",
              "  </style>\n",
              "\n",
              "      <script>\n",
              "        const buttonEl =\n",
              "          document.querySelector('#df-3cce8d68-0840-4176-a00a-9615ace4cd23 button.colab-df-convert');\n",
              "        buttonEl.style.display =\n",
              "          google.colab.kernel.accessAllowed ? 'block' : 'none';\n",
              "\n",
              "        async function convertToInteractive(key) {\n",
              "          const element = document.querySelector('#df-3cce8d68-0840-4176-a00a-9615ace4cd23');\n",
              "          const dataTable =\n",
              "            await google.colab.kernel.invokeFunction('convertToInteractive',\n",
              "                                                     [key], {});\n",
              "          if (!dataTable) return;\n",
              "\n",
              "          const docLinkHtml = 'Like what you see? Visit the ' +\n",
              "            '<a target=\"_blank\" href=https://colab.research.google.com/notebooks/data_table.ipynb>data table notebook</a>'\n",
              "            + ' to learn more about interactive tables.';\n",
              "          element.innerHTML = '';\n",
              "          dataTable['output_type'] = 'display_data';\n",
              "          await google.colab.output.renderOutput(dataTable, element);\n",
              "          const docLink = document.createElement('div');\n",
              "          docLink.innerHTML = docLinkHtml;\n",
              "          element.appendChild(docLink);\n",
              "        }\n",
              "      </script>\n",
              "    </div>\n",
              "  </div>\n",
              "  "
            ],
            "text/plain": [
              "   id  Gender  Age  Driving_License  Region_Code  Previously_Insured  \\\n",
              "0   1    Male   44                1         28.0                   0   \n",
              "1   2    Male   76                1          3.0                   0   \n",
              "2   3    Male   47                1         28.0                   0   \n",
              "3   4    Male   21                1         11.0                   1   \n",
              "4   5  Female   29                1         41.0                   1   \n",
              "\n",
              "  Vehicle_Age Vehicle_Damage  Annual_Premium  Policy_Sales_Channel  Vintage  \\\n",
              "0   > 2 Years            Yes         40454.0                  26.0      217   \n",
              "1    1-2 Year             No         33536.0                  26.0      183   \n",
              "2   > 2 Years            Yes         38294.0                  26.0       27   \n",
              "3    < 1 Year             No         28619.0                 152.0      203   \n",
              "4    < 1 Year             No         27496.0                 152.0       39   \n",
              "\n",
              "   Response  \n",
              "0         1  \n",
              "1         0  \n",
              "2         1  \n",
              "3         0  \n",
              "4         0  "
            ]
          },
          "metadata": {},
          "execution_count": 34
        }
      ],
      "source": [
        "df.head()"
      ]
    },
    {
      "cell_type": "markdown",
      "metadata": {
        "id": "7L76ha1C6Vxa"
      },
      "source": [
        "# 11.Let us plot a histogram for each numerical and variable and analyze the distribution."
      ]
    },
    {
      "cell_type": "code",
      "execution_count": 35,
      "metadata": {
        "colab": {
          "base_uri": "https://localhost:8080/",
          "height": 649
        },
        "id": "e5yToL92Angt",
        "outputId": "fef18139-2ba9-4f9c-b4dd-325cfd12be7a"
      },
      "outputs": [
        {
          "output_type": "display_data",
          "data": {
            "image/png": "[encoded data removed]",
            "text/plain": [
              "<Figure size 1440x1080 with 18 Axes>"
            ]
          },
          "metadata": {
            "needs_background": "light"
          }
        }
      ],
      "source": [
        "df.hist(figsize=(20,15),layout=(3,6))\n",
        "plt.tight_layout()\n",
        "plt.show()"
      ]
    },
    {
      "cell_type": "markdown",
      "metadata": {
        "id": "L6VY-AYTBCUJ"
      },
      "source": [
        "From the above plot we can see that:\n",
        "\n",
        "– Age column is Right-Skewed.\n",
        "\n",
        "– Response variable has an unbalanced ratio in labels. So we will apply some techniques later in the model building stage.\n",
        "\n",
        "– Diriving_license column has an unbalanced ratio between the labels.\n",
        "\n",
        " \n",
        "\n",
        "As we know that Diriving_license column has an unbalanced ratio between the labels so we can delete this column."
      ]
    },
    {
      "cell_type": "code",
      "execution_count": 36,
      "metadata": {
        "id": "n7nOih8oBF1y"
      },
      "outputs": [],
      "source": [
        "df.drop('Driving_License',axis=1,inplace=True)"
      ]
    },
    {
      "cell_type": "markdown",
      "metadata": {
        "id": "94uXNtCJRxHz"
      },
      "source": [
        "#Feature Selection"
      ]
    },
    {
      "cell_type": "markdown",
      "metadata": {
        "id": "YJ1fd9_xBnET"
      },
      "source": [
        "This step typically involves imputing missing values, treating outliers, and performing Encoding. We can perform encoding either by manually using the map() or by using LabelEncoder()."
      ]
    },
    {
      "cell_type": "code",
      "execution_count": 37,
      "metadata": {
        "colab": {
          "base_uri": "https://localhost:8080/"
        },
        "id": "RoJsZk-5Uffe",
        "outputId": "78d527ea-4187-4f32-8f7a-b87a2eeb1282"
      },
      "outputs": [
        {
          "output_type": "execute_result",
          "data": {
            "text/plain": [
              "Index(['id', 'Gender', 'Age', 'Region_Code', 'Previously_Insured',\n",
              "       'Vehicle_Age', 'Vehicle_Damage', 'Annual_Premium',\n",
              "       'Policy_Sales_Channel', 'Vintage', 'Response'],\n",
              "      dtype='object')"
            ]
          },
          "metadata": {},
          "execution_count": 37
        }
      ],
      "source": [
        "df.columns"
      ]
    },
    {
      "cell_type": "code",
      "execution_count": 38,
      "metadata": {
        "id": "KjnuukML01c-"
      },
      "outputs": [],
      "source": [
        "num_feat = ['Age','Vintage']\n",
        "cat_feat = ['Gender', 'Driving_License', 'Previously_Insured',\n",
        "            'Vehicle_Age_lt_1_Year','Vehicle_Age_gt_2_Years',\n",
        "            'Vehicle_Damage_Yes','Region_Code','Policy_Sales_Channel']"
      ]
    },
    {
      "cell_type": "code",
      "execution_count": 39,
      "metadata": {
        "id": "z7AKa-5z8E_u"
      },
      "outputs": [],
      "source": [
        "gender_map={'Male':0,'Female':1}\n",
        "df['Gender']=df['Gender'].map(gender_map)"
      ]
    },
    {
      "cell_type": "code",
      "execution_count": 40,
      "metadata": {
        "id": "-mL34tfxBbSo"
      },
      "outputs": [],
      "source": [
        "vehicle_age_map={'1-2 Year':1,'< 1 Year':0,'> 2 Years':2}\n",
        "df['Vehicle_Age']=df['Vehicle_Age'].map(vehicle_age_map)"
      ]
    },
    {
      "cell_type": "code",
      "execution_count": 41,
      "metadata": {
        "id": "D_F5ry4XBfPN"
      },
      "outputs": [],
      "source": [
        "Vehicle_Damage_map={'Yes':0,'No':1}\n",
        "df['Vehicle_Damage']=df['Vehicle_Damage'].map(Vehicle_Damage_map)"
      ]
    },
    {
      "cell_type": "code",
      "execution_count": 42,
      "metadata": {
        "id": "3EbGYcsP19PC"
      },
      "outputs": [],
      "source": [
        "df=pd.get_dummies(df,drop_first=True)"
      ]
    },
    {
      "cell_type": "code",
      "execution_count": 43,
      "metadata": {
        "colab": {
          "base_uri": "https://localhost:8080/",
          "height": 206
        },
        "id": "rV4ExUFf2Vx3",
        "outputId": "e2cb89e1-7f58-4f45-dcd2-b885c523695d"
      },
      "outputs": [
        {
          "output_type": "execute_result",
          "data": {
            "text/html": [
              "\n",
              "  <div id=\"df-26dc4652-aa46-4d32-a3cb-8a13d0151cfa\">\n",
              "    <div class=\"colab-df-container\">\n",
              "      <div>\n",
              "<style scoped>\n",
              "    .dataframe tbody tr th:only-of-type {\n",
              "        vertical-align: middle;\n",
              "    }\n",
              "\n",
              "    .dataframe tbody tr th {\n",
              "        vertical-align: top;\n",
              "    }\n",
              "\n",
              "    .dataframe thead th {\n",
              "        text-align: right;\n",
              "    }\n",
              "</style>\n",
              "<table border=\"1\" class=\"dataframe\">\n",
              "  <thead>\n",
              "    <tr style=\"text-align: right;\">\n",
              "      <th></th>\n",
              "      <th>id</th>\n",
              "      <th>Gender</th>\n",
              "      <th>Age</th>\n",
              "      <th>Region_Code</th>\n",
              "      <th>Previously_Insured</th>\n",
              "      <th>Vehicle_Age</th>\n",
              "      <th>Vehicle_Damage</th>\n",
              "      <th>Annual_Premium</th>\n",
              "      <th>Policy_Sales_Channel</th>\n",
              "      <th>Vintage</th>\n",
              "      <th>Response</th>\n",
              "    </tr>\n",
              "  </thead>\n",
              "  <tbody>\n",
              "    <tr>\n",
              "      <th>0</th>\n",
              "      <td>1</td>\n",
              "      <td>0</td>\n",
              "      <td>44</td>\n",
              "      <td>28.0</td>\n",
              "      <td>0</td>\n",
              "      <td>2</td>\n",
              "      <td>0</td>\n",
              "      <td>40454.0</td>\n",
              "      <td>26.0</td>\n",
              "      <td>217</td>\n",
              "      <td>1</td>\n",
              "    </tr>\n",
              "    <tr>\n",
              "      <th>1</th>\n",
              "      <td>2</td>\n",
              "      <td>0</td>\n",
              "      <td>76</td>\n",
              "      <td>3.0</td>\n",
              "      <td>0</td>\n",
              "      <td>1</td>\n",
              "      <td>1</td>\n",
              "      <td>33536.0</td>\n",
              "      <td>26.0</td>\n",
              "      <td>183</td>\n",
              "      <td>0</td>\n",
              "    </tr>\n",
              "    <tr>\n",
              "      <th>2</th>\n",
              "      <td>3</td>\n",
              "      <td>0</td>\n",
              "      <td>47</td>\n",
              "      <td>28.0</td>\n",
              "      <td>0</td>\n",
              "      <td>2</td>\n",
              "      <td>0</td>\n",
              "      <td>38294.0</td>\n",
              "      <td>26.0</td>\n",
              "      <td>27</td>\n",
              "      <td>1</td>\n",
              "    </tr>\n",
              "    <tr>\n",
              "      <th>3</th>\n",
              "      <td>4</td>\n",
              "      <td>0</td>\n",
              "      <td>21</td>\n",
              "      <td>11.0</td>\n",
              "      <td>1</td>\n",
              "      <td>0</td>\n",
              "      <td>1</td>\n",
              "      <td>28619.0</td>\n",
              "      <td>152.0</td>\n",
              "      <td>203</td>\n",
              "      <td>0</td>\n",
              "    </tr>\n",
              "    <tr>\n",
              "      <th>4</th>\n",
              "      <td>5</td>\n",
              "      <td>1</td>\n",
              "      <td>29</td>\n",
              "      <td>41.0</td>\n",
              "      <td>1</td>\n",
              "      <td>0</td>\n",
              "      <td>1</td>\n",
              "      <td>27496.0</td>\n",
              "      <td>152.0</td>\n",
              "      <td>39</td>\n",
              "      <td>0</td>\n",
              "    </tr>\n",
              "  </tbody>\n",
              "</table>\n",
              "</div>\n",
              "      <button class=\"colab-df-convert\" onclick=\"convertToInteractive('df-26dc4652-aa46-4d32-a3cb-8a13d0151cfa')\"\n",
              "              title=\"Convert this dataframe to an interactive table.\"\n",
              "              style=\"display:none;\">\n",
              "        \n",
              "  <svg xmlns=\"http://www.w3.org/2000/svg\" height=\"24px\"viewBox=\"0 0 24 24\"\n",
              "       width=\"24px\">\n",
              "    <path d=\"M0 0h24v24H0V0z\" fill=\"none\"/>\n",
              "    <path d=\"M18.56 5.44l.94 2.06.94-2.06 2.06-.94-2.06-.94-.94-2.06-.94 2.06-2.06.94zm-11 1L8.5 8.5l.94-2.06 2.06-.94-2.06-.94L8.5 2.5l-.94 2.06-2.06.94zm10 10l.94 2.06.94-2.06 2.06-.94-2.06-.94-.94-2.06-.94 2.06-2.06.94z\"/><path d=\"M17.41 7.96l-1.37-1.37c-.4-.4-.92-.59-1.43-.59-.52 0-1.04.2-1.43.59L10.3 9.45l-7.72 7.72c-.78.78-.78 2.05 0 2.83L4 21.41c.39.39.9.59 1.41.59.51 0 1.02-.2 1.41-.59l7.78-7.78 2.81-2.81c.8-.78.8-2.07 0-2.86zM5.41 20L4 18.59l7.72-7.72 1.47 1.35L5.41 20z\"/>\n",
              "  </svg>\n",
              "      </button>\n",
              "      \n",
              "  <style>\n",
              "    .colab-df-container {\n",
              "      display:flex;\n",
              "      flex-wrap:wrap;\n",
              "      gap: 12px;\n",
              "    }\n",
              "\n",
              "    .colab-df-convert {\n",
              "      background-color: #E8F0FE;\n",
              "      border: none;\n",
              "      border-radius: 50%;\n",
              "      cursor: pointer;\n",
              "      display: none;\n",
              "      fill: #1967D2;\n",
              "      height: 32px;\n",
              "      padding: 0 0 0 0;\n",
              "      width: 32px;\n",
              "    }\n",
              "\n",
              "    .colab-df-convert:hover {\n",
              "      background-color: #E2EBFA;\n",
              "      box-shadow: 0px 1px 2px rgba(60, 64, 67, 0.3), 0px 1px 3px 1px rgba(60, 64, 67, 0.15);\n",
              "      fill: #174EA6;\n",
              "    }\n",
              "\n",
              "    [theme=dark] .colab-df-convert {\n",
              "      background-color: #3B4455;\n",
              "      fill: #D2E3FC;\n",
              "    }\n",
              "\n",
              "    [theme=dark] .colab-df-convert:hover {\n",
              "      background-color: #434B5C;\n",
              "      box-shadow: 0px 1px 3px 1px rgba(0, 0, 0, 0.15);\n",
              "      filter: drop-shadow(0px 1px 2px rgba(0, 0, 0, 0.3));\n",
              "      fill: #FFFFFF;\n",
              "    }\n",
              "  </style>\n",
              "\n",
              "      <script>\n",
              "        const buttonEl =\n",
              "          document.querySelector('#df-26dc4652-aa46-4d32-a3cb-8a13d0151cfa button.colab-df-convert');\n",
              "        buttonEl.style.display =\n",
              "          google.colab.kernel.accessAllowed ? 'block' : 'none';\n",
              "\n",
              "        async function convertToInteractive(key) {\n",
              "          const element = document.querySelector('#df-26dc4652-aa46-4d32-a3cb-8a13d0151cfa');\n",
              "          const dataTable =\n",
              "            await google.colab.kernel.invokeFunction('convertToInteractive',\n",
              "                                                     [key], {});\n",
              "          if (!dataTable) return;\n",
              "\n",
              "          const docLinkHtml = 'Like what you see? Visit the ' +\n",
              "            '<a target=\"_blank\" href=https://colab.research.google.com/notebooks/data_table.ipynb>data table notebook</a>'\n",
              "            + ' to learn more about interactive tables.';\n",
              "          element.innerHTML = '';\n",
              "          dataTable['output_type'] = 'display_data';\n",
              "          await google.colab.output.renderOutput(dataTable, element);\n",
              "          const docLink = document.createElement('div');\n",
              "          docLink.innerHTML = docLinkHtml;\n",
              "          element.appendChild(docLink);\n",
              "        }\n",
              "      </script>\n",
              "    </div>\n",
              "  </div>\n",
              "  "
            ],
            "text/plain": [
              "   id  Gender  Age  Region_Code  Previously_Insured  Vehicle_Age  \\\n",
              "0   1       0   44         28.0                   0            2   \n",
              "1   2       0   76          3.0                   0            1   \n",
              "2   3       0   47         28.0                   0            2   \n",
              "3   4       0   21         11.0                   1            0   \n",
              "4   5       1   29         41.0                   1            0   \n",
              "\n",
              "   Vehicle_Damage  Annual_Premium  Policy_Sales_Channel  Vintage  Response  \n",
              "0               0         40454.0                  26.0      217         1  \n",
              "1               1         33536.0                  26.0      183         0  \n",
              "2               0         38294.0                  26.0       27         1  \n",
              "3               1         28619.0                 152.0      203         0  \n",
              "4               1         27496.0                 152.0       39         0  "
            ]
          },
          "metadata": {},
          "execution_count": 43
        }
      ],
      "source": [
        "df.head()"
      ]
    },
    {
      "cell_type": "code",
      "execution_count": 44,
      "metadata": {
        "id": "1VoVmw6CdQ8G"
      },
      "outputs": [],
      "source": [
        "numerical_columns=['Age', 'Region_Code','Annual_Premium','Vintage']\n",
        "categorical_columns=['Gender','Driving_License','Previously_Insured','Vehicle_Age','Vehicle_Damage','Response']"
      ]
    },
    {
      "cell_type": "code",
      "execution_count": 45,
      "metadata": {
        "id": "fcffX1_llUkY"
      },
      "outputs": [],
      "source": [
        "def target_summary_with_num(dataframe, target, numerical_columns):\n",
        "    print(df.groupby(target).agg({numerical_columns: \"mean\"}), end=\"\\n\\n\\n\")"
      ]
    },
    {
      "cell_type": "code",
      "execution_count": 46,
      "metadata": {
        "colab": {
          "base_uri": "https://localhost:8080/"
        },
        "id": "-kctVPvBlMDX",
        "outputId": "a031148d-a694-4208-fd33-420f08ec93d7"
      },
      "outputs": [
        {
          "output_type": "stream",
          "name": "stdout",
          "text": [
            "                Age\n",
            "Response           \n",
            "0         38.178227\n",
            "1         43.435560\n",
            "\n",
            "\n",
            "          Region_Code\n",
            "Response             \n",
            "0           26.336544\n",
            "1           26.762963\n",
            "\n",
            "\n",
            "          Annual_Premium\n",
            "Response                \n",
            "0           30419.160276\n",
            "1           31604.092742\n",
            "\n",
            "\n",
            "             Vintage\n",
            "Response            \n",
            "0         154.380243\n",
            "1         154.112246\n",
            "\n",
            "\n"
          ]
        }
      ],
      "source": [
        "for col in numerical_columns:\n",
        "    target_summary_with_num(df, \"Response\", col)"
      ]
    },
    {
      "cell_type": "markdown",
      "metadata": {
        "id": "MWVW8Vcj7mmf"
      },
      "source": [
        "# Handling Outliers"
      ]
    },
    {
      "cell_type": "code",
      "execution_count": 47,
      "metadata": {
        "id": "heHEz6K4R4Ku"
      },
      "outputs": [],
      "source": [
        "def outlier_thresholds(dataframe, col_name, q1=0.05, q3=0.95):\n",
        "    quartile1 = dataframe[col_name].quantile(q1)\n",
        "    quartile3 = dataframe[col_name].quantile(q3)\n",
        "    interquantile_range = quartile3 - quartile1\n",
        "    up_limit = quartile3 + 3 * interquantile_range\n",
        "    low_limit = quartile1 - 3 * interquantile_range\n",
        "    return low_limit, up_limit\n",
        "\n",
        "\n",
        "def check_outlier(dataframe, col_name):\n",
        "    low_limit, up_limit = outlier_thresholds(dataframe, col_name)\n",
        "    if dataframe[(dataframe[col_name] > up_limit) | (dataframe[col_name] < low_limit)].any(axis=None):\n",
        "        return True\n",
        "    else:\n",
        "        return False"
      ]
    },
    {
      "cell_type": "code",
      "execution_count": 48,
      "metadata": {
        "colab": {
          "base_uri": "https://localhost:8080/"
        },
        "id": "8UN2d_6hblj_",
        "outputId": "8c41e3d5-3739-4d28-8376-07a0c62737dd"
      },
      "outputs": [
        {
          "output_type": "stream",
          "name": "stdout",
          "text": [
            "Age : False\n",
            "Region_Code : False\n",
            "Annual_Premium : True\n",
            "Vintage : False\n"
          ]
        }
      ],
      "source": [
        "for col in numerical_columns:\n",
        "    print(f\"{col} : {check_outlier(df,col)}\")"
      ]
    },
    {
      "cell_type": "code",
      "execution_count": 49,
      "metadata": {
        "id": "70Kuh1XdmNlF"
      },
      "outputs": [],
      "source": [
        "def grab_outliers(df, col_name, index=False):\n",
        "    low, up = outlier_thresholds(df, col_name)\n",
        "\n",
        "    if df[((df[col_name] < low) | (df[col_name] > up))].shape[0] > 10:\n",
        "        print(df[((df[col_name] < low) | (df[col_name] > up))].head())\n",
        "    else:\n",
        "        print(df[((df[col_name] < low) | (df[col_name] > up))])\n",
        "\n",
        "    if index:\n",
        "        outlier_index = df[((df[col_name] < low) | (df[col_name] > up))].index\n",
        "        return outlier_index"
      ]
    },
    {
      "cell_type": "code",
      "execution_count": 50,
      "metadata": {
        "colab": {
          "base_uri": "https://localhost:8080/"
        },
        "id": "YTHkHQgYmbNZ",
        "outputId": "72c52aa7-e464-4e56-bd40-216340d29d01"
      },
      "outputs": [
        {
          "output_type": "stream",
          "name": "stdout",
          "text": [
            "Empty DataFrame\n",
            "Columns: [id, Gender, Age, Region_Code, Previously_Insured, Vehicle_Age, Vehicle_Damage, Annual_Premium, Policy_Sales_Channel, Vintage, Response]\n",
            "Index: []\n",
            "Empty DataFrame\n",
            "Columns: [id, Gender, Age, Region_Code, Previously_Insured, Vehicle_Age, Vehicle_Damage, Annual_Premium, Policy_Sales_Channel, Vintage, Response]\n",
            "Index: []\n",
            "          id  Gender  Age  Region_Code  Previously_Insured  Vehicle_Age  \\\n",
            "1412    1413       1   41         28.0                   0            1   \n",
            "11319  11320       1   50         46.0                   1            1   \n",
            "13426  13427       1   47         28.0                   0            1   \n",
            "15024  15025       1   32         28.0                   0            1   \n",
            "25532  25533       0   50         28.0                   0            1   \n",
            "\n",
            "       Vehicle_Damage  Annual_Premium  Policy_Sales_Channel  Vintage  Response  \n",
            "1412                0        267698.0                 124.0       63         1  \n",
            "11319               1        508073.0                  26.0      192         0  \n",
            "13426               0        301762.0                 124.0       22         0  \n",
            "15024               0        315565.0                 155.0      150         0  \n",
            "25532               0        229935.0                 122.0       64         1  \n",
            "Empty DataFrame\n",
            "Columns: [id, Gender, Age, Region_Code, Previously_Insured, Vehicle_Age, Vehicle_Damage, Annual_Premium, Policy_Sales_Channel, Vintage, Response]\n",
            "Index: []\n"
          ]
        }
      ],
      "source": [
        "for col in numerical_columns:\n",
        "    col, grab_outliers(df, col)"
      ]
    },
    {
      "cell_type": "code",
      "execution_count": 51,
      "metadata": {
        "id": "xFbLds5fmtnb"
      },
      "outputs": [],
      "source": [
        "def replace_with_thresholds(df, variable):\n",
        "    low_limit, up_limit = outlier_thresholds(df, variable)\n",
        "    df.loc[(df[variable] < low_limit), variable] = low_limit\n",
        "    df.loc[(df[variable] > up_limit), variable] = up_limit"
      ]
    },
    {
      "cell_type": "code",
      "execution_count": 52,
      "metadata": {
        "id": "SxeVSaYomzoP"
      },
      "outputs": [],
      "source": [
        "for col in numerical_columns:\n",
        "    replace_with_thresholds(df, col)"
      ]
    },
    {
      "cell_type": "code",
      "execution_count": 53,
      "metadata": {
        "colab": {
          "base_uri": "https://localhost:8080/"
        },
        "id": "cp5Byb9xm1eH",
        "outputId": "4cfcee38-ccf1-4538-c13e-9a5f7f2b4930"
      },
      "outputs": [
        {
          "output_type": "stream",
          "name": "stdout",
          "text": [
            "id : False\n",
            "Gender : False\n",
            "Age : False\n",
            "Region_Code : False\n",
            "Previously_Insured : False\n",
            "Vehicle_Age : False\n",
            "Vehicle_Damage : False\n",
            "Annual_Premium : False\n",
            "Policy_Sales_Channel : False\n",
            "Vintage : False\n",
            "Response : False\n"
          ]
        }
      ],
      "source": [
        "# CHECK OUTLIERS AGAIN\n",
        "for col in df:\n",
        "    print(f\"{col} : {check_outlier(df,col)}\")"
      ]
    },
    {
      "cell_type": "code",
      "execution_count": 54,
      "metadata": {
        "colab": {
          "base_uri": "https://localhost:8080/",
          "height": 363
        },
        "id": "YL66fT7wm35B",
        "outputId": "bcac048a-f49b-457c-c0ee-2caf639df850"
      },
      "outputs": [
        {
          "output_type": "execute_result",
          "data": {
            "text/html": [
              "\n",
              "  <div id=\"df-4984be9b-6bf2-438d-b972-d014c89889a9\">\n",
              "    <div class=\"colab-df-container\">\n",
              "      <div>\n",
              "<style scoped>\n",
              "    .dataframe tbody tr th:only-of-type {\n",
              "        vertical-align: middle;\n",
              "    }\n",
              "\n",
              "    .dataframe tbody tr th {\n",
              "        vertical-align: top;\n",
              "    }\n",
              "\n",
              "    .dataframe thead th {\n",
              "        text-align: right;\n",
              "    }\n",
              "</style>\n",
              "<table border=\"1\" class=\"dataframe\">\n",
              "  <thead>\n",
              "    <tr style=\"text-align: right;\">\n",
              "      <th></th>\n",
              "      <th>0.00</th>\n",
              "      <th>0.05</th>\n",
              "      <th>0.50</th>\n",
              "      <th>0.95</th>\n",
              "      <th>0.99</th>\n",
              "      <th>1.00</th>\n",
              "    </tr>\n",
              "  </thead>\n",
              "  <tbody>\n",
              "    <tr>\n",
              "      <th>Gender</th>\n",
              "      <td>0.0</td>\n",
              "      <td>0.0</td>\n",
              "      <td>0.0</td>\n",
              "      <td>1.0</td>\n",
              "      <td>1.0</td>\n",
              "      <td>1.0</td>\n",
              "    </tr>\n",
              "    <tr>\n",
              "      <th>Age</th>\n",
              "      <td>20.0</td>\n",
              "      <td>21.0</td>\n",
              "      <td>36.0</td>\n",
              "      <td>69.0</td>\n",
              "      <td>77.0</td>\n",
              "      <td>85.0</td>\n",
              "    </tr>\n",
              "    <tr>\n",
              "      <th>Region_Code</th>\n",
              "      <td>0.0</td>\n",
              "      <td>5.0</td>\n",
              "      <td>28.0</td>\n",
              "      <td>47.0</td>\n",
              "      <td>50.0</td>\n",
              "      <td>52.0</td>\n",
              "    </tr>\n",
              "    <tr>\n",
              "      <th>Previously_Insured</th>\n",
              "      <td>0.0</td>\n",
              "      <td>0.0</td>\n",
              "      <td>0.0</td>\n",
              "      <td>1.0</td>\n",
              "      <td>1.0</td>\n",
              "      <td>1.0</td>\n",
              "    </tr>\n",
              "    <tr>\n",
              "      <th>Vehicle_Age</th>\n",
              "      <td>0.0</td>\n",
              "      <td>0.0</td>\n",
              "      <td>1.0</td>\n",
              "      <td>1.0</td>\n",
              "      <td>2.0</td>\n",
              "      <td>2.0</td>\n",
              "    </tr>\n",
              "    <tr>\n",
              "      <th>Vehicle_Damage</th>\n",
              "      <td>0.0</td>\n",
              "      <td>0.0</td>\n",
              "      <td>0.0</td>\n",
              "      <td>1.0</td>\n",
              "      <td>1.0</td>\n",
              "      <td>1.0</td>\n",
              "    </tr>\n",
              "    <tr>\n",
              "      <th>Annual_Premium</th>\n",
              "      <td>2630.0</td>\n",
              "      <td>2630.0</td>\n",
              "      <td>31669.0</td>\n",
              "      <td>55176.0</td>\n",
              "      <td>72963.0</td>\n",
              "      <td>212814.0</td>\n",
              "    </tr>\n",
              "    <tr>\n",
              "      <th>Policy_Sales_Channel</th>\n",
              "      <td>1.0</td>\n",
              "      <td>26.0</td>\n",
              "      <td>133.0</td>\n",
              "      <td>160.0</td>\n",
              "      <td>160.0</td>\n",
              "      <td>163.0</td>\n",
              "    </tr>\n",
              "    <tr>\n",
              "      <th>Vintage</th>\n",
              "      <td>10.0</td>\n",
              "      <td>24.0</td>\n",
              "      <td>154.0</td>\n",
              "      <td>285.0</td>\n",
              "      <td>297.0</td>\n",
              "      <td>299.0</td>\n",
              "    </tr>\n",
              "    <tr>\n",
              "      <th>Response</th>\n",
              "      <td>0.0</td>\n",
              "      <td>0.0</td>\n",
              "      <td>0.0</td>\n",
              "      <td>1.0</td>\n",
              "      <td>1.0</td>\n",
              "      <td>1.0</td>\n",
              "    </tr>\n",
              "  </tbody>\n",
              "</table>\n",
              "</div>\n",
              "      <button class=\"colab-df-convert\" onclick=\"convertToInteractive('df-4984be9b-6bf2-438d-b972-d014c89889a9')\"\n",
              "              title=\"Convert this dataframe to an interactive table.\"\n",
              "              style=\"display:none;\">\n",
              "        \n",
              "  <svg xmlns=\"http://www.w3.org/2000/svg\" height=\"24px\"viewBox=\"0 0 24 24\"\n",
              "       width=\"24px\">\n",
              "    <path d=\"M0 0h24v24H0V0z\" fill=\"none\"/>\n",
              "    <path d=\"M18.56 5.44l.94 2.06.94-2.06 2.06-.94-2.06-.94-.94-2.06-.94 2.06-2.06.94zm-11 1L8.5 8.5l.94-2.06 2.06-.94-2.06-.94L8.5 2.5l-.94 2.06-2.06.94zm10 10l.94 2.06.94-2.06 2.06-.94-2.06-.94-.94-2.06-.94 2.06-2.06.94z\"/><path d=\"M17.41 7.96l-1.37-1.37c-.4-.4-.92-.59-1.43-.59-.52 0-1.04.2-1.43.59L10.3 9.45l-7.72 7.72c-.78.78-.78 2.05 0 2.83L4 21.41c.39.39.9.59 1.41.59.51 0 1.02-.2 1.41-.59l7.78-7.78 2.81-2.81c.8-.78.8-2.07 0-2.86zM5.41 20L4 18.59l7.72-7.72 1.47 1.35L5.41 20z\"/>\n",
              "  </svg>\n",
              "      </button>\n",
              "      \n",
              "  <style>\n",
              "    .colab-df-container {\n",
              "      display:flex;\n",
              "      flex-wrap:wrap;\n",
              "      gap: 12px;\n",
              "    }\n",
              "\n",
              "    .colab-df-convert {\n",
              "      background-color: #E8F0FE;\n",
              "      border: none;\n",
              "      border-radius: 50%;\n",
              "      cursor: pointer;\n",
              "      display: none;\n",
              "      fill: #1967D2;\n",
              "      height: 32px;\n",
              "      padding: 0 0 0 0;\n",
              "      width: 32px;\n",
              "    }\n",
              "\n",
              "    .colab-df-convert:hover {\n",
              "      background-color: #E2EBFA;\n",
              "      box-shadow: 0px 1px 2px rgba(60, 64, 67, 0.3), 0px 1px 3px 1px rgba(60, 64, 67, 0.15);\n",
              "      fill: #174EA6;\n",
              "    }\n",
              "\n",
              "    [theme=dark] .colab-df-convert {\n",
              "      background-color: #3B4455;\n",
              "      fill: #D2E3FC;\n",
              "    }\n",
              "\n",
              "    [theme=dark] .colab-df-convert:hover {\n",
              "      background-color: #434B5C;\n",
              "      box-shadow: 0px 1px 3px 1px rgba(0, 0, 0, 0.15);\n",
              "      filter: drop-shadow(0px 1px 2px rgba(0, 0, 0, 0.3));\n",
              "      fill: #FFFFFF;\n",
              "    }\n",
              "  </style>\n",
              "\n",
              "      <script>\n",
              "        const buttonEl =\n",
              "          document.querySelector('#df-4984be9b-6bf2-438d-b972-d014c89889a9 button.colab-df-convert');\n",
              "        buttonEl.style.display =\n",
              "          google.colab.kernel.accessAllowed ? 'block' : 'none';\n",
              "\n",
              "        async function convertToInteractive(key) {\n",
              "          const element = document.querySelector('#df-4984be9b-6bf2-438d-b972-d014c89889a9');\n",
              "          const dataTable =\n",
              "            await google.colab.kernel.invokeFunction('convertToInteractive',\n",
              "                                                     [key], {});\n",
              "          if (!dataTable) return;\n",
              "\n",
              "          const docLinkHtml = 'Like what you see? Visit the ' +\n",
              "            '<a target=\"_blank\" href=https://colab.research.google.com/notebooks/data_table.ipynb>data table notebook</a>'\n",
              "            + ' to learn more about interactive tables.';\n",
              "          element.innerHTML = '';\n",
              "          dataTable['output_type'] = 'display_data';\n",
              "          await google.colab.output.renderOutput(dataTable, element);\n",
              "          const docLink = document.createElement('div');\n",
              "          docLink.innerHTML = docLinkHtml;\n",
              "          element.appendChild(docLink);\n",
              "        }\n",
              "      </script>\n",
              "    </div>\n",
              "  </div>\n",
              "  "
            ],
            "text/plain": [
              "                        0.00    0.05     0.50     0.95     0.99      1.00\n",
              "Gender                   0.0     0.0      0.0      1.0      1.0       1.0\n",
              "Age                     20.0    21.0     36.0     69.0     77.0      85.0\n",
              "Region_Code              0.0     5.0     28.0     47.0     50.0      52.0\n",
              "Previously_Insured       0.0     0.0      0.0      1.0      1.0       1.0\n",
              "Vehicle_Age              0.0     0.0      1.0      1.0      2.0       2.0\n",
              "Vehicle_Damage           0.0     0.0      0.0      1.0      1.0       1.0\n",
              "Annual_Premium        2630.0  2630.0  31669.0  55176.0  72963.0  212814.0\n",
              "Policy_Sales_Channel     1.0    26.0    133.0    160.0    160.0     163.0\n",
              "Vintage                 10.0    24.0    154.0    285.0    297.0     299.0\n",
              "Response                 0.0     0.0      0.0      1.0      1.0       1.0"
            ]
          },
          "metadata": {},
          "execution_count": 54
        }
      ],
      "source": [
        "df.drop(\"id\",axis =1).quantile([0, 0.05, 0.50, 0.95, 0.99, 1]).T"
      ]
    },
    {
      "cell_type": "markdown",
      "metadata": {
        "id": "cLaFpRdI7xGP"
      },
      "source": [
        "# Check the Multicollinearity and drop highly Correleted features\n"
      ]
    },
    {
      "cell_type": "markdown",
      "metadata": {
        "id": "81nFah5k8T-v"
      },
      "source": [
        "#1. Correletion matrix by using Heatmap"
      ]
    },
    {
      "cell_type": "code",
      "execution_count": 55,
      "metadata": {
        "colab": {
          "base_uri": "https://localhost:8080/",
          "height": 600
        },
        "id": "Zyv-XrkRnH2q",
        "outputId": "0ec7bdc7-3154-46a9-a6ce-fb9a94d7ec76"
      },
      "outputs": [
        {
          "output_type": "execute_result",
          "data": {
            "text/plain": [
              "<matplotlib.axes._subplots.AxesSubplot at 0x7f952d804f10>"
            ]
          },
          "metadata": {},
          "execution_count": 55
        },
        {
          "output_type": "display_data",
          "data": {
            "image/png": "[encoded data removed]",
            "text/plain": [
              "<Figure size 1080x576 with 2 Axes>"
            ]
          },
          "metadata": {
            "needs_background": "light"
          }
        }
      ],
      "source": [
        "plt.figure(figsize=(15,8))\n",
        "correlation = df.corr()\n",
        "sns.heatmap(abs(correlation), annot=True, cmap='coolwarm')"
      ]
    },
    {
      "cell_type": "code",
      "execution_count": 56,
      "metadata": {
        "id": "-4tgZ2z8nRZn"
      },
      "outputs": [],
      "source": [
        "# Removing Multicollinearity\n",
        "df = df.drop(['Vehicle_Damage','Policy_Sales_Channel','Vehicle_Age'], axis=1)"
      ]
    },
    {
      "cell_type": "code",
      "execution_count": 57,
      "metadata": {
        "colab": {
          "base_uri": "https://localhost:8080/",
          "height": 587
        },
        "id": "CHrTE_jMnwbV",
        "outputId": "f2347a73-55af-4518-81f9-f8055ceedcd5"
      },
      "outputs": [
        {
          "output_type": "execute_result",
          "data": {
            "text/plain": [
              "<matplotlib.axes._subplots.AxesSubplot at 0x7f952d656f90>"
            ]
          },
          "metadata": {},
          "execution_count": 57
        },
        {
          "output_type": "display_data",
          "data": {
            "image/png": "[encoded data removed]",
            "text/plain": [
              "<Figure size 1080x576 with 2 Axes>"
            ]
          },
          "metadata": {
            "needs_background": "light"
          }
        }
      ],
      "source": [
        "plt.figure(figsize=(15,8))\n",
        "correlation = df.corr()\n",
        "sns.heatmap(abs(correlation), annot=True, cmap='coolwarm')"
      ]
    },
    {
      "cell_type": "markdown",
      "metadata": {
        "id": "hxqgQGaO8hBN"
      },
      "source": [
        "# 2.Check Multicollinearity by using VIF"
      ]
    },
    {
      "cell_type": "code",
      "execution_count": 58,
      "metadata": {
        "id": "NbSvewDKn1hJ"
      },
      "outputs": [],
      "source": [
        "# By using vif remove Multicollinearity\n",
        "from statsmodels.stats.outliers_influence import variance_inflation_factor\n",
        "def calc_vif(X):\n",
        "\n",
        "    # Calculating VIF\n",
        "    vif = pd.DataFrame()\n",
        "    vif[\"variables\"] = X.columns\n",
        "    vif[\"VIF\"] = [variance_inflation_factor(X.values, i) for i in range(X.shape[1])]\n",
        "\n",
        "    return(vif)"
      ]
    },
    {
      "cell_type": "code",
      "execution_count": 59,
      "metadata": {
        "colab": {
          "base_uri": "https://localhost:8080/",
          "height": 269
        },
        "id": "0mbKUMLBn45o",
        "outputId": "7d337e9d-c832-45f3-be73-e4810e6aa880"
      },
      "outputs": [
        {
          "output_type": "execute_result",
          "data": {
            "text/html": [
              "\n",
              "  <div id=\"df-caa5bb7c-887d-4273-8f41-e920523f6c43\">\n",
              "    <div class=\"colab-df-container\">\n",
              "      <div>\n",
              "<style scoped>\n",
              "    .dataframe tbody tr th:only-of-type {\n",
              "        vertical-align: middle;\n",
              "    }\n",
              "\n",
              "    .dataframe tbody tr th {\n",
              "        vertical-align: top;\n",
              "    }\n",
              "\n",
              "    .dataframe thead th {\n",
              "        text-align: right;\n",
              "    }\n",
              "</style>\n",
              "<table border=\"1\" class=\"dataframe\">\n",
              "  <thead>\n",
              "    <tr style=\"text-align: right;\">\n",
              "      <th></th>\n",
              "      <th>variables</th>\n",
              "      <th>VIF</th>\n",
              "    </tr>\n",
              "  </thead>\n",
              "  <tbody>\n",
              "    <tr>\n",
              "      <th>0</th>\n",
              "      <td>id</td>\n",
              "      <td>3.506606</td>\n",
              "    </tr>\n",
              "    <tr>\n",
              "      <th>1</th>\n",
              "      <td>Gender</td>\n",
              "      <td>1.779693</td>\n",
              "    </tr>\n",
              "    <tr>\n",
              "      <th>2</th>\n",
              "      <td>Age</td>\n",
              "      <td>5.431568</td>\n",
              "    </tr>\n",
              "    <tr>\n",
              "      <th>3</th>\n",
              "      <td>Region_Code</td>\n",
              "      <td>4.213812</td>\n",
              "    </tr>\n",
              "    <tr>\n",
              "      <th>4</th>\n",
              "      <td>Previously_Insured</td>\n",
              "      <td>1.786266</td>\n",
              "    </tr>\n",
              "    <tr>\n",
              "      <th>5</th>\n",
              "      <td>Annual_Premium</td>\n",
              "      <td>3.852985</td>\n",
              "    </tr>\n",
              "    <tr>\n",
              "      <th>6</th>\n",
              "      <td>Vintage</td>\n",
              "      <td>3.777094</td>\n",
              "    </tr>\n",
              "  </tbody>\n",
              "</table>\n",
              "</div>\n",
              "      <button class=\"colab-df-convert\" onclick=\"convertToInteractive('df-caa5bb7c-887d-4273-8f41-e920523f6c43')\"\n",
              "              title=\"Convert this dataframe to an interactive table.\"\n",
              "              style=\"display:none;\">\n",
              "        \n",
              "  <svg xmlns=\"http://www.w3.org/2000/svg\" height=\"24px\"viewBox=\"0 0 24 24\"\n",
              "       width=\"24px\">\n",
              "    <path d=\"M0 0h24v24H0V0z\" fill=\"none\"/>\n",
              "    <path d=\"M18.56 5.44l.94 2.06.94-2.06 2.06-.94-2.06-.94-.94-2.06-.94 2.06-2.06.94zm-11 1L8.5 8.5l.94-2.06 2.06-.94-2.06-.94L8.5 2.5l-.94 2.06-2.06.94zm10 10l.94 2.06.94-2.06 2.06-.94-2.06-.94-.94-2.06-.94 2.06-2.06.94z\"/><path d=\"M17.41 7.96l-1.37-1.37c-.4-.4-.92-.59-1.43-.59-.52 0-1.04.2-1.43.59L10.3 9.45l-7.72 7.72c-.78.78-.78 2.05 0 2.83L4 21.41c.39.39.9.59 1.41.59.51 0 1.02-.2 1.41-.59l7.78-7.78 2.81-2.81c.8-.78.8-2.07 0-2.86zM5.41 20L4 18.59l7.72-7.72 1.47 1.35L5.41 20z\"/>\n",
              "  </svg>\n",
              "      </button>\n",
              "      \n",
              "  <style>\n",
              "    .colab-df-container {\n",
              "      display:flex;\n",
              "      flex-wrap:wrap;\n",
              "      gap: 12px;\n",
              "    }\n",
              "\n",
              "    .colab-df-convert {\n",
              "      background-color: #E8F0FE;\n",
              "      border: none;\n",
              "      border-radius: 50%;\n",
              "      cursor: pointer;\n",
              "      display: none;\n",
              "      fill: #1967D2;\n",
              "      height: 32px;\n",
              "      padding: 0 0 0 0;\n",
              "      width: 32px;\n",
              "    }\n",
              "\n",
              "    .colab-df-convert:hover {\n",
              "      background-color: #E2EBFA;\n",
              "      box-shadow: 0px 1px 2px rgba(60, 64, 67, 0.3), 0px 1px 3px 1px rgba(60, 64, 67, 0.15);\n",
              "      fill: #174EA6;\n",
              "    }\n",
              "\n",
              "    [theme=dark] .colab-df-convert {\n",
              "      background-color: #3B4455;\n",
              "      fill: #D2E3FC;\n",
              "    }\n",
              "\n",
              "    [theme=dark] .colab-df-convert:hover {\n",
              "      background-color: #434B5C;\n",
              "      box-shadow: 0px 1px 3px 1px rgba(0, 0, 0, 0.15);\n",
              "      filter: drop-shadow(0px 1px 2px rgba(0, 0, 0, 0.3));\n",
              "      fill: #FFFFFF;\n",
              "    }\n",
              "  </style>\n",
              "\n",
              "      <script>\n",
              "        const buttonEl =\n",
              "          document.querySelector('#df-caa5bb7c-887d-4273-8f41-e920523f6c43 button.colab-df-convert');\n",
              "        buttonEl.style.display =\n",
              "          google.colab.kernel.accessAllowed ? 'block' : 'none';\n",
              "\n",
              "        async function convertToInteractive(key) {\n",
              "          const element = document.querySelector('#df-caa5bb7c-887d-4273-8f41-e920523f6c43');\n",
              "          const dataTable =\n",
              "            await google.colab.kernel.invokeFunction('convertToInteractive',\n",
              "                                                     [key], {});\n",
              "          if (!dataTable) return;\n",
              "\n",
              "          const docLinkHtml = 'Like what you see? Visit the ' +\n",
              "            '<a target=\"_blank\" href=https://colab.research.google.com/notebooks/data_table.ipynb>data table notebook</a>'\n",
              "            + ' to learn more about interactive tables.';\n",
              "          element.innerHTML = '';\n",
              "          dataTable['output_type'] = 'display_data';\n",
              "          await google.colab.output.renderOutput(dataTable, element);\n",
              "          const docLink = document.createElement('div');\n",
              "          docLink.innerHTML = docLinkHtml;\n",
              "          element.appendChild(docLink);\n",
              "        }\n",
              "      </script>\n",
              "    </div>\n",
              "  </div>\n",
              "  "
            ],
            "text/plain": [
              "            variables       VIF\n",
              "0                  id  3.506606\n",
              "1              Gender  1.779693\n",
              "2                 Age  5.431568\n",
              "3         Region_Code  4.213812\n",
              "4  Previously_Insured  1.786266\n",
              "5      Annual_Premium  3.852985\n",
              "6             Vintage  3.777094"
            ]
          },
          "metadata": {},
          "execution_count": 59
        }
      ],
      "source": [
        "calc_vif(df[[i for i in df.describe().columns if i not in ['Response']]])"
      ]
    },
    {
      "cell_type": "markdown",
      "metadata": {
        "id": "SUqrDx5052j7"
      },
      "source": [
        "#Fearure Scaling"
      ]
    },
    {
      "cell_type": "code",
      "execution_count": 60,
      "metadata": {
        "colab": {
          "base_uri": "https://localhost:8080/"
        },
        "id": "nYeClF0eZRqj",
        "outputId": "e46bfa6e-02d2-4997-b74b-b448a4acc6de"
      },
      "outputs": [
        {
          "output_type": "execute_result",
          "data": {
            "text/plain": [
              "Index(['id', 'Gender', 'Age', 'Region_Code', 'Previously_Insured',\n",
              "       'Annual_Premium', 'Vintage', 'Response'],\n",
              "      dtype='object')"
            ]
          },
          "metadata": {},
          "execution_count": 60
        }
      ],
      "source": [
        "df.columns"
      ]
    },
    {
      "cell_type": "code",
      "execution_count": 61,
      "metadata": {
        "id": "43Wbj1ydY_fK"
      },
      "outputs": [],
      "source": [
        "df[\"premium_age_ratio\"] = df[\"Annual_Premium\"]/df[\"Age\"]"
      ]
    },
    {
      "cell_type": "code",
      "execution_count": 62,
      "metadata": {
        "id": "R3uhvsPZt47R"
      },
      "outputs": [],
      "source": [
        "df[\"premium_vintage_ratio\"] = df[\"Annual_Premium\"]/df[\"Vintage\"]"
      ]
    },
    {
      "cell_type": "code",
      "execution_count": 63,
      "metadata": {
        "colab": {
          "base_uri": "https://localhost:8080/",
          "height": 424
        },
        "id": "LVlCmmfat_ra",
        "outputId": "809a0fbe-f92f-40da-afc2-e13f462550f3"
      },
      "outputs": [
        {
          "output_type": "execute_result",
          "data": {
            "text/html": [
              "\n",
              "  <div id=\"df-fb4c0a4a-8955-47d3-a9f8-cc1908dccb68\">\n",
              "    <div class=\"colab-df-container\">\n",
              "      <div>\n",
              "<style scoped>\n",
              "    .dataframe tbody tr th:only-of-type {\n",
              "        vertical-align: middle;\n",
              "    }\n",
              "\n",
              "    .dataframe tbody tr th {\n",
              "        vertical-align: top;\n",
              "    }\n",
              "\n",
              "    .dataframe thead th {\n",
              "        text-align: right;\n",
              "    }\n",
              "</style>\n",
              "<table border=\"1\" class=\"dataframe\">\n",
              "  <thead>\n",
              "    <tr style=\"text-align: right;\">\n",
              "      <th></th>\n",
              "      <th>id</th>\n",
              "      <th>Gender</th>\n",
              "      <th>Age</th>\n",
              "      <th>Region_Code</th>\n",
              "      <th>Previously_Insured</th>\n",
              "      <th>Annual_Premium</th>\n",
              "      <th>Vintage</th>\n",
              "      <th>Response</th>\n",
              "      <th>premium_age_ratio</th>\n",
              "      <th>premium_vintage_ratio</th>\n",
              "    </tr>\n",
              "  </thead>\n",
              "  <tbody>\n",
              "    <tr>\n",
              "      <th>0</th>\n",
              "      <td>1</td>\n",
              "      <td>0</td>\n",
              "      <td>44</td>\n",
              "      <td>28.0</td>\n",
              "      <td>0</td>\n",
              "      <td>40454.0</td>\n",
              "      <td>217</td>\n",
              "      <td>1</td>\n",
              "      <td>919.409091</td>\n",
              "      <td>186.423963</td>\n",
              "    </tr>\n",
              "    <tr>\n",
              "      <th>1</th>\n",
              "      <td>2</td>\n",
              "      <td>0</td>\n",
              "      <td>76</td>\n",
              "      <td>3.0</td>\n",
              "      <td>0</td>\n",
              "      <td>33536.0</td>\n",
              "      <td>183</td>\n",
              "      <td>0</td>\n",
              "      <td>441.263158</td>\n",
              "      <td>183.256831</td>\n",
              "    </tr>\n",
              "    <tr>\n",
              "      <th>2</th>\n",
              "      <td>3</td>\n",
              "      <td>0</td>\n",
              "      <td>47</td>\n",
              "      <td>28.0</td>\n",
              "      <td>0</td>\n",
              "      <td>38294.0</td>\n",
              "      <td>27</td>\n",
              "      <td>1</td>\n",
              "      <td>814.765957</td>\n",
              "      <td>1418.296296</td>\n",
              "    </tr>\n",
              "    <tr>\n",
              "      <th>3</th>\n",
              "      <td>4</td>\n",
              "      <td>0</td>\n",
              "      <td>21</td>\n",
              "      <td>11.0</td>\n",
              "      <td>1</td>\n",
              "      <td>28619.0</td>\n",
              "      <td>203</td>\n",
              "      <td>0</td>\n",
              "      <td>1362.809524</td>\n",
              "      <td>140.980296</td>\n",
              "    </tr>\n",
              "    <tr>\n",
              "      <th>4</th>\n",
              "      <td>5</td>\n",
              "      <td>1</td>\n",
              "      <td>29</td>\n",
              "      <td>41.0</td>\n",
              "      <td>1</td>\n",
              "      <td>27496.0</td>\n",
              "      <td>39</td>\n",
              "      <td>0</td>\n",
              "      <td>948.137931</td>\n",
              "      <td>705.025641</td>\n",
              "    </tr>\n",
              "    <tr>\n",
              "      <th>...</th>\n",
              "      <td>...</td>\n",
              "      <td>...</td>\n",
              "      <td>...</td>\n",
              "      <td>...</td>\n",
              "      <td>...</td>\n",
              "      <td>...</td>\n",
              "      <td>...</td>\n",
              "      <td>...</td>\n",
              "      <td>...</td>\n",
              "      <td>...</td>\n",
              "    </tr>\n",
              "    <tr>\n",
              "      <th>381104</th>\n",
              "      <td>381105</td>\n",
              "      <td>0</td>\n",
              "      <td>74</td>\n",
              "      <td>26.0</td>\n",
              "      <td>1</td>\n",
              "      <td>30170.0</td>\n",
              "      <td>88</td>\n",
              "      <td>0</td>\n",
              "      <td>407.702703</td>\n",
              "      <td>342.840909</td>\n",
              "    </tr>\n",
              "    <tr>\n",
              "      <th>381105</th>\n",
              "      <td>381106</td>\n",
              "      <td>0</td>\n",
              "      <td>30</td>\n",
              "      <td>37.0</td>\n",
              "      <td>1</td>\n",
              "      <td>40016.0</td>\n",
              "      <td>131</td>\n",
              "      <td>0</td>\n",
              "      <td>1333.866667</td>\n",
              "      <td>305.465649</td>\n",
              "    </tr>\n",
              "    <tr>\n",
              "      <th>381106</th>\n",
              "      <td>381107</td>\n",
              "      <td>0</td>\n",
              "      <td>21</td>\n",
              "      <td>30.0</td>\n",
              "      <td>1</td>\n",
              "      <td>35118.0</td>\n",
              "      <td>161</td>\n",
              "      <td>0</td>\n",
              "      <td>1672.285714</td>\n",
              "      <td>218.124224</td>\n",
              "    </tr>\n",
              "    <tr>\n",
              "      <th>381107</th>\n",
              "      <td>381108</td>\n",
              "      <td>1</td>\n",
              "      <td>68</td>\n",
              "      <td>14.0</td>\n",
              "      <td>0</td>\n",
              "      <td>44617.0</td>\n",
              "      <td>74</td>\n",
              "      <td>0</td>\n",
              "      <td>656.132353</td>\n",
              "      <td>602.932432</td>\n",
              "    </tr>\n",
              "    <tr>\n",
              "      <th>381108</th>\n",
              "      <td>381109</td>\n",
              "      <td>0</td>\n",
              "      <td>46</td>\n",
              "      <td>29.0</td>\n",
              "      <td>0</td>\n",
              "      <td>41777.0</td>\n",
              "      <td>237</td>\n",
              "      <td>0</td>\n",
              "      <td>908.195652</td>\n",
              "      <td>176.274262</td>\n",
              "    </tr>\n",
              "  </tbody>\n",
              "</table>\n",
              "<p>381109 rows × 10 columns</p>\n",
              "</div>\n",
              "      <button class=\"colab-df-convert\" onclick=\"convertToInteractive('df-fb4c0a4a-8955-47d3-a9f8-cc1908dccb68')\"\n",
              "              title=\"Convert this dataframe to an interactive table.\"\n",
              "              style=\"display:none;\">\n",
              "        \n",
              "  <svg xmlns=\"http://www.w3.org/2000/svg\" height=\"24px\"viewBox=\"0 0 24 24\"\n",
              "       width=\"24px\">\n",
              "    <path d=\"M0 0h24v24H0V0z\" fill=\"none\"/>\n",
              "    <path d=\"M18.56 5.44l.94 2.06.94-2.06 2.06-.94-2.06-.94-.94-2.06-.94 2.06-2.06.94zm-11 1L8.5 8.5l.94-2.06 2.06-.94-2.06-.94L8.5 2.5l-.94 2.06-2.06.94zm10 10l.94 2.06.94-2.06 2.06-.94-2.06-.94-.94-2.06-.94 2.06-2.06.94z\"/><path d=\"M17.41 7.96l-1.37-1.37c-.4-.4-.92-.59-1.43-.59-.52 0-1.04.2-1.43.59L10.3 9.45l-7.72 7.72c-.78.78-.78 2.05 0 2.83L4 21.41c.39.39.9.59 1.41.59.51 0 1.02-.2 1.41-.59l7.78-7.78 2.81-2.81c.8-.78.8-2.07 0-2.86zM5.41 20L4 18.59l7.72-7.72 1.47 1.35L5.41 20z\"/>\n",
              "  </svg>\n",
              "      </button>\n",
              "      \n",
              "  <style>\n",
              "    .colab-df-container {\n",
              "      display:flex;\n",
              "      flex-wrap:wrap;\n",
              "      gap: 12px;\n",
              "    }\n",
              "\n",
              "    .colab-df-convert {\n",
              "      background-color: #E8F0FE;\n",
              "      border: none;\n",
              "      border-radius: 50%;\n",
              "      cursor: pointer;\n",
              "      display: none;\n",
              "      fill: #1967D2;\n",
              "      height: 32px;\n",
              "      padding: 0 0 0 0;\n",
              "      width: 32px;\n",
              "    }\n",
              "\n",
              "    .colab-df-convert:hover {\n",
              "      background-color: #E2EBFA;\n",
              "      box-shadow: 0px 1px 2px rgba(60, 64, 67, 0.3), 0px 1px 3px 1px rgba(60, 64, 67, 0.15);\n",
              "      fill: #174EA6;\n",
              "    }\n",
              "\n",
              "    [theme=dark] .colab-df-convert {\n",
              "      background-color: #3B4455;\n",
              "      fill: #D2E3FC;\n",
              "    }\n",
              "\n",
              "    [theme=dark] .colab-df-convert:hover {\n",
              "      background-color: #434B5C;\n",
              "      box-shadow: 0px 1px 3px 1px rgba(0, 0, 0, 0.15);\n",
              "      filter: drop-shadow(0px 1px 2px rgba(0, 0, 0, 0.3));\n",
              "      fill: #FFFFFF;\n",
              "    }\n",
              "  </style>\n",
              "\n",
              "      <script>\n",
              "        const buttonEl =\n",
              "          document.querySelector('#df-fb4c0a4a-8955-47d3-a9f8-cc1908dccb68 button.colab-df-convert');\n",
              "        buttonEl.style.display =\n",
              "          google.colab.kernel.accessAllowed ? 'block' : 'none';\n",
              "\n",
              "        async function convertToInteractive(key) {\n",
              "          const element = document.querySelector('#df-fb4c0a4a-8955-47d3-a9f8-cc1908dccb68');\n",
              "          const dataTable =\n",
              "            await google.colab.kernel.invokeFunction('convertToInteractive',\n",
              "                                                     [key], {});\n",
              "          if (!dataTable) return;\n",
              "\n",
              "          const docLinkHtml = 'Like what you see? Visit the ' +\n",
              "            '<a target=\"_blank\" href=https://colab.research.google.com/notebooks/data_table.ipynb>data table notebook</a>'\n",
              "            + ' to learn more about interactive tables.';\n",
              "          element.innerHTML = '';\n",
              "          dataTable['output_type'] = 'display_data';\n",
              "          await google.colab.output.renderOutput(dataTable, element);\n",
              "          const docLink = document.createElement('div');\n",
              "          docLink.innerHTML = docLinkHtml;\n",
              "          element.appendChild(docLink);\n",
              "        }\n",
              "      </script>\n",
              "    </div>\n",
              "  </div>\n",
              "  "
            ],
            "text/plain": [
              "            id  Gender  Age  Region_Code  Previously_Insured  Annual_Premium  \\\n",
              "0            1       0   44         28.0                   0         40454.0   \n",
              "1            2       0   76          3.0                   0         33536.0   \n",
              "2            3       0   47         28.0                   0         38294.0   \n",
              "3            4       0   21         11.0                   1         28619.0   \n",
              "4            5       1   29         41.0                   1         27496.0   \n",
              "...        ...     ...  ...          ...                 ...             ...   \n",
              "381104  381105       0   74         26.0                   1         30170.0   \n",
              "381105  381106       0   30         37.0                   1         40016.0   \n",
              "381106  381107       0   21         30.0                   1         35118.0   \n",
              "381107  381108       1   68         14.0                   0         44617.0   \n",
              "381108  381109       0   46         29.0                   0         41777.0   \n",
              "\n",
              "        Vintage  Response  premium_age_ratio  premium_vintage_ratio  \n",
              "0           217         1         919.409091             186.423963  \n",
              "1           183         0         441.263158             183.256831  \n",
              "2            27         1         814.765957            1418.296296  \n",
              "3           203         0        1362.809524             140.980296  \n",
              "4            39         0         948.137931             705.025641  \n",
              "...         ...       ...                ...                    ...  \n",
              "381104       88         0         407.702703             342.840909  \n",
              "381105      131         0        1333.866667             305.465649  \n",
              "381106      161         0        1672.285714             218.124224  \n",
              "381107       74         0         656.132353             602.932432  \n",
              "381108      237         0         908.195652             176.274262  \n",
              "\n",
              "[381109 rows x 10 columns]"
            ]
          },
          "metadata": {},
          "execution_count": 63
        }
      ],
      "source": [
        "df"
      ]
    },
    {
      "cell_type": "markdown",
      "metadata": {
        "id": "06g7a8t4JU57"
      },
      "source": [
        "# Standardization"
      ]
    },
    {
      "cell_type": "code",
      "execution_count": 64,
      "metadata": {
        "id": "-C7OOCBTukiw"
      },
      "outputs": [],
      "source": [
        "num_feat = ['Age','Vintage','premium_age_ratio','premium_vintage_ratio']\n",
        "ss = StandardScaler()\n",
        "df[num_feat] = ss.fit_transform(df[num_feat])"
      ]
    },
    {
      "cell_type": "markdown",
      "metadata": {
        "id": "nSorMwBrJeiM"
      },
      "source": [
        "#Minmax Scalar"
      ]
    },
    {
      "cell_type": "code",
      "execution_count": 65,
      "metadata": {
        "id": "no39dcRqurdn"
      },
      "outputs": [],
      "source": [
        "mm = MinMaxScaler()\n",
        "df[['Annual_Premium']] = mm.fit_transform(df[['Annual_Premium']])"
      ]
    },
    {
      "cell_type": "code",
      "execution_count": 66,
      "metadata": {
        "id": "2umHnVXbutUx"
      },
      "outputs": [],
      "source": [
        "df=df.drop('id',axis=1)"
      ]
    },
    {
      "cell_type": "code",
      "execution_count": 67,
      "metadata": {
        "colab": {
          "base_uri": "https://localhost:8080/",
          "height": 206
        },
        "id": "mlDNADroOSjd",
        "outputId": "e936c86d-da18-4e5d-ed6e-7b38ea86db98"
      },
      "outputs": [
        {
          "output_type": "execute_result",
          "data": {
            "text/html": [
              "\n",
              "  <div id=\"df-b6a052bf-b2ec-4bd1-a042-8c77480f9169\">\n",
              "    <div class=\"colab-df-container\">\n",
              "      <div>\n",
              "<style scoped>\n",
              "    .dataframe tbody tr th:only-of-type {\n",
              "        vertical-align: middle;\n",
              "    }\n",
              "\n",
              "    .dataframe tbody tr th {\n",
              "        vertical-align: top;\n",
              "    }\n",
              "\n",
              "    .dataframe thead th {\n",
              "        text-align: right;\n",
              "    }\n",
              "</style>\n",
              "<table border=\"1\" class=\"dataframe\">\n",
              "  <thead>\n",
              "    <tr style=\"text-align: right;\">\n",
              "      <th></th>\n",
              "      <th>Gender</th>\n",
              "      <th>Age</th>\n",
              "      <th>Region_Code</th>\n",
              "      <th>Previously_Insured</th>\n",
              "      <th>Annual_Premium</th>\n",
              "      <th>Vintage</th>\n",
              "      <th>Response</th>\n",
              "      <th>premium_age_ratio</th>\n",
              "      <th>premium_vintage_ratio</th>\n",
              "    </tr>\n",
              "  </thead>\n",
              "  <tbody>\n",
              "    <tr>\n",
              "      <th>0</th>\n",
              "      <td>0</td>\n",
              "      <td>0.333777</td>\n",
              "      <td>28.0</td>\n",
              "      <td>0</td>\n",
              "      <td>0.179957</td>\n",
              "      <td>0.748795</td>\n",
              "      <td>1</td>\n",
              "      <td>0.023841</td>\n",
              "      <td>-0.327306</td>\n",
              "    </tr>\n",
              "    <tr>\n",
              "      <th>1</th>\n",
              "      <td>0</td>\n",
              "      <td>2.396751</td>\n",
              "      <td>3.0</td>\n",
              "      <td>0</td>\n",
              "      <td>0.147043</td>\n",
              "      <td>0.342443</td>\n",
              "      <td>0</td>\n",
              "      <td>-0.783760</td>\n",
              "      <td>-0.333165</td>\n",
              "    </tr>\n",
              "    <tr>\n",
              "      <th>2</th>\n",
              "      <td>0</td>\n",
              "      <td>0.527181</td>\n",
              "      <td>28.0</td>\n",
              "      <td>0</td>\n",
              "      <td>0.169680</td>\n",
              "      <td>-1.521998</td>\n",
              "      <td>1</td>\n",
              "      <td>-0.152904</td>\n",
              "      <td>1.951662</td>\n",
              "    </tr>\n",
              "    <tr>\n",
              "      <th>3</th>\n",
              "      <td>0</td>\n",
              "      <td>-1.148985</td>\n",
              "      <td>11.0</td>\n",
              "      <td>1</td>\n",
              "      <td>0.123649</td>\n",
              "      <td>0.581474</td>\n",
              "      <td>0</td>\n",
              "      <td>0.772756</td>\n",
              "      <td>-0.411377</td>\n",
              "    </tr>\n",
              "    <tr>\n",
              "      <th>4</th>\n",
              "      <td>1</td>\n",
              "      <td>-0.633242</td>\n",
              "      <td>41.0</td>\n",
              "      <td>1</td>\n",
              "      <td>0.118306</td>\n",
              "      <td>-1.378580</td>\n",
              "      <td>0</td>\n",
              "      <td>0.072365</td>\n",
              "      <td>0.632109</td>\n",
              "    </tr>\n",
              "  </tbody>\n",
              "</table>\n",
              "</div>\n",
              "      <button class=\"colab-df-convert\" onclick=\"convertToInteractive('df-b6a052bf-b2ec-4bd1-a042-8c77480f9169')\"\n",
              "              title=\"Convert this dataframe to an interactive table.\"\n",
              "              style=\"display:none;\">\n",
              "        \n",
              "  <svg xmlns=\"http://www.w3.org/2000/svg\" height=\"24px\"viewBox=\"0 0 24 24\"\n",
              "       width=\"24px\">\n",
              "    <path d=\"M0 0h24v24H0V0z\" fill=\"none\"/>\n",
              "    <path d=\"M18.56 5.44l.94 2.06.94-2.06 2.06-.94-2.06-.94-.94-2.06-.94 2.06-2.06.94zm-11 1L8.5 8.5l.94-2.06 2.06-.94-2.06-.94L8.5 2.5l-.94 2.06-2.06.94zm10 10l.94 2.06.94-2.06 2.06-.94-2.06-.94-.94-2.06-.94 2.06-2.06.94z\"/><path d=\"M17.41 7.96l-1.37-1.37c-.4-.4-.92-.59-1.43-.59-.52 0-1.04.2-1.43.59L10.3 9.45l-7.72 7.72c-.78.78-.78 2.05 0 2.83L4 21.41c.39.39.9.59 1.41.59.51 0 1.02-.2 1.41-.59l7.78-7.78 2.81-2.81c.8-.78.8-2.07 0-2.86zM5.41 20L4 18.59l7.72-7.72 1.47 1.35L5.41 20z\"/>\n",
              "  </svg>\n",
              "      </button>\n",
              "      \n",
              "  <style>\n",
              "    .colab-df-container {\n",
              "      display:flex;\n",
              "      flex-wrap:wrap;\n",
              "      gap: 12px;\n",
              "    }\n",
              "\n",
              "    .colab-df-convert {\n",
              "      background-color: #E8F0FE;\n",
              "      border: none;\n",
              "      border-radius: 50%;\n",
              "      cursor: pointer;\n",
              "      display: none;\n",
              "      fill: #1967D2;\n",
              "      height: 32px;\n",
              "      padding: 0 0 0 0;\n",
              "      width: 32px;\n",
              "    }\n",
              "\n",
              "    .colab-df-convert:hover {\n",
              "      background-color: #E2EBFA;\n",
              "      box-shadow: 0px 1px 2px rgba(60, 64, 67, 0.3), 0px 1px 3px 1px rgba(60, 64, 67, 0.15);\n",
              "      fill: #174EA6;\n",
              "    }\n",
              "\n",
              "    [theme=dark] .colab-df-convert {\n",
              "      background-color: #3B4455;\n",
              "      fill: #D2E3FC;\n",
              "    }\n",
              "\n",
              "    [theme=dark] .colab-df-convert:hover {\n",
              "      background-color: #434B5C;\n",
              "      box-shadow: 0px 1px 3px 1px rgba(0, 0, 0, 0.15);\n",
              "      filter: drop-shadow(0px 1px 2px rgba(0, 0, 0, 0.3));\n",
              "      fill: #FFFFFF;\n",
              "    }\n",
              "  </style>\n",
              "\n",
              "      <script>\n",
              "        const buttonEl =\n",
              "          document.querySelector('#df-b6a052bf-b2ec-4bd1-a042-8c77480f9169 button.colab-df-convert');\n",
              "        buttonEl.style.display =\n",
              "          google.colab.kernel.accessAllowed ? 'block' : 'none';\n",
              "\n",
              "        async function convertToInteractive(key) {\n",
              "          const element = document.querySelector('#df-b6a052bf-b2ec-4bd1-a042-8c77480f9169');\n",
              "          const dataTable =\n",
              "            await google.colab.kernel.invokeFunction('convertToInteractive',\n",
              "                                                     [key], {});\n",
              "          if (!dataTable) return;\n",
              "\n",
              "          const docLinkHtml = 'Like what you see? Visit the ' +\n",
              "            '<a target=\"_blank\" href=https://colab.research.google.com/notebooks/data_table.ipynb>data table notebook</a>'\n",
              "            + ' to learn more about interactive tables.';\n",
              "          element.innerHTML = '';\n",
              "          dataTable['output_type'] = 'display_data';\n",
              "          await google.colab.output.renderOutput(dataTable, element);\n",
              "          const docLink = document.createElement('div');\n",
              "          docLink.innerHTML = docLinkHtml;\n",
              "          element.appendChild(docLink);\n",
              "        }\n",
              "      </script>\n",
              "    </div>\n",
              "  </div>\n",
              "  "
            ],
            "text/plain": [
              "   Gender       Age  Region_Code  Previously_Insured  Annual_Premium  \\\n",
              "0       0  0.333777         28.0                   0        0.179957   \n",
              "1       0  2.396751          3.0                   0        0.147043   \n",
              "2       0  0.527181         28.0                   0        0.169680   \n",
              "3       0 -1.148985         11.0                   1        0.123649   \n",
              "4       1 -0.633242         41.0                   1        0.118306   \n",
              "\n",
              "    Vintage  Response  premium_age_ratio  premium_vintage_ratio  \n",
              "0  0.748795         1           0.023841              -0.327306  \n",
              "1  0.342443         0          -0.783760              -0.333165  \n",
              "2 -1.521998         1          -0.152904               1.951662  \n",
              "3  0.581474         0           0.772756              -0.411377  \n",
              "4 -1.378580         0           0.072365               0.632109  "
            ]
          },
          "metadata": {},
          "execution_count": 67
        }
      ],
      "source": [
        "df.head()"
      ]
    },
    {
      "cell_type": "code",
      "execution_count": 68,
      "metadata": {
        "id": "REh7a4fYuwyy"
      },
      "outputs": [],
      "source": [
        "cat_feat = ['Gender', 'Previously_Insured']\n",
        "for column in cat_feat:\n",
        "    df[column] = df[column].astype('str')"
      ]
    },
    {
      "cell_type": "code",
      "execution_count": 69,
      "metadata": {
        "id": "X2pGMp9evTPX"
      },
      "outputs": [],
      "source": [
        "ss = StandardScaler()\n",
        "df[num_feat] = ss.fit_transform(df[num_feat])\n",
        "\n",
        "\n",
        "mm = MinMaxScaler()\n",
        "df[['Annual_Premium']] = mm.fit_transform(df[['Annual_Premium']])"
      ]
    },
    {
      "cell_type": "code",
      "execution_count": 70,
      "metadata": {
        "id": "6UO67xZjvzpv"
      },
      "outputs": [],
      "source": [
        "for column in cat_feat:\n",
        "    df[column] = df[column].astype('str')"
      ]
    },
    {
      "cell_type": "code",
      "execution_count": 71,
      "metadata": {
        "colab": {
          "base_uri": "https://localhost:8080/",
          "height": 424
        },
        "id": "eeWN656o8Uwv",
        "outputId": "e24889d1-4598-473f-c658-1fac7439b279"
      },
      "outputs": [
        {
          "output_type": "execute_result",
          "data": {
            "text/html": [
              "\n",
              "  <div id=\"df-5a55ab67-b5b7-4087-950f-c5abdce15238\">\n",
              "    <div class=\"colab-df-container\">\n",
              "      <div>\n",
              "<style scoped>\n",
              "    .dataframe tbody tr th:only-of-type {\n",
              "        vertical-align: middle;\n",
              "    }\n",
              "\n",
              "    .dataframe tbody tr th {\n",
              "        vertical-align: top;\n",
              "    }\n",
              "\n",
              "    .dataframe thead th {\n",
              "        text-align: right;\n",
              "    }\n",
              "</style>\n",
              "<table border=\"1\" class=\"dataframe\">\n",
              "  <thead>\n",
              "    <tr style=\"text-align: right;\">\n",
              "      <th></th>\n",
              "      <th>Gender</th>\n",
              "      <th>Age</th>\n",
              "      <th>Region_Code</th>\n",
              "      <th>Previously_Insured</th>\n",
              "      <th>Annual_Premium</th>\n",
              "      <th>Vintage</th>\n",
              "      <th>Response</th>\n",
              "      <th>premium_age_ratio</th>\n",
              "      <th>premium_vintage_ratio</th>\n",
              "    </tr>\n",
              "  </thead>\n",
              "  <tbody>\n",
              "    <tr>\n",
              "      <th>0</th>\n",
              "      <td>0</td>\n",
              "      <td>0.333777</td>\n",
              "      <td>28.0</td>\n",
              "      <td>0</td>\n",
              "      <td>0.179957</td>\n",
              "      <td>0.748795</td>\n",
              "      <td>1</td>\n",
              "      <td>0.023841</td>\n",
              "      <td>-0.327306</td>\n",
              "    </tr>\n",
              "    <tr>\n",
              "      <th>1</th>\n",
              "      <td>0</td>\n",
              "      <td>2.396751</td>\n",
              "      <td>3.0</td>\n",
              "      <td>0</td>\n",
              "      <td>0.147043</td>\n",
              "      <td>0.342443</td>\n",
              "      <td>0</td>\n",
              "      <td>-0.783760</td>\n",
              "      <td>-0.333165</td>\n",
              "    </tr>\n",
              "    <tr>\n",
              "      <th>2</th>\n",
              "      <td>0</td>\n",
              "      <td>0.527181</td>\n",
              "      <td>28.0</td>\n",
              "      <td>0</td>\n",
              "      <td>0.169680</td>\n",
              "      <td>-1.521998</td>\n",
              "      <td>1</td>\n",
              "      <td>-0.152904</td>\n",
              "      <td>1.951662</td>\n",
              "    </tr>\n",
              "    <tr>\n",
              "      <th>3</th>\n",
              "      <td>0</td>\n",
              "      <td>-1.148985</td>\n",
              "      <td>11.0</td>\n",
              "      <td>1</td>\n",
              "      <td>0.123649</td>\n",
              "      <td>0.581474</td>\n",
              "      <td>0</td>\n",
              "      <td>0.772756</td>\n",
              "      <td>-0.411377</td>\n",
              "    </tr>\n",
              "    <tr>\n",
              "      <th>4</th>\n",
              "      <td>1</td>\n",
              "      <td>-0.633242</td>\n",
              "      <td>41.0</td>\n",
              "      <td>1</td>\n",
              "      <td>0.118306</td>\n",
              "      <td>-1.378580</td>\n",
              "      <td>0</td>\n",
              "      <td>0.072365</td>\n",
              "      <td>0.632109</td>\n",
              "    </tr>\n",
              "    <tr>\n",
              "      <th>...</th>\n",
              "      <td>...</td>\n",
              "      <td>...</td>\n",
              "      <td>...</td>\n",
              "      <td>...</td>\n",
              "      <td>...</td>\n",
              "      <td>...</td>\n",
              "      <td>...</td>\n",
              "      <td>...</td>\n",
              "      <td>...</td>\n",
              "    </tr>\n",
              "    <tr>\n",
              "      <th>381104</th>\n",
              "      <td>0</td>\n",
              "      <td>2.267815</td>\n",
              "      <td>26.0</td>\n",
              "      <td>1</td>\n",
              "      <td>0.131028</td>\n",
              "      <td>-0.792954</td>\n",
              "      <td>0</td>\n",
              "      <td>-0.840444</td>\n",
              "      <td>-0.037934</td>\n",
              "    </tr>\n",
              "    <tr>\n",
              "      <th>381105</th>\n",
              "      <td>0</td>\n",
              "      <td>-0.568774</td>\n",
              "      <td>37.0</td>\n",
              "      <td>1</td>\n",
              "      <td>0.177873</td>\n",
              "      <td>-0.279037</td>\n",
              "      <td>0</td>\n",
              "      <td>0.723871</td>\n",
              "      <td>-0.107078</td>\n",
              "    </tr>\n",
              "    <tr>\n",
              "      <th>381106</th>\n",
              "      <td>0</td>\n",
              "      <td>-1.148985</td>\n",
              "      <td>30.0</td>\n",
              "      <td>1</td>\n",
              "      <td>0.154569</td>\n",
              "      <td>0.079509</td>\n",
              "      <td>0</td>\n",
              "      <td>1.295469</td>\n",
              "      <td>-0.268660</td>\n",
              "    </tr>\n",
              "    <tr>\n",
              "      <th>381107</th>\n",
              "      <td>1</td>\n",
              "      <td>1.881007</td>\n",
              "      <td>14.0</td>\n",
              "      <td>0</td>\n",
              "      <td>0.199763</td>\n",
              "      <td>-0.960275</td>\n",
              "      <td>0</td>\n",
              "      <td>-0.420840</td>\n",
              "      <td>0.443236</td>\n",
              "    </tr>\n",
              "    <tr>\n",
              "      <th>381108</th>\n",
              "      <td>0</td>\n",
              "      <td>0.462713</td>\n",
              "      <td>29.0</td>\n",
              "      <td>0</td>\n",
              "      <td>0.186251</td>\n",
              "      <td>0.987826</td>\n",
              "      <td>0</td>\n",
              "      <td>0.004901</td>\n",
              "      <td>-0.346083</td>\n",
              "    </tr>\n",
              "  </tbody>\n",
              "</table>\n",
              "<p>381109 rows × 9 columns</p>\n",
              "</div>\n",
              "      <button class=\"colab-df-convert\" onclick=\"convertToInteractive('df-5a55ab67-b5b7-4087-950f-c5abdce15238')\"\n",
              "              title=\"Convert this dataframe to an interactive table.\"\n",
              "              style=\"display:none;\">\n",
              "        \n",
              "  <svg xmlns=\"http://www.w3.org/2000/svg\" height=\"24px\"viewBox=\"0 0 24 24\"\n",
              "       width=\"24px\">\n",
              "    <path d=\"M0 0h24v24H0V0z\" fill=\"none\"/>\n",
              "    <path d=\"M18.56 5.44l.94 2.06.94-2.06 2.06-.94-2.06-.94-.94-2.06-.94 2.06-2.06.94zm-11 1L8.5 8.5l.94-2.06 2.06-.94-2.06-.94L8.5 2.5l-.94 2.06-2.06.94zm10 10l.94 2.06.94-2.06 2.06-.94-2.06-.94-.94-2.06-.94 2.06-2.06.94z\"/><path d=\"M17.41 7.96l-1.37-1.37c-.4-.4-.92-.59-1.43-.59-.52 0-1.04.2-1.43.59L10.3 9.45l-7.72 7.72c-.78.78-.78 2.05 0 2.83L4 21.41c.39.39.9.59 1.41.59.51 0 1.02-.2 1.41-.59l7.78-7.78 2.81-2.81c.8-.78.8-2.07 0-2.86zM5.41 20L4 18.59l7.72-7.72 1.47 1.35L5.41 20z\"/>\n",
              "  </svg>\n",
              "      </button>\n",
              "      \n",
              "  <style>\n",
              "    .colab-df-container {\n",
              "      display:flex;\n",
              "      flex-wrap:wrap;\n",
              "      gap: 12px;\n",
              "    }\n",
              "\n",
              "    .colab-df-convert {\n",
              "      background-color: #E8F0FE;\n",
              "      border: none;\n",
              "      border-radius: 50%;\n",
              "      cursor: pointer;\n",
              "      display: none;\n",
              "      fill: #1967D2;\n",
              "      height: 32px;\n",
              "      padding: 0 0 0 0;\n",
              "      width: 32px;\n",
              "    }\n",
              "\n",
              "    .colab-df-convert:hover {\n",
              "      background-color: #E2EBFA;\n",
              "      box-shadow: 0px 1px 2px rgba(60, 64, 67, 0.3), 0px 1px 3px 1px rgba(60, 64, 67, 0.15);\n",
              "      fill: #174EA6;\n",
              "    }\n",
              "\n",
              "    [theme=dark] .colab-df-convert {\n",
              "      background-color: #3B4455;\n",
              "      fill: #D2E3FC;\n",
              "    }\n",
              "\n",
              "    [theme=dark] .colab-df-convert:hover {\n",
              "      background-color: #434B5C;\n",
              "      box-shadow: 0px 1px 3px 1px rgba(0, 0, 0, 0.15);\n",
              "      filter: drop-shadow(0px 1px 2px rgba(0, 0, 0, 0.3));\n",
              "      fill: #FFFFFF;\n",
              "    }\n",
              "  </style>\n",
              "\n",
              "      <script>\n",
              "        const buttonEl =\n",
              "          document.querySelector('#df-5a55ab67-b5b7-4087-950f-c5abdce15238 button.colab-df-convert');\n",
              "        buttonEl.style.display =\n",
              "          google.colab.kernel.accessAllowed ? 'block' : 'none';\n",
              "\n",
              "        async function convertToInteractive(key) {\n",
              "          const element = document.querySelector('#df-5a55ab67-b5b7-4087-950f-c5abdce15238');\n",
              "          const dataTable =\n",
              "            await google.colab.kernel.invokeFunction('convertToInteractive',\n",
              "                                                     [key], {});\n",
              "          if (!dataTable) return;\n",
              "\n",
              "          const docLinkHtml = 'Like what you see? Visit the ' +\n",
              "            '<a target=\"_blank\" href=https://colab.research.google.com/notebooks/data_table.ipynb>data table notebook</a>'\n",
              "            + ' to learn more about interactive tables.';\n",
              "          element.innerHTML = '';\n",
              "          dataTable['output_type'] = 'display_data';\n",
              "          await google.colab.output.renderOutput(dataTable, element);\n",
              "          const docLink = document.createElement('div');\n",
              "          docLink.innerHTML = docLinkHtml;\n",
              "          element.appendChild(docLink);\n",
              "        }\n",
              "      </script>\n",
              "    </div>\n",
              "  </div>\n",
              "  "
            ],
            "text/plain": [
              "       Gender       Age  Region_Code Previously_Insured  Annual_Premium  \\\n",
              "0           0  0.333777         28.0                  0        0.179957   \n",
              "1           0  2.396751          3.0                  0        0.147043   \n",
              "2           0  0.527181         28.0                  0        0.169680   \n",
              "3           0 -1.148985         11.0                  1        0.123649   \n",
              "4           1 -0.633242         41.0                  1        0.118306   \n",
              "...       ...       ...          ...                ...             ...   \n",
              "381104      0  2.267815         26.0                  1        0.131028   \n",
              "381105      0 -0.568774         37.0                  1        0.177873   \n",
              "381106      0 -1.148985         30.0                  1        0.154569   \n",
              "381107      1  1.881007         14.0                  0        0.199763   \n",
              "381108      0  0.462713         29.0                  0        0.186251   \n",
              "\n",
              "         Vintage  Response  premium_age_ratio  premium_vintage_ratio  \n",
              "0       0.748795         1           0.023841              -0.327306  \n",
              "1       0.342443         0          -0.783760              -0.333165  \n",
              "2      -1.521998         1          -0.152904               1.951662  \n",
              "3       0.581474         0           0.772756              -0.411377  \n",
              "4      -1.378580         0           0.072365               0.632109  \n",
              "...          ...       ...                ...                    ...  \n",
              "381104 -0.792954         0          -0.840444              -0.037934  \n",
              "381105 -0.279037         0           0.723871              -0.107078  \n",
              "381106  0.079509         0           1.295469              -0.268660  \n",
              "381107 -0.960275         0          -0.420840               0.443236  \n",
              "381108  0.987826         0           0.004901              -0.346083  \n",
              "\n",
              "[381109 rows x 9 columns]"
            ]
          },
          "metadata": {},
          "execution_count": 71
        }
      ],
      "source": [
        "df"
      ]
    },
    {
      "cell_type": "markdown",
      "metadata": {
        "id": "SX--tBgM6JWs"
      },
      "source": [
        "#Modeling"
      ]
    },
    {
      "cell_type": "markdown",
      "metadata": {
        "id": "KrPFSiEv1mJ8"
      },
      "source": [
        "# 1.Logistic Regression"
      ]
    },
    {
      "cell_type": "code",
      "execution_count": 72,
      "metadata": {
        "colab": {
          "base_uri": "https://localhost:8080/"
        },
        "id": "eTXp6ia296wj",
        "outputId": "da2c61a8-2391-4add-8d2b-47419a0dcb37"
      },
      "outputs": [
        {
          "output_type": "stream",
          "name": "stdout",
          "text": [
            "Collecting CatBoost\n",
            "  Downloading catboost-1.0.4-cp37-none-manylinux1_x86_64.whl (76.1 MB)\n",
            "\u001b[K     |████████████████████████████████| 76.1 MB 1.3 MB/s \n",
            "\u001b[?25hRequirement already satisfied: numpy>=1.16.0 in /usr/local/lib/python3.7/dist-packages (from CatBoost) (1.21.5)\n",
            "Requirement already satisfied: pandas>=0.24.0 in /usr/local/lib/python3.7/dist-packages (from CatBoost) (1.3.5)\n",
            "Requirement already satisfied: matplotlib in /usr/local/lib/python3.7/dist-packages (from CatBoost) (3.2.2)\n",
            "Requirement already satisfied: graphviz in /usr/local/lib/python3.7/dist-packages (from CatBoost) (0.10.1)\n",
            "Requirement already satisfied: plotly in /usr/local/lib/python3.7/dist-packages (from CatBoost) (5.5.0)\n",
            "Requirement already satisfied: scipy in /usr/local/lib/python3.7/dist-packages (from CatBoost) (1.4.1)\n",
            "Requirement already satisfied: six in /usr/local/lib/python3.7/dist-packages (from CatBoost) (1.15.0)\n",
            "Requirement already satisfied: python-dateutil>=2.7.3 in /usr/local/lib/python3.7/dist-packages (from pandas>=0.24.0->CatBoost) (2.8.2)\n",
            "Requirement already satisfied: pytz>=2017.3 in /usr/local/lib/python3.7/dist-packages (from pandas>=0.24.0->CatBoost) (2018.9)\n",
            "Requirement already satisfied: cycler>=0.10 in /usr/local/lib/python3.7/dist-packages (from matplotlib->CatBoost) (0.11.0)\n",
            "Requirement already satisfied: pyparsing!=2.0.4,!=2.1.2,!=2.1.6,>=2.0.1 in /usr/local/lib/python3.7/dist-packages (from matplotlib->CatBoost) (3.0.7)\n",
            "Requirement already satisfied: kiwisolver>=1.0.1 in /usr/local/lib/python3.7/dist-packages (from matplotlib->CatBoost) (1.3.2)\n",
            "Requirement already satisfied: tenacity>=6.2.0 in /usr/local/lib/python3.7/dist-packages (from plotly->CatBoost) (8.0.1)\n",
            "Installing collected packages: CatBoost\n",
            "Successfully installed CatBoost-1.0.4\n"
          ]
        }
      ],
      "source": [
        "pip install CatBoost"
      ]
    },
    {
      "cell_type": "code",
      "execution_count": 73,
      "metadata": {
        "id": "5VjSecgp-C0I"
      },
      "outputs": [],
      "source": [
        "from sklearn.model_selection import train_test_split,cross_val_score,KFold\n",
        "from sklearn.metrics import roc_auc_score\n",
        "from sklearn.metrics import roc_curve\n",
        "from sklearn.preprocessing import StandardScaler\n",
        "from sklearn.linear_model import LogisticRegression\n",
        "from sklearn.tree import DecisionTreeClassifier\n",
        "from sklearn.ensemble import RandomForestClassifier\n",
        "from sklearn.neighbors import KNeighborsClassifier\n",
        "from xgboost import XGBClassifier\n",
        "from sklearn.model_selection import RandomizedSearchCV\n",
        "from sklearn.model_selection import cross_val_score\n",
        "from catboost import CatBoostClassifier\n",
        "from scipy.stats import randint\n",
        "import pickle\n",
        "import xgboost as xgb\n",
        "import lightgbm as lgb\n",
        "from sklearn.metrics import accuracy_score\n",
        "# import packages for hyperparameters tuning\n",
        "from hyperopt import STATUS_OK, Trials, fmin, hp, tpe\n",
        "from sklearn.model_selection import train_test_split, RandomizedSearchCV, StratifiedKFold, KFold, GridSearchCV\n",
        "from sklearn.metrics import f1_score, roc_auc_score,accuracy_score,confusion_matrix, precision_recall_curve, auc, roc_curve, recall_score, classification_report "
      ]
    },
    {
      "cell_type": "code",
      "execution_count": 74,
      "metadata": {
        "id": "NVumW5nwQ_pV"
      },
      "outputs": [],
      "source": [
        "X=df.drop(['Response'],axis=1)\n",
        "Y=df['Response'].astype('int')\n"
      ]
    },
    {
      "cell_type": "code",
      "execution_count": 75,
      "metadata": {
        "id": "c5TNdDKeRbOp"
      },
      "outputs": [],
      "source": [
        "X_train,X_test,Y_train,Y_test = train_test_split(X,Y,test_size = 0.30 ,random_state = 5)"
      ]
    },
    {
      "cell_type": "code",
      "execution_count": 76,
      "metadata": {
        "id": "mSiA87uCFT-Z"
      },
      "outputs": [],
      "source": [
        "X = X.fillna(X.mean())"
      ]
    },
    {
      "cell_type": "code",
      "execution_count": 77,
      "metadata": {
        "colab": {
          "base_uri": "https://localhost:8080/"
        },
        "id": "uijFV_3AFZ2U",
        "outputId": "67b72020-95eb-4e4d-d256-9607b7572dba"
      },
      "outputs": [
        {
          "output_type": "execute_result",
          "data": {
            "text/plain": [
              "((381109, 8), (381109,))"
            ]
          },
          "metadata": {},
          "execution_count": 77
        }
      ],
      "source": [
        "X.shape, Y.shape"
      ]
    },
    {
      "cell_type": "code",
      "execution_count": 78,
      "metadata": {
        "colab": {
          "base_uri": "https://localhost:8080/"
        },
        "id": "oIoz4jgeFnAo",
        "outputId": "d1092a79-8760-43bb-8e0a-8c05f6ce9777"
      },
      "outputs": [
        {
          "output_type": "stream",
          "name": "stdout",
          "text": [
            "(266776, 8) (266776,)\n",
            "(114333, 8) (114333,)\n"
          ]
        }
      ],
      "source": [
        "# Check the shape of train dataset\n",
        "print(X_train.shape,Y_train.shape)\n",
        "\n",
        "# Check the shape of test dataset\n",
        "print(X_test.shape, Y_test.shape)"
      ]
    },
    {
      "cell_type": "code",
      "execution_count": 79,
      "metadata": {
        "colab": {
          "base_uri": "https://localhost:8080/"
        },
        "id": "arXqpo-DFnE2",
        "outputId": "d2024cd1-894c-466c-97d0-9572893ce1b0"
      },
      "outputs": [
        {
          "output_type": "execute_result",
          "data": {
            "text/plain": [
              "Gender                   0\n",
              "Age                      0\n",
              "Region_Code              0\n",
              "Previously_Insured       0\n",
              "Annual_Premium           0\n",
              "Vintage                  0\n",
              "premium_age_ratio        0\n",
              "premium_vintage_ratio    0\n",
              "dtype: int64"
            ]
          },
          "metadata": {},
          "execution_count": 79
        }
      ],
      "source": [
        "X_train.isnull().sum()"
      ]
    },
    {
      "cell_type": "code",
      "execution_count": 80,
      "metadata": {
        "colab": {
          "base_uri": "https://localhost:8080/"
        },
        "id": "nqrF6bOznEC-",
        "outputId": "129c931f-c397-423e-c282-49370dcdd3e8"
      },
      "outputs": [
        {
          "output_type": "execute_result",
          "data": {
            "text/plain": [
              "LogisticRegression(max_iter=10000)"
            ]
          },
          "metadata": {},
          "execution_count": 80
        }
      ],
      "source": [
        "from sklearn.linear_model import LogisticRegression\n",
        "\n",
        "clf = LogisticRegression(fit_intercept=True, max_iter=10000)\n",
        "clf.fit(X_train, Y_train)"
      ]
    },
    {
      "cell_type": "code",
      "execution_count": 81,
      "metadata": {
        "colab": {
          "base_uri": "https://localhost:8080/"
        },
        "id": "dDPMg8pOm1ss",
        "outputId": "09eeab02-2fa9-47ac-a721-43f91fa7ffcf"
      },
      "outputs": [
        {
          "output_type": "execute_result",
          "data": {
            "text/plain": [
              "array([[-1.50539075e-01, -3.57025075e-01,  2.86164245e-05,\n",
              "        -5.55780757e+00,  8.30163794e+00,  2.61791638e-03,\n",
              "        -8.47493153e-01,  5.28004366e-05]])"
            ]
          },
          "metadata": {},
          "execution_count": 81
        }
      ],
      "source": [
        "# Get the model coefficients\n",
        "clf.coef_"
      ]
    },
    {
      "cell_type": "code",
      "execution_count": 82,
      "metadata": {
        "colab": {
          "base_uri": "https://localhost:8080/"
        },
        "id": "VTI_fpiinW12",
        "outputId": "4f6a83cf-878c-42ee-8ee0-3cf7a470e03b"
      },
      "outputs": [
        {
          "output_type": "execute_result",
          "data": {
            "text/plain": [
              "array([-2.35092163])"
            ]
          },
          "metadata": {},
          "execution_count": 82
        }
      ],
      "source": [
        "clf.intercept_"
      ]
    },
    {
      "cell_type": "code",
      "execution_count": 83,
      "metadata": {
        "id": "i-UQkIITGaRX"
      },
      "outputs": [],
      "source": [
        "# Get the predicted probabilities\n",
        "train_preds = clf.predict_proba(X_train)\n",
        "test_preds = clf.predict_proba(X_test)"
      ]
    },
    {
      "cell_type": "code",
      "execution_count": 84,
      "metadata": {
        "colab": {
          "base_uri": "https://localhost:8080/",
          "height": 424
        },
        "id": "w5VPcgZRoZBr",
        "outputId": "cdb71aed-85e0-4aa3-f187-ede0f45d37bc"
      },
      "outputs": [
        {
          "output_type": "execute_result",
          "data": {
            "text/html": [
              "\n",
              "  <div id=\"df-d0eb9ee8-5ee3-4f86-893d-2b3dad942c25\">\n",
              "    <div class=\"colab-df-container\">\n",
              "      <div>\n",
              "<style scoped>\n",
              "    .dataframe tbody tr th:only-of-type {\n",
              "        vertical-align: middle;\n",
              "    }\n",
              "\n",
              "    .dataframe tbody tr th {\n",
              "        vertical-align: top;\n",
              "    }\n",
              "\n",
              "    .dataframe thead th {\n",
              "        text-align: right;\n",
              "    }\n",
              "</style>\n",
              "<table border=\"1\" class=\"dataframe\">\n",
              "  <thead>\n",
              "    <tr style=\"text-align: right;\">\n",
              "      <th></th>\n",
              "      <th>Gender</th>\n",
              "      <th>Age</th>\n",
              "      <th>Region_Code</th>\n",
              "      <th>Previously_Insured</th>\n",
              "      <th>Annual_Premium</th>\n",
              "      <th>Vintage</th>\n",
              "      <th>premium_age_ratio</th>\n",
              "      <th>premium_vintage_ratio</th>\n",
              "    </tr>\n",
              "  </thead>\n",
              "  <tbody>\n",
              "    <tr>\n",
              "      <th>56814</th>\n",
              "      <td>0</td>\n",
              "      <td>-1.084517</td>\n",
              "      <td>15.0</td>\n",
              "      <td>0</td>\n",
              "      <td>0.172791</td>\n",
              "      <td>1.370276</td>\n",
              "      <td>1.461125</td>\n",
              "      <td>-0.404332</td>\n",
              "    </tr>\n",
              "    <tr>\n",
              "      <th>168832</th>\n",
              "      <td>0</td>\n",
              "      <td>0.204841</td>\n",
              "      <td>3.0</td>\n",
              "      <td>1</td>\n",
              "      <td>0.186127</td>\n",
              "      <td>0.999778</td>\n",
              "      <td>0.149948</td>\n",
              "      <td>-0.347655</td>\n",
              "    </tr>\n",
              "    <tr>\n",
              "      <th>4864</th>\n",
              "      <td>0</td>\n",
              "      <td>0.011438</td>\n",
              "      <td>28.0</td>\n",
              "      <td>0</td>\n",
              "      <td>0.191561</td>\n",
              "      <td>-1.282967</td>\n",
              "      <td>0.328561</td>\n",
              "      <td>1.016154</td>\n",
              "    </tr>\n",
              "    <tr>\n",
              "      <th>255045</th>\n",
              "      <td>0</td>\n",
              "      <td>0.978456</td>\n",
              "      <td>36.0</td>\n",
              "      <td>0</td>\n",
              "      <td>0.147985</td>\n",
              "      <td>-0.565875</td>\n",
              "      <td>-0.473924</td>\n",
              "      <td>-0.088938</td>\n",
              "    </tr>\n",
              "    <tr>\n",
              "      <th>159217</th>\n",
              "      <td>0</td>\n",
              "      <td>1.945475</td>\n",
              "      <td>28.0</td>\n",
              "      <td>1</td>\n",
              "      <td>0.222362</td>\n",
              "      <td>0.736844</td>\n",
              "      <td>-0.320628</td>\n",
              "      <td>-0.249371</td>\n",
              "    </tr>\n",
              "    <tr>\n",
              "      <th>...</th>\n",
              "      <td>...</td>\n",
              "      <td>...</td>\n",
              "      <td>...</td>\n",
              "      <td>...</td>\n",
              "      <td>...</td>\n",
              "      <td>...</td>\n",
              "      <td>...</td>\n",
              "      <td>...</td>\n",
              "    </tr>\n",
              "    <tr>\n",
              "      <th>233800</th>\n",
              "      <td>1</td>\n",
              "      <td>-0.375370</td>\n",
              "      <td>2.0</td>\n",
              "      <td>0</td>\n",
              "      <td>0.126965</td>\n",
              "      <td>-1.187355</td>\n",
              "      <td>-0.028595</td>\n",
              "      <td>0.313895</td>\n",
              "    </tr>\n",
              "    <tr>\n",
              "      <th>64249</th>\n",
              "      <td>0</td>\n",
              "      <td>0.269309</td>\n",
              "      <td>29.0</td>\n",
              "      <td>0</td>\n",
              "      <td>0.000000</td>\n",
              "      <td>0.509764</td>\n",
              "      <td>-1.425759</td>\n",
              "      <td>-0.647492</td>\n",
              "    </tr>\n",
              "    <tr>\n",
              "      <th>261696</th>\n",
              "      <td>0</td>\n",
              "      <td>-0.181966</td>\n",
              "      <td>8.0</td>\n",
              "      <td>0</td>\n",
              "      <td>0.177421</td>\n",
              "      <td>-0.422456</td>\n",
              "      <td>0.343924</td>\n",
              "      <td>-0.051569</td>\n",
              "    </tr>\n",
              "    <tr>\n",
              "      <th>213797</th>\n",
              "      <td>1</td>\n",
              "      <td>1.687604</td>\n",
              "      <td>50.0</td>\n",
              "      <td>0</td>\n",
              "      <td>0.091658</td>\n",
              "      <td>0.079509</td>\n",
              "      <td>-0.960123</td>\n",
              "      <td>-0.420602</td>\n",
              "    </tr>\n",
              "    <tr>\n",
              "      <th>225141</th>\n",
              "      <td>1</td>\n",
              "      <td>-1.084517</td>\n",
              "      <td>45.0</td>\n",
              "      <td>1</td>\n",
              "      <td>0.127921</td>\n",
              "      <td>-0.338795</td>\n",
              "      <td>0.737071</td>\n",
              "      <td>-0.238805</td>\n",
              "    </tr>\n",
              "  </tbody>\n",
              "</table>\n",
              "<p>114333 rows × 8 columns</p>\n",
              "</div>\n",
              "      <button class=\"colab-df-convert\" onclick=\"convertToInteractive('df-d0eb9ee8-5ee3-4f86-893d-2b3dad942c25')\"\n",
              "              title=\"Convert this dataframe to an interactive table.\"\n",
              "              style=\"display:none;\">\n",
              "        \n",
              "  <svg xmlns=\"http://www.w3.org/2000/svg\" height=\"24px\"viewBox=\"0 0 24 24\"\n",
              "       width=\"24px\">\n",
              "    <path d=\"M0 0h24v24H0V0z\" fill=\"none\"/>\n",
              "    <path d=\"M18.56 5.44l.94 2.06.94-2.06 2.06-.94-2.06-.94-.94-2.06-.94 2.06-2.06.94zm-11 1L8.5 8.5l.94-2.06 2.06-.94-2.06-.94L8.5 2.5l-.94 2.06-2.06.94zm10 10l.94 2.06.94-2.06 2.06-.94-2.06-.94-.94-2.06-.94 2.06-2.06.94z\"/><path d=\"M17.41 7.96l-1.37-1.37c-.4-.4-.92-.59-1.43-.59-.52 0-1.04.2-1.43.59L10.3 9.45l-7.72 7.72c-.78.78-.78 2.05 0 2.83L4 21.41c.39.39.9.59 1.41.59.51 0 1.02-.2 1.41-.59l7.78-7.78 2.81-2.81c.8-.78.8-2.07 0-2.86zM5.41 20L4 18.59l7.72-7.72 1.47 1.35L5.41 20z\"/>\n",
              "  </svg>\n",
              "      </button>\n",
              "      \n",
              "  <style>\n",
              "    .colab-df-container {\n",
              "      display:flex;\n",
              "      flex-wrap:wrap;\n",
              "      gap: 12px;\n",
              "    }\n",
              "\n",
              "    .colab-df-convert {\n",
              "      background-color: #E8F0FE;\n",
              "      border: none;\n",
              "      border-radius: 50%;\n",
              "      cursor: pointer;\n",
              "      display: none;\n",
              "      fill: #1967D2;\n",
              "      height: 32px;\n",
              "      padding: 0 0 0 0;\n",
              "      width: 32px;\n",
              "    }\n",
              "\n",
              "    .colab-df-convert:hover {\n",
              "      background-color: #E2EBFA;\n",
              "      box-shadow: 0px 1px 2px rgba(60, 64, 67, 0.3), 0px 1px 3px 1px rgba(60, 64, 67, 0.15);\n",
              "      fill: #174EA6;\n",
              "    }\n",
              "\n",
              "    [theme=dark] .colab-df-convert {\n",
              "      background-color: #3B4455;\n",
              "      fill: #D2E3FC;\n",
              "    }\n",
              "\n",
              "    [theme=dark] .colab-df-convert:hover {\n",
              "      background-color: #434B5C;\n",
              "      box-shadow: 0px 1px 3px 1px rgba(0, 0, 0, 0.15);\n",
              "      filter: drop-shadow(0px 1px 2px rgba(0, 0, 0, 0.3));\n",
              "      fill: #FFFFFF;\n",
              "    }\n",
              "  </style>\n",
              "\n",
              "      <script>\n",
              "        const buttonEl =\n",
              "          document.querySelector('#df-d0eb9ee8-5ee3-4f86-893d-2b3dad942c25 button.colab-df-convert');\n",
              "        buttonEl.style.display =\n",
              "          google.colab.kernel.accessAllowed ? 'block' : 'none';\n",
              "\n",
              "        async function convertToInteractive(key) {\n",
              "          const element = document.querySelector('#df-d0eb9ee8-5ee3-4f86-893d-2b3dad942c25');\n",
              "          const dataTable =\n",
              "            await google.colab.kernel.invokeFunction('convertToInteractive',\n",
              "                                                     [key], {});\n",
              "          if (!dataTable) return;\n",
              "\n",
              "          const docLinkHtml = 'Like what you see? Visit the ' +\n",
              "            '<a target=\"_blank\" href=https://colab.research.google.com/notebooks/data_table.ipynb>data table notebook</a>'\n",
              "            + ' to learn more about interactive tables.';\n",
              "          element.innerHTML = '';\n",
              "          dataTable['output_type'] = 'display_data';\n",
              "          await google.colab.output.renderOutput(dataTable, element);\n",
              "          const docLink = document.createElement('div');\n",
              "          docLink.innerHTML = docLinkHtml;\n",
              "          element.appendChild(docLink);\n",
              "        }\n",
              "      </script>\n",
              "    </div>\n",
              "  </div>\n",
              "  "
            ],
            "text/plain": [
              "       Gender       Age  Region_Code Previously_Insured  Annual_Premium  \\\n",
              "56814       0 -1.084517         15.0                  0        0.172791   \n",
              "168832      0  0.204841          3.0                  1        0.186127   \n",
              "4864        0  0.011438         28.0                  0        0.191561   \n",
              "255045      0  0.978456         36.0                  0        0.147985   \n",
              "159217      0  1.945475         28.0                  1        0.222362   \n",
              "...       ...       ...          ...                ...             ...   \n",
              "233800      1 -0.375370          2.0                  0        0.126965   \n",
              "64249       0  0.269309         29.0                  0        0.000000   \n",
              "261696      0 -0.181966          8.0                  0        0.177421   \n",
              "213797      1  1.687604         50.0                  0        0.091658   \n",
              "225141      1 -1.084517         45.0                  1        0.127921   \n",
              "\n",
              "         Vintage  premium_age_ratio  premium_vintage_ratio  \n",
              "56814   1.370276           1.461125              -0.404332  \n",
              "168832  0.999778           0.149948              -0.347655  \n",
              "4864   -1.282967           0.328561               1.016154  \n",
              "255045 -0.565875          -0.473924              -0.088938  \n",
              "159217  0.736844          -0.320628              -0.249371  \n",
              "...          ...                ...                    ...  \n",
              "233800 -1.187355          -0.028595               0.313895  \n",
              "64249   0.509764          -1.425759              -0.647492  \n",
              "261696 -0.422456           0.343924              -0.051569  \n",
              "213797  0.079509          -0.960123              -0.420602  \n",
              "225141 -0.338795           0.737071              -0.238805  \n",
              "\n",
              "[114333 rows x 8 columns]"
            ]
          },
          "metadata": {},
          "execution_count": 84
        }
      ],
      "source": [
        "X_test"
      ]
    },
    {
      "cell_type": "code",
      "execution_count": 85,
      "metadata": {
        "colab": {
          "base_uri": "https://localhost:8080/"
        },
        "id": "9HPnX1g2obu8",
        "outputId": "8cb17cc2-bd67-42d5-8f63-52d1978e2a9d"
      },
      "outputs": [
        {
          "output_type": "execute_result",
          "data": {
            "text/plain": [
              "array([[8.53656018e-01, 1.46343982e-01],\n",
              "       [9.98587662e-01, 1.41233795e-03],\n",
              "       [7.39947211e-01, 2.60052789e-01],\n",
              "       ...,\n",
              "       [7.51275363e-01, 2.48724637e-01],\n",
              "       [8.21677415e-01, 1.78322585e-01],\n",
              "       [9.99279171e-01, 7.20829452e-04]])"
            ]
          },
          "metadata": {},
          "execution_count": 85
        }
      ],
      "source": [
        "test_preds"
      ]
    },
    {
      "cell_type": "code",
      "execution_count": 86,
      "metadata": {
        "id": "vT778K6FnW_S"
      },
      "outputs": [],
      "source": [
        "train_preds = clf.predict_proba(X_train)[:,1]\n",
        "test_preds = clf.predict_proba(X_test)[:,1]"
      ]
    },
    {
      "cell_type": "code",
      "execution_count": 87,
      "metadata": {
        "colab": {
          "base_uri": "https://localhost:8080/"
        },
        "id": "JzBOWleqoayt",
        "outputId": "22895f84-1017-4819-9a0e-bf7bb4c58a6d"
      },
      "outputs": [
        {
          "output_type": "execute_result",
          "data": {
            "text/plain": [
              "array([0.14634398, 0.00141234, 0.26005279, ..., 0.24872464, 0.17832259,\n",
              "       0.00072083])"
            ]
          },
          "metadata": {},
          "execution_count": 87
        }
      ],
      "source": [
        "test_preds"
      ]
    },
    {
      "cell_type": "code",
      "execution_count": 88,
      "metadata": {
        "id": "ErKESzJJnXDz"
      },
      "outputs": [],
      "source": [
        "# Get the predicted classes\n",
        "train_class_preds = clf.predict(X_train)\n",
        "test_class_preds = clf.predict(X_test)"
      ]
    },
    {
      "cell_type": "code",
      "execution_count": 89,
      "metadata": {
        "colab": {
          "base_uri": "https://localhost:8080/"
        },
        "id": "_RCw9QnRnXH-",
        "outputId": "81d03d4a-016f-4c2c-8af9-2dc533ced5c7"
      },
      "outputs": [
        {
          "output_type": "execute_result",
          "data": {
            "text/plain": [
              "array([0, 0, 0, ..., 0, 0, 0])"
            ]
          },
          "metadata": {},
          "execution_count": 89
        }
      ],
      "source": [
        "train_class_preds"
      ]
    },
    {
      "cell_type": "code",
      "execution_count": 90,
      "metadata": {
        "id": "MDoost7LnXMO"
      },
      "outputs": [],
      "source": [
        "from sklearn.metrics import accuracy_score, confusion_matrix\n",
        "import seaborn as sns"
      ]
    },
    {
      "cell_type": "code",
      "execution_count": 91,
      "metadata": {
        "colab": {
          "base_uri": "https://localhost:8080/"
        },
        "id": "ul8JCThPnXQq",
        "outputId": "4515058a-b48d-429a-aa9e-5090d70c1bfc"
      },
      "outputs": [
        {
          "output_type": "stream",
          "name": "stdout",
          "text": [
            "The accuracy on train data is  0.8767880169130656\n",
            "The accuracy on test data is  0.8783465841008283\n"
          ]
        }
      ],
      "source": [
        "# Get the accuracy scores\n",
        "train_accuracy = accuracy_score(train_class_preds,Y_train)\n",
        "test_accuracy = accuracy_score(test_class_preds,Y_test)\n",
        "\n",
        "print(\"The accuracy on train data is \", train_accuracy)\n",
        "print(\"The accuracy on test data is \", test_accuracy)"
      ]
    },
    {
      "cell_type": "code",
      "execution_count": 92,
      "metadata": {
        "id": "EHzZoDIyS0SG"
      },
      "outputs": [],
      "source": [
        "# Get the confusion matrices for train and test\n",
        "train_cm = confusion_matrix(Y_train,train_class_preds)\n",
        "test_cm = confusion_matrix(Y_test,test_class_preds )"
      ]
    },
    {
      "cell_type": "code",
      "execution_count": 93,
      "metadata": {
        "colab": {
          "base_uri": "https://localhost:8080/"
        },
        "id": "qoRcg-S9S34X",
        "outputId": "76653eb1-6588-40ca-c5e8-1e41a7967f9e"
      },
      "outputs": [
        {
          "output_type": "execute_result",
          "data": {
            "text/plain": [
              "array([[233879,     80],\n",
              "       [ 32790,     27]])"
            ]
          },
          "metadata": {},
          "execution_count": 93
        }
      ],
      "source": [
        "train_cm"
      ]
    },
    {
      "cell_type": "code",
      "execution_count": 94,
      "metadata": {
        "colab": {
          "base_uri": "https://localhost:8080/"
        },
        "id": "ROT3BefpS7nd",
        "outputId": "d939a043-d812-49fd-f7df-5bb3726fc289"
      },
      "outputs": [
        {
          "output_type": "execute_result",
          "data": {
            "text/plain": [
              "array([[100412,     28],\n",
              "       [ 13881,     12]])"
            ]
          },
          "metadata": {},
          "execution_count": 94
        }
      ],
      "source": [
        "test_cm"
      ]
    },
    {
      "cell_type": "code",
      "execution_count": 95,
      "metadata": {
        "colab": {
          "base_uri": "https://localhost:8080/",
          "height": 347
        },
        "id": "IW44hZcLnXVW",
        "outputId": "bbee559c-72f8-48e4-bb29-777336ccf651"
      },
      "outputs": [
        {
          "output_type": "stream",
          "name": "stdout",
          "text": [
            "[[233879     80]\n",
            " [ 32790     27]]\n"
          ]
        },
        {
          "output_type": "execute_result",
          "data": {
            "text/plain": [
              "[Text(0, 0.5, 'response')]"
            ]
          },
          "metadata": {},
          "execution_count": 95
        },
        {
          "output_type": "display_data",
          "data": {
            "image/png": "[encoded data removed]",
            "text/plain": [
              "<Figure size 432x288 with 2 Axes>"
            ]
          },
          "metadata": {
            "needs_background": "light"
          }
        }
      ],
      "source": [
        "labels = ['response']\n",
        "cm = confusion_matrix(Y_train, train_class_preds)\n",
        "print(cm)\n",
        "\n",
        "ax= plt.subplot()\n",
        "sns.heatmap(cm, annot=True, ax = ax) #annot=True to annotate cells\n",
        "\n",
        "# labels, title and ticks\n",
        "ax.set_xlabel('Predicted labels')\n",
        "ax.set_ylabel('True labels')\n",
        "ax.set_title('Confusion Matrix')\n",
        "ax.xaxis.set_ticklabels(labels)\n",
        "ax.yaxis.set_ticklabels(labels)"
      ]
    },
    {
      "cell_type": "code",
      "execution_count": 96,
      "metadata": {
        "colab": {
          "base_uri": "https://localhost:8080/",
          "height": 347
        },
        "id": "X8mYuYiCm1xc",
        "outputId": "5908fabb-15d3-4f27-800c-444bea8d444b"
      },
      "outputs": [
        {
          "output_type": "stream",
          "name": "stdout",
          "text": [
            "[[100412     28]\n",
            " [ 13881     12]]\n"
          ]
        },
        {
          "output_type": "execute_result",
          "data": {
            "text/plain": [
              "[Text(0, 0.5, 'Response')]"
            ]
          },
          "metadata": {},
          "execution_count": 96
        },
        {
          "output_type": "display_data",
          "data": {
            "image/png": "[encoded data removed]",
            "text/plain": [
              "<Figure size 432x288 with 2 Axes>"
            ]
          },
          "metadata": {
            "needs_background": "light"
          }
        }
      ],
      "source": [
        "# Get the confusion matrix for both train and test\n",
        "\n",
        "labels = ['Response']\n",
        "cm = confusion_matrix(Y_test, test_class_preds)\n",
        "print(cm)\n",
        "\n",
        "ax= plt.subplot()\n",
        "sns.heatmap(cm, annot=True, ax = ax); #annot=True to annotate cells\n",
        "\n",
        "# labels, title and ticks\n",
        "ax.set_xlabel('Predicted labels')\n",
        "ax.set_ylabel('True labels')\n",
        "ax.set_title('Confusion Matrix')\n",
        "ax.xaxis.set_ticklabels(labels)\n",
        "ax.yaxis.set_ticklabels(labels)"
      ]
    },
    {
      "cell_type": "code",
      "execution_count": 97,
      "metadata": {
        "colab": {
          "base_uri": "https://localhost:8080/"
        },
        "id": "ytMPqEHa-4kR",
        "outputId": "466fc549-6317-45dc-9373-c0a357f84b1d"
      },
      "outputs": [
        {
          "output_type": "execute_result",
          "data": {
            "text/plain": [
              "LogisticRegression()"
            ]
          },
          "metadata": {},
          "execution_count": 97
        }
      ],
      "source": [
        "#instantiate the model\n",
        "log_regression = LogisticRegression()\n",
        "\n",
        "#fit the model using the training data\n",
        "log_regression.fit(X_train,Y_train)"
      ]
    },
    {
      "cell_type": "code",
      "execution_count": 98,
      "metadata": {
        "colab": {
          "base_uri": "https://localhost:8080/",
          "height": 279
        },
        "id": "39ozpvOfsjvP",
        "outputId": "02dc72eb-21cf-468a-9cf9-d0563f2848fb"
      },
      "outputs": [
        {
          "output_type": "display_data",
          "data": {
            "image/png": "[encoded data removed]",
            "text/plain": [
              "<Figure size 432x288 with 1 Axes>"
            ]
          },
          "metadata": {
            "needs_background": "light"
          }
        }
      ],
      "source": [
        "#define metrics\n",
        "from sklearn import metrics\n",
        "Y_pred_proba = log_regression.predict_proba(X_test)[::,1]\n",
        "fpr, tpr, _ = metrics.roc_curve(Y_test,  Y_pred_proba)\n",
        "\n",
        "#create ROC curve\n",
        "plt.plot(fpr,tpr)\n",
        "plt.ylabel('True Positive Rate')\n",
        "plt.xlabel('False Positive Rate')\n",
        "plt.show()\n"
      ]
    },
    {
      "cell_type": "code",
      "execution_count": 99,
      "metadata": {
        "colab": {
          "base_uri": "https://localhost:8080/",
          "height": 279
        },
        "id": "2HWnzDpWsjzj",
        "outputId": "9df2b1a3-2294-4ce1-c744-8b8d1f185ef2"
      },
      "outputs": [
        {
          "output_type": "display_data",
          "data": {
            "image/png": "[encoded data removed]",
            "text/plain": [
              "<Figure size 432x288 with 1 Axes>"
            ]
          },
          "metadata": {
            "needs_background": "light"
          }
        }
      ],
      "source": [
        "#define metrics\n",
        "Y_pred_proba = log_regression.predict_proba(X_test)[::,1]\n",
        "fpr, tpr, _ = metrics.roc_curve(Y_test,  Y_pred_proba)\n",
        "auc = metrics.roc_auc_score(Y_test, Y_pred_proba)\n",
        "\n",
        "#create ROC curve\n",
        "plt.plot(fpr,tpr,label=\"AUC=\"+str(auc))\n",
        "plt.ylabel('True Positive Rate')\n",
        "plt.xlabel('False Positive Rate')\n",
        "plt.legend(loc=4)\n",
        "plt.show()"
      ]
    },
    {
      "cell_type": "code",
      "execution_count": 100,
      "metadata": {
        "id": "EHRI03jKZQqQ"
      },
      "outputs": [],
      "source": [
        "from sklearn.pipeline import make_pipeline\n"
      ]
    },
    {
      "cell_type": "code",
      "execution_count": 101,
      "metadata": {
        "colab": {
          "base_uri": "https://localhost:8080/",
          "height": 404
        },
        "id": "Gb64-xNbZV__",
        "outputId": "0ea1abaa-86b7-486d-cc53-f4dd1cf50d4c"
      },
      "outputs": [
        {
          "output_type": "stream",
          "name": "stdout",
          "text": [
            "Feature: 0, Score: -0.15055\n",
            "Feature: 1, Score: -0.35706\n",
            "Feature: 2, Score: 0.00003\n",
            "Feature: 3, Score: -5.55796\n",
            "Feature: 4, Score: 8.30221\n",
            "Feature: 5, Score: 0.00263\n",
            "Feature: 6, Score: -0.84754\n",
            "Feature: 7, Score: 0.00008\n"
          ]
        },
        {
          "output_type": "display_data",
          "data": {
            "image/png": "[encoded data removed]",
            "text/plain": [
              "<Figure size 432x288 with 1 Axes>"
            ]
          },
          "metadata": {
            "needs_background": "light"
          }
        }
      ],
      "source": [
        "importance = log_regression.coef_[0]\n",
        "# summarize feature importance\n",
        "for i,v in enumerate(importance):\n",
        "\tprint('Feature: %0d, Score: %.5f' % (i,v))\n",
        "# plot feature importance\n",
        "plt.bar([x for x in range(len(importance))], importance)\n",
        "plt.show()"
      ]
    },
    {
      "cell_type": "code",
      "execution_count": 102,
      "metadata": {
        "colab": {
          "base_uri": "https://localhost:8080/"
        },
        "id": "FbZ1JGmycn1l",
        "outputId": "3e4586ba-6615-4b29-c8c2-8c06115e3b60"
      },
      "outputs": [
        {
          "output_type": "execute_result",
          "data": {
            "text/plain": [
              "ExtraTreesRegressor()"
            ]
          },
          "metadata": {},
          "execution_count": 102
        }
      ],
      "source": [
        "from sklearn.ensemble import ExtraTreesRegressor\n",
        "import matplotlib.pyplot as plt\n",
        "model = ExtraTreesRegressor()\n",
        "model.fit(X,Y)"
      ]
    },
    {
      "cell_type": "code",
      "execution_count": 103,
      "metadata": {
        "colab": {
          "base_uri": "https://localhost:8080/"
        },
        "id": "CvH2Fw_LcqbF",
        "outputId": "b6111cbc-093c-4c31-ddee-7f0f7c940818"
      },
      "outputs": [
        {
          "output_type": "stream",
          "name": "stdout",
          "text": [
            "[0.01148639 0.08937146 0.09074674 0.1172377  0.14258794 0.19948201\n",
            " 0.15349647 0.19559129]\n"
          ]
        }
      ],
      "source": [
        "print(model.feature_importances_)\n"
      ]
    },
    {
      "cell_type": "code",
      "execution_count": 104,
      "metadata": {
        "colab": {
          "base_uri": "https://localhost:8080/",
          "height": 281
        },
        "id": "oaHFEQTHcvjU",
        "outputId": "4ea7c80c-4e6c-4773-e6db-7ad6b2aa2c34"
      },
      "outputs": [
        {
          "output_type": "display_data",
          "data": {
            "image/png": "[encoded data removed]",
            "text/plain": [
              "<Figure size 432x288 with 1 Axes>"
            ]
          },
          "metadata": {
            "needs_background": "light"
          }
        }
      ],
      "source": [
        "#plot graph of feature importances for better visualization\n",
        "feat_importances = pd.Series(model.feature_importances_, index=X.columns)\n",
        "\n",
        "# Draw a horizontal barplot of importances_sorted\n",
        "feat_importances.plot(kind='barh', color='red')\n",
        "plt.title('Features Importances')\n",
        "plt.show()\n"
      ]
    },
    {
      "cell_type": "markdown",
      "metadata": {
        "id": "SjLQRaEXTegV"
      },
      "source": [
        "#Random Forest Classifier"
      ]
    },
    {
      "cell_type": "code",
      "execution_count": 105,
      "metadata": {
        "id": "rnAcv13YFnIn"
      },
      "outputs": [],
      "source": [
        "# Number of trees\n",
        "n_estimators = [20,60,80]\n",
        "\n",
        "# Maximum depth of trees\n",
        "max_depth = [4,6,8]\n",
        "\n",
        "# Minimum number of samples required to split a node\n",
        "min_samples_split = [20,80,100]\n",
        "\n",
        "# Minimum number of samples required at each leaf node\n",
        "min_samples_leaf = [20,40]\n",
        "\n",
        "# Number of features to consider at every split\n",
        "max_features = ['auto', 'sqrt','log2']\n",
        "\n",
        "# HYperparameter Grid\n",
        "param_dict = {'n_estimators' : n_estimators,\n",
        "              'max_features': max_features,\n",
        "              'max_depth' : max_depth,\n",
        "              'min_samples_split' : min_samples_split,\n",
        "              'min_samples_leaf' : min_samples_leaf,\n",
        "               'criterion':['entropy','gini']}"
      ]
    },
    {
      "cell_type": "code",
      "execution_count": 106,
      "metadata": {
        "colab": {
          "base_uri": "https://localhost:8080/"
        },
        "id": "7EamTaA9FnNL",
        "outputId": "497eae3f-9749-40cd-f2b1-0e898f0a4c71"
      },
      "outputs": [
        {
          "output_type": "execute_result",
          "data": {
            "text/plain": [
              "{'criterion': ['entropy', 'gini'],\n",
              " 'max_depth': [4, 6, 8],\n",
              " 'max_features': ['auto', 'sqrt', 'log2'],\n",
              " 'min_samples_leaf': [20, 40],\n",
              " 'min_samples_split': [20, 80, 100],\n",
              " 'n_estimators': [20, 60, 80]}"
            ]
          },
          "metadata": {},
          "execution_count": 106
        }
      ],
      "source": [
        "param_dict"
      ]
    },
    {
      "cell_type": "code",
      "execution_count": 107,
      "metadata": {
        "colab": {
          "base_uri": "https://localhost:8080/"
        },
        "id": "3Sw85Bd8GXYX",
        "outputId": "8c8a9f28-f358-4ec2-837f-b1b38c5fcb86"
      },
      "outputs": [
        {
          "output_type": "stream",
          "name": "stdout",
          "text": [
            "Fitting 3 folds for each of 324 candidates, totalling 972 fits\n",
            "[CV] END criterion=entropy, max_depth=4, max_features=auto, min_samples_leaf=20, min_samples_split=20, n_estimators=20; total time=   3.1s\n",
            "[CV] END criterion=entropy, max_depth=4, max_features=auto, min_samples_leaf=20, min_samples_split=20, n_estimators=20; total time=   3.1s\n",
            "[CV] END criterion=entropy, max_depth=4, max_features=auto, min_samples_leaf=20, min_samples_split=20, n_estimators=20; total time=   3.1s\n",
            "[CV] END criterion=entropy, max_depth=4, max_features=auto, min_samples_leaf=20, min_samples_split=20, n_estimators=60; total time=   8.2s\n",
            "[CV] END criterion=entropy, max_depth=4, max_features=auto, min_samples_leaf=20, min_samples_split=20, n_estimators=60; total time=   9.0s\n",
            "[CV] END criterion=entropy, max_depth=4, max_features=auto, min_samples_leaf=20, min_samples_split=20, n_estimators=60; total time=   8.5s\n",
            "[CV] END criterion=entropy, max_depth=4, max_features=auto, min_samples_leaf=20, min_samples_split=20, n_estimators=80; total time=  10.9s\n",
            "[CV] END criterion=entropy, max_depth=4, max_features=auto, min_samples_leaf=20, min_samples_split=20, n_estimators=80; total time=  10.9s\n",
            "[CV] END criterion=entropy, max_depth=4, max_features=auto, min_samples_leaf=20, min_samples_split=20, n_estimators=80; total time=  11.2s\n",
            "[CV] END criterion=entropy, max_depth=4, max_features=auto, min_samples_leaf=20, min_samples_split=80, n_estimators=20; total time=   2.9s\n",
            "[CV] END criterion=entropy, max_depth=4, max_features=auto, min_samples_leaf=20, min_samples_split=80, n_estimators=20; total time=   3.0s\n",
            "[CV] END criterion=entropy, max_depth=4, max_features=auto, min_samples_leaf=20, min_samples_split=80, n_estimators=20; total time=   3.1s\n",
            "[CV] END criterion=entropy, max_depth=4, max_features=auto, min_samples_leaf=20, min_samples_split=80, n_estimators=60; total time=   8.1s\n",
            "[CV] END criterion=entropy, max_depth=4, max_features=auto, min_samples_leaf=20, min_samples_split=80, n_estimators=60; total time=   8.1s\n",
            "[CV] END criterion=entropy, max_depth=4, max_features=auto, min_samples_leaf=20, min_samples_split=80, n_estimators=60; total time=   8.4s\n",
            "[CV] END criterion=entropy, max_depth=4, max_features=auto, min_samples_leaf=20, min_samples_split=80, n_estimators=80; total time=  11.0s\n",
            "[CV] END criterion=entropy, max_depth=4, max_features=auto, min_samples_leaf=20, min_samples_split=80, n_estimators=80; total time=  12.6s\n",
            "[CV] END criterion=entropy, max_depth=4, max_features=auto, min_samples_leaf=20, min_samples_split=80, n_estimators=80; total time=  10.8s\n",
            "[CV] END criterion=entropy, max_depth=4, max_features=auto, min_samples_leaf=20, min_samples_split=100, n_estimators=20; total time=   3.1s\n",
            "[CV] END criterion=entropy, max_depth=4, max_features=auto, min_samples_leaf=20, min_samples_split=100, n_estimators=20; total time=   2.9s\n",
            "[CV] END criterion=entropy, max_depth=4, max_features=auto, min_samples_leaf=20, min_samples_split=100, n_estimators=20; total time=   3.0s\n",
            "[CV] END criterion=entropy, max_depth=4, max_features=auto, min_samples_leaf=20, min_samples_split=100, n_estimators=60; total time=   8.2s\n",
            "[CV] END criterion=entropy, max_depth=4, max_features=auto, min_samples_leaf=20, min_samples_split=100, n_estimators=60; total time=   8.4s\n",
            "[CV] END criterion=entropy, max_depth=4, max_features=auto, min_samples_leaf=20, min_samples_split=100, n_estimators=60; total time=   8.3s\n",
            "[CV] END criterion=entropy, max_depth=4, max_features=auto, min_samples_leaf=20, min_samples_split=100, n_estimators=80; total time=  10.5s\n",
            "[CV] END criterion=entropy, max_depth=4, max_features=auto, min_samples_leaf=20, min_samples_split=100, n_estimators=80; total time=  10.7s\n",
            "[CV] END criterion=entropy, max_depth=4, max_features=auto, min_samples_leaf=20, min_samples_split=100, n_estimators=80; total time=  11.0s\n",
            "[CV] END criterion=entropy, max_depth=4, max_features=auto, min_samples_leaf=40, min_samples_split=20, n_estimators=20; total time=   3.0s\n",
            "[CV] END criterion=entropy, max_depth=4, max_features=auto, min_samples_leaf=40, min_samples_split=20, n_estimators=20; total time=   3.0s\n",
            "[CV] END criterion=entropy, max_depth=4, max_features=auto, min_samples_leaf=40, min_samples_split=20, n_estimators=20; total time=   3.2s\n",
            "[CV] END criterion=entropy, max_depth=4, max_features=auto, min_samples_leaf=40, min_samples_split=20, n_estimators=60; total time=   8.5s\n",
            "[CV] END criterion=entropy, max_depth=4, max_features=auto, min_samples_leaf=40, min_samples_split=20, n_estimators=60; total time=   8.3s\n",
            "[CV] END criterion=entropy, max_depth=4, max_features=auto, min_samples_leaf=40, min_samples_split=20, n_estimators=60; total time=   8.2s\n",
            "[CV] END criterion=entropy, max_depth=4, max_features=auto, min_samples_leaf=40, min_samples_split=20, n_estimators=80; total time=  10.7s\n",
            "[CV] END criterion=entropy, max_depth=4, max_features=auto, min_samples_leaf=40, min_samples_split=20, n_estimators=80; total time=  10.7s\n",
            "[CV] END criterion=entropy, max_depth=4, max_features=auto, min_samples_leaf=40, min_samples_split=20, n_estimators=80; total time=  10.9s\n",
            "[CV] END criterion=entropy, max_depth=4, max_features=auto, min_samples_leaf=40, min_samples_split=80, n_estimators=20; total time=   3.2s\n",
            "[CV] END criterion=entropy, max_depth=4, max_features=auto, min_samples_leaf=40, min_samples_split=80, n_estimators=20; total time=   3.1s\n",
            "[CV] END criterion=entropy, max_depth=4, max_features=auto, min_samples_leaf=40, min_samples_split=80, n_estimators=20; total time=   3.0s\n",
            "[CV] END criterion=entropy, max_depth=4, max_features=auto, min_samples_leaf=40, min_samples_split=80, n_estimators=60; total time=   8.4s\n",
            "[CV] END criterion=entropy, max_depth=4, max_features=auto, min_samples_leaf=40, min_samples_split=80, n_estimators=60; total time=   8.3s\n",
            "[CV] END criterion=entropy, max_depth=4, max_features=auto, min_samples_leaf=40, min_samples_split=80, n_estimators=60; total time=   8.4s\n",
            "[CV] END criterion=entropy, max_depth=4, max_features=auto, min_samples_leaf=40, min_samples_split=80, n_estimators=80; total time=  11.0s\n",
            "[CV] END criterion=entropy, max_depth=4, max_features=auto, min_samples_leaf=40, min_samples_split=80, n_estimators=80; total time=  10.9s\n",
            "[CV] END criterion=entropy, max_depth=4, max_features=auto, min_samples_leaf=40, min_samples_split=80, n_estimators=80; total time=  11.2s\n",
            "[CV] END criterion=entropy, max_depth=4, max_features=auto, min_samples_leaf=40, min_samples_split=100, n_estimators=20; total time=   3.1s\n",
            "[CV] END criterion=entropy, max_depth=4, max_features=auto, min_samples_leaf=40, min_samples_split=100, n_estimators=20; total time=   3.1s\n",
            "[CV] END criterion=entropy, max_depth=4, max_features=auto, min_samples_leaf=40, min_samples_split=100, n_estimators=20; total time=   3.1s\n",
            "[CV] END criterion=entropy, max_depth=4, max_features=auto, min_samples_leaf=40, min_samples_split=100, n_estimators=60; total time=   8.7s\n",
            "[CV] END criterion=entropy, max_depth=4, max_features=auto, min_samples_leaf=40, min_samples_split=100, n_estimators=60; total time=   8.3s\n",
            "[CV] END criterion=entropy, max_depth=4, max_features=auto, min_samples_leaf=40, min_samples_split=100, n_estimators=60; total time=   8.1s\n",
            "[CV] END criterion=entropy, max_depth=4, max_features=auto, min_samples_leaf=40, min_samples_split=100, n_estimators=80; total time=  11.2s\n",
            "[CV] END criterion=entropy, max_depth=4, max_features=auto, min_samples_leaf=40, min_samples_split=100, n_estimators=80; total time=  10.8s\n",
            "[CV] END criterion=entropy, max_depth=4, max_features=auto, min_samples_leaf=40, min_samples_split=100, n_estimators=80; total time=  11.1s\n",
            "[CV] END criterion=entropy, max_depth=4, max_features=sqrt, min_samples_leaf=20, min_samples_split=20, n_estimators=20; total time=   3.0s\n",
            "[CV] END criterion=entropy, max_depth=4, max_features=sqrt, min_samples_leaf=20, min_samples_split=20, n_estimators=20; total time=   3.1s\n",
            "[CV] END criterion=entropy, max_depth=4, max_features=sqrt, min_samples_leaf=20, min_samples_split=20, n_estimators=20; total time=   3.1s\n",
            "[CV] END criterion=entropy, max_depth=4, max_features=sqrt, min_samples_leaf=20, min_samples_split=20, n_estimators=60; total time=   8.0s\n",
            "[CV] END criterion=entropy, max_depth=4, max_features=sqrt, min_samples_leaf=20, min_samples_split=20, n_estimators=60; total time=   8.5s\n",
            "[CV] END criterion=entropy, max_depth=4, max_features=sqrt, min_samples_leaf=20, min_samples_split=20, n_estimators=60; total time=   8.5s\n",
            "[CV] END criterion=entropy, max_depth=4, max_features=sqrt, min_samples_leaf=20, min_samples_split=20, n_estimators=80; total time=  10.4s\n",
            "[CV] END criterion=entropy, max_depth=4, max_features=sqrt, min_samples_leaf=20, min_samples_split=20, n_estimators=80; total time=  11.0s\n",
            "[CV] END criterion=entropy, max_depth=4, max_features=sqrt, min_samples_leaf=20, min_samples_split=20, n_estimators=80; total time=  11.0s\n",
            "[CV] END criterion=entropy, max_depth=4, max_features=sqrt, min_samples_leaf=20, min_samples_split=80, n_estimators=20; total time=   3.0s\n",
            "[CV] END criterion=entropy, max_depth=4, max_features=sqrt, min_samples_leaf=20, min_samples_split=80, n_estimators=20; total time=   2.9s\n",
            "[CV] END criterion=entropy, max_depth=4, max_features=sqrt, min_samples_leaf=20, min_samples_split=80, n_estimators=20; total time=   3.1s\n",
            "[CV] END criterion=entropy, max_depth=4, max_features=sqrt, min_samples_leaf=20, min_samples_split=80, n_estimators=60; total time=   8.6s\n",
            "[CV] END criterion=entropy, max_depth=4, max_features=sqrt, min_samples_leaf=20, min_samples_split=80, n_estimators=60; total time=   8.7s\n",
            "[CV] END criterion=entropy, max_depth=4, max_features=sqrt, min_samples_leaf=20, min_samples_split=80, n_estimators=60; total time=   8.5s\n",
            "[CV] END criterion=entropy, max_depth=4, max_features=sqrt, min_samples_leaf=20, min_samples_split=80, n_estimators=80; total time=  11.1s\n",
            "[CV] END criterion=entropy, max_depth=4, max_features=sqrt, min_samples_leaf=20, min_samples_split=80, n_estimators=80; total time=  11.0s\n",
            "[CV] END criterion=entropy, max_depth=4, max_features=sqrt, min_samples_leaf=20, min_samples_split=80, n_estimators=80; total time=  11.0s\n",
            "[CV] END criterion=entropy, max_depth=4, max_features=sqrt, min_samples_leaf=20, min_samples_split=100, n_estimators=20; total time=   3.1s\n",
            "[CV] END criterion=entropy, max_depth=4, max_features=sqrt, min_samples_leaf=20, min_samples_split=100, n_estimators=20; total time=   2.9s\n",
            "[CV] END criterion=entropy, max_depth=4, max_features=sqrt, min_samples_leaf=20, min_samples_split=100, n_estimators=20; total time=   3.3s\n",
            "[CV] END criterion=entropy, max_depth=4, max_features=sqrt, min_samples_leaf=20, min_samples_split=100, n_estimators=60; total time=   8.3s\n",
            "[CV] END criterion=entropy, max_depth=4, max_features=sqrt, min_samples_leaf=20, min_samples_split=100, n_estimators=60; total time=   8.3s\n",
            "[CV] END criterion=entropy, max_depth=4, max_features=sqrt, min_samples_leaf=20, min_samples_split=100, n_estimators=60; total time=   8.6s\n",
            "[CV] END criterion=entropy, max_depth=4, max_features=sqrt, min_samples_leaf=20, min_samples_split=100, n_estimators=80; total time=  11.6s\n",
            "[CV] END criterion=entropy, max_depth=4, max_features=sqrt, min_samples_leaf=20, min_samples_split=100, n_estimators=80; total time=  11.4s\n",
            "[CV] END criterion=entropy, max_depth=4, max_features=sqrt, min_samples_leaf=20, min_samples_split=100, n_estimators=80; total time=  11.0s\n",
            "[CV] END criterion=entropy, max_depth=4, max_features=sqrt, min_samples_leaf=40, min_samples_split=20, n_estimators=20; total time=   3.2s\n",
            "[CV] END criterion=entropy, max_depth=4, max_features=sqrt, min_samples_leaf=40, min_samples_split=20, n_estimators=20; total time=   2.9s\n",
            "[CV] END criterion=entropy, max_depth=4, max_features=sqrt, min_samples_leaf=40, min_samples_split=20, n_estimators=20; total time=   3.0s\n",
            "[CV] END criterion=entropy, max_depth=4, max_features=sqrt, min_samples_leaf=40, min_samples_split=20, n_estimators=60; total time=   8.3s\n",
            "[CV] END criterion=entropy, max_depth=4, max_features=sqrt, min_samples_leaf=40, min_samples_split=20, n_estimators=60; total time=   8.6s\n",
            "[CV] END criterion=entropy, max_depth=4, max_features=sqrt, min_samples_leaf=40, min_samples_split=20, n_estimators=60; total time=   9.2s\n",
            "[CV] END criterion=entropy, max_depth=4, max_features=sqrt, min_samples_leaf=40, min_samples_split=20, n_estimators=80; total time=  12.0s\n",
            "[CV] END criterion=entropy, max_depth=4, max_features=sqrt, min_samples_leaf=40, min_samples_split=20, n_estimators=80; total time=  11.6s\n",
            "[CV] END criterion=entropy, max_depth=4, max_features=sqrt, min_samples_leaf=40, min_samples_split=20, n_estimators=80; total time=  11.4s\n",
            "[CV] END criterion=entropy, max_depth=4, max_features=sqrt, min_samples_leaf=40, min_samples_split=80, n_estimators=20; total time=   3.0s\n",
            "[CV] END criterion=entropy, max_depth=4, max_features=sqrt, min_samples_leaf=40, min_samples_split=80, n_estimators=20; total time=   3.1s\n",
            "[CV] END criterion=entropy, max_depth=4, max_features=sqrt, min_samples_leaf=40, min_samples_split=80, n_estimators=20; total time=   3.1s\n",
            "[CV] END criterion=entropy, max_depth=4, max_features=sqrt, min_samples_leaf=40, min_samples_split=80, n_estimators=60; total time=   8.8s\n",
            "[CV] END criterion=entropy, max_depth=4, max_features=sqrt, min_samples_leaf=40, min_samples_split=80, n_estimators=60; total time=   8.2s\n",
            "[CV] END criterion=entropy, max_depth=4, max_features=sqrt, min_samples_leaf=40, min_samples_split=80, n_estimators=60; total time=   8.1s\n",
            "[CV] END criterion=entropy, max_depth=4, max_features=sqrt, min_samples_leaf=40, min_samples_split=80, n_estimators=80; total time=  10.9s\n",
            "[CV] END criterion=entropy, max_depth=4, max_features=sqrt, min_samples_leaf=40, min_samples_split=80, n_estimators=80; total time=  10.7s\n",
            "[CV] END criterion=entropy, max_depth=4, max_features=sqrt, min_samples_leaf=40, min_samples_split=80, n_estimators=80; total time=  10.8s\n",
            "[CV] END criterion=entropy, max_depth=4, max_features=sqrt, min_samples_leaf=40, min_samples_split=100, n_estimators=20; total time=   3.0s\n",
            "[CV] END criterion=entropy, max_depth=4, max_features=sqrt, min_samples_leaf=40, min_samples_split=100, n_estimators=20; total time=   2.9s\n",
            "[CV] END criterion=entropy, max_depth=4, max_features=sqrt, min_samples_leaf=40, min_samples_split=100, n_estimators=20; total time=   3.2s\n",
            "[CV] END criterion=entropy, max_depth=4, max_features=sqrt, min_samples_leaf=40, min_samples_split=100, n_estimators=60; total time=   8.4s\n",
            "[CV] END criterion=entropy, max_depth=4, max_features=sqrt, min_samples_leaf=40, min_samples_split=100, n_estimators=60; total time=   8.0s\n",
            "[CV] END criterion=entropy, max_depth=4, max_features=sqrt, min_samples_leaf=40, min_samples_split=100, n_estimators=60; total time=   8.5s\n",
            "[CV] END criterion=entropy, max_depth=4, max_features=sqrt, min_samples_leaf=40, min_samples_split=100, n_estimators=80; total time=  10.8s\n",
            "[CV] END criterion=entropy, max_depth=4, max_features=sqrt, min_samples_leaf=40, min_samples_split=100, n_estimators=80; total time=  11.0s\n",
            "[CV] END criterion=entropy, max_depth=4, max_features=sqrt, min_samples_leaf=40, min_samples_split=100, n_estimators=80; total time=  10.7s\n",
            "[CV] END criterion=entropy, max_depth=4, max_features=log2, min_samples_leaf=20, min_samples_split=20, n_estimators=20; total time=   4.1s\n",
            "[CV] END criterion=entropy, max_depth=4, max_features=log2, min_samples_leaf=20, min_samples_split=20, n_estimators=20; total time=   4.0s\n",
            "[CV] END criterion=entropy, max_depth=4, max_features=log2, min_samples_leaf=20, min_samples_split=20, n_estimators=20; total time=   3.8s\n",
            "[CV] END criterion=entropy, max_depth=4, max_features=log2, min_samples_leaf=20, min_samples_split=20, n_estimators=60; total time=  11.2s\n",
            "[CV] END criterion=entropy, max_depth=4, max_features=log2, min_samples_leaf=20, min_samples_split=20, n_estimators=60; total time=  11.5s\n",
            "[CV] END criterion=entropy, max_depth=4, max_features=log2, min_samples_leaf=20, min_samples_split=20, n_estimators=60; total time=  10.8s\n",
            "[CV] END criterion=entropy, max_depth=4, max_features=log2, min_samples_leaf=20, min_samples_split=20, n_estimators=80; total time=  14.9s\n",
            "[CV] END criterion=entropy, max_depth=4, max_features=log2, min_samples_leaf=20, min_samples_split=20, n_estimators=80; total time=  14.8s\n",
            "[CV] END criterion=entropy, max_depth=4, max_features=log2, min_samples_leaf=20, min_samples_split=20, n_estimators=80; total time=  15.0s\n",
            "[CV] END criterion=entropy, max_depth=4, max_features=log2, min_samples_leaf=20, min_samples_split=80, n_estimators=20; total time=   3.9s\n",
            "[CV] END criterion=entropy, max_depth=4, max_features=log2, min_samples_leaf=20, min_samples_split=80, n_estimators=20; total time=   3.8s\n",
            "[CV] END criterion=entropy, max_depth=4, max_features=log2, min_samples_leaf=20, min_samples_split=80, n_estimators=20; total time=   4.0s\n",
            "[CV] END criterion=entropy, max_depth=4, max_features=log2, min_samples_leaf=20, min_samples_split=80, n_estimators=60; total time=  11.3s\n",
            "[CV] END criterion=entropy, max_depth=4, max_features=log2, min_samples_leaf=20, min_samples_split=80, n_estimators=60; total time=  11.5s\n",
            "[CV] END criterion=entropy, max_depth=4, max_features=log2, min_samples_leaf=20, min_samples_split=80, n_estimators=60; total time=  11.6s\n",
            "[CV] END criterion=entropy, max_depth=4, max_features=log2, min_samples_leaf=20, min_samples_split=80, n_estimators=80; total time=  14.4s\n",
            "[CV] END criterion=entropy, max_depth=4, max_features=log2, min_samples_leaf=20, min_samples_split=80, n_estimators=80; total time=  14.5s\n",
            "[CV] END criterion=entropy, max_depth=4, max_features=log2, min_samples_leaf=20, min_samples_split=80, n_estimators=80; total time=  14.7s\n",
            "[CV] END criterion=entropy, max_depth=4, max_features=log2, min_samples_leaf=20, min_samples_split=100, n_estimators=20; total time=   4.1s\n",
            "[CV] END criterion=entropy, max_depth=4, max_features=log2, min_samples_leaf=20, min_samples_split=100, n_estimators=20; total time=   4.2s\n",
            "[CV] END criterion=entropy, max_depth=4, max_features=log2, min_samples_leaf=20, min_samples_split=100, n_estimators=20; total time=   4.1s\n",
            "[CV] END criterion=entropy, max_depth=4, max_features=log2, min_samples_leaf=20, min_samples_split=100, n_estimators=60; total time=  11.5s\n",
            "[CV] END criterion=entropy, max_depth=4, max_features=log2, min_samples_leaf=20, min_samples_split=100, n_estimators=60; total time=  11.4s\n",
            "[CV] END criterion=entropy, max_depth=4, max_features=log2, min_samples_leaf=20, min_samples_split=100, n_estimators=60; total time=  11.1s\n",
            "[CV] END criterion=entropy, max_depth=4, max_features=log2, min_samples_leaf=20, min_samples_split=100, n_estimators=80; total time=  14.8s\n",
            "[CV] END criterion=entropy, max_depth=4, max_features=log2, min_samples_leaf=20, min_samples_split=100, n_estimators=80; total time=  15.2s\n",
            "[CV] END criterion=entropy, max_depth=4, max_features=log2, min_samples_leaf=20, min_samples_split=100, n_estimators=80; total time=  15.2s\n",
            "[CV] END criterion=entropy, max_depth=4, max_features=log2, min_samples_leaf=40, min_samples_split=20, n_estimators=20; total time=   4.1s\n",
            "[CV] END criterion=entropy, max_depth=4, max_features=log2, min_samples_leaf=40, min_samples_split=20, n_estimators=20; total time=   4.1s\n",
            "[CV] END criterion=entropy, max_depth=4, max_features=log2, min_samples_leaf=40, min_samples_split=20, n_estimators=20; total time=   4.2s\n",
            "[CV] END criterion=entropy, max_depth=4, max_features=log2, min_samples_leaf=40, min_samples_split=20, n_estimators=60; total time=  11.1s\n",
            "[CV] END criterion=entropy, max_depth=4, max_features=log2, min_samples_leaf=40, min_samples_split=20, n_estimators=60; total time=  11.2s\n",
            "[CV] END criterion=entropy, max_depth=4, max_features=log2, min_samples_leaf=40, min_samples_split=20, n_estimators=60; total time=  11.4s\n",
            "[CV] END criterion=entropy, max_depth=4, max_features=log2, min_samples_leaf=40, min_samples_split=20, n_estimators=80; total time=  14.8s\n",
            "[CV] END criterion=entropy, max_depth=4, max_features=log2, min_samples_leaf=40, min_samples_split=20, n_estimators=80; total time=  14.1s\n",
            "[CV] END criterion=entropy, max_depth=4, max_features=log2, min_samples_leaf=40, min_samples_split=20, n_estimators=80; total time=  14.0s\n",
            "[CV] END criterion=entropy, max_depth=4, max_features=log2, min_samples_leaf=40, min_samples_split=80, n_estimators=20; total time=   3.6s\n",
            "[CV] END criterion=entropy, max_depth=4, max_features=log2, min_samples_leaf=40, min_samples_split=80, n_estimators=20; total time=   3.9s\n",
            "[CV] END criterion=entropy, max_depth=4, max_features=log2, min_samples_leaf=40, min_samples_split=80, n_estimators=20; total time=   3.7s\n",
            "[CV] END criterion=entropy, max_depth=4, max_features=log2, min_samples_leaf=40, min_samples_split=80, n_estimators=60; total time=  10.6s\n",
            "[CV] END criterion=entropy, max_depth=4, max_features=log2, min_samples_leaf=40, min_samples_split=80, n_estimators=60; total time=  10.7s\n",
            "[CV] END criterion=entropy, max_depth=4, max_features=log2, min_samples_leaf=40, min_samples_split=80, n_estimators=60; total time=  10.9s\n",
            "[CV] END criterion=entropy, max_depth=4, max_features=log2, min_samples_leaf=40, min_samples_split=80, n_estimators=80; total time=  14.7s\n",
            "[CV] END criterion=entropy, max_depth=4, max_features=log2, min_samples_leaf=40, min_samples_split=80, n_estimators=80; total time=  14.8s\n",
            "[CV] END criterion=entropy, max_depth=4, max_features=log2, min_samples_leaf=40, min_samples_split=80, n_estimators=80; total time=  14.3s\n",
            "[CV] END criterion=entropy, max_depth=4, max_features=log2, min_samples_leaf=40, min_samples_split=100, n_estimators=20; total time=   3.9s\n",
            "[CV] END criterion=entropy, max_depth=4, max_features=log2, min_samples_leaf=40, min_samples_split=100, n_estimators=20; total time=   4.0s\n",
            "[CV] END criterion=entropy, max_depth=4, max_features=log2, min_samples_leaf=40, min_samples_split=100, n_estimators=20; total time=   4.1s\n",
            "[CV] END criterion=entropy, max_depth=4, max_features=log2, min_samples_leaf=40, min_samples_split=100, n_estimators=60; total time=  11.3s\n",
            "[CV] END criterion=entropy, max_depth=4, max_features=log2, min_samples_leaf=40, min_samples_split=100, n_estimators=60; total time=  11.2s\n",
            "[CV] END criterion=entropy, max_depth=4, max_features=log2, min_samples_leaf=40, min_samples_split=100, n_estimators=60; total time=  10.8s\n",
            "[CV] END criterion=entropy, max_depth=4, max_features=log2, min_samples_leaf=40, min_samples_split=100, n_estimators=80; total time=  14.7s\n",
            "[CV] END criterion=entropy, max_depth=4, max_features=log2, min_samples_leaf=40, min_samples_split=100, n_estimators=80; total time=  14.0s\n",
            "[CV] END criterion=entropy, max_depth=4, max_features=log2, min_samples_leaf=40, min_samples_split=100, n_estimators=80; total time=  14.2s\n",
            "[CV] END criterion=entropy, max_depth=6, max_features=auto, min_samples_leaf=20, min_samples_split=20, n_estimators=20; total time=   4.1s\n",
            "[CV] END criterion=entropy, max_depth=6, max_features=auto, min_samples_leaf=20, min_samples_split=20, n_estimators=20; total time=   3.9s\n",
            "[CV] END criterion=entropy, max_depth=6, max_features=auto, min_samples_leaf=20, min_samples_split=20, n_estimators=20; total time=   4.1s\n",
            "[CV] END criterion=entropy, max_depth=6, max_features=auto, min_samples_leaf=20, min_samples_split=20, n_estimators=60; total time=  11.1s\n",
            "[CV] END criterion=entropy, max_depth=6, max_features=auto, min_samples_leaf=20, min_samples_split=20, n_estimators=60; total time=  11.0s\n",
            "[CV] END criterion=entropy, max_depth=6, max_features=auto, min_samples_leaf=20, min_samples_split=20, n_estimators=60; total time=  10.9s\n",
            "[CV] END criterion=entropy, max_depth=6, max_features=auto, min_samples_leaf=20, min_samples_split=20, n_estimators=80; total time=  14.4s\n",
            "[CV] END criterion=entropy, max_depth=6, max_features=auto, min_samples_leaf=20, min_samples_split=20, n_estimators=80; total time=  14.5s\n",
            "[CV] END criterion=entropy, max_depth=6, max_features=auto, min_samples_leaf=20, min_samples_split=20, n_estimators=80; total time=  14.6s\n",
            "[CV] END criterion=entropy, max_depth=6, max_features=auto, min_samples_leaf=20, min_samples_split=80, n_estimators=20; total time=   3.9s\n",
            "[CV] END criterion=entropy, max_depth=6, max_features=auto, min_samples_leaf=20, min_samples_split=80, n_estimators=20; total time=   6.9s\n",
            "[CV] END criterion=entropy, max_depth=6, max_features=auto, min_samples_leaf=20, min_samples_split=80, n_estimators=20; total time=   8.0s\n",
            "[CV] END criterion=entropy, max_depth=6, max_features=auto, min_samples_leaf=20, min_samples_split=80, n_estimators=60; total time=  11.2s\n",
            "[CV] END criterion=entropy, max_depth=6, max_features=auto, min_samples_leaf=20, min_samples_split=80, n_estimators=60; total time=  11.2s\n",
            "[CV] END criterion=entropy, max_depth=6, max_features=auto, min_samples_leaf=20, min_samples_split=80, n_estimators=60; total time=  10.9s\n",
            "[CV] END criterion=entropy, max_depth=6, max_features=auto, min_samples_leaf=20, min_samples_split=80, n_estimators=80; total time=  14.8s\n",
            "[CV] END criterion=entropy, max_depth=6, max_features=auto, min_samples_leaf=20, min_samples_split=80, n_estimators=80; total time=  14.1s\n",
            "[CV] END criterion=entropy, max_depth=6, max_features=auto, min_samples_leaf=20, min_samples_split=80, n_estimators=80; total time=  14.2s\n",
            "[CV] END criterion=entropy, max_depth=6, max_features=auto, min_samples_leaf=20, min_samples_split=100, n_estimators=20; total time=   3.9s\n",
            "[CV] END criterion=entropy, max_depth=6, max_features=auto, min_samples_leaf=20, min_samples_split=100, n_estimators=20; total time=   4.0s\n",
            "[CV] END criterion=entropy, max_depth=6, max_features=auto, min_samples_leaf=20, min_samples_split=100, n_estimators=20; total time=   3.7s\n",
            "[CV] END criterion=entropy, max_depth=6, max_features=auto, min_samples_leaf=20, min_samples_split=100, n_estimators=60; total time=  12.0s\n",
            "[CV] END criterion=entropy, max_depth=6, max_features=auto, min_samples_leaf=20, min_samples_split=100, n_estimators=60; total time=  10.8s\n",
            "[CV] END criterion=entropy, max_depth=6, max_features=auto, min_samples_leaf=20, min_samples_split=100, n_estimators=60; total time=  10.5s\n",
            "[CV] END criterion=entropy, max_depth=6, max_features=auto, min_samples_leaf=20, min_samples_split=100, n_estimators=80; total time=  14.6s\n",
            "[CV] END criterion=entropy, max_depth=6, max_features=auto, min_samples_leaf=20, min_samples_split=100, n_estimators=80; total time=  14.0s\n",
            "[CV] END criterion=entropy, max_depth=6, max_features=auto, min_samples_leaf=20, min_samples_split=100, n_estimators=80; total time=  14.7s\n",
            "[CV] END criterion=entropy, max_depth=6, max_features=auto, min_samples_leaf=40, min_samples_split=20, n_estimators=20; total time=   4.0s\n",
            "[CV] END criterion=entropy, max_depth=6, max_features=auto, min_samples_leaf=40, min_samples_split=20, n_estimators=20; total time=   3.9s\n",
            "[CV] END criterion=entropy, max_depth=6, max_features=auto, min_samples_leaf=40, min_samples_split=20, n_estimators=20; total time=   4.0s\n",
            "[CV] END criterion=entropy, max_depth=6, max_features=auto, min_samples_leaf=40, min_samples_split=20, n_estimators=60; total time=  10.9s\n",
            "[CV] END criterion=entropy, max_depth=6, max_features=auto, min_samples_leaf=40, min_samples_split=20, n_estimators=60; total time=  11.0s\n",
            "[CV] END criterion=entropy, max_depth=6, max_features=auto, min_samples_leaf=40, min_samples_split=20, n_estimators=60; total time=  11.0s\n",
            "[CV] END criterion=entropy, max_depth=6, max_features=auto, min_samples_leaf=40, min_samples_split=20, n_estimators=80; total time=  14.1s\n",
            "[CV] END criterion=entropy, max_depth=6, max_features=auto, min_samples_leaf=40, min_samples_split=20, n_estimators=80; total time=  14.5s\n",
            "[CV] END criterion=entropy, max_depth=6, max_features=auto, min_samples_leaf=40, min_samples_split=20, n_estimators=80; total time=  14.2s\n",
            "[CV] END criterion=entropy, max_depth=6, max_features=auto, min_samples_leaf=40, min_samples_split=80, n_estimators=20; total time=   4.0s\n",
            "[CV] END criterion=entropy, max_depth=6, max_features=auto, min_samples_leaf=40, min_samples_split=80, n_estimators=20; total time=   4.1s\n",
            "[CV] END criterion=entropy, max_depth=6, max_features=auto, min_samples_leaf=40, min_samples_split=80, n_estimators=20; total time=   3.9s\n",
            "[CV] END criterion=entropy, max_depth=6, max_features=auto, min_samples_leaf=40, min_samples_split=80, n_estimators=60; total time=  10.8s\n",
            "[CV] END criterion=entropy, max_depth=6, max_features=auto, min_samples_leaf=40, min_samples_split=80, n_estimators=60; total time=  10.7s\n",
            "[CV] END criterion=entropy, max_depth=6, max_features=auto, min_samples_leaf=40, min_samples_split=80, n_estimators=60; total time=  11.0s\n",
            "[CV] END criterion=entropy, max_depth=6, max_features=auto, min_samples_leaf=40, min_samples_split=80, n_estimators=80; total time=  14.5s\n",
            "[CV] END criterion=entropy, max_depth=6, max_features=auto, min_samples_leaf=40, min_samples_split=80, n_estimators=80; total time=  14.8s\n",
            "[CV] END criterion=entropy, max_depth=6, max_features=auto, min_samples_leaf=40, min_samples_split=80, n_estimators=80; total time=  14.3s\n",
            "[CV] END criterion=entropy, max_depth=6, max_features=auto, min_samples_leaf=40, min_samples_split=100, n_estimators=20; total time=   4.0s\n",
            "[CV] END criterion=entropy, max_depth=6, max_features=auto, min_samples_leaf=40, min_samples_split=100, n_estimators=20; total time=   3.8s\n",
            "[CV] END criterion=entropy, max_depth=6, max_features=auto, min_samples_leaf=40, min_samples_split=100, n_estimators=20; total time=   4.0s\n",
            "[CV] END criterion=entropy, max_depth=6, max_features=auto, min_samples_leaf=40, min_samples_split=100, n_estimators=60; total time=  10.9s\n",
            "[CV] END criterion=entropy, max_depth=6, max_features=auto, min_samples_leaf=40, min_samples_split=100, n_estimators=60; total time=  11.1s\n",
            "[CV] END criterion=entropy, max_depth=6, max_features=auto, min_samples_leaf=40, min_samples_split=100, n_estimators=60; total time=  11.4s\n",
            "[CV] END criterion=entropy, max_depth=6, max_features=auto, min_samples_leaf=40, min_samples_split=100, n_estimators=80; total time=  14.6s\n",
            "[CV] END criterion=entropy, max_depth=6, max_features=auto, min_samples_leaf=40, min_samples_split=100, n_estimators=80; total time=  14.3s\n",
            "[CV] END criterion=entropy, max_depth=6, max_features=auto, min_samples_leaf=40, min_samples_split=100, n_estimators=80; total time=  14.6s\n",
            "[CV] END criterion=entropy, max_depth=6, max_features=sqrt, min_samples_leaf=20, min_samples_split=20, n_estimators=20; total time=   3.9s\n",
            "[CV] END criterion=entropy, max_depth=6, max_features=sqrt, min_samples_leaf=20, min_samples_split=20, n_estimators=20; total time=   4.2s\n",
            "[CV] END criterion=entropy, max_depth=6, max_features=sqrt, min_samples_leaf=20, min_samples_split=20, n_estimators=20; total time=   4.1s\n",
            "[CV] END criterion=entropy, max_depth=6, max_features=sqrt, min_samples_leaf=20, min_samples_split=20, n_estimators=60; total time=  11.1s\n",
            "[CV] END criterion=entropy, max_depth=6, max_features=sqrt, min_samples_leaf=20, min_samples_split=20, n_estimators=60; total time=  11.2s\n",
            "[CV] END criterion=entropy, max_depth=6, max_features=sqrt, min_samples_leaf=20, min_samples_split=20, n_estimators=60; total time=  11.0s\n",
            "[CV] END criterion=entropy, max_depth=6, max_features=sqrt, min_samples_leaf=20, min_samples_split=20, n_estimators=80; total time=  14.5s\n",
            "[CV] END criterion=entropy, max_depth=6, max_features=sqrt, min_samples_leaf=20, min_samples_split=20, n_estimators=80; total time=  14.8s\n",
            "[CV] END criterion=entropy, max_depth=6, max_features=sqrt, min_samples_leaf=20, min_samples_split=20, n_estimators=80; total time=  14.8s\n",
            "[CV] END criterion=entropy, max_depth=6, max_features=sqrt, min_samples_leaf=20, min_samples_split=80, n_estimators=20; total time=   3.7s\n",
            "[CV] END criterion=entropy, max_depth=6, max_features=sqrt, min_samples_leaf=20, min_samples_split=80, n_estimators=20; total time=   3.8s\n",
            "[CV] END criterion=entropy, max_depth=6, max_features=sqrt, min_samples_leaf=20, min_samples_split=80, n_estimators=20; total time=   4.0s\n",
            "[CV] END criterion=entropy, max_depth=6, max_features=sqrt, min_samples_leaf=20, min_samples_split=80, n_estimators=60; total time=  11.0s\n",
            "[CV] END criterion=entropy, max_depth=6, max_features=sqrt, min_samples_leaf=20, min_samples_split=80, n_estimators=60; total time=  10.7s\n",
            "[CV] END criterion=entropy, max_depth=6, max_features=sqrt, min_samples_leaf=20, min_samples_split=80, n_estimators=60; total time=  11.1s\n",
            "[CV] END criterion=entropy, max_depth=6, max_features=sqrt, min_samples_leaf=20, min_samples_split=80, n_estimators=80; total time=  14.4s\n",
            "[CV] END criterion=entropy, max_depth=6, max_features=sqrt, min_samples_leaf=20, min_samples_split=80, n_estimators=80; total time=  14.4s\n",
            "[CV] END criterion=entropy, max_depth=6, max_features=sqrt, min_samples_leaf=20, min_samples_split=80, n_estimators=80; total time=  15.1s\n",
            "[CV] END criterion=entropy, max_depth=6, max_features=sqrt, min_samples_leaf=20, min_samples_split=100, n_estimators=20; total time=   4.0s\n",
            "[CV] END criterion=entropy, max_depth=6, max_features=sqrt, min_samples_leaf=20, min_samples_split=100, n_estimators=20; total time=   3.9s\n",
            "[CV] END criterion=entropy, max_depth=6, max_features=sqrt, min_samples_leaf=20, min_samples_split=100, n_estimators=20; total time=   3.7s\n",
            "[CV] END criterion=entropy, max_depth=6, max_features=sqrt, min_samples_leaf=20, min_samples_split=100, n_estimators=60; total time=  11.1s\n",
            "[CV] END criterion=entropy, max_depth=6, max_features=sqrt, min_samples_leaf=20, min_samples_split=100, n_estimators=60; total time=  11.0s\n",
            "[CV] END criterion=entropy, max_depth=6, max_features=sqrt, min_samples_leaf=20, min_samples_split=100, n_estimators=60; total time=  11.0s\n",
            "[CV] END criterion=entropy, max_depth=6, max_features=sqrt, min_samples_leaf=20, min_samples_split=100, n_estimators=80; total time=  14.6s\n",
            "[CV] END criterion=entropy, max_depth=6, max_features=sqrt, min_samples_leaf=20, min_samples_split=100, n_estimators=80; total time=  15.6s\n",
            "[CV] END criterion=entropy, max_depth=6, max_features=sqrt, min_samples_leaf=20, min_samples_split=100, n_estimators=80; total time=  15.5s\n",
            "[CV] END criterion=entropy, max_depth=6, max_features=sqrt, min_samples_leaf=40, min_samples_split=20, n_estimators=20; total time=   4.2s\n",
            "[CV] END criterion=entropy, max_depth=6, max_features=sqrt, min_samples_leaf=40, min_samples_split=20, n_estimators=20; total time=   4.0s\n",
            "[CV] END criterion=entropy, max_depth=6, max_features=sqrt, min_samples_leaf=40, min_samples_split=20, n_estimators=20; total time=   3.9s\n",
            "[CV] END criterion=entropy, max_depth=6, max_features=sqrt, min_samples_leaf=40, min_samples_split=20, n_estimators=60; total time=  10.9s\n",
            "[CV] END criterion=entropy, max_depth=6, max_features=sqrt, min_samples_leaf=40, min_samples_split=20, n_estimators=60; total time=  10.9s\n",
            "[CV] END criterion=entropy, max_depth=6, max_features=sqrt, min_samples_leaf=40, min_samples_split=20, n_estimators=60; total time=  11.2s\n",
            "[CV] END criterion=entropy, max_depth=6, max_features=sqrt, min_samples_leaf=40, min_samples_split=20, n_estimators=80; total time=  14.9s\n",
            "[CV] END criterion=entropy, max_depth=6, max_features=sqrt, min_samples_leaf=40, min_samples_split=20, n_estimators=80; total time=  14.3s\n",
            "[CV] END criterion=entropy, max_depth=6, max_features=sqrt, min_samples_leaf=40, min_samples_split=20, n_estimators=80; total time=  14.4s\n",
            "[CV] END criterion=entropy, max_depth=6, max_features=sqrt, min_samples_leaf=40, min_samples_split=80, n_estimators=20; total time=   3.9s\n",
            "[CV] END criterion=entropy, max_depth=6, max_features=sqrt, min_samples_leaf=40, min_samples_split=80, n_estimators=20; total time=   3.7s\n",
            "[CV] END criterion=entropy, max_depth=6, max_features=sqrt, min_samples_leaf=40, min_samples_split=80, n_estimators=20; total time=   3.9s\n",
            "[CV] END criterion=entropy, max_depth=6, max_features=sqrt, min_samples_leaf=40, min_samples_split=80, n_estimators=60; total time=  10.8s\n",
            "[CV] END criterion=entropy, max_depth=6, max_features=sqrt, min_samples_leaf=40, min_samples_split=80, n_estimators=60; total time=  10.9s\n",
            "[CV] END criterion=entropy, max_depth=6, max_features=sqrt, min_samples_leaf=40, min_samples_split=80, n_estimators=60; total time=  10.6s\n",
            "[CV] END criterion=entropy, max_depth=6, max_features=sqrt, min_samples_leaf=40, min_samples_split=80, n_estimators=80; total time=  14.5s\n",
            "[CV] END criterion=entropy, max_depth=6, max_features=sqrt, min_samples_leaf=40, min_samples_split=80, n_estimators=80; total time=  14.3s\n",
            "[CV] END criterion=entropy, max_depth=6, max_features=sqrt, min_samples_leaf=40, min_samples_split=80, n_estimators=80; total time=  14.4s\n",
            "[CV] END criterion=entropy, max_depth=6, max_features=sqrt, min_samples_leaf=40, min_samples_split=100, n_estimators=20; total time=   3.9s\n",
            "[CV] END criterion=entropy, max_depth=6, max_features=sqrt, min_samples_leaf=40, min_samples_split=100, n_estimators=20; total time=   4.0s\n",
            "[CV] END criterion=entropy, max_depth=6, max_features=sqrt, min_samples_leaf=40, min_samples_split=100, n_estimators=20; total time=   3.9s\n",
            "[CV] END criterion=entropy, max_depth=6, max_features=sqrt, min_samples_leaf=40, min_samples_split=100, n_estimators=60; total time=  10.7s\n",
            "[CV] END criterion=entropy, max_depth=6, max_features=sqrt, min_samples_leaf=40, min_samples_split=100, n_estimators=60; total time=  11.0s\n",
            "[CV] END criterion=entropy, max_depth=6, max_features=sqrt, min_samples_leaf=40, min_samples_split=100, n_estimators=60; total time=  10.8s\n",
            "[CV] END criterion=entropy, max_depth=6, max_features=sqrt, min_samples_leaf=40, min_samples_split=100, n_estimators=80; total time=  14.1s\n",
            "[CV] END criterion=entropy, max_depth=6, max_features=sqrt, min_samples_leaf=40, min_samples_split=100, n_estimators=80; total time=  13.9s\n",
            "[CV] END criterion=entropy, max_depth=6, max_features=sqrt, min_samples_leaf=40, min_samples_split=100, n_estimators=80; total time=  14.2s\n",
            "[CV] END criterion=entropy, max_depth=6, max_features=log2, min_samples_leaf=20, min_samples_split=20, n_estimators=20; total time=   4.9s\n",
            "[CV] END criterion=entropy, max_depth=6, max_features=log2, min_samples_leaf=20, min_samples_split=20, n_estimators=20; total time=   4.8s\n",
            "[CV] END criterion=entropy, max_depth=6, max_features=log2, min_samples_leaf=20, min_samples_split=20, n_estimators=20; total time=   5.2s\n",
            "[CV] END criterion=entropy, max_depth=6, max_features=log2, min_samples_leaf=20, min_samples_split=20, n_estimators=60; total time=  14.7s\n",
            "[CV] END criterion=entropy, max_depth=6, max_features=log2, min_samples_leaf=20, min_samples_split=20, n_estimators=60; total time=  14.5s\n",
            "[CV] END criterion=entropy, max_depth=6, max_features=log2, min_samples_leaf=20, min_samples_split=20, n_estimators=60; total time=  14.9s\n",
            "[CV] END criterion=entropy, max_depth=6, max_features=log2, min_samples_leaf=20, min_samples_split=20, n_estimators=80; total time=  20.4s\n",
            "[CV] END criterion=entropy, max_depth=6, max_features=log2, min_samples_leaf=20, min_samples_split=20, n_estimators=80; total time=  19.4s\n",
            "[CV] END criterion=entropy, max_depth=6, max_features=log2, min_samples_leaf=20, min_samples_split=20, n_estimators=80; total time=  19.4s\n",
            "[CV] END criterion=entropy, max_depth=6, max_features=log2, min_samples_leaf=20, min_samples_split=80, n_estimators=20; total time=   5.1s\n",
            "[CV] END criterion=entropy, max_depth=6, max_features=log2, min_samples_leaf=20, min_samples_split=80, n_estimators=20; total time=   5.1s\n",
            "[CV] END criterion=entropy, max_depth=6, max_features=log2, min_samples_leaf=20, min_samples_split=80, n_estimators=20; total time=   5.2s\n",
            "[CV] END criterion=entropy, max_depth=6, max_features=log2, min_samples_leaf=20, min_samples_split=80, n_estimators=60; total time=  14.8s\n",
            "[CV] END criterion=entropy, max_depth=6, max_features=log2, min_samples_leaf=20, min_samples_split=80, n_estimators=60; total time=  14.4s\n",
            "[CV] END criterion=entropy, max_depth=6, max_features=log2, min_samples_leaf=20, min_samples_split=80, n_estimators=60; total time=  15.0s\n",
            "[CV] END criterion=entropy, max_depth=6, max_features=log2, min_samples_leaf=20, min_samples_split=80, n_estimators=80; total time=  19.3s\n",
            "[CV] END criterion=entropy, max_depth=6, max_features=log2, min_samples_leaf=20, min_samples_split=80, n_estimators=80; total time=  19.3s\n",
            "[CV] END criterion=entropy, max_depth=6, max_features=log2, min_samples_leaf=20, min_samples_split=80, n_estimators=80; total time=  19.0s\n",
            "[CV] END criterion=entropy, max_depth=6, max_features=log2, min_samples_leaf=20, min_samples_split=100, n_estimators=20; total time=   5.2s\n",
            "[CV] END criterion=entropy, max_depth=6, max_features=log2, min_samples_leaf=20, min_samples_split=100, n_estimators=20; total time=   5.0s\n",
            "[CV] END criterion=entropy, max_depth=6, max_features=log2, min_samples_leaf=20, min_samples_split=100, n_estimators=20; total time=   5.2s\n",
            "[CV] END criterion=entropy, max_depth=6, max_features=log2, min_samples_leaf=20, min_samples_split=100, n_estimators=60; total time=  14.8s\n",
            "[CV] END criterion=entropy, max_depth=6, max_features=log2, min_samples_leaf=20, min_samples_split=100, n_estimators=60; total time=  14.8s\n",
            "[CV] END criterion=entropy, max_depth=6, max_features=log2, min_samples_leaf=20, min_samples_split=100, n_estimators=60; total time=  14.5s\n",
            "[CV] END criterion=entropy, max_depth=6, max_features=log2, min_samples_leaf=20, min_samples_split=100, n_estimators=80; total time=  19.7s\n",
            "[CV] END criterion=entropy, max_depth=6, max_features=log2, min_samples_leaf=20, min_samples_split=100, n_estimators=80; total time=  19.9s\n",
            "[CV] END criterion=entropy, max_depth=6, max_features=log2, min_samples_leaf=20, min_samples_split=100, n_estimators=80; total time=  19.0s\n",
            "[CV] END criterion=entropy, max_depth=6, max_features=log2, min_samples_leaf=40, min_samples_split=20, n_estimators=20; total time=   5.1s\n",
            "[CV] END criterion=entropy, max_depth=6, max_features=log2, min_samples_leaf=40, min_samples_split=20, n_estimators=20; total time=   5.2s\n",
            "[CV] END criterion=entropy, max_depth=6, max_features=log2, min_samples_leaf=40, min_samples_split=20, n_estimators=20; total time=   5.0s\n",
            "[CV] END criterion=entropy, max_depth=6, max_features=log2, min_samples_leaf=40, min_samples_split=20, n_estimators=60; total time=  15.3s\n",
            "[CV] END criterion=entropy, max_depth=6, max_features=log2, min_samples_leaf=40, min_samples_split=20, n_estimators=60; total time=  15.0s\n",
            "[CV] END criterion=entropy, max_depth=6, max_features=log2, min_samples_leaf=40, min_samples_split=20, n_estimators=60; total time=  15.1s\n",
            "[CV] END criterion=entropy, max_depth=6, max_features=log2, min_samples_leaf=40, min_samples_split=20, n_estimators=80; total time=  20.2s\n",
            "[CV] END criterion=entropy, max_depth=6, max_features=log2, min_samples_leaf=40, min_samples_split=20, n_estimators=80; total time=  20.7s\n",
            "[CV] END criterion=entropy, max_depth=6, max_features=log2, min_samples_leaf=40, min_samples_split=20, n_estimators=80; total time=  20.4s\n",
            "[CV] END criterion=entropy, max_depth=6, max_features=log2, min_samples_leaf=40, min_samples_split=80, n_estimators=20; total time=   5.5s\n",
            "[CV] END criterion=entropy, max_depth=6, max_features=log2, min_samples_leaf=40, min_samples_split=80, n_estimators=20; total time=   5.3s\n",
            "[CV] END criterion=entropy, max_depth=6, max_features=log2, min_samples_leaf=40, min_samples_split=80, n_estimators=20; total time=   5.4s\n",
            "[CV] END criterion=entropy, max_depth=6, max_features=log2, min_samples_leaf=40, min_samples_split=80, n_estimators=60; total time=  15.9s\n",
            "[CV] END criterion=entropy, max_depth=6, max_features=log2, min_samples_leaf=40, min_samples_split=80, n_estimators=60; total time=  15.5s\n",
            "[CV] END criterion=entropy, max_depth=6, max_features=log2, min_samples_leaf=40, min_samples_split=80, n_estimators=60; total time=  15.5s\n",
            "[CV] END criterion=entropy, max_depth=6, max_features=log2, min_samples_leaf=40, min_samples_split=80, n_estimators=80; total time=  20.9s\n",
            "[CV] END criterion=entropy, max_depth=6, max_features=log2, min_samples_leaf=40, min_samples_split=80, n_estimators=80; total time=  20.8s\n",
            "[CV] END criterion=entropy, max_depth=6, max_features=log2, min_samples_leaf=40, min_samples_split=80, n_estimators=80; total time=  20.8s\n",
            "[CV] END criterion=entropy, max_depth=6, max_features=log2, min_samples_leaf=40, min_samples_split=100, n_estimators=20; total time=   5.4s\n",
            "[CV] END criterion=entropy, max_depth=6, max_features=log2, min_samples_leaf=40, min_samples_split=100, n_estimators=20; total time=   5.6s\n",
            "[CV] END criterion=entropy, max_depth=6, max_features=log2, min_samples_leaf=40, min_samples_split=100, n_estimators=20; total time=   5.6s\n",
            "[CV] END criterion=entropy, max_depth=6, max_features=log2, min_samples_leaf=40, min_samples_split=100, n_estimators=60; total time=  15.8s\n",
            "[CV] END criterion=entropy, max_depth=6, max_features=log2, min_samples_leaf=40, min_samples_split=100, n_estimators=60; total time=  15.3s\n",
            "[CV] END criterion=entropy, max_depth=6, max_features=log2, min_samples_leaf=40, min_samples_split=100, n_estimators=60; total time=  15.9s\n",
            "[CV] END criterion=entropy, max_depth=6, max_features=log2, min_samples_leaf=40, min_samples_split=100, n_estimators=80; total time=  21.1s\n",
            "[CV] END criterion=entropy, max_depth=6, max_features=log2, min_samples_leaf=40, min_samples_split=100, n_estimators=80; total time=  20.4s\n",
            "[CV] END criterion=entropy, max_depth=6, max_features=log2, min_samples_leaf=40, min_samples_split=100, n_estimators=80; total time=  19.9s\n",
            "[CV] END criterion=entropy, max_depth=8, max_features=auto, min_samples_leaf=20, min_samples_split=20, n_estimators=20; total time=   4.9s\n",
            "[CV] END criterion=entropy, max_depth=8, max_features=auto, min_samples_leaf=20, min_samples_split=20, n_estimators=20; total time=   4.8s\n",
            "[CV] END criterion=entropy, max_depth=8, max_features=auto, min_samples_leaf=20, min_samples_split=20, n_estimators=20; total time=   5.2s\n",
            "[CV] END criterion=entropy, max_depth=8, max_features=auto, min_samples_leaf=20, min_samples_split=20, n_estimators=60; total time=  14.0s\n",
            "[CV] END criterion=entropy, max_depth=8, max_features=auto, min_samples_leaf=20, min_samples_split=20, n_estimators=60; total time=  13.3s\n",
            "[CV] END criterion=entropy, max_depth=8, max_features=auto, min_samples_leaf=20, min_samples_split=20, n_estimators=60; total time=  13.3s\n",
            "[CV] END criterion=entropy, max_depth=8, max_features=auto, min_samples_leaf=20, min_samples_split=20, n_estimators=80; total time=  17.8s\n",
            "[CV] END criterion=entropy, max_depth=8, max_features=auto, min_samples_leaf=20, min_samples_split=20, n_estimators=80; total time=  18.3s\n",
            "[CV] END criterion=entropy, max_depth=8, max_features=auto, min_samples_leaf=20, min_samples_split=20, n_estimators=80; total time=  18.0s\n",
            "[CV] END criterion=entropy, max_depth=8, max_features=auto, min_samples_leaf=20, min_samples_split=80, n_estimators=20; total time=   4.8s\n",
            "[CV] END criterion=entropy, max_depth=8, max_features=auto, min_samples_leaf=20, min_samples_split=80, n_estimators=20; total time=   4.7s\n",
            "[CV] END criterion=entropy, max_depth=8, max_features=auto, min_samples_leaf=20, min_samples_split=80, n_estimators=20; total time=   4.6s\n",
            "[CV] END criterion=entropy, max_depth=8, max_features=auto, min_samples_leaf=20, min_samples_split=80, n_estimators=60; total time=  13.6s\n",
            "[CV] END criterion=entropy, max_depth=8, max_features=auto, min_samples_leaf=20, min_samples_split=80, n_estimators=60; total time=  13.9s\n",
            "[CV] END criterion=entropy, max_depth=8, max_features=auto, min_samples_leaf=20, min_samples_split=80, n_estimators=60; total time=  13.5s\n",
            "[CV] END criterion=entropy, max_depth=8, max_features=auto, min_samples_leaf=20, min_samples_split=80, n_estimators=80; total time=  18.1s\n",
            "[CV] END criterion=entropy, max_depth=8, max_features=auto, min_samples_leaf=20, min_samples_split=80, n_estimators=80; total time=  18.8s\n",
            "[CV] END criterion=entropy, max_depth=8, max_features=auto, min_samples_leaf=20, min_samples_split=80, n_estimators=80; total time=  18.7s\n",
            "[CV] END criterion=entropy, max_depth=8, max_features=auto, min_samples_leaf=20, min_samples_split=100, n_estimators=20; total time=   4.7s\n",
            "[CV] END criterion=entropy, max_depth=8, max_features=auto, min_samples_leaf=20, min_samples_split=100, n_estimators=20; total time=   4.8s\n",
            "[CV] END criterion=entropy, max_depth=8, max_features=auto, min_samples_leaf=20, min_samples_split=100, n_estimators=20; total time=   4.9s\n",
            "[CV] END criterion=entropy, max_depth=8, max_features=auto, min_samples_leaf=20, min_samples_split=100, n_estimators=60; total time=  14.2s\n",
            "[CV] END criterion=entropy, max_depth=8, max_features=auto, min_samples_leaf=20, min_samples_split=100, n_estimators=60; total time=  13.7s\n",
            "[CV] END criterion=entropy, max_depth=8, max_features=auto, min_samples_leaf=20, min_samples_split=100, n_estimators=60; total time=  13.4s\n",
            "[CV] END criterion=entropy, max_depth=8, max_features=auto, min_samples_leaf=20, min_samples_split=100, n_estimators=80; total time=  18.0s\n",
            "[CV] END criterion=entropy, max_depth=8, max_features=auto, min_samples_leaf=20, min_samples_split=100, n_estimators=80; total time=  18.2s\n",
            "[CV] END criterion=entropy, max_depth=8, max_features=auto, min_samples_leaf=20, min_samples_split=100, n_estimators=80; total time=  18.0s\n",
            "[CV] END criterion=entropy, max_depth=8, max_features=auto, min_samples_leaf=40, min_samples_split=20, n_estimators=20; total time=   4.9s\n",
            "[CV] END criterion=entropy, max_depth=8, max_features=auto, min_samples_leaf=40, min_samples_split=20, n_estimators=20; total time=   4.7s\n",
            "[CV] END criterion=entropy, max_depth=8, max_features=auto, min_samples_leaf=40, min_samples_split=20, n_estimators=20; total time=   4.7s\n",
            "[CV] END criterion=entropy, max_depth=8, max_features=auto, min_samples_leaf=40, min_samples_split=20, n_estimators=60; total time=  13.4s\n",
            "[CV] END criterion=entropy, max_depth=8, max_features=auto, min_samples_leaf=40, min_samples_split=20, n_estimators=60; total time=  13.3s\n",
            "[CV] END criterion=entropy, max_depth=8, max_features=auto, min_samples_leaf=40, min_samples_split=20, n_estimators=60; total time=  13.5s\n",
            "[CV] END criterion=entropy, max_depth=8, max_features=auto, min_samples_leaf=40, min_samples_split=20, n_estimators=80; total time=  17.8s\n",
            "[CV] END criterion=entropy, max_depth=8, max_features=auto, min_samples_leaf=40, min_samples_split=20, n_estimators=80; total time=  17.9s\n",
            "[CV] END criterion=entropy, max_depth=8, max_features=auto, min_samples_leaf=40, min_samples_split=20, n_estimators=80; total time=  17.7s\n",
            "[CV] END criterion=entropy, max_depth=8, max_features=auto, min_samples_leaf=40, min_samples_split=80, n_estimators=20; total time=   5.0s\n",
            "[CV] END criterion=entropy, max_depth=8, max_features=auto, min_samples_leaf=40, min_samples_split=80, n_estimators=20; total time=   4.7s\n",
            "[CV] END criterion=entropy, max_depth=8, max_features=auto, min_samples_leaf=40, min_samples_split=80, n_estimators=20; total time=   5.0s\n",
            "[CV] END criterion=entropy, max_depth=8, max_features=auto, min_samples_leaf=40, min_samples_split=80, n_estimators=60; total time=  13.4s\n",
            "[CV] END criterion=entropy, max_depth=8, max_features=auto, min_samples_leaf=40, min_samples_split=80, n_estimators=60; total time=  13.3s\n",
            "[CV] END criterion=entropy, max_depth=8, max_features=auto, min_samples_leaf=40, min_samples_split=80, n_estimators=60; total time=  14.0s\n",
            "[CV] END criterion=entropy, max_depth=8, max_features=auto, min_samples_leaf=40, min_samples_split=80, n_estimators=80; total time=  18.0s\n",
            "[CV] END criterion=entropy, max_depth=8, max_features=auto, min_samples_leaf=40, min_samples_split=80, n_estimators=80; total time=  18.4s\n",
            "[CV] END criterion=entropy, max_depth=8, max_features=auto, min_samples_leaf=40, min_samples_split=80, n_estimators=80; total time=  17.8s\n",
            "[CV] END criterion=entropy, max_depth=8, max_features=auto, min_samples_leaf=40, min_samples_split=100, n_estimators=20; total time=   4.8s\n",
            "[CV] END criterion=entropy, max_depth=8, max_features=auto, min_samples_leaf=40, min_samples_split=100, n_estimators=20; total time=   4.9s\n",
            "[CV] END criterion=entropy, max_depth=8, max_features=auto, min_samples_leaf=40, min_samples_split=100, n_estimators=20; total time=   4.9s\n",
            "[CV] END criterion=entropy, max_depth=8, max_features=auto, min_samples_leaf=40, min_samples_split=100, n_estimators=60; total time=  13.2s\n",
            "[CV] END criterion=entropy, max_depth=8, max_features=auto, min_samples_leaf=40, min_samples_split=100, n_estimators=60; total time=  13.5s\n",
            "[CV] END criterion=entropy, max_depth=8, max_features=auto, min_samples_leaf=40, min_samples_split=100, n_estimators=60; total time=  13.5s\n",
            "[CV] END criterion=entropy, max_depth=8, max_features=auto, min_samples_leaf=40, min_samples_split=100, n_estimators=80; total time=  18.5s\n",
            "[CV] END criterion=entropy, max_depth=8, max_features=auto, min_samples_leaf=40, min_samples_split=100, n_estimators=80; total time=  18.3s\n",
            "[CV] END criterion=entropy, max_depth=8, max_features=auto, min_samples_leaf=40, min_samples_split=100, n_estimators=80; total time=  17.5s\n",
            "[CV] END criterion=entropy, max_depth=8, max_features=sqrt, min_samples_leaf=20, min_samples_split=20, n_estimators=20; total time=   4.7s\n",
            "[CV] END criterion=entropy, max_depth=8, max_features=sqrt, min_samples_leaf=20, min_samples_split=20, n_estimators=20; total time=   4.7s\n",
            "[CV] END criterion=entropy, max_depth=8, max_features=sqrt, min_samples_leaf=20, min_samples_split=20, n_estimators=20; total time=   4.8s\n",
            "[CV] END criterion=entropy, max_depth=8, max_features=sqrt, min_samples_leaf=20, min_samples_split=20, n_estimators=60; total time=  13.4s\n",
            "[CV] END criterion=entropy, max_depth=8, max_features=sqrt, min_samples_leaf=20, min_samples_split=20, n_estimators=60; total time=  13.4s\n",
            "[CV] END criterion=entropy, max_depth=8, max_features=sqrt, min_samples_leaf=20, min_samples_split=20, n_estimators=60; total time=  13.5s\n",
            "[CV] END criterion=entropy, max_depth=8, max_features=sqrt, min_samples_leaf=20, min_samples_split=20, n_estimators=80; total time=  17.7s\n",
            "[CV] END criterion=entropy, max_depth=8, max_features=sqrt, min_samples_leaf=20, min_samples_split=20, n_estimators=80; total time=  17.7s\n",
            "[CV] END criterion=entropy, max_depth=8, max_features=sqrt, min_samples_leaf=20, min_samples_split=20, n_estimators=80; total time=  17.2s\n",
            "[CV] END criterion=entropy, max_depth=8, max_features=sqrt, min_samples_leaf=20, min_samples_split=80, n_estimators=20; total time=   4.8s\n",
            "[CV] END criterion=entropy, max_depth=8, max_features=sqrt, min_samples_leaf=20, min_samples_split=80, n_estimators=20; total time=   4.8s\n",
            "[CV] END criterion=entropy, max_depth=8, max_features=sqrt, min_samples_leaf=20, min_samples_split=80, n_estimators=20; total time=   4.6s\n",
            "[CV] END criterion=entropy, max_depth=8, max_features=sqrt, min_samples_leaf=20, min_samples_split=80, n_estimators=60; total time=  14.2s\n",
            "[CV] END criterion=entropy, max_depth=8, max_features=sqrt, min_samples_leaf=20, min_samples_split=80, n_estimators=60; total time=  14.5s\n",
            "[CV] END criterion=entropy, max_depth=8, max_features=sqrt, min_samples_leaf=20, min_samples_split=80, n_estimators=60; total time=  14.0s\n",
            "[CV] END criterion=entropy, max_depth=8, max_features=sqrt, min_samples_leaf=20, min_samples_split=80, n_estimators=80; total time=  18.3s\n",
            "[CV] END criterion=entropy, max_depth=8, max_features=sqrt, min_samples_leaf=20, min_samples_split=80, n_estimators=80; total time=  18.6s\n",
            "[CV] END criterion=entropy, max_depth=8, max_features=sqrt, min_samples_leaf=20, min_samples_split=80, n_estimators=80; total time=  18.3s\n",
            "[CV] END criterion=entropy, max_depth=8, max_features=sqrt, min_samples_leaf=20, min_samples_split=100, n_estimators=20; total time=   4.8s\n",
            "[CV] END criterion=entropy, max_depth=8, max_features=sqrt, min_samples_leaf=20, min_samples_split=100, n_estimators=20; total time=   4.9s\n",
            "[CV] END criterion=entropy, max_depth=8, max_features=sqrt, min_samples_leaf=20, min_samples_split=100, n_estimators=20; total time=   4.9s\n",
            "[CV] END criterion=entropy, max_depth=8, max_features=sqrt, min_samples_leaf=20, min_samples_split=100, n_estimators=60; total time=  13.5s\n",
            "[CV] END criterion=entropy, max_depth=8, max_features=sqrt, min_samples_leaf=20, min_samples_split=100, n_estimators=60; total time=  13.8s\n",
            "[CV] END criterion=entropy, max_depth=8, max_features=sqrt, min_samples_leaf=20, min_samples_split=100, n_estimators=60; total time=  13.8s\n",
            "[CV] END criterion=entropy, max_depth=8, max_features=sqrt, min_samples_leaf=20, min_samples_split=100, n_estimators=80; total time=  18.6s\n",
            "[CV] END criterion=entropy, max_depth=8, max_features=sqrt, min_samples_leaf=20, min_samples_split=100, n_estimators=80; total time=  18.5s\n",
            "[CV] END criterion=entropy, max_depth=8, max_features=sqrt, min_samples_leaf=20, min_samples_split=100, n_estimators=80; total time=  18.5s\n",
            "[CV] END criterion=entropy, max_depth=8, max_features=sqrt, min_samples_leaf=40, min_samples_split=20, n_estimators=20; total time=   4.8s\n",
            "[CV] END criterion=entropy, max_depth=8, max_features=sqrt, min_samples_leaf=40, min_samples_split=20, n_estimators=20; total time=   4.8s\n",
            "[CV] END criterion=entropy, max_depth=8, max_features=sqrt, min_samples_leaf=40, min_samples_split=20, n_estimators=20; total time=   4.8s\n",
            "[CV] END criterion=entropy, max_depth=8, max_features=sqrt, min_samples_leaf=40, min_samples_split=20, n_estimators=60; total time=  13.8s\n",
            "[CV] END criterion=entropy, max_depth=8, max_features=sqrt, min_samples_leaf=40, min_samples_split=20, n_estimators=60; total time=  13.5s\n",
            "[CV] END criterion=entropy, max_depth=8, max_features=sqrt, min_samples_leaf=40, min_samples_split=20, n_estimators=60; total time=  13.9s\n",
            "[CV] END criterion=entropy, max_depth=8, max_features=sqrt, min_samples_leaf=40, min_samples_split=20, n_estimators=80; total time=  17.6s\n",
            "[CV] END criterion=entropy, max_depth=8, max_features=sqrt, min_samples_leaf=40, min_samples_split=20, n_estimators=80; total time=  17.9s\n",
            "[CV] END criterion=entropy, max_depth=8, max_features=sqrt, min_samples_leaf=40, min_samples_split=20, n_estimators=80; total time=  18.6s\n",
            "[CV] END criterion=entropy, max_depth=8, max_features=sqrt, min_samples_leaf=40, min_samples_split=80, n_estimators=20; total time=   4.8s\n",
            "[CV] END criterion=entropy, max_depth=8, max_features=sqrt, min_samples_leaf=40, min_samples_split=80, n_estimators=20; total time=   5.0s\n",
            "[CV] END criterion=entropy, max_depth=8, max_features=sqrt, min_samples_leaf=40, min_samples_split=80, n_estimators=20; total time=   4.8s\n",
            "[CV] END criterion=entropy, max_depth=8, max_features=sqrt, min_samples_leaf=40, min_samples_split=80, n_estimators=60; total time=  13.5s\n",
            "[CV] END criterion=entropy, max_depth=8, max_features=sqrt, min_samples_leaf=40, min_samples_split=80, n_estimators=60; total time=  14.0s\n",
            "[CV] END criterion=entropy, max_depth=8, max_features=sqrt, min_samples_leaf=40, min_samples_split=80, n_estimators=60; total time=  14.2s\n",
            "[CV] END criterion=entropy, max_depth=8, max_features=sqrt, min_samples_leaf=40, min_samples_split=80, n_estimators=80; total time=  17.9s\n",
            "[CV] END criterion=entropy, max_depth=8, max_features=sqrt, min_samples_leaf=40, min_samples_split=80, n_estimators=80; total time=  17.5s\n",
            "[CV] END criterion=entropy, max_depth=8, max_features=sqrt, min_samples_leaf=40, min_samples_split=80, n_estimators=80; total time=  18.1s\n",
            "[CV] END criterion=entropy, max_depth=8, max_features=sqrt, min_samples_leaf=40, min_samples_split=100, n_estimators=20; total time=   5.0s\n",
            "[CV] END criterion=entropy, max_depth=8, max_features=sqrt, min_samples_leaf=40, min_samples_split=100, n_estimators=20; total time=   4.9s\n",
            "[CV] END criterion=entropy, max_depth=8, max_features=sqrt, min_samples_leaf=40, min_samples_split=100, n_estimators=20; total time=   4.8s\n",
            "[CV] END criterion=entropy, max_depth=8, max_features=sqrt, min_samples_leaf=40, min_samples_split=100, n_estimators=60; total time=  13.8s\n",
            "[CV] END criterion=entropy, max_depth=8, max_features=sqrt, min_samples_leaf=40, min_samples_split=100, n_estimators=60; total time=  13.6s\n",
            "[CV] END criterion=entropy, max_depth=8, max_features=sqrt, min_samples_leaf=40, min_samples_split=100, n_estimators=60; total time=  13.5s\n",
            "[CV] END criterion=entropy, max_depth=8, max_features=sqrt, min_samples_leaf=40, min_samples_split=100, n_estimators=80; total time=  18.1s\n",
            "[CV] END criterion=entropy, max_depth=8, max_features=sqrt, min_samples_leaf=40, min_samples_split=100, n_estimators=80; total time=  17.7s\n",
            "[CV] END criterion=entropy, max_depth=8, max_features=sqrt, min_samples_leaf=40, min_samples_split=100, n_estimators=80; total time=  17.6s\n",
            "[CV] END criterion=entropy, max_depth=8, max_features=log2, min_samples_leaf=20, min_samples_split=20, n_estimators=20; total time=   6.3s\n",
            "[CV] END criterion=entropy, max_depth=8, max_features=log2, min_samples_leaf=20, min_samples_split=20, n_estimators=20; total time=   6.3s\n",
            "[CV] END criterion=entropy, max_depth=8, max_features=log2, min_samples_leaf=20, min_samples_split=20, n_estimators=20; total time=   6.4s\n",
            "[CV] END criterion=entropy, max_depth=8, max_features=log2, min_samples_leaf=20, min_samples_split=20, n_estimators=60; total time=  18.7s\n",
            "[CV] END criterion=entropy, max_depth=8, max_features=log2, min_samples_leaf=20, min_samples_split=20, n_estimators=60; total time=  18.7s\n",
            "[CV] END criterion=entropy, max_depth=8, max_features=log2, min_samples_leaf=20, min_samples_split=20, n_estimators=60; total time=  18.7s\n",
            "[CV] END criterion=entropy, max_depth=8, max_features=log2, min_samples_leaf=20, min_samples_split=20, n_estimators=80; total time=  24.3s\n",
            "[CV] END criterion=entropy, max_depth=8, max_features=log2, min_samples_leaf=20, min_samples_split=20, n_estimators=80; total time=  24.3s\n",
            "[CV] END criterion=entropy, max_depth=8, max_features=log2, min_samples_leaf=20, min_samples_split=20, n_estimators=80; total time=  24.3s\n",
            "[CV] END criterion=entropy, max_depth=8, max_features=log2, min_samples_leaf=20, min_samples_split=80, n_estimators=20; total time=   6.3s\n",
            "[CV] END criterion=entropy, max_depth=8, max_features=log2, min_samples_leaf=20, min_samples_split=80, n_estimators=20; total time=   6.4s\n",
            "[CV] END criterion=entropy, max_depth=8, max_features=log2, min_samples_leaf=20, min_samples_split=80, n_estimators=20; total time=   6.4s\n",
            "[CV] END criterion=entropy, max_depth=8, max_features=log2, min_samples_leaf=20, min_samples_split=80, n_estimators=60; total time=  18.4s\n",
            "[CV] END criterion=entropy, max_depth=8, max_features=log2, min_samples_leaf=20, min_samples_split=80, n_estimators=60; total time=  18.5s\n",
            "[CV] END criterion=entropy, max_depth=8, max_features=log2, min_samples_leaf=20, min_samples_split=80, n_estimators=60; total time=  18.4s\n",
            "[CV] END criterion=entropy, max_depth=8, max_features=log2, min_samples_leaf=20, min_samples_split=80, n_estimators=80; total time=  24.7s\n",
            "[CV] END criterion=entropy, max_depth=8, max_features=log2, min_samples_leaf=20, min_samples_split=80, n_estimators=80; total time=  24.6s\n",
            "[CV] END criterion=entropy, max_depth=8, max_features=log2, min_samples_leaf=20, min_samples_split=80, n_estimators=80; total time=  24.0s\n",
            "[CV] END criterion=entropy, max_depth=8, max_features=log2, min_samples_leaf=20, min_samples_split=100, n_estimators=20; total time=   6.1s\n",
            "[CV] END criterion=entropy, max_depth=8, max_features=log2, min_samples_leaf=20, min_samples_split=100, n_estimators=20; total time=   6.2s\n",
            "[CV] END criterion=entropy, max_depth=8, max_features=log2, min_samples_leaf=20, min_samples_split=100, n_estimators=20; total time=   6.3s\n",
            "[CV] END criterion=entropy, max_depth=8, max_features=log2, min_samples_leaf=20, min_samples_split=100, n_estimators=60; total time=  18.4s\n",
            "[CV] END criterion=entropy, max_depth=8, max_features=log2, min_samples_leaf=20, min_samples_split=100, n_estimators=60; total time=  18.1s\n",
            "[CV] END criterion=entropy, max_depth=8, max_features=log2, min_samples_leaf=20, min_samples_split=100, n_estimators=60; total time=  18.7s\n",
            "[CV] END criterion=entropy, max_depth=8, max_features=log2, min_samples_leaf=20, min_samples_split=100, n_estimators=80; total time=  24.5s\n",
            "[CV] END criterion=entropy, max_depth=8, max_features=log2, min_samples_leaf=20, min_samples_split=100, n_estimators=80; total time=  24.5s\n",
            "[CV] END criterion=entropy, max_depth=8, max_features=log2, min_samples_leaf=20, min_samples_split=100, n_estimators=80; total time=  24.8s\n",
            "[CV] END criterion=entropy, max_depth=8, max_features=log2, min_samples_leaf=40, min_samples_split=20, n_estimators=20; total time=   6.1s\n",
            "[CV] END criterion=entropy, max_depth=8, max_features=log2, min_samples_leaf=40, min_samples_split=20, n_estimators=20; total time=   6.4s\n",
            "[CV] END criterion=entropy, max_depth=8, max_features=log2, min_samples_leaf=40, min_samples_split=20, n_estimators=20; total time=   6.1s\n",
            "[CV] END criterion=entropy, max_depth=8, max_features=log2, min_samples_leaf=40, min_samples_split=20, n_estimators=60; total time=  17.9s\n",
            "[CV] END criterion=entropy, max_depth=8, max_features=log2, min_samples_leaf=40, min_samples_split=20, n_estimators=60; total time=  18.0s\n",
            "[CV] END criterion=entropy, max_depth=8, max_features=log2, min_samples_leaf=40, min_samples_split=20, n_estimators=60; total time=  18.1s\n",
            "[CV] END criterion=entropy, max_depth=8, max_features=log2, min_samples_leaf=40, min_samples_split=20, n_estimators=80; total time=  23.7s\n",
            "[CV] END criterion=entropy, max_depth=8, max_features=log2, min_samples_leaf=40, min_samples_split=20, n_estimators=80; total time=  23.8s\n",
            "[CV] END criterion=entropy, max_depth=8, max_features=log2, min_samples_leaf=40, min_samples_split=20, n_estimators=80; total time=  23.4s\n",
            "[CV] END criterion=entropy, max_depth=8, max_features=log2, min_samples_leaf=40, min_samples_split=80, n_estimators=20; total time=   6.2s\n",
            "[CV] END criterion=entropy, max_depth=8, max_features=log2, min_samples_leaf=40, min_samples_split=80, n_estimators=20; total time=   6.0s\n",
            "[CV] END criterion=entropy, max_depth=8, max_features=log2, min_samples_leaf=40, min_samples_split=80, n_estimators=20; total time=   6.2s\n",
            "[CV] END criterion=entropy, max_depth=8, max_features=log2, min_samples_leaf=40, min_samples_split=80, n_estimators=60; total time=  17.8s\n",
            "[CV] END criterion=entropy, max_depth=8, max_features=log2, min_samples_leaf=40, min_samples_split=80, n_estimators=60; total time=  17.8s\n",
            "[CV] END criterion=entropy, max_depth=8, max_features=log2, min_samples_leaf=40, min_samples_split=80, n_estimators=60; total time=  18.0s\n",
            "[CV] END criterion=entropy, max_depth=8, max_features=log2, min_samples_leaf=40, min_samples_split=80, n_estimators=80; total time=  25.1s\n",
            "[CV] END criterion=entropy, max_depth=8, max_features=log2, min_samples_leaf=40, min_samples_split=80, n_estimators=80; total time=  24.2s\n",
            "[CV] END criterion=entropy, max_depth=8, max_features=log2, min_samples_leaf=40, min_samples_split=80, n_estimators=80; total time=  23.9s\n",
            "[CV] END criterion=entropy, max_depth=8, max_features=log2, min_samples_leaf=40, min_samples_split=100, n_estimators=20; total time=   6.2s\n",
            "[CV] END criterion=entropy, max_depth=8, max_features=log2, min_samples_leaf=40, min_samples_split=100, n_estimators=20; total time=   6.4s\n",
            "[CV] END criterion=entropy, max_depth=8, max_features=log2, min_samples_leaf=40, min_samples_split=100, n_estimators=20; total time=   6.3s\n",
            "[CV] END criterion=entropy, max_depth=8, max_features=log2, min_samples_leaf=40, min_samples_split=100, n_estimators=60; total time=  17.8s\n",
            "[CV] END criterion=entropy, max_depth=8, max_features=log2, min_samples_leaf=40, min_samples_split=100, n_estimators=60; total time=  18.2s\n",
            "[CV] END criterion=entropy, max_depth=8, max_features=log2, min_samples_leaf=40, min_samples_split=100, n_estimators=60; total time=  18.0s\n",
            "[CV] END criterion=entropy, max_depth=8, max_features=log2, min_samples_leaf=40, min_samples_split=100, n_estimators=80; total time=  23.5s\n",
            "[CV] END criterion=entropy, max_depth=8, max_features=log2, min_samples_leaf=40, min_samples_split=100, n_estimators=80; total time=  24.0s\n",
            "[CV] END criterion=entropy, max_depth=8, max_features=log2, min_samples_leaf=40, min_samples_split=100, n_estimators=80; total time=  24.4s\n",
            "[CV] END criterion=gini, max_depth=4, max_features=auto, min_samples_leaf=20, min_samples_split=20, n_estimators=20; total time=   2.3s\n",
            "[CV] END criterion=gini, max_depth=4, max_features=auto, min_samples_leaf=20, min_samples_split=20, n_estimators=20; total time=   2.5s\n",
            "[CV] END criterion=gini, max_depth=4, max_features=auto, min_samples_leaf=20, min_samples_split=20, n_estimators=20; total time=   2.6s\n",
            "[CV] END criterion=gini, max_depth=4, max_features=auto, min_samples_leaf=20, min_samples_split=20, n_estimators=60; total time=   6.8s\n",
            "[CV] END criterion=gini, max_depth=4, max_features=auto, min_samples_leaf=20, min_samples_split=20, n_estimators=60; total time=   6.5s\n",
            "[CV] END criterion=gini, max_depth=4, max_features=auto, min_samples_leaf=20, min_samples_split=20, n_estimators=60; total time=   6.4s\n",
            "[CV] END criterion=gini, max_depth=4, max_features=auto, min_samples_leaf=20, min_samples_split=20, n_estimators=80; total time=   8.6s\n",
            "[CV] END criterion=gini, max_depth=4, max_features=auto, min_samples_leaf=20, min_samples_split=20, n_estimators=80; total time=   8.6s\n",
            "[CV] END criterion=gini, max_depth=4, max_features=auto, min_samples_leaf=20, min_samples_split=20, n_estimators=80; total time=   8.6s\n",
            "[CV] END criterion=gini, max_depth=4, max_features=auto, min_samples_leaf=20, min_samples_split=80, n_estimators=20; total time=   2.4s\n",
            "[CV] END criterion=gini, max_depth=4, max_features=auto, min_samples_leaf=20, min_samples_split=80, n_estimators=20; total time=   2.5s\n",
            "[CV] END criterion=gini, max_depth=4, max_features=auto, min_samples_leaf=20, min_samples_split=80, n_estimators=20; total time=   2.3s\n",
            "[CV] END criterion=gini, max_depth=4, max_features=auto, min_samples_leaf=20, min_samples_split=80, n_estimators=60; total time=   6.7s\n",
            "[CV] END criterion=gini, max_depth=4, max_features=auto, min_samples_leaf=20, min_samples_split=80, n_estimators=60; total time=   6.8s\n",
            "[CV] END criterion=gini, max_depth=4, max_features=auto, min_samples_leaf=20, min_samples_split=80, n_estimators=60; total time=   6.8s\n",
            "[CV] END criterion=gini, max_depth=4, max_features=auto, min_samples_leaf=20, min_samples_split=80, n_estimators=80; total time=   8.8s\n",
            "[CV] END criterion=gini, max_depth=4, max_features=auto, min_samples_leaf=20, min_samples_split=80, n_estimators=80; total time=   9.1s\n",
            "[CV] END criterion=gini, max_depth=4, max_features=auto, min_samples_leaf=20, min_samples_split=80, n_estimators=80; total time=   8.9s\n",
            "[CV] END criterion=gini, max_depth=4, max_features=auto, min_samples_leaf=20, min_samples_split=100, n_estimators=20; total time=   2.6s\n",
            "[CV] END criterion=gini, max_depth=4, max_features=auto, min_samples_leaf=20, min_samples_split=100, n_estimators=20; total time=   2.6s\n",
            "[CV] END criterion=gini, max_depth=4, max_features=auto, min_samples_leaf=20, min_samples_split=100, n_estimators=20; total time=   2.6s\n",
            "[CV] END criterion=gini, max_depth=4, max_features=auto, min_samples_leaf=20, min_samples_split=100, n_estimators=60; total time=   6.6s\n",
            "[CV] END criterion=gini, max_depth=4, max_features=auto, min_samples_leaf=20, min_samples_split=100, n_estimators=60; total time=   6.6s\n",
            "[CV] END criterion=gini, max_depth=4, max_features=auto, min_samples_leaf=20, min_samples_split=100, n_estimators=60; total time=   6.8s\n",
            "[CV] END criterion=gini, max_depth=4, max_features=auto, min_samples_leaf=20, min_samples_split=100, n_estimators=80; total time=   8.8s\n",
            "[CV] END criterion=gini, max_depth=4, max_features=auto, min_samples_leaf=20, min_samples_split=100, n_estimators=80; total time=   8.7s\n",
            "[CV] END criterion=gini, max_depth=4, max_features=auto, min_samples_leaf=20, min_samples_split=100, n_estimators=80; total time=   8.5s\n",
            "[CV] END criterion=gini, max_depth=4, max_features=auto, min_samples_leaf=40, min_samples_split=20, n_estimators=20; total time=   2.5s\n",
            "[CV] END criterion=gini, max_depth=4, max_features=auto, min_samples_leaf=40, min_samples_split=20, n_estimators=20; total time=   2.4s\n",
            "[CV] END criterion=gini, max_depth=4, max_features=auto, min_samples_leaf=40, min_samples_split=20, n_estimators=20; total time=   2.5s\n",
            "[CV] END criterion=gini, max_depth=4, max_features=auto, min_samples_leaf=40, min_samples_split=20, n_estimators=60; total time=   6.7s\n",
            "[CV] END criterion=gini, max_depth=4, max_features=auto, min_samples_leaf=40, min_samples_split=20, n_estimators=60; total time=   6.3s\n",
            "[CV] END criterion=gini, max_depth=4, max_features=auto, min_samples_leaf=40, min_samples_split=20, n_estimators=60; total time=   6.6s\n",
            "[CV] END criterion=gini, max_depth=4, max_features=auto, min_samples_leaf=40, min_samples_split=20, n_estimators=80; total time=   8.7s\n",
            "[CV] END criterion=gini, max_depth=4, max_features=auto, min_samples_leaf=40, min_samples_split=20, n_estimators=80; total time=   8.6s\n",
            "[CV] END criterion=gini, max_depth=4, max_features=auto, min_samples_leaf=40, min_samples_split=20, n_estimators=80; total time=   8.6s\n",
            "[CV] END criterion=gini, max_depth=4, max_features=auto, min_samples_leaf=40, min_samples_split=80, n_estimators=20; total time=   2.6s\n",
            "[CV] END criterion=gini, max_depth=4, max_features=auto, min_samples_leaf=40, min_samples_split=80, n_estimators=20; total time=   2.4s\n",
            "[CV] END criterion=gini, max_depth=4, max_features=auto, min_samples_leaf=40, min_samples_split=80, n_estimators=20; total time=   2.5s\n",
            "[CV] END criterion=gini, max_depth=4, max_features=auto, min_samples_leaf=40, min_samples_split=80, n_estimators=60; total time=   6.5s\n",
            "[CV] END criterion=gini, max_depth=4, max_features=auto, min_samples_leaf=40, min_samples_split=80, n_estimators=60; total time=   6.6s\n",
            "[CV] END criterion=gini, max_depth=4, max_features=auto, min_samples_leaf=40, min_samples_split=80, n_estimators=60; total time=   6.6s\n",
            "[CV] END criterion=gini, max_depth=4, max_features=auto, min_samples_leaf=40, min_samples_split=80, n_estimators=80; total time=   8.6s\n",
            "[CV] END criterion=gini, max_depth=4, max_features=auto, min_samples_leaf=40, min_samples_split=80, n_estimators=80; total time=   8.8s\n",
            "[CV] END criterion=gini, max_depth=4, max_features=auto, min_samples_leaf=40, min_samples_split=80, n_estimators=80; total time=   8.6s\n",
            "[CV] END criterion=gini, max_depth=4, max_features=auto, min_samples_leaf=40, min_samples_split=100, n_estimators=20; total time=   2.4s\n",
            "[CV] END criterion=gini, max_depth=4, max_features=auto, min_samples_leaf=40, min_samples_split=100, n_estimators=20; total time=   2.4s\n",
            "[CV] END criterion=gini, max_depth=4, max_features=auto, min_samples_leaf=40, min_samples_split=100, n_estimators=20; total time=   2.4s\n",
            "[CV] END criterion=gini, max_depth=4, max_features=auto, min_samples_leaf=40, min_samples_split=100, n_estimators=60; total time=   6.7s\n",
            "[CV] END criterion=gini, max_depth=4, max_features=auto, min_samples_leaf=40, min_samples_split=100, n_estimators=60; total time=   6.5s\n",
            "[CV] END criterion=gini, max_depth=4, max_features=auto, min_samples_leaf=40, min_samples_split=100, n_estimators=60; total time=   6.6s\n",
            "[CV] END criterion=gini, max_depth=4, max_features=auto, min_samples_leaf=40, min_samples_split=100, n_estimators=80; total time=   8.6s\n",
            "[CV] END criterion=gini, max_depth=4, max_features=auto, min_samples_leaf=40, min_samples_split=100, n_estimators=80; total time=   8.4s\n",
            "[CV] END criterion=gini, max_depth=4, max_features=auto, min_samples_leaf=40, min_samples_split=100, n_estimators=80; total time=   8.5s\n",
            "[CV] END criterion=gini, max_depth=4, max_features=sqrt, min_samples_leaf=20, min_samples_split=20, n_estimators=20; total time=   2.5s\n",
            "[CV] END criterion=gini, max_depth=4, max_features=sqrt, min_samples_leaf=20, min_samples_split=20, n_estimators=20; total time=   2.4s\n",
            "[CV] END criterion=gini, max_depth=4, max_features=sqrt, min_samples_leaf=20, min_samples_split=20, n_estimators=20; total time=   2.6s\n",
            "[CV] END criterion=gini, max_depth=4, max_features=sqrt, min_samples_leaf=20, min_samples_split=20, n_estimators=60; total time=   6.8s\n",
            "[CV] END criterion=gini, max_depth=4, max_features=sqrt, min_samples_leaf=20, min_samples_split=20, n_estimators=60; total time=   6.7s\n",
            "[CV] END criterion=gini, max_depth=4, max_features=sqrt, min_samples_leaf=20, min_samples_split=20, n_estimators=60; total time=   6.6s\n",
            "[CV] END criterion=gini, max_depth=4, max_features=sqrt, min_samples_leaf=20, min_samples_split=20, n_estimators=80; total time=   8.7s\n",
            "[CV] END criterion=gini, max_depth=4, max_features=sqrt, min_samples_leaf=20, min_samples_split=20, n_estimators=80; total time=   8.7s\n",
            "[CV] END criterion=gini, max_depth=4, max_features=sqrt, min_samples_leaf=20, min_samples_split=20, n_estimators=80; total time=   8.6s\n",
            "[CV] END criterion=gini, max_depth=4, max_features=sqrt, min_samples_leaf=20, min_samples_split=80, n_estimators=20; total time=   2.4s\n",
            "[CV] END criterion=gini, max_depth=4, max_features=sqrt, min_samples_leaf=20, min_samples_split=80, n_estimators=20; total time=   2.4s\n",
            "[CV] END criterion=gini, max_depth=4, max_features=sqrt, min_samples_leaf=20, min_samples_split=80, n_estimators=20; total time=   2.4s\n",
            "[CV] END criterion=gini, max_depth=4, max_features=sqrt, min_samples_leaf=20, min_samples_split=80, n_estimators=60; total time=   6.5s\n",
            "[CV] END criterion=gini, max_depth=4, max_features=sqrt, min_samples_leaf=20, min_samples_split=80, n_estimators=60; total time=   6.7s\n",
            "[CV] END criterion=gini, max_depth=4, max_features=sqrt, min_samples_leaf=20, min_samples_split=80, n_estimators=60; total time=   6.7s\n",
            "[CV] END criterion=gini, max_depth=4, max_features=sqrt, min_samples_leaf=20, min_samples_split=80, n_estimators=80; total time=   9.0s\n",
            "[CV] END criterion=gini, max_depth=4, max_features=sqrt, min_samples_leaf=20, min_samples_split=80, n_estimators=80; total time=   8.7s\n",
            "[CV] END criterion=gini, max_depth=4, max_features=sqrt, min_samples_leaf=20, min_samples_split=80, n_estimators=80; total time=   8.6s\n",
            "[CV] END criterion=gini, max_depth=4, max_features=sqrt, min_samples_leaf=20, min_samples_split=100, n_estimators=20; total time=   2.4s\n",
            "[CV] END criterion=gini, max_depth=4, max_features=sqrt, min_samples_leaf=20, min_samples_split=100, n_estimators=20; total time=   2.5s\n",
            "[CV] END criterion=gini, max_depth=4, max_features=sqrt, min_samples_leaf=20, min_samples_split=100, n_estimators=20; total time=   2.5s\n",
            "[CV] END criterion=gini, max_depth=4, max_features=sqrt, min_samples_leaf=20, min_samples_split=100, n_estimators=60; total time=   6.6s\n",
            "[CV] END criterion=gini, max_depth=4, max_features=sqrt, min_samples_leaf=20, min_samples_split=100, n_estimators=60; total time=   6.6s\n",
            "[CV] END criterion=gini, max_depth=4, max_features=sqrt, min_samples_leaf=20, min_samples_split=100, n_estimators=60; total time=   6.6s\n",
            "[CV] END criterion=gini, max_depth=4, max_features=sqrt, min_samples_leaf=20, min_samples_split=100, n_estimators=80; total time=   8.7s\n",
            "[CV] END criterion=gini, max_depth=4, max_features=sqrt, min_samples_leaf=20, min_samples_split=100, n_estimators=80; total time=   8.7s\n",
            "[CV] END criterion=gini, max_depth=4, max_features=sqrt, min_samples_leaf=20, min_samples_split=100, n_estimators=80; total time=   8.6s\n",
            "[CV] END criterion=gini, max_depth=4, max_features=sqrt, min_samples_leaf=40, min_samples_split=20, n_estimators=20; total time=   2.5s\n",
            "[CV] END criterion=gini, max_depth=4, max_features=sqrt, min_samples_leaf=40, min_samples_split=20, n_estimators=20; total time=   2.3s\n",
            "[CV] END criterion=gini, max_depth=4, max_features=sqrt, min_samples_leaf=40, min_samples_split=20, n_estimators=20; total time=   2.3s\n",
            "[CV] END criterion=gini, max_depth=4, max_features=sqrt, min_samples_leaf=40, min_samples_split=20, n_estimators=60; total time=   6.4s\n",
            "[CV] END criterion=gini, max_depth=4, max_features=sqrt, min_samples_leaf=40, min_samples_split=20, n_estimators=60; total time=   6.7s\n",
            "[CV] END criterion=gini, max_depth=4, max_features=sqrt, min_samples_leaf=40, min_samples_split=20, n_estimators=60; total time=   6.6s\n",
            "[CV] END criterion=gini, max_depth=4, max_features=sqrt, min_samples_leaf=40, min_samples_split=20, n_estimators=80; total time=   8.9s\n",
            "[CV] END criterion=gini, max_depth=4, max_features=sqrt, min_samples_leaf=40, min_samples_split=20, n_estimators=80; total time=   8.9s\n",
            "[CV] END criterion=gini, max_depth=4, max_features=sqrt, min_samples_leaf=40, min_samples_split=20, n_estimators=80; total time=   8.5s\n",
            "[CV] END criterion=gini, max_depth=4, max_features=sqrt, min_samples_leaf=40, min_samples_split=80, n_estimators=20; total time=   2.6s\n",
            "[CV] END criterion=gini, max_depth=4, max_features=sqrt, min_samples_leaf=40, min_samples_split=80, n_estimators=20; total time=   2.5s\n",
            "[CV] END criterion=gini, max_depth=4, max_features=sqrt, min_samples_leaf=40, min_samples_split=80, n_estimators=20; total time=   2.5s\n",
            "[CV] END criterion=gini, max_depth=4, max_features=sqrt, min_samples_leaf=40, min_samples_split=80, n_estimators=60; total time=   6.6s\n",
            "[CV] END criterion=gini, max_depth=4, max_features=sqrt, min_samples_leaf=40, min_samples_split=80, n_estimators=60; total time=   6.7s\n",
            "[CV] END criterion=gini, max_depth=4, max_features=sqrt, min_samples_leaf=40, min_samples_split=80, n_estimators=60; total time=   6.3s\n",
            "[CV] END criterion=gini, max_depth=4, max_features=sqrt, min_samples_leaf=40, min_samples_split=80, n_estimators=80; total time=   8.6s\n",
            "[CV] END criterion=gini, max_depth=4, max_features=sqrt, min_samples_leaf=40, min_samples_split=80, n_estimators=80; total time=   8.7s\n",
            "[CV] END criterion=gini, max_depth=4, max_features=sqrt, min_samples_leaf=40, min_samples_split=80, n_estimators=80; total time=   8.6s\n",
            "[CV] END criterion=gini, max_depth=4, max_features=sqrt, min_samples_leaf=40, min_samples_split=100, n_estimators=20; total time=   2.5s\n",
            "[CV] END criterion=gini, max_depth=4, max_features=sqrt, min_samples_leaf=40, min_samples_split=100, n_estimators=20; total time=   2.4s\n",
            "[CV] END criterion=gini, max_depth=4, max_features=sqrt, min_samples_leaf=40, min_samples_split=100, n_estimators=20; total time=   2.4s\n",
            "[CV] END criterion=gini, max_depth=4, max_features=sqrt, min_samples_leaf=40, min_samples_split=100, n_estimators=60; total time=   6.7s\n",
            "[CV] END criterion=gini, max_depth=4, max_features=sqrt, min_samples_leaf=40, min_samples_split=100, n_estimators=60; total time=   6.5s\n",
            "[CV] END criterion=gini, max_depth=4, max_features=sqrt, min_samples_leaf=40, min_samples_split=100, n_estimators=60; total time=   6.8s\n",
            "[CV] END criterion=gini, max_depth=4, max_features=sqrt, min_samples_leaf=40, min_samples_split=100, n_estimators=80; total time=   8.7s\n",
            "[CV] END criterion=gini, max_depth=4, max_features=sqrt, min_samples_leaf=40, min_samples_split=100, n_estimators=80; total time=   8.6s\n",
            "[CV] END criterion=gini, max_depth=4, max_features=sqrt, min_samples_leaf=40, min_samples_split=100, n_estimators=80; total time=   8.7s\n",
            "[CV] END criterion=gini, max_depth=4, max_features=log2, min_samples_leaf=20, min_samples_split=20, n_estimators=20; total time=   3.1s\n",
            "[CV] END criterion=gini, max_depth=4, max_features=log2, min_samples_leaf=20, min_samples_split=20, n_estimators=20; total time=   3.1s\n",
            "[CV] END criterion=gini, max_depth=4, max_features=log2, min_samples_leaf=20, min_samples_split=20, n_estimators=20; total time=   3.1s\n",
            "[CV] END criterion=gini, max_depth=4, max_features=log2, min_samples_leaf=20, min_samples_split=20, n_estimators=60; total time=   8.7s\n",
            "[CV] END criterion=gini, max_depth=4, max_features=log2, min_samples_leaf=20, min_samples_split=20, n_estimators=60; total time=   8.5s\n",
            "[CV] END criterion=gini, max_depth=4, max_features=log2, min_samples_leaf=20, min_samples_split=20, n_estimators=60; total time=   8.6s\n",
            "[CV] END criterion=gini, max_depth=4, max_features=log2, min_samples_leaf=20, min_samples_split=20, n_estimators=80; total time=  11.4s\n",
            "[CV] END criterion=gini, max_depth=4, max_features=log2, min_samples_leaf=20, min_samples_split=20, n_estimators=80; total time=  11.6s\n",
            "[CV] END criterion=gini, max_depth=4, max_features=log2, min_samples_leaf=20, min_samples_split=20, n_estimators=80; total time=  11.9s\n",
            "[CV] END criterion=gini, max_depth=4, max_features=log2, min_samples_leaf=20, min_samples_split=80, n_estimators=20; total time=   3.0s\n",
            "[CV] END criterion=gini, max_depth=4, max_features=log2, min_samples_leaf=20, min_samples_split=80, n_estimators=20; total time=   3.1s\n",
            "[CV] END criterion=gini, max_depth=4, max_features=log2, min_samples_leaf=20, min_samples_split=80, n_estimators=20; total time=   3.2s\n",
            "[CV] END criterion=gini, max_depth=4, max_features=log2, min_samples_leaf=20, min_samples_split=80, n_estimators=60; total time=   8.6s\n",
            "[CV] END criterion=gini, max_depth=4, max_features=log2, min_samples_leaf=20, min_samples_split=80, n_estimators=60; total time=   8.6s\n",
            "[CV] END criterion=gini, max_depth=4, max_features=log2, min_samples_leaf=20, min_samples_split=80, n_estimators=60; total time=   8.7s\n",
            "[CV] END criterion=gini, max_depth=4, max_features=log2, min_samples_leaf=20, min_samples_split=80, n_estimators=80; total time=  11.4s\n",
            "[CV] END criterion=gini, max_depth=4, max_features=log2, min_samples_leaf=20, min_samples_split=80, n_estimators=80; total time=  11.4s\n",
            "[CV] END criterion=gini, max_depth=4, max_features=log2, min_samples_leaf=20, min_samples_split=80, n_estimators=80; total time=  11.5s\n",
            "[CV] END criterion=gini, max_depth=4, max_features=log2, min_samples_leaf=20, min_samples_split=100, n_estimators=20; total time=   3.1s\n",
            "[CV] END criterion=gini, max_depth=4, max_features=log2, min_samples_leaf=20, min_samples_split=100, n_estimators=20; total time=   3.2s\n",
            "[CV] END criterion=gini, max_depth=4, max_features=log2, min_samples_leaf=20, min_samples_split=100, n_estimators=20; total time=   3.2s\n",
            "[CV] END criterion=gini, max_depth=4, max_features=log2, min_samples_leaf=20, min_samples_split=100, n_estimators=60; total time=   9.1s\n",
            "[CV] END criterion=gini, max_depth=4, max_features=log2, min_samples_leaf=20, min_samples_split=100, n_estimators=60; total time=   8.6s\n",
            "[CV] END criterion=gini, max_depth=4, max_features=log2, min_samples_leaf=20, min_samples_split=100, n_estimators=60; total time=   8.9s\n",
            "[CV] END criterion=gini, max_depth=4, max_features=log2, min_samples_leaf=20, min_samples_split=100, n_estimators=80; total time=  11.8s\n",
            "[CV] END criterion=gini, max_depth=4, max_features=log2, min_samples_leaf=20, min_samples_split=100, n_estimators=80; total time=  11.4s\n",
            "[CV] END criterion=gini, max_depth=4, max_features=log2, min_samples_leaf=20, min_samples_split=100, n_estimators=80; total time=  11.2s\n",
            "[CV] END criterion=gini, max_depth=4, max_features=log2, min_samples_leaf=40, min_samples_split=20, n_estimators=20; total time=   3.1s\n",
            "[CV] END criterion=gini, max_depth=4, max_features=log2, min_samples_leaf=40, min_samples_split=20, n_estimators=20; total time=   3.2s\n",
            "[CV] END criterion=gini, max_depth=4, max_features=log2, min_samples_leaf=40, min_samples_split=20, n_estimators=20; total time=   3.1s\n",
            "[CV] END criterion=gini, max_depth=4, max_features=log2, min_samples_leaf=40, min_samples_split=20, n_estimators=60; total time=   8.4s\n",
            "[CV] END criterion=gini, max_depth=4, max_features=log2, min_samples_leaf=40, min_samples_split=20, n_estimators=60; total time=   8.6s\n",
            "[CV] END criterion=gini, max_depth=4, max_features=log2, min_samples_leaf=40, min_samples_split=20, n_estimators=60; total time=   8.8s\n",
            "[CV] END criterion=gini, max_depth=4, max_features=log2, min_samples_leaf=40, min_samples_split=20, n_estimators=80; total time=  11.4s\n",
            "[CV] END criterion=gini, max_depth=4, max_features=log2, min_samples_leaf=40, min_samples_split=20, n_estimators=80; total time=  11.3s\n",
            "[CV] END criterion=gini, max_depth=4, max_features=log2, min_samples_leaf=40, min_samples_split=20, n_estimators=80; total time=  11.6s\n",
            "[CV] END criterion=gini, max_depth=4, max_features=log2, min_samples_leaf=40, min_samples_split=80, n_estimators=20; total time=   3.2s\n",
            "[CV] END criterion=gini, max_depth=4, max_features=log2, min_samples_leaf=40, min_samples_split=80, n_estimators=20; total time=   3.3s\n",
            "[CV] END criterion=gini, max_depth=4, max_features=log2, min_samples_leaf=40, min_samples_split=80, n_estimators=20; total time=   3.2s\n",
            "[CV] END criterion=gini, max_depth=4, max_features=log2, min_samples_leaf=40, min_samples_split=80, n_estimators=60; total time=   9.0s\n",
            "[CV] END criterion=gini, max_depth=4, max_features=log2, min_samples_leaf=40, min_samples_split=80, n_estimators=60; total time=   8.4s\n",
            "[CV] END criterion=gini, max_depth=4, max_features=log2, min_samples_leaf=40, min_samples_split=80, n_estimators=60; total time=   8.5s\n",
            "[CV] END criterion=gini, max_depth=4, max_features=log2, min_samples_leaf=40, min_samples_split=80, n_estimators=80; total time=  11.2s\n",
            "[CV] END criterion=gini, max_depth=4, max_features=log2, min_samples_leaf=40, min_samples_split=80, n_estimators=80; total time=  11.3s\n",
            "[CV] END criterion=gini, max_depth=4, max_features=log2, min_samples_leaf=40, min_samples_split=80, n_estimators=80; total time=  11.4s\n",
            "[CV] END criterion=gini, max_depth=4, max_features=log2, min_samples_leaf=40, min_samples_split=100, n_estimators=20; total time=   3.2s\n",
            "[CV] END criterion=gini, max_depth=4, max_features=log2, min_samples_leaf=40, min_samples_split=100, n_estimators=20; total time=   3.3s\n",
            "[CV] END criterion=gini, max_depth=4, max_features=log2, min_samples_leaf=40, min_samples_split=100, n_estimators=20; total time=   3.2s\n",
            "[CV] END criterion=gini, max_depth=4, max_features=log2, min_samples_leaf=40, min_samples_split=100, n_estimators=60; total time=   8.8s\n",
            "[CV] END criterion=gini, max_depth=4, max_features=log2, min_samples_leaf=40, min_samples_split=100, n_estimators=60; total time=   8.7s\n",
            "[CV] END criterion=gini, max_depth=4, max_features=log2, min_samples_leaf=40, min_samples_split=100, n_estimators=60; total time=   8.6s\n",
            "[CV] END criterion=gini, max_depth=4, max_features=log2, min_samples_leaf=40, min_samples_split=100, n_estimators=80; total time=  11.5s\n",
            "[CV] END criterion=gini, max_depth=4, max_features=log2, min_samples_leaf=40, min_samples_split=100, n_estimators=80; total time=  11.5s\n",
            "[CV] END criterion=gini, max_depth=4, max_features=log2, min_samples_leaf=40, min_samples_split=100, n_estimators=80; total time=  11.7s\n",
            "[CV] END criterion=gini, max_depth=6, max_features=auto, min_samples_leaf=20, min_samples_split=20, n_estimators=20; total time=   3.3s\n",
            "[CV] END criterion=gini, max_depth=6, max_features=auto, min_samples_leaf=20, min_samples_split=20, n_estimators=20; total time=   3.1s\n",
            "[CV] END criterion=gini, max_depth=6, max_features=auto, min_samples_leaf=20, min_samples_split=20, n_estimators=20; total time=   3.1s\n",
            "[CV] END criterion=gini, max_depth=6, max_features=auto, min_samples_leaf=20, min_samples_split=20, n_estimators=60; total time=   8.6s\n",
            "[CV] END criterion=gini, max_depth=6, max_features=auto, min_samples_leaf=20, min_samples_split=20, n_estimators=60; total time=   8.7s\n",
            "[CV] END criterion=gini, max_depth=6, max_features=auto, min_samples_leaf=20, min_samples_split=20, n_estimators=60; total time=   8.7s\n",
            "[CV] END criterion=gini, max_depth=6, max_features=auto, min_samples_leaf=20, min_samples_split=20, n_estimators=80; total time=  11.4s\n",
            "[CV] END criterion=gini, max_depth=6, max_features=auto, min_samples_leaf=20, min_samples_split=20, n_estimators=80; total time=  11.5s\n",
            "[CV] END criterion=gini, max_depth=6, max_features=auto, min_samples_leaf=20, min_samples_split=20, n_estimators=80; total time=  11.2s\n",
            "[CV] END criterion=gini, max_depth=6, max_features=auto, min_samples_leaf=20, min_samples_split=80, n_estimators=20; total time=   3.1s\n",
            "[CV] END criterion=gini, max_depth=6, max_features=auto, min_samples_leaf=20, min_samples_split=80, n_estimators=20; total time=   3.1s\n",
            "[CV] END criterion=gini, max_depth=6, max_features=auto, min_samples_leaf=20, min_samples_split=80, n_estimators=20; total time=   3.2s\n",
            "[CV] END criterion=gini, max_depth=6, max_features=auto, min_samples_leaf=20, min_samples_split=80, n_estimators=60; total time=   8.6s\n",
            "[CV] END criterion=gini, max_depth=6, max_features=auto, min_samples_leaf=20, min_samples_split=80, n_estimators=60; total time=   8.8s\n",
            "[CV] END criterion=gini, max_depth=6, max_features=auto, min_samples_leaf=20, min_samples_split=80, n_estimators=60; total time=   8.6s\n",
            "[CV] END criterion=gini, max_depth=6, max_features=auto, min_samples_leaf=20, min_samples_split=80, n_estimators=80; total time=  11.8s\n",
            "[CV] END criterion=gini, max_depth=6, max_features=auto, min_samples_leaf=20, min_samples_split=80, n_estimators=80; total time=  11.6s\n",
            "[CV] END criterion=gini, max_depth=6, max_features=auto, min_samples_leaf=20, min_samples_split=80, n_estimators=80; total time=  11.4s\n",
            "[CV] END criterion=gini, max_depth=6, max_features=auto, min_samples_leaf=20, min_samples_split=100, n_estimators=20; total time=   3.1s\n",
            "[CV] END criterion=gini, max_depth=6, max_features=auto, min_samples_leaf=20, min_samples_split=100, n_estimators=20; total time=   3.1s\n",
            "[CV] END criterion=gini, max_depth=6, max_features=auto, min_samples_leaf=20, min_samples_split=100, n_estimators=20; total time=   3.2s\n",
            "[CV] END criterion=gini, max_depth=6, max_features=auto, min_samples_leaf=20, min_samples_split=100, n_estimators=60; total time=   8.7s\n",
            "[CV] END criterion=gini, max_depth=6, max_features=auto, min_samples_leaf=20, min_samples_split=100, n_estimators=60; total time=   8.5s\n",
            "[CV] END criterion=gini, max_depth=6, max_features=auto, min_samples_leaf=20, min_samples_split=100, n_estimators=60; total time=   8.8s\n",
            "[CV] END criterion=gini, max_depth=6, max_features=auto, min_samples_leaf=20, min_samples_split=100, n_estimators=80; total time=  11.5s\n",
            "[CV] END criterion=gini, max_depth=6, max_features=auto, min_samples_leaf=20, min_samples_split=100, n_estimators=80; total time=  11.6s\n",
            "[CV] END criterion=gini, max_depth=6, max_features=auto, min_samples_leaf=20, min_samples_split=100, n_estimators=80; total time=  11.4s\n",
            "[CV] END criterion=gini, max_depth=6, max_features=auto, min_samples_leaf=40, min_samples_split=20, n_estimators=20; total time=   3.2s\n",
            "[CV] END criterion=gini, max_depth=6, max_features=auto, min_samples_leaf=40, min_samples_split=20, n_estimators=20; total time=   3.2s\n",
            "[CV] END criterion=gini, max_depth=6, max_features=auto, min_samples_leaf=40, min_samples_split=20, n_estimators=20; total time=   3.1s\n",
            "[CV] END criterion=gini, max_depth=6, max_features=auto, min_samples_leaf=40, min_samples_split=20, n_estimators=60; total time=   9.0s\n",
            "[CV] END criterion=gini, max_depth=6, max_features=auto, min_samples_leaf=40, min_samples_split=20, n_estimators=60; total time=   8.9s\n",
            "[CV] END criterion=gini, max_depth=6, max_features=auto, min_samples_leaf=40, min_samples_split=20, n_estimators=60; total time=   9.0s\n",
            "[CV] END criterion=gini, max_depth=6, max_features=auto, min_samples_leaf=40, min_samples_split=20, n_estimators=80; total time=  11.3s\n",
            "[CV] END criterion=gini, max_depth=6, max_features=auto, min_samples_leaf=40, min_samples_split=20, n_estimators=80; total time=  11.6s\n",
            "[CV] END criterion=gini, max_depth=6, max_features=auto, min_samples_leaf=40, min_samples_split=20, n_estimators=80; total time=  11.8s\n",
            "[CV] END criterion=gini, max_depth=6, max_features=auto, min_samples_leaf=40, min_samples_split=80, n_estimators=20; total time=   3.3s\n",
            "[CV] END criterion=gini, max_depth=6, max_features=auto, min_samples_leaf=40, min_samples_split=80, n_estimators=20; total time=   3.2s\n",
            "[CV] END criterion=gini, max_depth=6, max_features=auto, min_samples_leaf=40, min_samples_split=80, n_estimators=20; total time=   3.2s\n",
            "[CV] END criterion=gini, max_depth=6, max_features=auto, min_samples_leaf=40, min_samples_split=80, n_estimators=60; total time=   8.6s\n",
            "[CV] END criterion=gini, max_depth=6, max_features=auto, min_samples_leaf=40, min_samples_split=80, n_estimators=60; total time=   8.9s\n",
            "[CV] END criterion=gini, max_depth=6, max_features=auto, min_samples_leaf=40, min_samples_split=80, n_estimators=60; total time=   8.7s\n",
            "[CV] END criterion=gini, max_depth=6, max_features=auto, min_samples_leaf=40, min_samples_split=80, n_estimators=80; total time=  11.3s\n",
            "[CV] END criterion=gini, max_depth=6, max_features=auto, min_samples_leaf=40, min_samples_split=80, n_estimators=80; total time=  11.5s\n",
            "[CV] END criterion=gini, max_depth=6, max_features=auto, min_samples_leaf=40, min_samples_split=80, n_estimators=80; total time=  11.4s\n",
            "[CV] END criterion=gini, max_depth=6, max_features=auto, min_samples_leaf=40, min_samples_split=100, n_estimators=20; total time=   3.2s\n",
            "[CV] END criterion=gini, max_depth=6, max_features=auto, min_samples_leaf=40, min_samples_split=100, n_estimators=20; total time=   3.2s\n",
            "[CV] END criterion=gini, max_depth=6, max_features=auto, min_samples_leaf=40, min_samples_split=100, n_estimators=20; total time=   3.3s\n",
            "[CV] END criterion=gini, max_depth=6, max_features=auto, min_samples_leaf=40, min_samples_split=100, n_estimators=60; total time=   8.6s\n",
            "[CV] END criterion=gini, max_depth=6, max_features=auto, min_samples_leaf=40, min_samples_split=100, n_estimators=60; total time=   8.6s\n",
            "[CV] END criterion=gini, max_depth=6, max_features=auto, min_samples_leaf=40, min_samples_split=100, n_estimators=60; total time=   8.6s\n",
            "[CV] END criterion=gini, max_depth=6, max_features=auto, min_samples_leaf=40, min_samples_split=100, n_estimators=80; total time=  11.5s\n",
            "[CV] END criterion=gini, max_depth=6, max_features=auto, min_samples_leaf=40, min_samples_split=100, n_estimators=80; total time=  11.5s\n",
            "[CV] END criterion=gini, max_depth=6, max_features=auto, min_samples_leaf=40, min_samples_split=100, n_estimators=80; total time=  11.4s\n",
            "[CV] END criterion=gini, max_depth=6, max_features=sqrt, min_samples_leaf=20, min_samples_split=20, n_estimators=20; total time=   3.2s\n",
            "[CV] END criterion=gini, max_depth=6, max_features=sqrt, min_samples_leaf=20, min_samples_split=20, n_estimators=20; total time=   3.2s\n",
            "[CV] END criterion=gini, max_depth=6, max_features=sqrt, min_samples_leaf=20, min_samples_split=20, n_estimators=20; total time=   3.1s\n",
            "[CV] END criterion=gini, max_depth=6, max_features=sqrt, min_samples_leaf=20, min_samples_split=20, n_estimators=60; total time=   8.8s\n",
            "[CV] END criterion=gini, max_depth=6, max_features=sqrt, min_samples_leaf=20, min_samples_split=20, n_estimators=60; total time=   8.7s\n",
            "[CV] END criterion=gini, max_depth=6, max_features=sqrt, min_samples_leaf=20, min_samples_split=20, n_estimators=60; total time=   8.8s\n",
            "[CV] END criterion=gini, max_depth=6, max_features=sqrt, min_samples_leaf=20, min_samples_split=20, n_estimators=80; total time=  11.6s\n",
            "[CV] END criterion=gini, max_depth=6, max_features=sqrt, min_samples_leaf=20, min_samples_split=20, n_estimators=80; total time=  11.5s\n",
            "[CV] END criterion=gini, max_depth=6, max_features=sqrt, min_samples_leaf=20, min_samples_split=20, n_estimators=80; total time=  11.8s\n",
            "[CV] END criterion=gini, max_depth=6, max_features=sqrt, min_samples_leaf=20, min_samples_split=80, n_estimators=20; total time=   3.2s\n",
            "[CV] END criterion=gini, max_depth=6, max_features=sqrt, min_samples_leaf=20, min_samples_split=80, n_estimators=20; total time=   3.2s\n",
            "[CV] END criterion=gini, max_depth=6, max_features=sqrt, min_samples_leaf=20, min_samples_split=80, n_estimators=20; total time=   3.3s\n",
            "[CV] END criterion=gini, max_depth=6, max_features=sqrt, min_samples_leaf=20, min_samples_split=80, n_estimators=60; total time=   8.8s\n",
            "[CV] END criterion=gini, max_depth=6, max_features=sqrt, min_samples_leaf=20, min_samples_split=80, n_estimators=60; total time=   8.9s\n",
            "[CV] END criterion=gini, max_depth=6, max_features=sqrt, min_samples_leaf=20, min_samples_split=80, n_estimators=60; total time=   9.0s\n",
            "[CV] END criterion=gini, max_depth=6, max_features=sqrt, min_samples_leaf=20, min_samples_split=80, n_estimators=80; total time=  12.1s\n",
            "[CV] END criterion=gini, max_depth=6, max_features=sqrt, min_samples_leaf=20, min_samples_split=80, n_estimators=80; total time=  11.7s\n",
            "[CV] END criterion=gini, max_depth=6, max_features=sqrt, min_samples_leaf=20, min_samples_split=80, n_estimators=80; total time=  11.5s\n",
            "[CV] END criterion=gini, max_depth=6, max_features=sqrt, min_samples_leaf=20, min_samples_split=100, n_estimators=20; total time=   3.1s\n",
            "[CV] END criterion=gini, max_depth=6, max_features=sqrt, min_samples_leaf=20, min_samples_split=100, n_estimators=20; total time=   3.1s\n",
            "[CV] END criterion=gini, max_depth=6, max_features=sqrt, min_samples_leaf=20, min_samples_split=100, n_estimators=20; total time=   3.1s\n",
            "[CV] END criterion=gini, max_depth=6, max_features=sqrt, min_samples_leaf=20, min_samples_split=100, n_estimators=60; total time=   8.8s\n",
            "[CV] END criterion=gini, max_depth=6, max_features=sqrt, min_samples_leaf=20, min_samples_split=100, n_estimators=60; total time=   8.7s\n",
            "[CV] END criterion=gini, max_depth=6, max_features=sqrt, min_samples_leaf=20, min_samples_split=100, n_estimators=60; total time=   9.3s\n",
            "[CV] END criterion=gini, max_depth=6, max_features=sqrt, min_samples_leaf=20, min_samples_split=100, n_estimators=80; total time=  11.6s\n",
            "[CV] END criterion=gini, max_depth=6, max_features=sqrt, min_samples_leaf=20, min_samples_split=100, n_estimators=80; total time=  11.4s\n",
            "[CV] END criterion=gini, max_depth=6, max_features=sqrt, min_samples_leaf=20, min_samples_split=100, n_estimators=80; total time=  11.5s\n",
            "[CV] END criterion=gini, max_depth=6, max_features=sqrt, min_samples_leaf=40, min_samples_split=20, n_estimators=20; total time=   3.3s\n",
            "[CV] END criterion=gini, max_depth=6, max_features=sqrt, min_samples_leaf=40, min_samples_split=20, n_estimators=20; total time=   3.1s\n",
            "[CV] END criterion=gini, max_depth=6, max_features=sqrt, min_samples_leaf=40, min_samples_split=20, n_estimators=20; total time=   3.2s\n",
            "[CV] END criterion=gini, max_depth=6, max_features=sqrt, min_samples_leaf=40, min_samples_split=20, n_estimators=60; total time=   8.7s\n",
            "[CV] END criterion=gini, max_depth=6, max_features=sqrt, min_samples_leaf=40, min_samples_split=20, n_estimators=60; total time=   9.0s\n",
            "[CV] END criterion=gini, max_depth=6, max_features=sqrt, min_samples_leaf=40, min_samples_split=20, n_estimators=60; total time=   8.8s\n",
            "[CV] END criterion=gini, max_depth=6, max_features=sqrt, min_samples_leaf=40, min_samples_split=20, n_estimators=80; total time=  11.8s\n",
            "[CV] END criterion=gini, max_depth=6, max_features=sqrt, min_samples_leaf=40, min_samples_split=20, n_estimators=80; total time=  11.9s\n",
            "[CV] END criterion=gini, max_depth=6, max_features=sqrt, min_samples_leaf=40, min_samples_split=20, n_estimators=80; total time=  11.7s\n",
            "[CV] END criterion=gini, max_depth=6, max_features=sqrt, min_samples_leaf=40, min_samples_split=80, n_estimators=20; total time=   3.1s\n",
            "[CV] END criterion=gini, max_depth=6, max_features=sqrt, min_samples_leaf=40, min_samples_split=80, n_estimators=20; total time=   3.2s\n",
            "[CV] END criterion=gini, max_depth=6, max_features=sqrt, min_samples_leaf=40, min_samples_split=80, n_estimators=20; total time=   3.3s\n",
            "[CV] END criterion=gini, max_depth=6, max_features=sqrt, min_samples_leaf=40, min_samples_split=80, n_estimators=60; total time=   8.9s\n",
            "[CV] END criterion=gini, max_depth=6, max_features=sqrt, min_samples_leaf=40, min_samples_split=80, n_estimators=60; total time=   8.9s\n",
            "[CV] END criterion=gini, max_depth=6, max_features=sqrt, min_samples_leaf=40, min_samples_split=80, n_estimators=60; total time=   8.6s\n",
            "[CV] END criterion=gini, max_depth=6, max_features=sqrt, min_samples_leaf=40, min_samples_split=80, n_estimators=80; total time=  11.5s\n",
            "[CV] END criterion=gini, max_depth=6, max_features=sqrt, min_samples_leaf=40, min_samples_split=80, n_estimators=80; total time=  11.5s\n",
            "[CV] END criterion=gini, max_depth=6, max_features=sqrt, min_samples_leaf=40, min_samples_split=80, n_estimators=80; total time=  11.6s\n",
            "[CV] END criterion=gini, max_depth=6, max_features=sqrt, min_samples_leaf=40, min_samples_split=100, n_estimators=20; total time=   3.2s\n",
            "[CV] END criterion=gini, max_depth=6, max_features=sqrt, min_samples_leaf=40, min_samples_split=100, n_estimators=20; total time=   3.1s\n",
            "[CV] END criterion=gini, max_depth=6, max_features=sqrt, min_samples_leaf=40, min_samples_split=100, n_estimators=20; total time=   3.1s\n",
            "[CV] END criterion=gini, max_depth=6, max_features=sqrt, min_samples_leaf=40, min_samples_split=100, n_estimators=60; total time=   8.5s\n",
            "[CV] END criterion=gini, max_depth=6, max_features=sqrt, min_samples_leaf=40, min_samples_split=100, n_estimators=60; total time=   8.5s\n",
            "[CV] END criterion=gini, max_depth=6, max_features=sqrt, min_samples_leaf=40, min_samples_split=100, n_estimators=60; total time=   8.4s\n",
            "[CV] END criterion=gini, max_depth=6, max_features=sqrt, min_samples_leaf=40, min_samples_split=100, n_estimators=80; total time=  11.2s\n",
            "[CV] END criterion=gini, max_depth=6, max_features=sqrt, min_samples_leaf=40, min_samples_split=100, n_estimators=80; total time=  11.6s\n",
            "[CV] END criterion=gini, max_depth=6, max_features=sqrt, min_samples_leaf=40, min_samples_split=100, n_estimators=80; total time=  11.5s\n",
            "[CV] END criterion=gini, max_depth=6, max_features=log2, min_samples_leaf=20, min_samples_split=20, n_estimators=20; total time=   4.1s\n",
            "[CV] END criterion=gini, max_depth=6, max_features=log2, min_samples_leaf=20, min_samples_split=20, n_estimators=20; total time=   3.9s\n",
            "[CV] END criterion=gini, max_depth=6, max_features=log2, min_samples_leaf=20, min_samples_split=20, n_estimators=20; total time=   4.0s\n",
            "[CV] END criterion=gini, max_depth=6, max_features=log2, min_samples_leaf=20, min_samples_split=20, n_estimators=60; total time=  11.5s\n",
            "[CV] END criterion=gini, max_depth=6, max_features=log2, min_samples_leaf=20, min_samples_split=20, n_estimators=60; total time=  11.3s\n",
            "[CV] END criterion=gini, max_depth=6, max_features=log2, min_samples_leaf=20, min_samples_split=20, n_estimators=60; total time=  11.2s\n",
            "[CV] END criterion=gini, max_depth=6, max_features=log2, min_samples_leaf=20, min_samples_split=20, n_estimators=80; total time=  15.2s\n",
            "[CV] END criterion=gini, max_depth=6, max_features=log2, min_samples_leaf=20, min_samples_split=20, n_estimators=80; total time=  14.9s\n",
            "[CV] END criterion=gini, max_depth=6, max_features=log2, min_samples_leaf=20, min_samples_split=20, n_estimators=80; total time=  15.4s\n",
            "[CV] END criterion=gini, max_depth=6, max_features=log2, min_samples_leaf=20, min_samples_split=80, n_estimators=20; total time=   4.0s\n",
            "[CV] END criterion=gini, max_depth=6, max_features=log2, min_samples_leaf=20, min_samples_split=80, n_estimators=20; total time=   4.1s\n",
            "[CV] END criterion=gini, max_depth=6, max_features=log2, min_samples_leaf=20, min_samples_split=80, n_estimators=20; total time=   4.0s\n",
            "[CV] END criterion=gini, max_depth=6, max_features=log2, min_samples_leaf=20, min_samples_split=80, n_estimators=60; total time=  12.0s\n",
            "[CV] END criterion=gini, max_depth=6, max_features=log2, min_samples_leaf=20, min_samples_split=80, n_estimators=60; total time=  11.5s\n",
            "[CV] END criterion=gini, max_depth=6, max_features=log2, min_samples_leaf=20, min_samples_split=80, n_estimators=60; total time=  11.5s\n",
            "[CV] END criterion=gini, max_depth=6, max_features=log2, min_samples_leaf=20, min_samples_split=80, n_estimators=80; total time=  15.4s\n",
            "[CV] END criterion=gini, max_depth=6, max_features=log2, min_samples_leaf=20, min_samples_split=80, n_estimators=80; total time=  14.8s\n",
            "[CV] END criterion=gini, max_depth=6, max_features=log2, min_samples_leaf=20, min_samples_split=80, n_estimators=80; total time=  15.6s\n",
            "[CV] END criterion=gini, max_depth=6, max_features=log2, min_samples_leaf=20, min_samples_split=100, n_estimators=20; total time=   4.2s\n",
            "[CV] END criterion=gini, max_depth=6, max_features=log2, min_samples_leaf=20, min_samples_split=100, n_estimators=20; total time=   4.0s\n",
            "[CV] END criterion=gini, max_depth=6, max_features=log2, min_samples_leaf=20, min_samples_split=100, n_estimators=20; total time=   4.0s\n",
            "[CV] END criterion=gini, max_depth=6, max_features=log2, min_samples_leaf=20, min_samples_split=100, n_estimators=60; total time=  11.7s\n",
            "[CV] END criterion=gini, max_depth=6, max_features=log2, min_samples_leaf=20, min_samples_split=100, n_estimators=60; total time=  11.8s\n",
            "[CV] END criterion=gini, max_depth=6, max_features=log2, min_samples_leaf=20, min_samples_split=100, n_estimators=60; total time=  11.6s\n",
            "[CV] END criterion=gini, max_depth=6, max_features=log2, min_samples_leaf=20, min_samples_split=100, n_estimators=80; total time=  15.5s\n",
            "[CV] END criterion=gini, max_depth=6, max_features=log2, min_samples_leaf=20, min_samples_split=100, n_estimators=80; total time=  15.0s\n",
            "[CV] END criterion=gini, max_depth=6, max_features=log2, min_samples_leaf=20, min_samples_split=100, n_estimators=80; total time=  15.2s\n",
            "[CV] END criterion=gini, max_depth=6, max_features=log2, min_samples_leaf=40, min_samples_split=20, n_estimators=20; total time=   4.0s\n",
            "[CV] END criterion=gini, max_depth=6, max_features=log2, min_samples_leaf=40, min_samples_split=20, n_estimators=20; total time=   4.2s\n",
            "[CV] END criterion=gini, max_depth=6, max_features=log2, min_samples_leaf=40, min_samples_split=20, n_estimators=20; total time=   4.3s\n",
            "[CV] END criterion=gini, max_depth=6, max_features=log2, min_samples_leaf=40, min_samples_split=20, n_estimators=60; total time=  11.7s\n",
            "[CV] END criterion=gini, max_depth=6, max_features=log2, min_samples_leaf=40, min_samples_split=20, n_estimators=60; total time=  11.4s\n",
            "[CV] END criterion=gini, max_depth=6, max_features=log2, min_samples_leaf=40, min_samples_split=20, n_estimators=60; total time=  11.3s\n",
            "[CV] END criterion=gini, max_depth=6, max_features=log2, min_samples_leaf=40, min_samples_split=20, n_estimators=80; total time=  14.8s\n",
            "[CV] END criterion=gini, max_depth=6, max_features=log2, min_samples_leaf=40, min_samples_split=20, n_estimators=80; total time=  15.2s\n",
            "[CV] END criterion=gini, max_depth=6, max_features=log2, min_samples_leaf=40, min_samples_split=20, n_estimators=80; total time=  15.0s\n",
            "[CV] END criterion=gini, max_depth=6, max_features=log2, min_samples_leaf=40, min_samples_split=80, n_estimators=20; total time=   4.2s\n",
            "[CV] END criterion=gini, max_depth=6, max_features=log2, min_samples_leaf=40, min_samples_split=80, n_estimators=20; total time=   3.9s\n",
            "[CV] END criterion=gini, max_depth=6, max_features=log2, min_samples_leaf=40, min_samples_split=80, n_estimators=20; total time=   4.1s\n",
            "[CV] END criterion=gini, max_depth=6, max_features=log2, min_samples_leaf=40, min_samples_split=80, n_estimators=60; total time=  11.6s\n",
            "[CV] END criterion=gini, max_depth=6, max_features=log2, min_samples_leaf=40, min_samples_split=80, n_estimators=60; total time=  11.6s\n",
            "[CV] END criterion=gini, max_depth=6, max_features=log2, min_samples_leaf=40, min_samples_split=80, n_estimators=60; total time=  11.8s\n",
            "[CV] END criterion=gini, max_depth=6, max_features=log2, min_samples_leaf=40, min_samples_split=80, n_estimators=80; total time=  15.5s\n",
            "[CV] END criterion=gini, max_depth=6, max_features=log2, min_samples_leaf=40, min_samples_split=80, n_estimators=80; total time=  15.3s\n",
            "[CV] END criterion=gini, max_depth=6, max_features=log2, min_samples_leaf=40, min_samples_split=80, n_estimators=80; total time=  15.7s\n",
            "[CV] END criterion=gini, max_depth=6, max_features=log2, min_samples_leaf=40, min_samples_split=100, n_estimators=20; total time=   4.5s\n",
            "[CV] END criterion=gini, max_depth=6, max_features=log2, min_samples_leaf=40, min_samples_split=100, n_estimators=20; total time=   4.5s\n",
            "[CV] END criterion=gini, max_depth=6, max_features=log2, min_samples_leaf=40, min_samples_split=100, n_estimators=20; total time=   4.3s\n",
            "[CV] END criterion=gini, max_depth=6, max_features=log2, min_samples_leaf=40, min_samples_split=100, n_estimators=60; total time=  12.0s\n",
            "[CV] END criterion=gini, max_depth=6, max_features=log2, min_samples_leaf=40, min_samples_split=100, n_estimators=60; total time=  11.8s\n",
            "[CV] END criterion=gini, max_depth=6, max_features=log2, min_samples_leaf=40, min_samples_split=100, n_estimators=60; total time=  11.9s\n",
            "[CV] END criterion=gini, max_depth=6, max_features=log2, min_samples_leaf=40, min_samples_split=100, n_estimators=80; total time=  15.3s\n",
            "[CV] END criterion=gini, max_depth=6, max_features=log2, min_samples_leaf=40, min_samples_split=100, n_estimators=80; total time=  15.4s\n",
            "[CV] END criterion=gini, max_depth=6, max_features=log2, min_samples_leaf=40, min_samples_split=100, n_estimators=80; total time=  15.2s\n",
            "[CV] END criterion=gini, max_depth=8, max_features=auto, min_samples_leaf=20, min_samples_split=20, n_estimators=20; total time=   3.8s\n",
            "[CV] END criterion=gini, max_depth=8, max_features=auto, min_samples_leaf=20, min_samples_split=20, n_estimators=20; total time=   3.8s\n",
            "[CV] END criterion=gini, max_depth=8, max_features=auto, min_samples_leaf=20, min_samples_split=20, n_estimators=20; total time=   4.0s\n",
            "[CV] END criterion=gini, max_depth=8, max_features=auto, min_samples_leaf=20, min_samples_split=20, n_estimators=60; total time=  10.7s\n",
            "[CV] END criterion=gini, max_depth=8, max_features=auto, min_samples_leaf=20, min_samples_split=20, n_estimators=60; total time=  10.9s\n",
            "[CV] END criterion=gini, max_depth=8, max_features=auto, min_samples_leaf=20, min_samples_split=20, n_estimators=60; total time=  11.1s\n",
            "[CV] END criterion=gini, max_depth=8, max_features=auto, min_samples_leaf=20, min_samples_split=20, n_estimators=80; total time=  14.1s\n",
            "[CV] END criterion=gini, max_depth=8, max_features=auto, min_samples_leaf=20, min_samples_split=20, n_estimators=80; total time=  14.1s\n",
            "[CV] END criterion=gini, max_depth=8, max_features=auto, min_samples_leaf=20, min_samples_split=20, n_estimators=80; total time=  13.8s\n",
            "[CV] END criterion=gini, max_depth=8, max_features=auto, min_samples_leaf=20, min_samples_split=80, n_estimators=20; total time=   3.9s\n",
            "[CV] END criterion=gini, max_depth=8, max_features=auto, min_samples_leaf=20, min_samples_split=80, n_estimators=20; total time=   3.7s\n",
            "[CV] END criterion=gini, max_depth=8, max_features=auto, min_samples_leaf=20, min_samples_split=80, n_estimators=20; total time=   3.7s\n",
            "[CV] END criterion=gini, max_depth=8, max_features=auto, min_samples_leaf=20, min_samples_split=80, n_estimators=60; total time=  10.6s\n",
            "[CV] END criterion=gini, max_depth=8, max_features=auto, min_samples_leaf=20, min_samples_split=80, n_estimators=60; total time=  10.4s\n",
            "[CV] END criterion=gini, max_depth=8, max_features=auto, min_samples_leaf=20, min_samples_split=80, n_estimators=60; total time=  10.4s\n",
            "[CV] END criterion=gini, max_depth=8, max_features=auto, min_samples_leaf=20, min_samples_split=80, n_estimators=80; total time=  14.5s\n",
            "[CV] END criterion=gini, max_depth=8, max_features=auto, min_samples_leaf=20, min_samples_split=80, n_estimators=80; total time=  14.5s\n",
            "[CV] END criterion=gini, max_depth=8, max_features=auto, min_samples_leaf=20, min_samples_split=80, n_estimators=80; total time=  14.1s\n",
            "[CV] END criterion=gini, max_depth=8, max_features=auto, min_samples_leaf=20, min_samples_split=100, n_estimators=20; total time=   4.0s\n",
            "[CV] END criterion=gini, max_depth=8, max_features=auto, min_samples_leaf=20, min_samples_split=100, n_estimators=20; total time=   3.7s\n",
            "[CV] END criterion=gini, max_depth=8, max_features=auto, min_samples_leaf=20, min_samples_split=100, n_estimators=20; total time=   3.9s\n",
            "[CV] END criterion=gini, max_depth=8, max_features=auto, min_samples_leaf=20, min_samples_split=100, n_estimators=60; total time=  10.9s\n",
            "[CV] END criterion=gini, max_depth=8, max_features=auto, min_samples_leaf=20, min_samples_split=100, n_estimators=60; total time=  10.7s\n",
            "[CV] END criterion=gini, max_depth=8, max_features=auto, min_samples_leaf=20, min_samples_split=100, n_estimators=60; total time=  10.9s\n",
            "[CV] END criterion=gini, max_depth=8, max_features=auto, min_samples_leaf=20, min_samples_split=100, n_estimators=80; total time=  13.6s\n",
            "[CV] END criterion=gini, max_depth=8, max_features=auto, min_samples_leaf=20, min_samples_split=100, n_estimators=80; total time=  13.9s\n",
            "[CV] END criterion=gini, max_depth=8, max_features=auto, min_samples_leaf=20, min_samples_split=100, n_estimators=80; total time=  14.0s\n",
            "[CV] END criterion=gini, max_depth=8, max_features=auto, min_samples_leaf=40, min_samples_split=20, n_estimators=20; total time=   3.9s\n",
            "[CV] END criterion=gini, max_depth=8, max_features=auto, min_samples_leaf=40, min_samples_split=20, n_estimators=20; total time=   3.7s\n",
            "[CV] END criterion=gini, max_depth=8, max_features=auto, min_samples_leaf=40, min_samples_split=20, n_estimators=20; total time=   3.9s\n",
            "[CV] END criterion=gini, max_depth=8, max_features=auto, min_samples_leaf=40, min_samples_split=20, n_estimators=60; total time=  10.6s\n",
            "[CV] END criterion=gini, max_depth=8, max_features=auto, min_samples_leaf=40, min_samples_split=20, n_estimators=60; total time=  11.0s\n",
            "[CV] END criterion=gini, max_depth=8, max_features=auto, min_samples_leaf=40, min_samples_split=20, n_estimators=60; total time=  10.6s\n",
            "[CV] END criterion=gini, max_depth=8, max_features=auto, min_samples_leaf=40, min_samples_split=20, n_estimators=80; total time=  14.2s\n",
            "[CV] END criterion=gini, max_depth=8, max_features=auto, min_samples_leaf=40, min_samples_split=20, n_estimators=80; total time=  14.1s\n",
            "[CV] END criterion=gini, max_depth=8, max_features=auto, min_samples_leaf=40, min_samples_split=20, n_estimators=80; total time=  14.5s\n",
            "[CV] END criterion=gini, max_depth=8, max_features=auto, min_samples_leaf=40, min_samples_split=80, n_estimators=20; total time=   3.8s\n",
            "[CV] END criterion=gini, max_depth=8, max_features=auto, min_samples_leaf=40, min_samples_split=80, n_estimators=20; total time=   3.8s\n",
            "[CV] END criterion=gini, max_depth=8, max_features=auto, min_samples_leaf=40, min_samples_split=80, n_estimators=20; total time=   3.8s\n",
            "[CV] END criterion=gini, max_depth=8, max_features=auto, min_samples_leaf=40, min_samples_split=80, n_estimators=60; total time=  10.4s\n",
            "[CV] END criterion=gini, max_depth=8, max_features=auto, min_samples_leaf=40, min_samples_split=80, n_estimators=60; total time=  10.8s\n",
            "[CV] END criterion=gini, max_depth=8, max_features=auto, min_samples_leaf=40, min_samples_split=80, n_estimators=60; total time=  10.7s\n",
            "[CV] END criterion=gini, max_depth=8, max_features=auto, min_samples_leaf=40, min_samples_split=80, n_estimators=80; total time=  14.4s\n",
            "[CV] END criterion=gini, max_depth=8, max_features=auto, min_samples_leaf=40, min_samples_split=80, n_estimators=80; total time=  14.3s\n",
            "[CV] END criterion=gini, max_depth=8, max_features=auto, min_samples_leaf=40, min_samples_split=80, n_estimators=80; total time=  14.2s\n",
            "[CV] END criterion=gini, max_depth=8, max_features=auto, min_samples_leaf=40, min_samples_split=100, n_estimators=20; total time=   4.0s\n",
            "[CV] END criterion=gini, max_depth=8, max_features=auto, min_samples_leaf=40, min_samples_split=100, n_estimators=20; total time=   3.9s\n",
            "[CV] END criterion=gini, max_depth=8, max_features=auto, min_samples_leaf=40, min_samples_split=100, n_estimators=20; total time=   3.9s\n",
            "[CV] END criterion=gini, max_depth=8, max_features=auto, min_samples_leaf=40, min_samples_split=100, n_estimators=60; total time=  11.0s\n",
            "[CV] END criterion=gini, max_depth=8, max_features=auto, min_samples_leaf=40, min_samples_split=100, n_estimators=60; total time=  10.8s\n",
            "[CV] END criterion=gini, max_depth=8, max_features=auto, min_samples_leaf=40, min_samples_split=100, n_estimators=60; total time=  10.8s\n",
            "[CV] END criterion=gini, max_depth=8, max_features=auto, min_samples_leaf=40, min_samples_split=100, n_estimators=80; total time=  14.2s\n",
            "[CV] END criterion=gini, max_depth=8, max_features=auto, min_samples_leaf=40, min_samples_split=100, n_estimators=80; total time=  14.4s\n",
            "[CV] END criterion=gini, max_depth=8, max_features=auto, min_samples_leaf=40, min_samples_split=100, n_estimators=80; total time=  14.3s\n",
            "[CV] END criterion=gini, max_depth=8, max_features=sqrt, min_samples_leaf=20, min_samples_split=20, n_estimators=20; total time=   3.9s\n",
            "[CV] END criterion=gini, max_depth=8, max_features=sqrt, min_samples_leaf=20, min_samples_split=20, n_estimators=20; total time=   3.7s\n",
            "[CV] END criterion=gini, max_depth=8, max_features=sqrt, min_samples_leaf=20, min_samples_split=20, n_estimators=20; total time=   3.8s\n",
            "[CV] END criterion=gini, max_depth=8, max_features=sqrt, min_samples_leaf=20, min_samples_split=20, n_estimators=60; total time=  10.5s\n",
            "[CV] END criterion=gini, max_depth=8, max_features=sqrt, min_samples_leaf=20, min_samples_split=20, n_estimators=60; total time=  11.0s\n",
            "[CV] END criterion=gini, max_depth=8, max_features=sqrt, min_samples_leaf=20, min_samples_split=20, n_estimators=60; total time=  10.8s\n",
            "[CV] END criterion=gini, max_depth=8, max_features=sqrt, min_samples_leaf=20, min_samples_split=20, n_estimators=80; total time=  14.5s\n",
            "[CV] END criterion=gini, max_depth=8, max_features=sqrt, min_samples_leaf=20, min_samples_split=20, n_estimators=80; total time=  14.6s\n",
            "[CV] END criterion=gini, max_depth=8, max_features=sqrt, min_samples_leaf=20, min_samples_split=20, n_estimators=80; total time=  14.4s\n",
            "[CV] END criterion=gini, max_depth=8, max_features=sqrt, min_samples_leaf=20, min_samples_split=80, n_estimators=20; total time=   3.9s\n",
            "[CV] END criterion=gini, max_depth=8, max_features=sqrt, min_samples_leaf=20, min_samples_split=80, n_estimators=20; total time=   3.9s\n",
            "[CV] END criterion=gini, max_depth=8, max_features=sqrt, min_samples_leaf=20, min_samples_split=80, n_estimators=20; total time=   3.9s\n",
            "[CV] END criterion=gini, max_depth=8, max_features=sqrt, min_samples_leaf=20, min_samples_split=80, n_estimators=60; total time=  11.0s\n",
            "[CV] END criterion=gini, max_depth=8, max_features=sqrt, min_samples_leaf=20, min_samples_split=80, n_estimators=60; total time=  11.3s\n",
            "[CV] END criterion=gini, max_depth=8, max_features=sqrt, min_samples_leaf=20, min_samples_split=80, n_estimators=60; total time=  11.1s\n",
            "[CV] END criterion=gini, max_depth=8, max_features=sqrt, min_samples_leaf=20, min_samples_split=80, n_estimators=80; total time=  14.2s\n",
            "[CV] END criterion=gini, max_depth=8, max_features=sqrt, min_samples_leaf=20, min_samples_split=80, n_estimators=80; total time=  14.5s\n",
            "[CV] END criterion=gini, max_depth=8, max_features=sqrt, min_samples_leaf=20, min_samples_split=80, n_estimators=80; total time=  14.6s\n",
            "[CV] END criterion=gini, max_depth=8, max_features=sqrt, min_samples_leaf=20, min_samples_split=100, n_estimators=20; total time=   3.9s\n",
            "[CV] END criterion=gini, max_depth=8, max_features=sqrt, min_samples_leaf=20, min_samples_split=100, n_estimators=20; total time=   3.9s\n",
            "[CV] END criterion=gini, max_depth=8, max_features=sqrt, min_samples_leaf=20, min_samples_split=100, n_estimators=20; total time=   4.0s\n",
            "[CV] END criterion=gini, max_depth=8, max_features=sqrt, min_samples_leaf=20, min_samples_split=100, n_estimators=60; total time=  11.0s\n",
            "[CV] END criterion=gini, max_depth=8, max_features=sqrt, min_samples_leaf=20, min_samples_split=100, n_estimators=60; total time=  11.3s\n",
            "[CV] END criterion=gini, max_depth=8, max_features=sqrt, min_samples_leaf=20, min_samples_split=100, n_estimators=60; total time=  11.3s\n",
            "[CV] END criterion=gini, max_depth=8, max_features=sqrt, min_samples_leaf=20, min_samples_split=100, n_estimators=80; total time=  14.2s\n",
            "[CV] END criterion=gini, max_depth=8, max_features=sqrt, min_samples_leaf=20, min_samples_split=100, n_estimators=80; total time=  14.6s\n",
            "[CV] END criterion=gini, max_depth=8, max_features=sqrt, min_samples_leaf=20, min_samples_split=100, n_estimators=80; total time=  14.4s\n",
            "[CV] END criterion=gini, max_depth=8, max_features=sqrt, min_samples_leaf=40, min_samples_split=20, n_estimators=20; total time=   3.9s\n",
            "[CV] END criterion=gini, max_depth=8, max_features=sqrt, min_samples_leaf=40, min_samples_split=20, n_estimators=20; total time=   3.8s\n",
            "[CV] END criterion=gini, max_depth=8, max_features=sqrt, min_samples_leaf=40, min_samples_split=20, n_estimators=20; total time=   3.9s\n",
            "[CV] END criterion=gini, max_depth=8, max_features=sqrt, min_samples_leaf=40, min_samples_split=20, n_estimators=60; total time=  10.8s\n",
            "[CV] END criterion=gini, max_depth=8, max_features=sqrt, min_samples_leaf=40, min_samples_split=20, n_estimators=60; total time=  10.6s\n",
            "[CV] END criterion=gini, max_depth=8, max_features=sqrt, min_samples_leaf=40, min_samples_split=20, n_estimators=60; total time=  11.1s\n",
            "[CV] END criterion=gini, max_depth=8, max_features=sqrt, min_samples_leaf=40, min_samples_split=20, n_estimators=80; total time=  14.0s\n",
            "[CV] END criterion=gini, max_depth=8, max_features=sqrt, min_samples_leaf=40, min_samples_split=20, n_estimators=80; total time=  14.3s\n",
            "[CV] END criterion=gini, max_depth=8, max_features=sqrt, min_samples_leaf=40, min_samples_split=20, n_estimators=80; total time=  14.0s\n",
            "[CV] END criterion=gini, max_depth=8, max_features=sqrt, min_samples_leaf=40, min_samples_split=80, n_estimators=20; total time=   3.8s\n",
            "[CV] END criterion=gini, max_depth=8, max_features=sqrt, min_samples_leaf=40, min_samples_split=80, n_estimators=20; total time=   3.8s\n",
            "[CV] END criterion=gini, max_depth=8, max_features=sqrt, min_samples_leaf=40, min_samples_split=80, n_estimators=20; total time=   3.9s\n",
            "[CV] END criterion=gini, max_depth=8, max_features=sqrt, min_samples_leaf=40, min_samples_split=80, n_estimators=60; total time=  10.6s\n",
            "[CV] END criterion=gini, max_depth=8, max_features=sqrt, min_samples_leaf=40, min_samples_split=80, n_estimators=60; total time=  10.8s\n",
            "[CV] END criterion=gini, max_depth=8, max_features=sqrt, min_samples_leaf=40, min_samples_split=80, n_estimators=60; total time=  10.7s\n",
            "[CV] END criterion=gini, max_depth=8, max_features=sqrt, min_samples_leaf=40, min_samples_split=80, n_estimators=80; total time=  14.1s\n",
            "[CV] END criterion=gini, max_depth=8, max_features=sqrt, min_samples_leaf=40, min_samples_split=80, n_estimators=80; total time=  14.2s\n",
            "[CV] END criterion=gini, max_depth=8, max_features=sqrt, min_samples_leaf=40, min_samples_split=80, n_estimators=80; total time=  14.3s\n",
            "[CV] END criterion=gini, max_depth=8, max_features=sqrt, min_samples_leaf=40, min_samples_split=100, n_estimators=20; total time=   3.7s\n",
            "[CV] END criterion=gini, max_depth=8, max_features=sqrt, min_samples_leaf=40, min_samples_split=100, n_estimators=20; total time=   3.8s\n",
            "[CV] END criterion=gini, max_depth=8, max_features=sqrt, min_samples_leaf=40, min_samples_split=100, n_estimators=20; total time=   3.8s\n",
            "[CV] END criterion=gini, max_depth=8, max_features=sqrt, min_samples_leaf=40, min_samples_split=100, n_estimators=60; total time=  10.4s\n",
            "[CV] END criterion=gini, max_depth=8, max_features=sqrt, min_samples_leaf=40, min_samples_split=100, n_estimators=60; total time=  10.5s\n",
            "[CV] END criterion=gini, max_depth=8, max_features=sqrt, min_samples_leaf=40, min_samples_split=100, n_estimators=60; total time=  10.4s\n",
            "[CV] END criterion=gini, max_depth=8, max_features=sqrt, min_samples_leaf=40, min_samples_split=100, n_estimators=80; total time=  14.4s\n",
            "[CV] END criterion=gini, max_depth=8, max_features=sqrt, min_samples_leaf=40, min_samples_split=100, n_estimators=80; total time=  14.3s\n",
            "[CV] END criterion=gini, max_depth=8, max_features=sqrt, min_samples_leaf=40, min_samples_split=100, n_estimators=80; total time=  14.3s\n",
            "[CV] END criterion=gini, max_depth=8, max_features=log2, min_samples_leaf=20, min_samples_split=20, n_estimators=20; total time=   5.1s\n",
            "[CV] END criterion=gini, max_depth=8, max_features=log2, min_samples_leaf=20, min_samples_split=20, n_estimators=20; total time=   5.2s\n",
            "[CV] END criterion=gini, max_depth=8, max_features=log2, min_samples_leaf=20, min_samples_split=20, n_estimators=20; total time=   5.4s\n",
            "[CV] END criterion=gini, max_depth=8, max_features=log2, min_samples_leaf=20, min_samples_split=20, n_estimators=60; total time=  14.5s\n",
            "[CV] END criterion=gini, max_depth=8, max_features=log2, min_samples_leaf=20, min_samples_split=20, n_estimators=60; total time=  14.4s\n",
            "[CV] END criterion=gini, max_depth=8, max_features=log2, min_samples_leaf=20, min_samples_split=20, n_estimators=60; total time=  14.6s\n",
            "[CV] END criterion=gini, max_depth=8, max_features=log2, min_samples_leaf=20, min_samples_split=20, n_estimators=80; total time=  19.4s\n",
            "[CV] END criterion=gini, max_depth=8, max_features=log2, min_samples_leaf=20, min_samples_split=20, n_estimators=80; total time=  19.4s\n",
            "[CV] END criterion=gini, max_depth=8, max_features=log2, min_samples_leaf=20, min_samples_split=20, n_estimators=80; total time=  19.8s\n",
            "[CV] END criterion=gini, max_depth=8, max_features=log2, min_samples_leaf=20, min_samples_split=80, n_estimators=20; total time=   5.3s\n",
            "[CV] END criterion=gini, max_depth=8, max_features=log2, min_samples_leaf=20, min_samples_split=80, n_estimators=20; total time=   5.4s\n",
            "[CV] END criterion=gini, max_depth=8, max_features=log2, min_samples_leaf=20, min_samples_split=80, n_estimators=20; total time=   5.2s\n",
            "[CV] END criterion=gini, max_depth=8, max_features=log2, min_samples_leaf=20, min_samples_split=80, n_estimators=60; total time=  14.8s\n",
            "[CV] END criterion=gini, max_depth=8, max_features=log2, min_samples_leaf=20, min_samples_split=80, n_estimators=60; total time=  14.9s\n",
            "[CV] END criterion=gini, max_depth=8, max_features=log2, min_samples_leaf=20, min_samples_split=80, n_estimators=60; total time=  15.3s\n",
            "[CV] END criterion=gini, max_depth=8, max_features=log2, min_samples_leaf=20, min_samples_split=80, n_estimators=80; total time=  19.7s\n",
            "[CV] END criterion=gini, max_depth=8, max_features=log2, min_samples_leaf=20, min_samples_split=80, n_estimators=80; total time=  19.9s\n",
            "[CV] END criterion=gini, max_depth=8, max_features=log2, min_samples_leaf=20, min_samples_split=80, n_estimators=80; total time=  19.3s\n",
            "[CV] END criterion=gini, max_depth=8, max_features=log2, min_samples_leaf=20, min_samples_split=100, n_estimators=20; total time=   5.1s\n",
            "[CV] END criterion=gini, max_depth=8, max_features=log2, min_samples_leaf=20, min_samples_split=100, n_estimators=20; total time=   5.7s\n",
            "[CV] END criterion=gini, max_depth=8, max_features=log2, min_samples_leaf=20, min_samples_split=100, n_estimators=20; total time=   6.3s\n",
            "[CV] END criterion=gini, max_depth=8, max_features=log2, min_samples_leaf=20, min_samples_split=100, n_estimators=60; total time=  14.9s\n",
            "[CV] END criterion=gini, max_depth=8, max_features=log2, min_samples_leaf=20, min_samples_split=100, n_estimators=60; total time=  14.7s\n",
            "[CV] END criterion=gini, max_depth=8, max_features=log2, min_samples_leaf=20, min_samples_split=100, n_estimators=60; total time=  14.9s\n",
            "[CV] END criterion=gini, max_depth=8, max_features=log2, min_samples_leaf=20, min_samples_split=100, n_estimators=80; total time=  19.6s\n",
            "[CV] END criterion=gini, max_depth=8, max_features=log2, min_samples_leaf=20, min_samples_split=100, n_estimators=80; total time=  19.5s\n",
            "[CV] END criterion=gini, max_depth=8, max_features=log2, min_samples_leaf=20, min_samples_split=100, n_estimators=80; total time=  19.4s\n",
            "[CV] END criterion=gini, max_depth=8, max_features=log2, min_samples_leaf=40, min_samples_split=20, n_estimators=20; total time=   5.0s\n",
            "[CV] END criterion=gini, max_depth=8, max_features=log2, min_samples_leaf=40, min_samples_split=20, n_estimators=20; total time=   5.1s\n",
            "[CV] END criterion=gini, max_depth=8, max_features=log2, min_samples_leaf=40, min_samples_split=20, n_estimators=20; total time=   5.4s\n",
            "[CV] END criterion=gini, max_depth=8, max_features=log2, min_samples_leaf=40, min_samples_split=20, n_estimators=60; total time=  14.6s\n",
            "[CV] END criterion=gini, max_depth=8, max_features=log2, min_samples_leaf=40, min_samples_split=20, n_estimators=60; total time=  14.4s\n",
            "[CV] END criterion=gini, max_depth=8, max_features=log2, min_samples_leaf=40, min_samples_split=20, n_estimators=60; total time=  14.7s\n",
            "[CV] END criterion=gini, max_depth=8, max_features=log2, min_samples_leaf=40, min_samples_split=20, n_estimators=80; total time=  19.5s\n",
            "[CV] END criterion=gini, max_depth=8, max_features=log2, min_samples_leaf=40, min_samples_split=20, n_estimators=80; total time=  19.7s\n",
            "[CV] END criterion=gini, max_depth=8, max_features=log2, min_samples_leaf=40, min_samples_split=20, n_estimators=80; total time=  19.4s\n",
            "[CV] END criterion=gini, max_depth=8, max_features=log2, min_samples_leaf=40, min_samples_split=80, n_estimators=20; total time=   5.0s\n",
            "[CV] END criterion=gini, max_depth=8, max_features=log2, min_samples_leaf=40, min_samples_split=80, n_estimators=20; total time=   5.2s\n",
            "[CV] END criterion=gini, max_depth=8, max_features=log2, min_samples_leaf=40, min_samples_split=80, n_estimators=20; total time=   5.1s\n",
            "[CV] END criterion=gini, max_depth=8, max_features=log2, min_samples_leaf=40, min_samples_split=80, n_estimators=60; total time=  14.8s\n",
            "[CV] END criterion=gini, max_depth=8, max_features=log2, min_samples_leaf=40, min_samples_split=80, n_estimators=60; total time=  14.3s\n",
            "[CV] END criterion=gini, max_depth=8, max_features=log2, min_samples_leaf=40, min_samples_split=80, n_estimators=60; total time=  14.7s\n",
            "[CV] END criterion=gini, max_depth=8, max_features=log2, min_samples_leaf=40, min_samples_split=80, n_estimators=80; total time=  19.3s\n",
            "[CV] END criterion=gini, max_depth=8, max_features=log2, min_samples_leaf=40, min_samples_split=80, n_estimators=80; total time=  18.9s\n",
            "[CV] END criterion=gini, max_depth=8, max_features=log2, min_samples_leaf=40, min_samples_split=80, n_estimators=80; total time=  19.0s\n",
            "[CV] END criterion=gini, max_depth=8, max_features=log2, min_samples_leaf=40, min_samples_split=100, n_estimators=20; total time=   5.2s\n",
            "[CV] END criterion=gini, max_depth=8, max_features=log2, min_samples_leaf=40, min_samples_split=100, n_estimators=20; total time=   5.0s\n",
            "[CV] END criterion=gini, max_depth=8, max_features=log2, min_samples_leaf=40, min_samples_split=100, n_estimators=20; total time=   5.1s\n",
            "[CV] END criterion=gini, max_depth=8, max_features=log2, min_samples_leaf=40, min_samples_split=100, n_estimators=60; total time=  14.3s\n",
            "[CV] END criterion=gini, max_depth=8, max_features=log2, min_samples_leaf=40, min_samples_split=100, n_estimators=60; total time=  14.2s\n",
            "[CV] END criterion=gini, max_depth=8, max_features=log2, min_samples_leaf=40, min_samples_split=100, n_estimators=60; total time=  14.0s\n",
            "[CV] END criterion=gini, max_depth=8, max_features=log2, min_samples_leaf=40, min_samples_split=100, n_estimators=80; total time=  18.7s\n",
            "[CV] END criterion=gini, max_depth=8, max_features=log2, min_samples_leaf=40, min_samples_split=100, n_estimators=80; total time=  18.9s\n",
            "[CV] END criterion=gini, max_depth=8, max_features=log2, min_samples_leaf=40, min_samples_split=100, n_estimators=80; total time=  18.5s\n"
          ]
        },
        {
          "output_type": "execute_result",
          "data": {
            "text/plain": [
              "GridSearchCV(cv=3, estimator=RandomForestClassifier(),\n",
              "             param_grid={'criterion': ['entropy', 'gini'],\n",
              "                         'max_depth': [4, 6, 8],\n",
              "                         'max_features': ['auto', 'sqrt', 'log2'],\n",
              "                         'min_samples_leaf': [20, 40],\n",
              "                         'min_samples_split': [20, 80, 100],\n",
              "                         'n_estimators': [20, 60, 80]},\n",
              "             scoring='roc_auc', verbose=2)"
            ]
          },
          "metadata": {},
          "execution_count": 107
        }
      ],
      "source": [
        "# Create an instance of the RandomForestClassifier\n",
        "rf_model = RandomForestClassifier()\n",
        "\n",
        "# Grid search\n",
        "rf_grid = GridSearchCV(estimator=rf_model,\n",
        "                       param_grid = param_dict,\n",
        "                       cv = 3, verbose=2, scoring='roc_auc')\n",
        "\n",
        "rf_grid.fit(X_train,Y_train)"
      ]
    },
    {
      "cell_type": "code",
      "execution_count": 108,
      "metadata": {
        "colab": {
          "base_uri": "https://localhost:8080/"
        },
        "id": "6LlooksvGXdT",
        "outputId": "c267888a-1579-4e4f-daeb-6b3264736032"
      },
      "outputs": [
        {
          "output_type": "execute_result",
          "data": {
            "text/plain": [
              "RandomForestClassifier(max_depth=8, max_features='log2', min_samples_leaf=20,\n",
              "                       min_samples_split=20, n_estimators=80)"
            ]
          },
          "metadata": {},
          "execution_count": 108
        }
      ],
      "source": [
        "rf_grid.best_estimator_"
      ]
    },
    {
      "cell_type": "code",
      "execution_count": 109,
      "metadata": {
        "id": "9orzrUyQGXiY"
      },
      "outputs": [],
      "source": [
        "rf_optimal_model = rf_grid.best_estimator_"
      ]
    },
    {
      "cell_type": "code",
      "execution_count": 110,
      "metadata": {
        "colab": {
          "base_uri": "https://localhost:8080/"
        },
        "id": "MN2BBLx5GXuN",
        "outputId": "0323a15e-6c3e-445a-e5dc-5a35d31fc039"
      },
      "outputs": [
        {
          "output_type": "execute_result",
          "data": {
            "text/plain": [
              "{'criterion': 'gini',\n",
              " 'max_depth': 8,\n",
              " 'max_features': 'log2',\n",
              " 'min_samples_leaf': 20,\n",
              " 'min_samples_split': 20,\n",
              " 'n_estimators': 80}"
            ]
          },
          "metadata": {},
          "execution_count": 110
        }
      ],
      "source": [
        "rf_grid.best_params_"
      ]
    },
    {
      "cell_type": "code",
      "execution_count": 111,
      "metadata": {
        "id": "ezm025AcGXyL"
      },
      "outputs": [],
      "source": [
        "# Making predictions on train and test data\n",
        "\n",
        "train_class_preds = rf_optimal_model.predict(X_train)\n",
        "test_class_preds = rf_optimal_model.predict(X_test)\n",
        "\n",
        "\n",
        "# Get the probabilities on train and test\n",
        "train_preds = rf_optimal_model.predict_proba(X_train)[:,1]\n",
        "test_preds = rf_optimal_model.predict_proba(X_test)[:,1]"
      ]
    },
    {
      "cell_type": "code",
      "execution_count": 112,
      "metadata": {
        "colab": {
          "base_uri": "https://localhost:8080/"
        },
        "id": "vbH-L3mtHv_n",
        "outputId": "19aa3aa1-5775-4e8f-d8c0-dad5a1402b14"
      },
      "outputs": [
        {
          "output_type": "execute_result",
          "data": {
            "text/plain": [
              "266776"
            ]
          },
          "metadata": {},
          "execution_count": 112
        }
      ],
      "source": [
        "len(train_preds)"
      ]
    },
    {
      "cell_type": "code",
      "execution_count": 113,
      "metadata": {
        "colab": {
          "base_uri": "https://localhost:8080/"
        },
        "id": "STToI7CSHwD1",
        "outputId": "fb759ed6-71a2-4aa8-f1f5-c93c30ac9386"
      },
      "outputs": [
        {
          "output_type": "execute_result",
          "data": {
            "text/plain": [
              "array([0, 0, 0, ..., 0, 0, 0])"
            ]
          },
          "metadata": {},
          "execution_count": 113
        }
      ],
      "source": [
        "test_class_preds"
      ]
    },
    {
      "cell_type": "code",
      "execution_count": 114,
      "metadata": {
        "id": "YSfXHdECHwI8"
      },
      "outputs": [],
      "source": [
        "from sklearn.metrics import accuracy_score,roc_auc_score,confusion_matrix"
      ]
    },
    {
      "cell_type": "code",
      "execution_count": 115,
      "metadata": {
        "colab": {
          "base_uri": "https://localhost:8080/"
        },
        "id": "kdsTGhRtHwM0",
        "outputId": "eb885957-8604-45e2-bced-39555be6203f"
      },
      "outputs": [
        {
          "output_type": "stream",
          "name": "stdout",
          "text": [
            "The accuracy on train dataset is 0.8769866854589619\n",
            "The accuracy on test dataset is 0.8784865261997848\n"
          ]
        }
      ],
      "source": [
        "# Calculating accuracy on train and test\n",
        "train_accuracy = accuracy_score(Y_train,train_class_preds)\n",
        "test_accuracy = accuracy_score(Y_test,test_class_preds)\n",
        "\n",
        "print(\"The accuracy on train dataset is\", train_accuracy)\n",
        "print(\"The accuracy on test dataset is\", test_accuracy)"
      ]
    },
    {
      "cell_type": "code",
      "execution_count": 116,
      "metadata": {
        "colab": {
          "base_uri": "https://localhost:8080/"
        },
        "id": "qoiVXWLxHwQ5",
        "outputId": "3e2d8e11-5fc2-4e30-8ab0-54838ca44603"
      },
      "outputs": [
        {
          "output_type": "stream",
          "name": "stdout",
          "text": [
            "              precision    recall  f1-score   support\n",
            "\n",
            "           0       0.88      1.00      0.94    100440\n",
            "           1       0.00      0.00      0.00     13893\n",
            "\n",
            "    accuracy                           0.88    114333\n",
            "   macro avg       0.44      0.50      0.47    114333\n",
            "weighted avg       0.77      0.88      0.82    114333\n",
            "\n"
          ]
        }
      ],
      "source": [
        "print (classification_report(Y_test, test_class_preds))"
      ]
    },
    {
      "cell_type": "code",
      "execution_count": 117,
      "metadata": {
        "colab": {
          "base_uri": "https://localhost:8080/",
          "height": 295
        },
        "id": "_TzPmwqTHwY8",
        "outputId": "2ff71248-b660-40dd-fa35-9d7559cf93f0"
      },
      "outputs": [
        {
          "output_type": "display_data",
          "data": {
            "image/png": "[encoded data removed]",
            "text/plain": [
              "<Figure size 432x288 with 1 Axes>"
            ]
          },
          "metadata": {
            "needs_background": "light"
          }
        }
      ],
      "source": [
        "Y_score = rf_optimal_model.predict_proba(X_test)[:,1]\n",
        "fpr, tpr, _ = roc_curve(Y_test, Y_score)\n",
        "\n",
        "plt.title('Random Forest ROC curve: CC Fraud')\n",
        "plt.xlabel('FPR (Precision)')\n",
        "plt.ylabel('TPR (Recall)')\n",
        "\n",
        "plt.plot(fpr,tpr)\n",
        "plt.plot((0,1), ls='dashed',color='black')\n",
        "plt.show()\n",
        "\n",
        "# print ('Area under curve (AUC): ', format(round(auc(fpr,tpr),5)))"
      ]
    },
    {
      "cell_type": "markdown",
      "metadata": {
        "id": "KyCWCiuVGn5F"
      },
      "source": [
        "#KNN"
      ]
    },
    {
      "cell_type": "code",
      "execution_count": 118,
      "metadata": {
        "colab": {
          "base_uri": "https://localhost:8080/"
        },
        "id": "fOciRL02GoFg",
        "outputId": "7f02a7b7-fc6d-4005-d958-c43d96b4f156"
      },
      "outputs": [
        {
          "output_type": "execute_result",
          "data": {
            "text/plain": [
              "KNeighborsClassifier()"
            ]
          },
          "metadata": {},
          "execution_count": 118
        }
      ],
      "source": [
        "from sklearn.neighbors import KNeighborsClassifier\n",
        "knn = KNeighborsClassifier()\n",
        "knn_model = knn.fit(X_train, Y_train)\n",
        "knn_model"
      ]
    },
    {
      "cell_type": "code",
      "execution_count": 119,
      "metadata": {
        "id": "PHKMg7sOGzKS"
      },
      "outputs": [],
      "source": [
        "Y_pred_knn = knn_model.predict(X_test)"
      ]
    },
    {
      "cell_type": "code",
      "execution_count": 120,
      "metadata": {
        "colab": {
          "base_uri": "https://localhost:8080/"
        },
        "id": "et9ITWs4G5Lo",
        "outputId": "18b38a05-ed33-42fa-8693-aadf1eee567b"
      },
      "outputs": [
        {
          "output_type": "execute_result",
          "data": {
            "text/plain": [
              "0.856087043985551"
            ]
          },
          "metadata": {},
          "execution_count": 120
        }
      ],
      "source": [
        "accuracy_score(Y_test, Y_pred_knn)"
      ]
    },
    {
      "cell_type": "code",
      "execution_count": 121,
      "metadata": {
        "colab": {
          "base_uri": "https://localhost:8080/",
          "height": 337
        },
        "id": "Z9KMzXC6HBVT",
        "outputId": "e09302db-f800-4967-d1f4-7aab6018a083"
      },
      "outputs": [
        {
          "output_type": "execute_result",
          "data": {
            "text/plain": [
              "<matplotlib.axes._subplots.AxesSubplot at 0x7f951bc62c10>"
            ]
          },
          "metadata": {},
          "execution_count": 121
        },
        {
          "output_type": "display_data",
          "data": {
            "image/png": "[encoded data removed]",
            "text/plain": [
              "<Figure size 360x360 with 2 Axes>"
            ]
          },
          "metadata": {
            "needs_background": "light"
          }
        }
      ],
      "source": [
        "# Cofusion Matrix\n",
        "cm = confusion_matrix(Y_test, Y_pred_knn)\n",
        "plt.rcParams['figure.figsize'] = (5, 5)\n",
        "sns.heatmap(cm, annot = True, annot_kws = {'size':15}, cmap = 'PuBu',fmt=\".1f\")"
      ]
    },
    {
      "cell_type": "code",
      "execution_count": 122,
      "metadata": {
        "colab": {
          "base_uri": "https://localhost:8080/"
        },
        "id": "OZoMmB74HFf_",
        "outputId": "53f2d5e4-09d5-4190-9dda-6d609e23e461"
      },
      "outputs": [
        {
          "output_type": "stream",
          "name": "stdout",
          "text": [
            "              precision    recall  f1-score   support\n",
            "\n",
            "           0       0.89      0.96      0.92    100440\n",
            "           1       0.30      0.14      0.19     13893\n",
            "\n",
            "    accuracy                           0.86    114333\n",
            "   macro avg       0.59      0.55      0.56    114333\n",
            "weighted avg       0.82      0.86      0.83    114333\n",
            "\n"
          ]
        }
      ],
      "source": [
        "print(classification_report(Y_test, Y_pred_knn))"
      ]
    },
    {
      "cell_type": "markdown",
      "metadata": {
        "id": "kDR56kPKpCOp"
      },
      "source": [
        "#XGBoost"
      ]
    },
    {
      "cell_type": "code",
      "execution_count": 123,
      "metadata": {
        "id": "fHkVJ3qGjMne"
      },
      "outputs": [],
      "source": [
        "xgb = XGBClassifier()"
      ]
    },
    {
      "cell_type": "code",
      "execution_count": 131,
      "metadata": {
        "id": "SZeZnM0xDUJo"
      },
      "outputs": [],
      "source": [
        "from sklearn.model_selection import RandomizedSearchCV\n",
        "from sklearn.model_selection import cross_val_score\n",
        "from sklearn.ensemble import RandomForestClassifier\n",
        "from catboost import CatBoostClassifier\n",
        "from scipy.stats import randint\n",
        "import pickle\n",
        "import xgboost as xgb\n",
        "import lightgbm as lgb\n",
        "from sklearn.metrics import accuracy_score\n",
        "# import packages for hyperparameters tuning\n",
        "from hyperopt import STATUS_OK, Trials, fmin, hp, tpe\n",
        "from sklearn.model_selection import train_test_split, RandomizedSearchCV, StratifiedKFold, KFold, GridSearchCV\n",
        "from sklearn.metrics import f1_score, roc_auc_score,accuracy_score,confusion_matrix, precision_recall_curve, auc, roc_curve, recall_score, classification_report "
      ]
    },
    {
      "cell_type": "code",
      "execution_count": 125,
      "metadata": {
        "id": "MdGaBwuqic3m"
      },
      "outputs": [],
      "source": [
        "for column in cat_feat:\n",
        "    X_train[column] = X_train[column].astype('int')\n",
        "    X_test[column] = X_test[column].astype('int')"
      ]
    },
    {
      "cell_type": "code",
      "execution_count": 124,
      "metadata": {
        "id": "nwZj8q9vikhb"
      },
      "outputs": [],
      "source": [
        "space={ 'max_depth': hp.quniform(\"max_depth\", 3,18,1),\n",
        "        'gamma': hp.uniform ('gamma', 1,9),\n",
        "        'reg_alpha' : hp.quniform('reg_alpha', 40,180,1),\n",
        "        'reg_lambda' : hp.uniform('reg_lambda', 0,1),\n",
        "        'colsample_bytree' : hp.uniform('colsample_bytree', 0.5,1),\n",
        "        'min_child_weight' : hp.quniform('min_child_weight', 0, 10, 1),\n",
        "        'n_estimators': 300,\n",
        "        'seed': 0\n",
        "      }"
      ]
    },
    {
      "cell_type": "code",
      "execution_count": 126,
      "metadata": {
        "id": "Rj69MPhU-Pv4"
      },
      "outputs": [],
      "source": [
        "def objective(space):\n",
        "    clf=xgb.XGBClassifier(\n",
        "                    n_estimators =space['n_estimators'], max_depth = int(space['max_depth']), gamma = space['gamma'],\n",
        "                    reg_alpha = int(space['reg_alpha']),min_child_weight=int(space['min_child_weight']),\n",
        "                    colsample_bytree=int(space['colsample_bytree']))\n",
        "    \n",
        "    evaluation = [( X_train, Y_train), ( X_test, Y_test)]\n",
        "    \n",
        "    clf.fit(X_train, Y_train,\n",
        "            eval_set=evaluation, eval_metric=\"auc\",\n",
        "            early_stopping_rounds=10,verbose=False)\n",
        "    \n",
        "\n",
        "    pred = clf.predict(X_test)\n",
        "    y_score = rf_grid.predict_proba(X_test)[:,1]\n",
        "    accuracy = accuracy_score(Y_test, pred>0.5)\n",
        "    Roc_Auc_Score = roc_auc_score(Y_test, Y_score)\n",
        "    print (\"ROC-AUC Score:\",Roc_Auc_Score)\n",
        "    print (\"SCORE:\", accuracy)\n",
        "    return {'loss': -Roc_Auc_Score, 'status': STATUS_OK }"
      ]
    },
    {
      "cell_type": "code",
      "execution_count": 127,
      "metadata": {
        "id": "urhHyC2ODAtP"
      },
      "outputs": [],
      "source": [
        "from hyperopt import STATUS_OK, Trials, fmin, hp, tpe"
      ]
    },
    {
      "cell_type": "code",
      "execution_count": 128,
      "metadata": {
        "id": "nWwZS3GXCmHv"
      },
      "outputs": [],
      "source": [
        "from hyperopt import STATUS_OK, Trials, fmin, hp, tpe\n",
        "from xgboost import XGBClassifier, plot_importance\n",
        "from sklearn.model_selection import GridSearchCV\n",
        "import warnings\n",
        "warnings.filterwarnings('ignore')"
      ]
    },
    {
      "cell_type": "code",
      "execution_count": 129,
      "metadata": {
        "id": "LdyIe-xdi0z7"
      },
      "outputs": [],
      "source": [
        "trials = Trials()"
      ]
    },
    {
      "cell_type": "code",
      "execution_count": 132,
      "metadata": {
        "colab": {
          "base_uri": "https://localhost:8080/"
        },
        "id": "o8mgh7RICs6-",
        "outputId": "1da53eeb-0d15-46a0-d4cc-5ad86af83dc8"
      },
      "outputs": [
        {
          "output_type": "stream",
          "name": "stdout",
          "text": [
            "ROC-AUC Score:\n",
            "0.8280071991163733\n",
            "SCORE:\n",
            "0.8784865261997848\n",
            "ROC-AUC Score:\n",
            "0.8280071991163733\n",
            "SCORE:\n",
            "0.8784865261997848\n",
            "ROC-AUC Score:\n",
            "0.8280071991163733\n",
            "SCORE:\n",
            "0.8784865261997848\n",
            "ROC-AUC Score:\n",
            "0.8280071991163733\n",
            "SCORE:\n",
            "0.8784865261997848\n",
            "ROC-AUC Score:\n",
            "0.8280071991163733\n",
            "SCORE:\n",
            "0.8784865261997848\n",
            "ROC-AUC Score:\n",
            "0.8280071991163733\n",
            "SCORE:\n",
            "0.8784865261997848\n",
            "ROC-AUC Score:\n",
            "0.8280071991163733\n",
            "SCORE:\n",
            "0.8784865261997848\n",
            "ROC-AUC Score:\n",
            "0.8280071991163733\n",
            "SCORE:\n",
            "0.8784865261997848\n",
            "ROC-AUC Score:\n",
            "0.8280071991163733\n",
            "SCORE:\n",
            "0.8784865261997848\n",
            "ROC-AUC Score:\n",
            "0.8280071991163733\n",
            "SCORE:\n",
            "0.8784865261997848\n",
            "ROC-AUC Score:\n",
            "0.8280071991163733\n",
            "SCORE:\n",
            "0.8784865261997848\n",
            "ROC-AUC Score:\n",
            "0.8280071991163733\n",
            "SCORE:\n",
            "0.8784865261997848\n",
            "ROC-AUC Score:\n",
            "0.8280071991163733\n",
            "SCORE:\n",
            "0.8784865261997848\n",
            "ROC-AUC Score:\n",
            "0.8280071991163733\n",
            "SCORE:\n",
            "0.8784865261997848\n",
            "ROC-AUC Score:\n",
            "0.8280071991163733\n",
            "SCORE:\n",
            "0.8784865261997848\n",
            "ROC-AUC Score:\n",
            "0.8280071991163733\n",
            "SCORE:\n",
            "0.8784865261997848\n",
            "ROC-AUC Score:\n",
            "0.8280071991163733\n",
            "SCORE:\n",
            "0.8784865261997848\n",
            "ROC-AUC Score:\n",
            "0.8280071991163733\n",
            "SCORE:\n",
            "0.8784865261997848\n",
            "ROC-AUC Score:\n",
            "0.8280071991163733\n",
            "SCORE:\n",
            "0.8784865261997848\n",
            "ROC-AUC Score:\n",
            "0.8280071991163733\n",
            "SCORE:\n",
            "0.8784865261997848\n",
            "ROC-AUC Score:\n",
            "0.8280071991163733\n",
            "SCORE:\n",
            "0.8784865261997848\n",
            "ROC-AUC Score:\n",
            "0.8280071991163733\n",
            "SCORE:\n",
            "0.8784865261997848\n",
            "ROC-AUC Score:\n",
            "0.8280071991163733\n",
            "SCORE:\n",
            "0.8784865261997848\n",
            "ROC-AUC Score:\n",
            "0.8280071991163733\n",
            "SCORE:\n",
            "0.8784865261997848\n",
            "ROC-AUC Score:\n",
            "0.8280071991163733\n",
            "SCORE:\n",
            "0.8784865261997848\n",
            "ROC-AUC Score:\n",
            "0.8280071991163733\n",
            "SCORE:\n",
            "0.8784865261997848\n",
            "ROC-AUC Score:\n",
            "0.8280071991163733\n",
            "SCORE:\n",
            "0.8784865261997848\n",
            "ROC-AUC Score:\n",
            "0.8280071991163733\n",
            "SCORE:\n",
            "0.8784865261997848\n",
            "ROC-AUC Score:\n",
            "0.8280071991163733\n",
            "SCORE:\n",
            "0.8784865261997848\n",
            "ROC-AUC Score:\n",
            "0.8280071991163733\n",
            "SCORE:\n",
            "0.8784865261997848\n",
            "ROC-AUC Score:\n",
            "0.8280071991163733\n",
            "SCORE:\n",
            "0.8784865261997848\n",
            "ROC-AUC Score:\n",
            "0.8280071991163733\n",
            "SCORE:\n",
            "0.8784865261997848\n",
            "ROC-AUC Score:\n",
            "0.8280071991163733\n",
            "SCORE:\n",
            "0.8784865261997848\n",
            "ROC-AUC Score:\n",
            "0.8280071991163733\n",
            "SCORE:\n",
            "0.8784865261997848\n",
            "ROC-AUC Score:\n",
            "0.8280071991163733\n",
            "SCORE:\n",
            "0.8784865261997848\n",
            "ROC-AUC Score:\n",
            "0.8280071991163733\n",
            "SCORE:\n",
            "0.8784865261997848\n",
            "ROC-AUC Score:\n",
            "0.8280071991163733\n",
            "SCORE:\n",
            "0.8784865261997848\n",
            "ROC-AUC Score:\n",
            "0.8280071991163733\n",
            "SCORE:\n",
            "0.8784865261997848\n",
            "ROC-AUC Score:\n",
            "0.8280071991163733\n",
            "SCORE:\n",
            "0.8784865261997848\n",
            "ROC-AUC Score:\n",
            "0.8280071991163733\n",
            "SCORE:\n",
            "0.8784865261997848\n",
            "ROC-AUC Score:\n",
            "0.8280071991163733\n",
            "SCORE:\n",
            "0.8784865261997848\n",
            "ROC-AUC Score:\n",
            "0.8280071991163733\n",
            "SCORE:\n",
            "0.8784865261997848\n",
            "ROC-AUC Score:\n",
            "0.8280071991163733\n",
            "SCORE:\n",
            "0.8784865261997848\n",
            "ROC-AUC Score:\n",
            "0.8280071991163733\n",
            "SCORE:\n",
            "0.8784865261997848\n",
            "ROC-AUC Score:\n",
            "0.8280071991163733\n",
            "SCORE:\n",
            "0.8784865261997848\n",
            "ROC-AUC Score:\n",
            "0.8280071991163733\n",
            "SCORE:\n",
            "0.8784865261997848\n",
            "ROC-AUC Score:\n",
            "0.8280071991163733\n",
            "SCORE:\n",
            "0.8784865261997848\n",
            "ROC-AUC Score:\n",
            "0.8280071991163733\n",
            "SCORE:\n",
            "0.8784865261997848\n",
            "ROC-AUC Score:\n",
            "0.8280071991163733\n",
            "SCORE:\n",
            "0.8784865261997848\n",
            "ROC-AUC Score:\n",
            "0.8280071991163733\n",
            "SCORE:\n",
            "0.8784865261997848\n",
            "ROC-AUC Score:\n",
            "0.8280071991163733\n",
            "SCORE:\n",
            "0.8784865261997848\n",
            "ROC-AUC Score:\n",
            "0.8280071991163733\n",
            "SCORE:\n",
            "0.8784865261997848\n",
            "ROC-AUC Score:\n",
            "0.8280071991163733\n",
            "SCORE:\n",
            "0.8784865261997848\n",
            "ROC-AUC Score:\n",
            "0.8280071991163733\n",
            "SCORE:\n",
            "0.8784865261997848\n",
            "ROC-AUC Score:\n",
            "0.8280071991163733\n",
            "SCORE:\n",
            "0.8784865261997848\n",
            "ROC-AUC Score:\n",
            "0.8280071991163733\n",
            "SCORE:\n",
            "0.8784865261997848\n",
            "ROC-AUC Score:\n",
            "0.8280071991163733\n",
            "SCORE:\n",
            "0.8784865261997848\n",
            "ROC-AUC Score:\n",
            "0.8280071991163733\n",
            "SCORE:\n",
            "0.8784865261997848\n",
            "ROC-AUC Score:\n",
            "0.8280071991163733\n",
            "SCORE:\n",
            "0.8784865261997848\n",
            "ROC-AUC Score:\n",
            "0.8280071991163733\n",
            "SCORE:\n",
            "0.8784865261997848\n",
            "ROC-AUC Score:\n",
            "0.8280071991163733\n",
            "SCORE:\n",
            "0.8784865261997848\n",
            "ROC-AUC Score:\n",
            "0.8280071991163733\n",
            "SCORE:\n",
            "0.8784865261997848\n",
            "ROC-AUC Score:\n",
            "0.8280071991163733\n",
            "SCORE:\n",
            "0.8784865261997848\n",
            "ROC-AUC Score:\n",
            "0.8280071991163733\n",
            "SCORE:\n",
            "0.8784865261997848\n",
            "ROC-AUC Score:\n",
            "0.8280071991163733\n",
            "SCORE:\n",
            "0.8784865261997848\n",
            "ROC-AUC Score:\n",
            "0.8280071991163733\n",
            "SCORE:\n",
            "0.8784865261997848\n",
            "ROC-AUC Score:\n",
            "0.8280071991163733\n",
            "SCORE:\n",
            "0.8784865261997848\n",
            "ROC-AUC Score:\n",
            "0.8280071991163733\n",
            "SCORE:\n",
            "0.8784865261997848\n",
            "ROC-AUC Score:\n",
            "0.8280071991163733\n",
            "SCORE:\n",
            "0.8784865261997848\n",
            "ROC-AUC Score:\n",
            "0.8280071991163733\n",
            "SCORE:\n",
            "0.8784865261997848\n",
            "ROC-AUC Score:\n",
            "0.8280071991163733\n",
            "SCORE:\n",
            "0.8784865261997848\n",
            "ROC-AUC Score:\n",
            "0.8280071991163733\n",
            "SCORE:\n",
            "0.8784865261997848\n",
            "ROC-AUC Score:\n",
            "0.8280071991163733\n",
            "SCORE:\n",
            "0.8784865261997848\n",
            "ROC-AUC Score:\n",
            "0.8280071991163733\n",
            "SCORE:\n",
            "0.8784865261997848\n",
            "ROC-AUC Score:\n",
            "0.8280071991163733\n",
            "SCORE:\n",
            "0.8784865261997848\n",
            "ROC-AUC Score:\n",
            "0.8280071991163733\n",
            "SCORE:\n",
            "0.8784865261997848\n",
            "ROC-AUC Score:\n",
            "0.8280071991163733\n",
            "SCORE:\n",
            "0.8784865261997848\n",
            "ROC-AUC Score:\n",
            "0.8280071991163733\n",
            "SCORE:\n",
            "0.8784865261997848\n",
            "ROC-AUC Score:\n",
            "0.8280071991163733\n",
            "SCORE:\n",
            "0.8784865261997848\n",
            "ROC-AUC Score:\n",
            "0.8280071991163733\n",
            "SCORE:\n",
            "0.8784865261997848\n",
            "ROC-AUC Score:\n",
            "0.8280071991163733\n",
            "SCORE:\n",
            "0.8784865261997848\n",
            "ROC-AUC Score:\n",
            "0.8280071991163733\n",
            "SCORE:\n",
            "0.8784865261997848\n",
            "ROC-AUC Score:\n",
            "0.8280071991163733\n",
            "SCORE:\n",
            "0.8784865261997848\n",
            "ROC-AUC Score:\n",
            "0.8280071991163733\n",
            "SCORE:\n",
            "0.8784865261997848\n",
            "ROC-AUC Score:\n",
            "0.8280071991163733\n",
            "SCORE:\n",
            "0.8784865261997848\n",
            "ROC-AUC Score:\n",
            "0.8280071991163733\n",
            "SCORE:\n",
            "0.8784865261997848\n",
            "ROC-AUC Score:\n",
            "0.8280071991163733\n",
            "SCORE:\n",
            "0.8784865261997848\n",
            "ROC-AUC Score:\n",
            "0.8280071991163733\n",
            "SCORE:\n",
            "0.8784865261997848\n",
            "ROC-AUC Score:\n",
            "0.8280071991163733\n",
            "SCORE:\n",
            "0.8784865261997848\n",
            "ROC-AUC Score:\n",
            "0.8280071991163733\n",
            "SCORE:\n",
            "0.8784865261997848\n",
            "ROC-AUC Score:\n",
            "0.8280071991163733\n",
            "SCORE:\n",
            "0.8784865261997848\n",
            "ROC-AUC Score:\n",
            "0.8280071991163733\n",
            "SCORE:\n",
            "0.8784865261997848\n",
            "ROC-AUC Score:\n",
            "0.8280071991163733\n",
            "SCORE:\n",
            "0.8784865261997848\n",
            "ROC-AUC Score:\n",
            "0.8280071991163733\n",
            "SCORE:\n",
            "0.8784865261997848\n",
            "ROC-AUC Score:\n",
            "0.8280071991163733\n",
            "SCORE:\n",
            "0.8784865261997848\n",
            "ROC-AUC Score:\n",
            "0.8280071991163733\n",
            "SCORE:\n",
            "0.8784865261997848\n",
            "ROC-AUC Score:\n",
            "0.8280071991163733\n",
            "SCORE:\n",
            "0.8784865261997848\n",
            "ROC-AUC Score:\n",
            "0.8280071991163733\n",
            "SCORE:\n",
            "0.8784865261997848\n",
            "ROC-AUC Score:\n",
            "0.8280071991163733\n",
            "SCORE:\n",
            "0.8784865261997848\n",
            "ROC-AUC Score:\n",
            "0.8280071991163733\n",
            "SCORE:\n",
            "0.8784865261997848\n",
            "100%|██████████| 100/100 [06:02<00:00,  3.62s/it, best loss: -0.8280071991163733]\n"
          ]
        }
      ],
      "source": [
        "best_hyperparams = fmin(fn = objective,\n",
        "                        space = space,\n",
        "                        algo = tpe.suggest,\n",
        "                        max_evals = 100,\n",
        "                        trials = trials)\n"
      ]
    },
    {
      "cell_type": "code",
      "execution_count": 133,
      "metadata": {
        "colab": {
          "base_uri": "https://localhost:8080/"
        },
        "id": "lgnX8LG1VJj1",
        "outputId": "e9074907-0ca7-45de-a988-903504846fc8"
      },
      "outputs": [
        {
          "output_type": "stream",
          "name": "stdout",
          "text": [
            "The best hyperparameters are :  \n",
            "\n",
            "{'colsample_bytree': 0.7596378925845451, 'gamma': 5.396025595492711, 'max_depth': 9.0, 'min_child_weight': 6.0, 'reg_alpha': 165.0, 'reg_lambda': 0.5364169014468545}\n"
          ]
        }
      ],
      "source": [
        "print(\"The best hyperparameters are : \",\"\\n\")\n",
        "print(best_hyperparams)"
      ]
    },
    {
      "cell_type": "code",
      "execution_count": 134,
      "metadata": {
        "id": "tnB6Dj6bVTvb"
      },
      "outputs": [],
      "source": [
        "xgb_model=xgb.XGBClassifier(n_estimators = space['n_estimators'], max_depth = 11, gamma = 2.381892812852242, reg_lambda = 0.016194264115558243,\n",
        "                            reg_alpha = 57.0, min_child_weight=10.0,colsample_bytree = 0.5786479102658189 ,random_state = 0)"
      ]
    },
    {
      "cell_type": "code",
      "execution_count": 135,
      "metadata": {
        "id": "IESOBH66vn4w"
      },
      "outputs": [],
      "source": [
        "XGB_fit = xgb_model.fit(X_train, Y_train)\n",
        "XGB_probability = XGB_fit.predict_proba(X_test)[:,1]\n",
        "XGB_class = pd.DataFrame(XGB_fit.predict(X_test))"
      ]
    },
    {
      "cell_type": "code",
      "execution_count": 136,
      "metadata": {
        "colab": {
          "base_uri": "https://localhost:8080/",
          "height": 367
        },
        "id": "xfLUdehAxgaO",
        "outputId": "ed6f8e92-f652-45fb-a35f-e0117b273673"
      },
      "outputs": [
        {
          "output_type": "display_data",
          "data": {
            "image/png": "[encoded data removed]",
            "text/plain": [
              "<Figure size 360x360 with 1 Axes>"
            ]
          },
          "metadata": {
            "needs_background": "light"
          }
        },
        {
          "output_type": "stream",
          "name": "stdout",
          "text": [
            "Area under curve (AUC):  0.83048\n"
          ]
        }
      ],
      "source": [
        "fpr, tpr, _ = roc_curve(Y_test, XGB_probability)\n",
        "\n",
        "plt.title('XGBoost ROC curve')\n",
        "plt.xlabel('FPR (Precision)')\n",
        "plt.ylabel('TPR (Recall)')\n",
        "\n",
        "plt.plot(fpr,tpr)\n",
        "plt.plot((0,1), ls='dashed',color='black')\n",
        "plt.show()\n",
        "print ('Area under curve (AUC): ', format(round(auc(fpr,tpr),5)))"
      ]
    },
    {
      "cell_type": "markdown",
      "metadata": {
        "id": "xVkEsX_QO18J"
      },
      "source": [
        "#Conclusion\n"
      ]
    },
    {
      "cell_type": "markdown",
      "metadata": {
        "id": "-t-nvZjDO6iA"
      },
      "source": [
        "That's it! We reached the end of our exercise.\n",
        "Starting with loading the data so far we have done EDA , null values treatment, encoding of categorical columns, feature selection and then model building.\n",
        "The aim of our project was to classify whether customer will take vehicle insurance or not.\n",
        "\n",
        "For classification, we created 4 classification models i.e. Logistic Regression, Random Forest, KNN and XGboost Classifier and calculated accuracy and AUC statistics. We observed that Logistic Regression 87% and AUC score is 77%                                                  \n",
        "After that I perform Random forest Classifier an observe accuracy is 87.8% and KNN model accuracy score is 85.6%.                       \n",
        "When we compare the Accuracy scores, XG boost gave the best rate with 87.85% and AUC score is 82.73%                           \n",
        "We can conclude that overall, Random Forest and XGBoost  are better models at classifying our dataset.\n",
        "\n",
        "\n",
        "\n",
        "\n",
        "\n",
        "**Based on the analysis above, the company's target audience for cross sale should be focused on customers who**\n",
        "\n",
        "1. have vehicle damage\n",
        "2. have a driver's license\n",
        "3. have at least 2 years of vehicle age\n",
        "4. are previously not insured\n",
        "5. are between 33-50 years old with over 20% chance of having interest (The range is expandable)\n",
        "6. are in regions where over 15% of the customers would have interest: 38, 28, 19, 4, 23, 51 (The range is expandable).\n",
        "7. are approachable with the top policy sales channels: 36, 155, 163, 3, 121 (The range is expandable).\n"
      ]
    }
  ],
  "metadata": {
    "colab": {
      "collapsed_sections": [],
      "name": "final of HEALTH INSURANCE CROSS SELL PREDICTION.ipynb",
      "provenance": [],
      "include_colab_link": true
    },
    "kernelspec": {
      "display_name": "Python 3",
      "name": "python3"
    },
    "language_info": {
      "name": "python"
    }
  },
  "nbformat": 4,
  "nbformat_minor": 0
}